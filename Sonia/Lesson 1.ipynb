{
 "cells": [
  {
   "cell_type": "markdown",
   "id": "efc8e69f",
   "metadata": {},
   "source": [
    "# Python\n",
    "* print\n",
    "* input\n",
    "* variables\n",
    "* data types (string, integer, float, boolean, lists)\n",
    "* arithmetc, comparison and logical operators\n",
    "* if else, if elif else\n",
    "* Augmented Assignment   +=  , *=, -=, \n",
    "* for loops, while loops (range)\n",
    "* len(), sum(), \n",
    "* Binary Search\n"
   ]
  },
  {
   "cell_type": "markdown",
   "id": "5d8b14d4",
   "metadata": {},
   "source": [
    "# for loops\n",
    "* for loops are used with iterables (strings, lists, range, tuple, dictionary, set)\n",
    "* for loop runs on an iterable from starting element until last element\n",
    "* for variable_name in iterable:\n",
    "    statement1\n",
    "    ........."
   ]
  },
  {
   "cell_type": "code",
   "execution_count": 3,
   "id": "9d8447f5",
   "metadata": {},
   "outputs": [
    {
     "name": "stdout",
     "output_type": "stream",
     "text": [
      "5 * 1 = 5\n",
      "5 * 2 = 10\n",
      "5 * 3 = 15\n",
      "5 * 4 = 20\n",
      "5 * 5 = 25\n",
      "5 * 6 = 30\n",
      "5 * 7 = 35\n",
      "5 * 8 = 40\n"
     ]
    }
   ],
   "source": [
    "# print out table of 5\n",
    "number = 5\n",
    "print(number, \"*\", 1 , \"=\", number * 1)\n",
    "print(number, \"*\", 2 , \"=\", number * 2)\n",
    "print(number, \"*\", 3 , \"=\", number * 3)\n",
    "print(number, \"*\", 4 , \"=\", number * 4)\n",
    "print(number, \"*\", 5 , \"=\", number * 5)\n",
    "print(number, \"*\", 6 , \"=\", number * 6)\n",
    "print(number, \"*\", 7 , \"=\", number * 7)\n",
    "print(number, \"*\", 8 , \"=\", number * 8)"
   ]
  },
  {
   "cell_type": "code",
   "execution_count": null,
   "id": "2d59eb02",
   "metadata": {},
   "outputs": [],
   "source": []
  },
  {
   "cell_type": "code",
   "execution_count": 7,
   "id": "b0b295d9",
   "metadata": {},
   "outputs": [
    {
     "name": "stdout",
     "output_type": "stream",
     "text": [
      "5 * 1 = 5\n",
      "5 * 2 = 10\n",
      "5 * 3 = 15\n",
      "5 * 4 = 20\n",
      "5 * 5 = 25\n",
      "5 * 6 = 30\n",
      "5 * 7 = 35\n",
      "5 * 8 = 40\n",
      "5 * 9 = 45\n",
      "5 * 10 = 50\n",
      "End\n"
     ]
    }
   ],
   "source": [
    "number = 5\n",
    "for i in range(1, 11):\n",
    "    print(number, \"*\", i , \"=\", number * i)\n",
    "    \n",
    "print(\"End\")"
   ]
  },
  {
   "cell_type": "code",
   "execution_count": 10,
   "id": "fc0966fb",
   "metadata": {},
   "outputs": [
    {
     "name": "stdout",
     "output_type": "stream",
     "text": [
      "M\n",
      "u\n",
      "h\n",
      "a\n",
      "m\n",
      "m\n",
      "a\n",
      "d\n"
     ]
    }
   ],
   "source": [
    "# write a code to print out vowels in a string\n",
    "name = \"Muhammad\"\n",
    "for a in name:\n",
    "    print(a)"
   ]
  },
  {
   "cell_type": "code",
   "execution_count": 11,
   "id": "e9347e2e",
   "metadata": {},
   "outputs": [
    {
     "name": "stdout",
     "output_type": "stream",
     "text": [
      "Vowel u\n",
      "Vowel a\n",
      "Vowel a\n"
     ]
    }
   ],
   "source": [
    "# write a code to print out vowels in a string\n",
    "name = \"Muhammad\"\n",
    "for a in name:\n",
    "    if a == \"a\" or a == \"e\" or a == \"i\" or a == \"o\" or a == \"u\":\n",
    "        print(\"Vowel\", a)"
   ]
  },
  {
   "cell_type": "code",
   "execution_count": 12,
   "id": "cf122f34",
   "metadata": {},
   "outputs": [
    {
     "name": "stdout",
     "output_type": "stream",
     "text": [
      "12\n",
      "15\n",
      "25\n",
      "30\n",
      "5\n",
      "47\n",
      "67\n"
     ]
    }
   ],
   "source": [
    "# Accessing elements of a list with for loop\n",
    "numbers = [12, 15, 25, 30, 5, 47, 67]\n",
    "for n in numbers:\n",
    "    print(n)"
   ]
  },
  {
   "cell_type": "code",
   "execution_count": 19,
   "id": "810a819b",
   "metadata": {},
   "outputs": [
    {
     "name": "stdout",
     "output_type": "stream",
     "text": [
      "47\n",
      "7\n"
     ]
    }
   ],
   "source": [
    "# indexing is used to access an individual element\n",
    "numbers = [12, 15, 25, 30, 5, 47, 67]\n",
    "print(numbers[5])\n",
    "print(len(numbers))\n"
   ]
  },
  {
   "cell_type": "code",
   "execution_count": 20,
   "id": "29722fbe",
   "metadata": {},
   "outputs": [
    {
     "name": "stdout",
     "output_type": "stream",
     "text": [
      "0\n",
      "1\n",
      "2\n",
      "3\n",
      "4\n",
      "5\n",
      "6\n"
     ]
    }
   ],
   "source": [
    "for i in range(7):             # start = 0 , stop = 7\n",
    "    print(i)"
   ]
  },
  {
   "cell_type": "code",
   "execution_count": 22,
   "id": "7835c47a",
   "metadata": {},
   "outputs": [
    {
     "name": "stdout",
     "output_type": "stream",
     "text": [
      "12\n",
      "15\n",
      "25\n",
      "30\n",
      "5\n",
      "47\n",
      "67\n"
     ]
    }
   ],
   "source": [
    "numbers = [12, 15, 25, 30, 5, 47, 67]\n",
    "for i in range(len(numbers)):\n",
    "    print(numbers[i])"
   ]
  },
  {
   "cell_type": "code",
   "execution_count": 14,
   "id": "d8e3e3f0",
   "metadata": {},
   "outputs": [
    {
     "name": "stdout",
     "output_type": "stream",
     "text": [
      "47 is present in our list\n"
     ]
    }
   ],
   "source": [
    "# Accessing elements of a list with for loop\n",
    "# search 47\n",
    "numbers = [12, 15, 25, 30, 5, 47, 67]\n",
    "for n in numbers:\n",
    "    if n == 47:\n",
    "        print(n, \"is present in our list\")"
   ]
  },
  {
   "cell_type": "code",
   "execution_count": 15,
   "id": "45b17ea7",
   "metadata": {},
   "outputs": [
    {
     "name": "stdout",
     "output_type": "stream",
     "text": [
      "5\n"
     ]
    }
   ],
   "source": [
    "numbers = [12, 15, 25, 30, 5, 47, 67]\n",
    "print(numbers.index(47))"
   ]
  },
  {
   "cell_type": "code",
   "execution_count": 25,
   "id": "caabb4e5",
   "metadata": {},
   "outputs": [
    {
     "name": "stdout",
     "output_type": "stream",
     "text": [
      "Enter first number: 20\n",
      "Enter second number: 10\n",
      "Enter operator: +\n",
      "30\n"
     ]
    }
   ],
   "source": [
    "# small calculator app\n",
    "number1 = int(input(\"Enter first number: \"))\n",
    "number2 = int(input(\"Enter second number: \"))\n",
    "operator = input(\"Enter operator: \")\n",
    "\n",
    "if operator == \"+\":\n",
    "    print(number1 + number2)\n",
    "    \n",
    "if operator == \"-\":\n",
    "    print(number1 - number2)\n",
    "    \n",
    "if operator == \"*\":\n",
    "    print(number1 * number2)\n",
    "    \n",
    "if operator == \"/\":\n",
    "    print(number1 / number2)"
   ]
  },
  {
   "cell_type": "code",
   "execution_count": 26,
   "id": "9c62cb29",
   "metadata": {},
   "outputs": [
    {
     "name": "stdout",
     "output_type": "stream",
     "text": [
      "Enter first number: 5\n",
      "Enter second number: 15\n",
      "Enter operator: *\n",
      "75\n"
     ]
    },
    {
     "ename": "KeyboardInterrupt",
     "evalue": "Interrupted by user",
     "output_type": "error",
     "traceback": [
      "\u001b[1;31m---------------------------------------------------------------------------\u001b[0m",
      "\u001b[1;31mKeyboardInterrupt\u001b[0m                         Traceback (most recent call last)",
      "\u001b[1;32m~\\AppData\\Local\\Temp/ipykernel_12352/2130592881.py\u001b[0m in \u001b[0;36m<module>\u001b[1;34m\u001b[0m\n\u001b[0;32m      2\u001b[0m \u001b[1;33m\u001b[0m\u001b[0m\n\u001b[0;32m      3\u001b[0m \u001b[1;32mfor\u001b[0m \u001b[0mi\u001b[0m \u001b[1;32min\u001b[0m \u001b[0mrange\u001b[0m\u001b[1;33m(\u001b[0m\u001b[1;36m10\u001b[0m\u001b[1;33m)\u001b[0m\u001b[1;33m:\u001b[0m\u001b[1;33m\u001b[0m\u001b[1;33m\u001b[0m\u001b[0m\n\u001b[1;32m----> 4\u001b[1;33m     \u001b[0mnumber1\u001b[0m \u001b[1;33m=\u001b[0m \u001b[0mint\u001b[0m\u001b[1;33m(\u001b[0m\u001b[0minput\u001b[0m\u001b[1;33m(\u001b[0m\u001b[1;34m\"Enter first number: \"\u001b[0m\u001b[1;33m)\u001b[0m\u001b[1;33m)\u001b[0m\u001b[1;33m\u001b[0m\u001b[1;33m\u001b[0m\u001b[0m\n\u001b[0m\u001b[0;32m      5\u001b[0m     \u001b[0mnumber2\u001b[0m \u001b[1;33m=\u001b[0m \u001b[0mint\u001b[0m\u001b[1;33m(\u001b[0m\u001b[0minput\u001b[0m\u001b[1;33m(\u001b[0m\u001b[1;34m\"Enter second number: \"\u001b[0m\u001b[1;33m)\u001b[0m\u001b[1;33m)\u001b[0m\u001b[1;33m\u001b[0m\u001b[1;33m\u001b[0m\u001b[0m\n\u001b[0;32m      6\u001b[0m     \u001b[0moperator\u001b[0m \u001b[1;33m=\u001b[0m \u001b[0minput\u001b[0m\u001b[1;33m(\u001b[0m\u001b[1;34m\"Enter operator: \"\u001b[0m\u001b[1;33m)\u001b[0m\u001b[1;33m\u001b[0m\u001b[1;33m\u001b[0m\u001b[0m\n",
      "\u001b[1;32m~\\anaconda3\\lib\\site-packages\\ipykernel\\kernelbase.py\u001b[0m in \u001b[0;36mraw_input\u001b[1;34m(self, prompt)\u001b[0m\n\u001b[0;32m   1004\u001b[0m                 \u001b[1;34m\"raw_input was called, but this frontend does not support input requests.\"\u001b[0m\u001b[1;33m\u001b[0m\u001b[1;33m\u001b[0m\u001b[0m\n\u001b[0;32m   1005\u001b[0m             )\n\u001b[1;32m-> 1006\u001b[1;33m         return self._input_request(\n\u001b[0m\u001b[0;32m   1007\u001b[0m             \u001b[0mstr\u001b[0m\u001b[1;33m(\u001b[0m\u001b[0mprompt\u001b[0m\u001b[1;33m)\u001b[0m\u001b[1;33m,\u001b[0m\u001b[1;33m\u001b[0m\u001b[1;33m\u001b[0m\u001b[0m\n\u001b[0;32m   1008\u001b[0m             \u001b[0mself\u001b[0m\u001b[1;33m.\u001b[0m\u001b[0m_parent_ident\u001b[0m\u001b[1;33m[\u001b[0m\u001b[1;34m\"shell\"\u001b[0m\u001b[1;33m]\u001b[0m\u001b[1;33m,\u001b[0m\u001b[1;33m\u001b[0m\u001b[1;33m\u001b[0m\u001b[0m\n",
      "\u001b[1;32m~\\anaconda3\\lib\\site-packages\\ipykernel\\kernelbase.py\u001b[0m in \u001b[0;36m_input_request\u001b[1;34m(self, prompt, ident, parent, password)\u001b[0m\n\u001b[0;32m   1049\u001b[0m             \u001b[1;32mexcept\u001b[0m \u001b[0mKeyboardInterrupt\u001b[0m\u001b[1;33m:\u001b[0m\u001b[1;33m\u001b[0m\u001b[1;33m\u001b[0m\u001b[0m\n\u001b[0;32m   1050\u001b[0m                 \u001b[1;31m# re-raise KeyboardInterrupt, to truncate traceback\u001b[0m\u001b[1;33m\u001b[0m\u001b[1;33m\u001b[0m\u001b[0m\n\u001b[1;32m-> 1051\u001b[1;33m                 \u001b[1;32mraise\u001b[0m \u001b[0mKeyboardInterrupt\u001b[0m\u001b[1;33m(\u001b[0m\u001b[1;34m\"Interrupted by user\"\u001b[0m\u001b[1;33m)\u001b[0m \u001b[1;32mfrom\u001b[0m \u001b[1;32mNone\u001b[0m\u001b[1;33m\u001b[0m\u001b[1;33m\u001b[0m\u001b[0m\n\u001b[0m\u001b[0;32m   1052\u001b[0m             \u001b[1;32mexcept\u001b[0m \u001b[0mException\u001b[0m\u001b[1;33m:\u001b[0m\u001b[1;33m\u001b[0m\u001b[1;33m\u001b[0m\u001b[0m\n\u001b[0;32m   1053\u001b[0m                 \u001b[0mself\u001b[0m\u001b[1;33m.\u001b[0m\u001b[0mlog\u001b[0m\u001b[1;33m.\u001b[0m\u001b[0mwarning\u001b[0m\u001b[1;33m(\u001b[0m\u001b[1;34m\"Invalid Message:\"\u001b[0m\u001b[1;33m,\u001b[0m \u001b[0mexc_info\u001b[0m\u001b[1;33m=\u001b[0m\u001b[1;32mTrue\u001b[0m\u001b[1;33m)\u001b[0m\u001b[1;33m\u001b[0m\u001b[1;33m\u001b[0m\u001b[0m\n",
      "\u001b[1;31mKeyboardInterrupt\u001b[0m: Interrupted by user"
     ]
    }
   ],
   "source": [
    "# small calculator app\n",
    "\n",
    "for i in range(10):\n",
    "    number1 = int(input(\"Enter first number: \"))\n",
    "    number2 = int(input(\"Enter second number: \"))\n",
    "    operator = input(\"Enter operator: \")\n",
    "\n",
    "    if operator == \"+\":\n",
    "        print(number1 + number2)\n",
    "    \n",
    "    if operator == \"-\":\n",
    "        print(number1 - number2)\n",
    "    \n",
    "    if operator == \"*\":\n",
    "        print(number1 * number2)\n",
    "    \n",
    "    if operator == \"/\":\n",
    "        print(number1 / number2)"
   ]
  },
  {
   "cell_type": "markdown",
   "id": "7a8fe1c6",
   "metadata": {},
   "source": [
    "# while\n",
    "* while loop runs based on a condition\n",
    "* whenever the condition is True, it keeps running. When the condition becomes False, while loop stops"
   ]
  },
  {
   "cell_type": "code",
   "execution_count": 34,
   "id": "82da0873",
   "metadata": {},
   "outputs": [
    {
     "name": "stdout",
     "output_type": "stream",
     "text": [
      "17\n",
      "19\n",
      "21\n",
      "23\n",
      "25\n"
     ]
    }
   ],
   "source": [
    "\n",
    "number = 15\n",
    "\n",
    "while number < 25:\n",
    "    number = number + 2\n",
    "    print(number)"
   ]
  },
  {
   "cell_type": "code",
   "execution_count": 35,
   "id": "c6222c79",
   "metadata": {},
   "outputs": [
    {
     "name": "stdout",
     "output_type": "stream",
     "text": [
      "17\n",
      "19\n",
      "21\n",
      "23\n",
      "25\n"
     ]
    }
   ],
   "source": [
    "\n",
    "number = 15\n",
    "\n",
    "while number < 25:\n",
    "    number += 2\n",
    "    print(number)\n",
    "    \n",
    "    "
   ]
  },
  {
   "cell_type": "code",
   "execution_count": 31,
   "id": "fb21f4bf",
   "metadata": {},
   "outputs": [
    {
     "name": "stdout",
     "output_type": "stream",
     "text": [
      "Enter first number: 25\n",
      "Enter second number: 35\n",
      "Enter operator: +\n",
      "60\n",
      "Do you want to calculate again? Enter Yes or NoYes\n",
      "Enter first number: 40\n",
      "Enter second number: 20\n",
      "Enter operator: -\n",
      "20\n",
      "Do you want to calculate again? Enter Yes or NoNo\n"
     ]
    }
   ],
   "source": [
    "# small calculator app\n",
    "\n",
    "choice = \"Yes\"\n",
    "while choice == \"Yes\":\n",
    "    number1 = int(input(\"Enter first number: \"))\n",
    "    number2 = int(input(\"Enter second number: \"))\n",
    "    operator = input(\"Enter operator: \")\n",
    "\n",
    "    if operator == \"+\":\n",
    "        print(number1 + number2)\n",
    "    \n",
    "    if operator == \"-\":\n",
    "        print(number1 - number2)\n",
    "    \n",
    "    if operator == \"*\":\n",
    "        print(number1 * number2)\n",
    "    \n",
    "    if operator == \"/\":\n",
    "        print(number1 / number2)\n",
    "    \n",
    "    choice = input(\"Do you want to calculate again? Enter Yes or No: \")"
   ]
  },
  {
   "cell_type": "code",
   "execution_count": null,
   "id": "313ecaf2",
   "metadata": {},
   "outputs": [],
   "source": []
  },
  {
   "cell_type": "markdown",
   "id": "463852cc",
   "metadata": {},
   "source": [
    "# List methods\n",
    "* append()\n",
    "* extend()\n",
    "* count()\n",
    "* insert()\n",
    "* reverse()\n",
    "* pop()\n",
    "* remove()\n",
    "* sort()\n",
    "* clear()\n",
    "* copy()\n",
    "* index()"
   ]
  },
  {
   "cell_type": "code",
   "execution_count": null,
   "id": "02da2aaf",
   "metadata": {},
   "outputs": [],
   "source": []
  }
 ],
 "metadata": {
  "kernelspec": {
   "display_name": "Python 3 (ipykernel)",
   "language": "python",
   "name": "python3"
  },
  "language_info": {
   "codemirror_mode": {
    "name": "ipython",
    "version": 3
   },
   "file_extension": ".py",
   "mimetype": "text/x-python",
   "name": "python",
   "nbconvert_exporter": "python",
   "pygments_lexer": "ipython3",
   "version": "3.9.7"
  }
 },
 "nbformat": 4,
 "nbformat_minor": 5
}
