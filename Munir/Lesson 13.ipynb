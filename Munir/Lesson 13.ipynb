{
 "cells": [
  {
   "cell_type": "markdown",
   "id": "23f3404b",
   "metadata": {},
   "source": [
    "# Case Study (Dice Rolling)\n",
    "You roll two six-sided dice, each with faces containing one, two, three, four, five\n",
    "and six spots, respectively. When the dice come to rest, the sum of the spots on the\n",
    "two upward faces is calculated. If the sum is 7 or 11 on the first roll, you win. If\n",
    "the sum is 2, 3 or 12 on the first roll (called “craps”), you lose (i.e., the “house”\n",
    "wins). If the sum is 4, 5, 6, 8, 9 or 10 on the first roll, that sum becomes your\n",
    "“point.” To win, you must continue rolling the dice until you “make your point”\n",
    "(i.e., roll that same point value). You lose by rolling a 7 before making your point."
   ]
  },
  {
   "cell_type": "code",
   "execution_count": 5,
   "id": "88584cf8",
   "metadata": {},
   "outputs": [
    {
     "name": "stdout",
     "output_type": "stream",
     "text": [
      "Dice1= 3\n",
      "Dice2= 5\n",
      "Dice1= 1\n",
      "Dice2= 4\n",
      "Dice1= 4\n",
      "Dice2= 2\n",
      "Dice1= 2\n",
      "Dice2= 2\n",
      "Dice1= 6\n",
      "Dice2= 3\n",
      "Dice1= 2\n",
      "Dice2= 4\n",
      "Dice1= 4\n",
      "Dice2= 1\n",
      "Dice1= 2\n",
      "Dice2= 5\n",
      "You lose\n"
     ]
    }
   ],
   "source": [
    "import random\n",
    "\n",
    "dice1=random.randint(1,6)\n",
    "dice2=random.randint(1,6)\n",
    "print(\"Dice1=\",dice1)\n",
    "print(\"Dice2=\",dice2)\n",
    "sum_of_dices=dice1+dice2\n",
    "\n",
    "if sum_of_dices in (7,11):\n",
    "    print(\"You win\")\n",
    "\n",
    "elif sum_of_dices in (2,3,12):\n",
    "    print(\" You lose\")\n",
    "    \n",
    "elif sum_of_dices in (4,5,6,8,9,10):\n",
    "    point=sum_of_dices\n",
    "    \n",
    "    while True:\n",
    "        dice1=random.randint(1,6)\n",
    "        dice2=random.randint(1,6)\n",
    "        print(\"Dice1=\",dice1)\n",
    "        print(\"Dice2=\",dice2)\n",
    "        sum_of_dices=dice1+dice2   \n",
    "        \n",
    "        if sum_of_dices == point:\n",
    "            print(\"You win\")\n",
    "            break\n",
    "        \n",
    "        elif sum_of_dices == 7:\n",
    "            print(\"You lose\")\n",
    "            break\n",
    "            \n",
    "    "
   ]
  },
  {
   "cell_type": "code",
   "execution_count": 6,
   "id": "e736284d",
   "metadata": {},
   "outputs": [
    {
     "name": "stdout",
     "output_type": "stream",
     "text": [
      "Dice1= 2\n",
      "Dice2= 5\n",
      "You win\n"
     ]
    }
   ],
   "source": [
    "import random\n",
    "\n",
    "\n",
    "def dice_rolling():\n",
    "    dice1=random.randint(1,6)\n",
    "    dice2=random.randint(1,6)\n",
    "    print(\"Dice1=\",dice1)\n",
    "    print(\"Dice2=\",dice2)\n",
    "    \n",
    "    return dice1+dice2\n",
    "    \n",
    "\n",
    "sum_of_dices=dice_rolling()\n",
    "\n",
    "if sum_of_dices in (7,11):\n",
    "    print(\"You win\")\n",
    "\n",
    "elif sum_of_dices in (2,3,12):\n",
    "    print(\" You lose\")\n",
    "    \n",
    "elif sum_of_dices in (4,5,6,8,9,10):\n",
    "    point=sum_of_dices\n",
    "    \n",
    "    while True:\n",
    "        sum_of_dices=dice_rolling()   \n",
    "        \n",
    "        if sum_of_dices == point:\n",
    "            print(\"You win\")\n",
    "            break\n",
    "        \n",
    "        elif sum_of_dices == 7:\n",
    "            print(\"You lose\")\n",
    "            break\n",
    "            \n",
    "    "
   ]
  },
  {
   "cell_type": "code",
   "execution_count": 7,
   "id": "19824eb6",
   "metadata": {},
   "outputs": [
    {
     "name": "stdout",
     "output_type": "stream",
     "text": [
      "Enter first number: 7\n",
      "Enter second number: 15\n",
      "Enter + for addition: +\n",
      "Your sum is 22\n"
     ]
    }
   ],
   "source": [
    "# - , * , / , % , pow(), ** \n",
    "num1=int(input(\"Enter first number: \"))  # 7\n",
    "num2=int(input(\"Enter second number: \")) # 15\n",
    "operator=input(\"Enter + for addition:  \") # +\n",
    "\n",
    "def addition(x,y):\n",
    "    return x+y\n",
    "\n",
    "if operator==\"+\":\n",
    "    print(\"Your sum is\",addition(num1,num2))"
   ]
  }
 ],
 "metadata": {
  "kernelspec": {
   "display_name": "Python 3 (ipykernel)",
   "language": "python",
   "name": "python3"
  },
  "language_info": {
   "codemirror_mode": {
    "name": "ipython",
    "version": 3
   },
   "file_extension": ".py",
   "mimetype": "text/x-python",
   "name": "python",
   "nbconvert_exporter": "python",
   "pygments_lexer": "ipython3",
   "version": "3.9.7"
  }
 },
 "nbformat": 4,
 "nbformat_minor": 5
}
