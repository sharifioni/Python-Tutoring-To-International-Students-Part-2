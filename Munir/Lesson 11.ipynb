{
 "cells": [
  {
   "cell_type": "code",
   "execution_count": 2,
   "id": "258405af",
   "metadata": {},
   "outputs": [
    {
     "name": "stdout",
     "output_type": "stream",
     "text": [
      "*\n",
      "**\n",
      "***\n",
      "****\n",
      "*****\n",
      "******\n",
      "*******\n",
      "********\n",
      "*********\n",
      "**********\n"
     ]
    }
   ],
   "source": [
    "#Exercise (a)\n",
    "\n",
    "for i in range(1,11):\n",
    "    print(i*\"*\")"
   ]
  },
  {
   "cell_type": "code",
   "execution_count": 3,
   "id": "59437928",
   "metadata": {},
   "outputs": [
    {
     "name": "stdout",
     "output_type": "stream",
     "text": [
      "**********\n",
      "*********\n",
      "********\n",
      "*******\n",
      "******\n",
      "*****\n",
      "****\n",
      "***\n",
      "**\n",
      "*\n"
     ]
    }
   ],
   "source": [
    "#Exercise (b)\n",
    "for i in range(10,0,-1):\n",
    "    print(i*\"*\")"
   ]
  },
  {
   "cell_type": "code",
   "execution_count": 1,
   "id": "13078db8",
   "metadata": {},
   "outputs": [
    {
     "name": "stdout",
     "output_type": "stream",
     "text": [
      "HelloHelloHelloHello\n"
     ]
    }
   ],
   "source": [
    "print(\"Hello\"*4,\"Python\")"
   ]
  },
  {
   "cell_type": "markdown",
   "id": "908bd6ca",
   "metadata": {},
   "source": [
    "# Functions\n",
    "> Built-in Functions        print(), input(),type(), sum(), min(), max()\n",
    "> USer Defined Functions\n",
    "\n",
    ">Syntax of writing a function\n",
    "\n",
    "> def name_of_function(parameters):\n",
    "    statement 1........\n",
    "    statement 2.......\n",
    "    ...........\n",
    "\n",
    "name_of_function(arguments)\n",
    ">function calling\n",
    "\n",
    ">function returning: returns a value to a function calling point\n",
    "\n",
    ">ARguments , Parameters\n",
    "\n",
    "Arguments are values that are passed to a function\n",
    "Parameters are variables that receive the arguments"
   ]
  },
  {
   "cell_type": "code",
   "execution_count": 32,
   "id": "b6f825d7",
   "metadata": {},
   "outputs": [
    {
     "name": "stdout",
     "output_type": "stream",
     "text": [
      "25\n",
      "Hi\n"
     ]
    }
   ],
   "source": [
    "#A function for calculating a square of a number\n",
    "\n",
    "\n",
    "#Function body starts\n",
    "def square():\n",
    "    num=5\n",
    "    print(num**2) #function body ends\n",
    "    \n",
    "square()  #Function Calling\n",
    "print(\"Hi\")   \n",
    "    \n",
    "    "
   ]
  },
  {
   "cell_type": "code",
   "execution_count": 33,
   "id": "d00b01a2",
   "metadata": {},
   "outputs": [
    {
     "name": "stdout",
     "output_type": "stream",
     "text": [
      "25\n",
      "Hi\n",
      "Value of a is None\n"
     ]
    }
   ],
   "source": [
    "#A function for calculating a square of a number\n",
    "\n",
    "\n",
    "#Function body starts\n",
    "def square(num):\n",
    "    print(num**2)\n",
    "   \n",
    "    \n",
    "a=square(5)  #Function Calling\n",
    "print(\"Hi\")  \n",
    "print(\"Value of a is\",a)"
   ]
  },
  {
   "cell_type": "code",
   "execution_count": 14,
   "id": "56e44198",
   "metadata": {},
   "outputs": [
    {
     "name": "stdout",
     "output_type": "stream",
     "text": [
      "Square of 5 is 25\n",
      "Hi\n"
     ]
    }
   ],
   "source": [
    "#A function for calculating a square of a number\n",
    "\n",
    "\n",
    "#Function body starts\n",
    "def square(num):\n",
    "    return num**2\n",
    "   \n",
    "    \n",
    "a=square(5)  #Function Calling\n",
    "print(\"Square of 5 is\",a)\n",
    "print(\"Hi\")  "
   ]
  },
  {
   "cell_type": "code",
   "execution_count": 38,
   "id": "51d3411a",
   "metadata": {},
   "outputs": [
    {
     "name": "stdout",
     "output_type": "stream",
     "text": [
      "Square is 25\n",
      "Hi\n"
     ]
    }
   ],
   "source": [
    "#A function for calculating a square of a number\n",
    "\n",
    "\n",
    "#Function body starts\n",
    "def square(num):\n",
    "    return num**2\n",
    "   \n",
    "    \n",
    "\n",
    "print(\"Square is\",square(5))\n",
    "print(\"Hi\") "
   ]
  },
  {
   "cell_type": "code",
   "execution_count": 41,
   "id": "496998ed",
   "metadata": {},
   "outputs": [
    {
     "name": "stdout",
     "output_type": "stream",
     "text": [
      "50.050000000000004\n",
      "Hi\n"
     ]
    }
   ],
   "source": [
    "def multiply(x,y):\n",
    "    return x*y\n",
    "\n",
    "print(multiply(6.5,7.7))\n",
    "print(\"Hi\")"
   ]
  },
  {
   "cell_type": "code",
   "execution_count": 45,
   "id": "e24f1ff9",
   "metadata": {},
   "outputs": [
    {
     "name": "stdout",
     "output_type": "stream",
     "text": [
      "80\n"
     ]
    }
   ],
   "source": [
    "def multiply(x,y):\n",
    "    print(x*y)\n",
    "\n",
    "multiply(10,8)"
   ]
  },
  {
   "cell_type": "code",
   "execution_count": 22,
   "id": "53227dce",
   "metadata": {},
   "outputs": [],
   "source": [
    "#Create any function of your choice with a return value\n",
    "#Modify the guessing\n",
    "#Practice today's Lesson"
   ]
  },
  {
   "cell_type": "code",
   "execution_count": null,
   "id": "7ed1a4a2",
   "metadata": {},
   "outputs": [],
   "source": [
    "\n",
    "        \n",
    "        "
   ]
  },
  {
   "cell_type": "code",
   "execution_count": null,
   "id": "9b9ac82e",
   "metadata": {},
   "outputs": [],
   "source": []
  }
 ],
 "metadata": {
  "kernelspec": {
   "display_name": "Python 3 (ipykernel)",
   "language": "python",
   "name": "python3"
  },
  "language_info": {
   "codemirror_mode": {
    "name": "ipython",
    "version": 3
   },
   "file_extension": ".py",
   "mimetype": "text/x-python",
   "name": "python",
   "nbconvert_exporter": "python",
   "pygments_lexer": "ipython3",
   "version": "3.9.7"
  }
 },
 "nbformat": 4,
 "nbformat_minor": 5
}
