{
 "cells": [
  {
   "cell_type": "markdown",
   "id": "4533af2c",
   "metadata": {},
   "source": [
    "# Lists\n",
    "* used to store multiple items/values enclosed in square brackets. e.g: [12,3,5.5,7]\n",
    "* collection of data (other types: tuples, dictionaries, sets)\n",
    "* ordered, changeable and can contain duplicate values"
   ]
  },
  {
   "cell_type": "markdown",
   "id": "81fb4ef7",
   "metadata": {},
   "source": [
    "## Ways to create a list"
   ]
  },
  {
   "cell_type": "code",
   "execution_count": 4,
   "id": "08e976d8",
   "metadata": {},
   "outputs": [
    {
     "name": "stdout",
     "output_type": "stream",
     "text": [
      "Munir\n",
      "['shah', 'John', 'Munir', 'Sara']\n",
      "[]\n",
      "<class 'list'>\n"
     ]
    }
   ],
   "source": [
    "name=\"Munir\"\n",
    "print(name)\n",
    "name=[\"shah\",\"John\",\"Munir\",\"Sara\"]\n",
    "print(name)\n",
    "x=[]\n",
    "print(x)\n",
    "print(type(x))"
   ]
  },
  {
   "cell_type": "code",
   "execution_count": 10,
   "id": "7a6ad2f3",
   "metadata": {},
   "outputs": [
    {
     "name": "stdout",
     "output_type": "stream",
     "text": [
      "['1', '2', '3', '4', '5', '6', '7', '8', '9']\n",
      "[1, 2, 3, 4, 5, 6, 7, 8, 9]\n",
      "[1, 2, 3, 4, 5, 6, 7, 8, 9]\n",
      "[1, 2, 3, 4, 5, 6, 7, 8, 9]\n"
     ]
    }
   ],
   "source": [
    "#sequences: lists, tuples, strings \n",
    "#list( sequence )\n",
    "\n",
    "#list(string)\n",
    "numbers=list(\"123456789\")\n",
    "print(numbers)\n",
    "\n",
    "#list(tuple)\n",
    "numbers=list((1,2,3,4,5,6,7,8,9))\n",
    "print(numbers)\n",
    "\n",
    "#list(list)\n",
    "numbers=list([1,2,3,4,5,6,7,8,9])\n",
    "print(numbers)\n",
    "\n",
    "numbers=[1,2,3,4,5,6,7,8,9]\n",
    "print(numbers)\n"
   ]
  },
  {
   "cell_type": "code",
   "execution_count": 11,
   "id": "4b5ea30d",
   "metadata": {},
   "outputs": [
    {
     "name": "stdout",
     "output_type": "stream",
     "text": [
      "['shah', 98, 98.5, True]\n"
     ]
    }
   ],
   "source": [
    "# passing different types of data to a list\n",
    "grades=[\"shah\",98,98.5,True]\n",
    "print(grades)"
   ]
  },
  {
   "cell_type": "code",
   "execution_count": 18,
   "id": "589f3d76",
   "metadata": {},
   "outputs": [
    {
     "name": "stdout",
     "output_type": "stream",
     "text": [
      "9\n",
      "1\n",
      "9\n",
      "45\n"
     ]
    }
   ],
   "source": [
    "# with sequences (lists, tuples, strings ) you can use following functions:\n",
    "# len() will return number of items \n",
    "# min() will return minimum value\n",
    "# max() will return maximum value\n",
    "# sum() will sum all of the items and return the result\n",
    "# sorted() will sort your list in ascending order, descending order\n",
    "\n",
    "numbers=[1,2,3,4,5,6,7,8,9]\n",
    "print(len(numbers))\n",
    "\n",
    "print(min(numbers))\n",
    "\n",
    "print(max(numbers))\n",
    "print(sum(numbers))\n"
   ]
  },
  {
   "cell_type": "code",
   "execution_count": 23,
   "id": "c7f311bd",
   "metadata": {},
   "outputs": [
    {
     "name": "stdout",
     "output_type": "stream",
     "text": [
      "[1, 2, 3, 4, 5, 6, 7, 8, 9]\n"
     ]
    }
   ],
   "source": [
    "numbers=[3,5,6,4,2,1,8,7,9]\n",
    "# list in ascending order\n",
    "print(sorted(numbers))"
   ]
  },
  {
   "cell_type": "code",
   "execution_count": 24,
   "id": "0ea02ec2",
   "metadata": {},
   "outputs": [
    {
     "name": "stdout",
     "output_type": "stream",
     "text": [
      "[9, 8, 7, 6, 5, 4, 3, 2, 1]\n"
     ]
    }
   ],
   "source": [
    "numbers=[3,5,6,4,2,1,8,7,9]\n",
    "# list in descending order\n",
    "print(sorted(numbers,reverse=True))"
   ]
  },
  {
   "cell_type": "code",
   "execution_count": 25,
   "id": "132a03ca",
   "metadata": {},
   "outputs": [
    {
     "name": "stdout",
     "output_type": "stream",
     "text": [
      "13\n"
     ]
    }
   ],
   "source": [
    "numbers=[1,2,3,4,5,6,7,8,9,\"S\",\"H\",True,7.7]\n",
    "print(len(numbers))"
   ]
  },
  {
   "cell_type": "code",
   "execution_count": 31,
   "id": "6d76cd8b",
   "metadata": {},
   "outputs": [
    {
     "name": "stdout",
     "output_type": "stream",
     "text": [
      "friday\n",
      "wednesday\n",
      "['friday', 'monday', 'saturday', 'sunday', 'thursday', 'tuesday', 'wednesday']\n",
      "['wednesday', 'tuesday', 'thursday', 'sunday', 'saturday', 'monday', 'friday']\n"
     ]
    }
   ],
   "source": [
    "days=[\"monday\",\"tuesday\",\"wednesday\",\"thursday\",\"friday\",\"saturday\",\"sunday\"]\n",
    "print(min(days))\n",
    "print(max(days))\n",
    "print(sorted(days))\n",
    "print(sorted(days,reverse=True))"
   ]
  },
  {
   "cell_type": "code",
   "execution_count": 32,
   "id": "c83ba229",
   "metadata": {},
   "outputs": [
    {
     "name": "stdout",
     "output_type": "stream",
     "text": [
      "Yesterday\n",
      "wednesday\n",
      "['Yesterday', 'friday', 'monday', 'saturday', 'sunday', 'thursday', 'tuesday', 'wednesday']\n",
      "['wednesday', 'tuesday', 'thursday', 'sunday', 'saturday', 'monday', 'friday', 'Yesterday']\n"
     ]
    }
   ],
   "source": [
    "days=[\"monday\",\"tuesday\",\"wednesday\",\"thursday\",\"friday\",\"saturday\",\"sunday\",\"Yesterday\"]\n",
    "print(min(days))\n",
    "print(max(days))\n",
    "print(sorted(days))\n",
    "print(sorted(days,reverse=True))"
   ]
  },
  {
   "cell_type": "code",
   "execution_count": 37,
   "id": "18dd35cc",
   "metadata": {},
   "outputs": [
    {
     "name": "stdout",
     "output_type": "stream",
     "text": [
      "97\n",
      "122\n",
      "89\n"
     ]
    }
   ],
   "source": [
    "print(ord('a'))\n",
    "print(ord('z'))\n",
    "\n",
    "print(ord('Y'))"
   ]
  },
  {
   "cell_type": "markdown",
   "id": "e0b8f351",
   "metadata": {},
   "source": [
    "# Indexing\n",
    "## Accessing items of a list based on indexing\n",
    "* list_name[index_value]"
   ]
  },
  {
   "cell_type": "code",
   "execution_count": null,
   "id": "e2548281",
   "metadata": {},
   "outputs": [],
   "source": [
    "days=[\"monday\",\"tuesday\",\"wednesday\",\"thursday\",\"friday\",\"saturday\",\"sunday\",\"Yesterday\"]\n",
    "print(days)\n",
    "print(days[1])\n",
    "print(days[5])\n",
    "print(days[7])\n",
    "print(days[-1])\n",
    "print(days[-4])"
   ]
  },
  {
   "cell_type": "code",
   "execution_count": 46,
   "id": "4e619462",
   "metadata": {},
   "outputs": [
    {
     "name": "stdout",
     "output_type": "stream",
     "text": [
      "Enter value: 56\n"
     ]
    }
   ],
   "source": [
    "a=input(\"Enter value: \")"
   ]
  },
  {
   "cell_type": "code",
   "execution_count": null,
   "id": "75249245",
   "metadata": {},
   "outputs": [],
   "source": []
  }
 ],
 "metadata": {
  "kernelspec": {
   "display_name": "Python 3 (ipykernel)",
   "language": "python",
   "name": "python3"
  },
  "language_info": {
   "codemirror_mode": {
    "name": "ipython",
    "version": 3
   },
   "file_extension": ".py",
   "mimetype": "text/x-python",
   "name": "python",
   "nbconvert_exporter": "python",
   "pygments_lexer": "ipython3",
   "version": "3.9.7"
  }
 },
 "nbformat": 4,
 "nbformat_minor": 5
}
