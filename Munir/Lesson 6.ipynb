{
 "cells": [
  {
   "cell_type": "markdown",
   "id": "ce478a96",
   "metadata": {},
   "source": [
    "A transport company charges the fare according to following table:\n",
    "\n",
    "Distance\tCharges\n",
    "1-50\t   8 Rs./Km\n",
    "51-100\t   10 Rs./Km\n",
    ">100\t   12 Rs/Km\n",
    "\n",
    "Ask user to enter the distance and compute the fare.\n"
   ]
  },
  {
   "cell_type": "code",
   "execution_count": null,
   "id": "5e0242b9",
   "metadata": {},
   "outputs": [],
   "source": []
  },
  {
   "cell_type": "code",
   "execution_count": 2,
   "id": "6cfb5364",
   "metadata": {},
   "outputs": [
    {
     "name": "stdout",
     "output_type": "stream",
     "text": [
      "Please guess any number between 1 and 10:9\n"
     ]
    }
   ],
   "source": [
    "#Guessing game\n",
    "\n",
    "guess=int(input(\"Please guess any number between 1 and 10:\" )) #10\n",
    "answer=9\n",
    "\n",
    "#When guess value is less than the answer value.\n",
    "\n",
    "if guess<answer:   #\n",
    "    print(\"Please Guess Higher\")\n",
    "\n",
    "#Ask user to guess again\n",
    "    \n",
    "    #Second Guess\n",
    "    guess=int(input(\"Please guess any number from 1 to 10: \"))  #\n",
    "    \n",
    "    if guess<answer:\n",
    "        print(\"Please guess higher again\")\n",
    "        #3rd Guess\n",
    "        guess=int(input(\"Please guess any number from 1 to 10: \"))  #\n",
    "        \n",
    "        if guess == answer:\n",
    "            print(\"you won on 3rd attempt\")\n",
    "        else:\n",
    "            print(\"you loose\")\n",
    "   \n",
    "    \n",
    "    elif guess > answer:\n",
    "        print(\"Please guess lower\")\n",
    "        #3rd Guess\n",
    "        guess=int(input(\"Please guess any number from 1 to 10: \"))  \n",
    "        \n",
    "        if guess == answer:\n",
    "            print(\"you won on 3rd attempt\")\n",
    "        else:\n",
    "            print(\"you loose\")\n",
    "\n",
    "\n",
    "elif guess>answer:\n",
    "    print(\"Please Guess Lower\")\n",
    "\n",
    "    guess=int(input(\"Please guess any number from 1 to 10: \"))#5\n",
    "    \n",
    "     if guess<answer:\n",
    "        print(\"Please guess higher again\")\n",
    "        #3rd Guess\n",
    "        guess=int(input(\"Please guess any number from 1 to 10: \")) #9 \n",
    "        \n",
    "        if guess == answer:\n",
    "            print(\"you won on 3rd attempt\")\n",
    "        else:\n",
    "            print(\"you loose\")\n",
    "   \n",
    "    \n",
    "    elif guess > answer:\n",
    "        print(\"Please guess lower\")\n",
    "        #3rd Guess\n",
    "        guess=int(input(\"Please guess any number from 1 to 10: \"))  \n",
    "        \n",
    "        if guess == answer:\n",
    "            print(\"you won on 3rd attempt\")\n",
    "        else:\n",
    "            print(\"you loose\")\n",
    "    \n",
    "\n",
    "\n"
   ]
  },
  {
   "cell_type": "markdown",
   "id": "c16d3bbc",
   "metadata": {},
   "source": [
    "# for loops\n",
    "for loops runs on iterables and sequences    ( strings, list, tuple , dictionary,sets, range)\n",
    "what are iterables and sequences in python?\n",
    "\n",
    "\"in\" operator that searches the items from sequences/iterables\n",
    "\n",
    "for  variable_name(identifier)  in   sequence/iterable:\n",
    "\n",
    "\n",
    "\n",
    "\n",
    "ordered\n",
    "\"Hello\"           string        \n",
    "[2,4,10,15]       list\n",
    "(6,8,9,13)        tuple\n",
    "\n",
    "unordered\n",
    "{\"car\":\"toyota\",\"flower\":\"Rose\"}   dictionary\n",
    "{7,8,9}                            set"
   ]
  },
  {
   "cell_type": "code",
   "execution_count": 4,
   "id": "0b5b130f",
   "metadata": {},
   "outputs": [
    {
     "name": "stdout",
     "output_type": "stream",
     "text": [
      "S\n",
      "u\n",
      "n\n",
      "d\n",
      "a\n",
      "y\n"
     ]
    }
   ],
   "source": [
    "\n",
    "for letter in \"Sunday\":\n",
    "    print(letter)"
   ]
  }
 ],
 "metadata": {
  "kernelspec": {
   "display_name": "Python 3 (ipykernel)",
   "language": "python",
   "name": "python3"
  },
  "language_info": {
   "codemirror_mode": {
    "name": "ipython",
    "version": 3
   },
   "file_extension": ".py",
   "mimetype": "text/x-python",
   "name": "python",
   "nbconvert_exporter": "python",
   "pygments_lexer": "ipython3",
   "version": "3.9.7"
  }
 },
 "nbformat": 4,
 "nbformat_minor": 5
}
