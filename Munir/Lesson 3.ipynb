{
 "cells": [
  {
   "cell_type": "code",
   "execution_count": 3,
   "id": "a690409c",
   "metadata": {},
   "outputs": [
    {
     "name": "stdout",
     "output_type": "stream",
     "text": [
      "numbers\tsquares\tcubes\n",
      "0\t0\t0\n",
      "1\t1\t1\n"
     ]
    }
   ],
   "source": [
    "print(\"numbers\\tsquares\\tcubes\")\n",
    "print(f\"{0}\\t{0**2}\\t{0**3}\\n{1}\\t{1**2}\\t{1**3}\")"
   ]
  },
  {
   "cell_type": "markdown",
   "id": "d7e8999c",
   "metadata": {},
   "source": [
    "# Input Function\n",
    "input(string) it is used to take value from the user\n",
    "input function always gives you the result in the form of string "
   ]
  },
  {
   "cell_type": "code",
   "execution_count": 5,
   "id": "3feed22c",
   "metadata": {},
   "outputs": [
    {
     "name": "stdout",
     "output_type": "stream",
     "text": [
      "Enter your name: Shahjahan\n",
      "The name is: Shahjahan\n"
     ]
    }
   ],
   "source": [
    "name=input(\"Enter your name: \")\n",
    "print(f\"The name is: {name}\")"
   ]
  },
  {
   "cell_type": "code",
   "execution_count": 7,
   "id": "16d36e07",
   "metadata": {},
   "outputs": [
    {
     "name": "stdout",
     "output_type": "stream",
     "text": [
      "Enter first number: 12\n",
      "Enter second number: 20\n",
      "32\n"
     ]
    }
   ],
   "source": [
    "number1=int(input(\"Enter first number: \"))\n",
    "number2=int(input(\"Enter second number: \"))\n",
    "print(number1+number2)"
   ]
  },
  {
   "cell_type": "code",
   "execution_count": 8,
   "id": "5d2149d0",
   "metadata": {},
   "outputs": [
    {
     "name": "stdout",
     "output_type": "stream",
     "text": [
      "Enter first number: 20.58\n",
      "Enter second number: 12\n",
      "32.58\n"
     ]
    }
   ],
   "source": [
    "number1=float(input(\"Enter first number: \"))\n",
    "number2=float(input(\"Enter second number: \"))\n",
    "print(number1+number2)"
   ]
  },
  {
   "cell_type": "markdown",
   "id": "152601ff",
   "metadata": {},
   "source": [
    "# Comparison Operators\n",
    "Comparsion operators are used between two operands or values\n",
    "It gives you the result in boolean (True or False\n",
    "<  Less than\n",
    ">  greater than\n",
    "<= less than or equal to\n",
    ">= greater than or equal to\n",
    "== equal\n",
    "!= not equal\n"
   ]
  },
  {
   "cell_type": "code",
   "execution_count": 19,
   "id": "4ebfe2c4",
   "metadata": {},
   "outputs": [
    {
     "name": "stdout",
     "output_type": "stream",
     "text": [
      "x is greater than y: \tFalse\n",
      "x is less than y: \tTrue\n",
      "x is less than or equal to y: \tTrue\n",
      "x is greater than or equal to y: \tFalse\n",
      "x is equal to y: \tFalse\n",
      "x is not equal to y: \tTrue\n"
     ]
    }
   ],
   "source": [
    "x=10\n",
    "y=11\n",
    "print(f\"x is greater than y: \\t{x>y}\")\n",
    "print(f\"x is less than y: \\t{x<y}\")\n",
    "print(f\"x is less than or equal to y: \\t{x<=y}\")\n",
    "print(f\"x is greater than or equal to y: \\t{x>=y}\")\n",
    "print(f\"x is equal to y: \\t{x==y}\")\n",
    "print(f\"x is not equal to y: \\t{x!=y}\")"
   ]
  },
  {
   "cell_type": "markdown",
   "id": "520d52e4",
   "metadata": {},
   "source": [
    "# if else\n",
    "if condition:   if part runs for True condition, else part runs for false condition\n",
    "    print(\"Hi\")     indentation tells about the block of code\n",
    "\n",
    "else:\n",
    "    print(\"Bye\")\n",
    "    "
   ]
  },
  {
   "cell_type": "code",
   "execution_count": 35,
   "id": "f3d6e677",
   "metadata": {},
   "outputs": [
    {
     "name": "stdout",
     "output_type": "stream",
     "text": [
      "x is less than y\n",
      "This is if block\n"
     ]
    }
   ],
   "source": [
    "x=10\n",
    "y=11\n",
    "\n",
    "if x>y:   #(x>y  False)\n",
    "    print(\"x is less than y\")\n",
    "    print(\"This is if block\")\n",
    "    \n",
    "else:\n",
    "    print(\"x is greater than y\")"
   ]
  },
  {
   "cell_type": "markdown",
   "id": "423007d5",
   "metadata": {},
   "source": [
    "# Logical or Boolean Operators\n",
    "and:    It gives you True as a result if all of the conditions are True\n",
    "          T   F == F\n",
    "          F   T== F\n",
    "          F   F == F\n",
    "          T  T== T\n",
    "or:     It gives you True as a result if one of the condition is True\n",
    "          T   F == T\n",
    "          F   T== T\n",
    "          F   F == F\n",
    "          T  T== T\n",
    "not:    not converts True to False and False to True"
   ]
  },
  {
   "cell_type": "code",
   "execution_count": 25,
   "id": "5aeb13a9",
   "metadata": {},
   "outputs": [
    {
     "name": "stdout",
     "output_type": "stream",
     "text": [
      "Enter your username: Flower\n",
      "Enter your password: Monday\n",
      "Login Successful\n"
     ]
    }
   ],
   "source": [
    "username=input(\"Enter your username: \")\n",
    "password=input(\"Enter your password: \")\n",
    "\n",
    "if username==\"Flower\" and password==\"Sunday\":   #Flower==Flower(True)   and     Monday==Sunday  (False)      False\n",
    "    print(\"Login Successful\")\n",
    "else:\n",
    "    print(\"Username or password is wrong\")"
   ]
  },
  {
   "cell_type": "code",
   "execution_count": 32,
   "id": "11c72228",
   "metadata": {},
   "outputs": [
    {
     "name": "stdout",
     "output_type": "stream",
     "text": [
      "Condition is True\n"
     ]
    }
   ],
   "source": [
    "\n",
    "if not False:\n",
    "    print(\"Condition is True\")\n",
    "else:\n",
    "    print(\"Condition is False\")"
   ]
  },
  {
   "cell_type": "code",
   "execution_count": 38,
   "id": "621e4022",
   "metadata": {},
   "outputs": [
    {
     "name": "stdout",
     "output_type": "stream",
     "text": [
      "Enter first number: 15\n",
      "Enter second number: 20\n",
      "Enter third number: 13\n",
      "Maximum number is :  20\n"
     ]
    }
   ],
   "source": [
    "#Maximum number out of three numbers\n",
    "number1=int(input(\"Enter first number: \"))  #15\n",
    "number2=int(input(\"Enter second number: \"))# 20\n",
    "number3=int(input(\"Enter third number: \"))#13\n",
    "\n",
    "if number1>number2 and number1>number3:\n",
    "    print(\"Maximum number is : \",number1)\n",
    "    \n",
    "if number2>number1 and number2>number3:\n",
    "     print(\"Maximum number is : \",number2)\n",
    "\n",
    "else:\n",
    "    maximum=number3\n",
    "    print(\"Maximum number is : \",number3)\n",
    "    \n",
    "\n"
   ]
  }
 ],
 "metadata": {
  "kernelspec": {
   "display_name": "Python 3 (ipykernel)",
   "language": "python",
   "name": "python3"
  },
  "language_info": {
   "codemirror_mode": {
    "name": "ipython",
    "version": 3
   },
   "file_extension": ".py",
   "mimetype": "text/x-python",
   "name": "python",
   "nbconvert_exporter": "python",
   "pygments_lexer": "ipython3",
   "version": "3.9.7"
  }
 },
 "nbformat": 4,
 "nbformat_minor": 5
}
