{
 "cells": [
  {
   "cell_type": "code",
   "execution_count": 4,
   "id": "7ac1760c",
   "metadata": {},
   "outputs": [
    {
     "name": "stdout",
     "output_type": "stream",
     "text": [
      "49\n"
     ]
    }
   ],
   "source": [
    "print(ord('1'))  #ASCII values"
   ]
  },
  {
   "cell_type": "markdown",
   "id": "928ce07e",
   "metadata": {},
   "source": [
    "# 2.11"
   ]
  },
  {
   "cell_type": "code",
   "execution_count": 6,
   "id": "56292afd",
   "metadata": {},
   "outputs": [
    {
     "name": "stdout",
     "output_type": "stream",
     "text": [
      "4\t2\t3\t3\t9\n"
     ]
    }
   ],
   "source": [
    "number=42339\n",
    "#%  // you can separate each digit from a number\n",
    "value1=number%10   #6\n",
    "number=number//10  #3421\n",
    "\n",
    "value2=number%10   #1\n",
    "number=number//10   #342\n",
    "\n",
    "value3=number%10   #2\n",
    "number=number//10   #34\n",
    "\n",
    "value4=number%10   #4\n",
    "number=number//10   #3\n",
    "\n",
    "value5=number\n",
    "\n",
    "print(f\"{value5}\\t{value4}\\t{value3}\\t{value2}\\t{value1}\")\n"
   ]
  },
  {
   "cell_type": "markdown",
   "id": "610ebddd",
   "metadata": {},
   "source": [
    "# Multiple if"
   ]
  },
  {
   "cell_type": "code",
   "execution_count": 7,
   "id": "34708b9d",
   "metadata": {},
   "outputs": [
    {
     "name": "stdout",
     "output_type": "stream",
     "text": [
      "Enter two integers, and I will tell you the relationships they satisfy.\n",
      "Enter first integer: 6\n",
      "Enter second integer: 12\n",
      "6 is not equal to 12\n",
      "6 is less than 12\n",
      "6 is less than or equal to 12\n"
     ]
    }
   ],
   "source": [
    "#Multiple if\n",
    "\"\"\"Comparing integers using if statements and comparison operators.\"\"\"\n",
    "\n",
    "print('Enter two integers, and I will tell you','the relationships they satisfy.')\n",
    "\n",
    "# read first integer\n",
    "number1 = int(input('Enter first integer: '))\n",
    "\n",
    "# read second integer\n",
    "number2 = int(input('Enter second integer: '))\n",
    "\n",
    "if number1 == number2:\n",
    "    print(number1, 'is equal to', number2)\n",
    "\n",
    "if number1 != number:\n",
    "    print(number1, 'is not equal to', number2)\n",
    "\n",
    "if number1 < number2:\n",
    "    print(number1, 'is less than', number2)\n",
    "\n",
    "if number1 > number2:\n",
    "    print(number1, 'is greater than', number2)\n",
    "\n",
    "if number1 <= number2:\n",
    "    print(number1, 'is less than or equal to', number2)\n",
    "\n",
    "if number1 >= number2:\n",
    "    print(number1, 'is greater than or equal to', number2)"
   ]
  },
  {
   "cell_type": "code",
   "execution_count": 29,
   "id": "3976bbb4",
   "metadata": {},
   "outputs": [
    {
     "name": "stdout",
     "output_type": "stream",
     "text": [
      "Enter two integers, and I will tell you the relationships they satisfy.\n",
      "Enter first integer: 7\n",
      "Enter second integer: 10\n",
      "7 is not equal to 10\n",
      "Hi\n"
     ]
    }
   ],
   "source": [
    "#Multiple if\n",
    "\"\"\"Comparing integers using if statements and comparison operators.\"\"\"\n",
    "\n",
    "print('Enter two integers, and I will tell you','the relationships they satisfy.')\n",
    "\n",
    "# read first integer\n",
    "number1 = int(input('Enter first integer: '))\n",
    "\n",
    "# read second integer\n",
    "number2 = int(input('Enter second integer: '))\n",
    "\n",
    "if number1 == number2:\n",
    "    print(number1, 'is equal to', number2)\n",
    "\n",
    "elif number1 != number2:\n",
    "    print(number1, 'is not equal to', number2)\n",
    "\n",
    "elif number1 < number2:\n",
    "    print(number1, 'is less than', number2)\n",
    "\n",
    "elif number1 > number2:\n",
    "    print(number1, 'is greater than', number2)\n",
    "\n",
    "elif number1 <= number2:\n",
    "    print(number1, 'is less than or equal to', number2)\n",
    "\n",
    "elif number1 >= number2:\n",
    "    print(number1, 'is greater than or equal to', number2)\n",
    "\n",
    "    \n",
    "print(\"Hi\")"
   ]
  },
  {
   "cell_type": "code",
   "execution_count": null,
   "id": "67ce9791",
   "metadata": {},
   "outputs": [],
   "source": [
    "#H.work 2.11\n",
    "#Convert this example to if / else"
   ]
  },
  {
   "cell_type": "markdown",
   "id": "3c3819e1",
   "metadata": {},
   "source": [
    "# if  elif else"
   ]
  },
  {
   "cell_type": "code",
   "execution_count": 21,
   "id": "b0f6433b",
   "metadata": {},
   "outputs": [
    {
     "name": "stdout",
     "output_type": "stream",
     "text": [
      "Enter a number between 1 and 10: 7\n",
      "Please guess lower\n"
     ]
    }
   ],
   "source": [
    "#Guessing game\n",
    "\n",
    "guess=int(input(\"Enter a number between 1 and 10: \"))\n",
    "answer=5\n",
    "\n",
    "if guess<answer:            #\n",
    "    print(\"Please guess higher\")\n",
    "\n",
    "elif guess>answer:\n",
    "    print(\"Please guess lower\")\n",
    "    \n",
    "elif guess==answer:\n",
    "    print(\"You win\")"
   ]
  },
  {
   "cell_type": "code",
   "execution_count": 28,
   "id": "56e3df5c",
   "metadata": {},
   "outputs": [
    {
     "name": "stdout",
     "output_type": "stream",
     "text": [
      "You got C grade 65\n",
      "You got B grade 76\n",
      "You got A grade 85\n",
      "You got A+ grade 95\n"
     ]
    }
   ],
   "source": [
    "grades=[65,76,85,95]  #list \n",
    "\n",
    "for num in grades:   #num=76\n",
    "    if num>=90:\n",
    "        print(\"You got A+ grade\",num)\n",
    "        \n",
    "    elif num>=80:\n",
    "        print(\"You got A grade\",num)\n",
    "        \n",
    "    elif num>=70:\n",
    "        print(\"You got B grade\",num)\n",
    "        \n",
    "    elif num>=60:\n",
    "        print(\"You got C grade\",num)\n"
   ]
  }
 ],
 "metadata": {
  "kernelspec": {
   "display_name": "Python 3 (ipykernel)",
   "language": "python",
   "name": "python3"
  },
  "language_info": {
   "codemirror_mode": {
    "name": "ipython",
    "version": 3
   },
   "file_extension": ".py",
   "mimetype": "text/x-python",
   "name": "python",
   "nbconvert_exporter": "python",
   "pygments_lexer": "ipython3",
   "version": "3.9.7"
  }
 },
 "nbformat": 4,
 "nbformat_minor": 5
}
