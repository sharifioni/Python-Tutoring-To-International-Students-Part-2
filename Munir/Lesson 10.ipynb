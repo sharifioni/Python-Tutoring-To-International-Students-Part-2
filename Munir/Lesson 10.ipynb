{
 "cells": [
  {
   "cell_type": "code",
   "execution_count": 4,
   "id": "c5ff9273",
   "metadata": {},
   "outputs": [
    {
     "name": "stdout",
     "output_type": "stream",
     "text": [
      "*\n",
      "**\n",
      "***\n",
      "****\n",
      "*****\n",
      "******\n",
      "*******\n",
      "********\n",
      "*********\n",
      "**********\n"
     ]
    }
   ],
   "source": [
    "# Exercise 3.17\n",
    "\n",
    "#First for loop will control number of rows\n",
    "for i in range(1,11):\n",
    "    #Second for loop will control number of asteriks\n",
    "    for j in range(1,i+1):\n",
    "        print(\"*\",end=\"\")\n",
    "    print()  "
   ]
  },
  {
   "cell_type": "markdown",
   "id": "1bb0a6db",
   "metadata": {},
   "source": [
    "# While loop\n",
    "> It runs the set of statements again and again until the condition is met\n",
    "\n",
    "> while  condition:\n",
    "    statement 1\n",
    "    statement 2\n",
    "    statement 3\n",
    "    ...........\n",
    "    ..........."
   ]
  },
  {
   "cell_type": "code",
   "execution_count": 7,
   "id": "43917704",
   "metadata": {},
   "outputs": [
    {
     "name": "stdout",
     "output_type": "stream",
     "text": [
      "15\n",
      "16\n",
      "17\n",
      "18\n",
      "19\n",
      "20\n",
      "21\n",
      "22\n",
      "23\n",
      "24\n",
      "25\n"
     ]
    }
   ],
   "source": [
    "c=15\n",
    "\n",
    "while c <= 25:\n",
    "    print(c)\n",
    "    c+=1           # c=c+1"
   ]
  },
  {
   "cell_type": "markdown",
   "id": "8be13570",
   "metadata": {},
   "source": [
    "# Built in functions\n",
    "> print()\n",
    "> type ()\n",
    "> input()\n",
    "> str()\n",
    "> int()\n",
    "> float()\n",
    "> min()\n",
    "> max()\n",
    "> sorted()"
   ]
  },
  {
   "cell_type": "markdown",
   "id": "499d8227",
   "metadata": {},
   "source": [
    "# Modules / Libraries\n",
    "> Gives a lot of methods / functions that are not present already in python\n",
    "> "
   ]
  },
  {
   "cell_type": "code",
   "execution_count": 14,
   "id": "494a4d07",
   "metadata": {},
   "outputs": [
    {
     "name": "stdout",
     "output_type": "stream",
     "text": [
      "Enter any guess between 1 to 50: 25\n",
      "Please Guess Higher\n",
      "Enter any guess between 1 to 50: 35\n",
      "Please Guess Higher\n",
      "Enter any guess between 1 to 50: 40\n",
      "Please Guess Higher\n",
      "Enter any guess between 1 to 50: 45\n",
      "Please Guess Higher\n",
      "Enter any guess between 1 to 50: 47\n",
      "Please Guess Higher\n",
      "Enter any guess between 1 to 50: 49\n",
      "Please Guess Lower\n",
      "Enter any guess between 1 to 50: 48\n",
      "You guessed correctly\n"
     ]
    }
   ],
   "source": [
    "import random\n",
    "guess=0\n",
    "answer= random.randint(1,40)\n",
    "#print(answer)\n",
    "\n",
    "# User can only take upto 5 guesses\n",
    "while guess!=answer:\n",
    "    \n",
    "    guess=int(input(\"Enter any guess between 1 to 40: \"))\n",
    "    \n",
    "    if guess<answer:\n",
    "        print(\"Please Guess Higher\")\n",
    "        \n",
    "    elif guess>answer:\n",
    "        print(\"Please Guess Lower\")\n",
    "        \n",
    "    else:\n",
    "        print(\"You guessed correctly\")\n",
    "  "
   ]
  },
  {
   "cell_type": "code",
   "execution_count": 15,
   "id": "45895336",
   "metadata": {},
   "outputs": [
    {
     "name": "stdout",
     "output_type": "stream",
     "text": [
      "Enter any number: 5\n",
      "120\n"
     ]
    }
   ],
   "source": [
    "# Factorial of a number\n",
    "\n",
    "number=int(input(\"Enter any number: \"))\n",
    "factorial=1\n",
    "\n",
    "while number >=1 :\n",
    "    \n",
    "    factorial=factorial*number\n",
    "    number=number-1\n",
    "    \n",
    "print(factorial)\n",
    "    "
   ]
  },
  {
   "cell_type": "code",
   "execution_count": null,
   "id": "ed42b6ab",
   "metadata": {},
   "outputs": [],
   "source": [
    "# Homework\n",
    "# 1. Do the rest of triangles\n",
    "# 2. Modify the guessing game\n",
    "# 3. Do the factorial program with for loop"
   ]
  }
 ],
 "metadata": {
  "kernelspec": {
   "display_name": "Python 3 (ipykernel)",
   "language": "python",
   "name": "python3"
  },
  "language_info": {
   "codemirror_mode": {
    "name": "ipython",
    "version": 3
   },
   "file_extension": ".py",
   "mimetype": "text/x-python",
   "name": "python",
   "nbconvert_exporter": "python",
   "pygments_lexer": "ipython3",
   "version": "3.9.7"
  }
 },
 "nbformat": 4,
 "nbformat_minor": 5
}
