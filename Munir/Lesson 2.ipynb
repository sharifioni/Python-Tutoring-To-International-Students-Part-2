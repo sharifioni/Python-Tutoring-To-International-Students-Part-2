{
 "cells": [
  {
   "cell_type": "markdown",
   "id": "32437b26",
   "metadata": {},
   "source": [
    "# Type Casting\n",
    "Conversion of one datatype to another data type\n",
    "str to int\n",
    "int to str\n",
    "float to str\n",
    "str to float\n",
    "int to float \n",
    "float to int"
   ]
  },
  {
   "cell_type": "code",
   "execution_count": 42,
   "id": "4979cc6b",
   "metadata": {},
   "outputs": [
    {
     "name": "stdout",
     "output_type": "stream",
     "text": [
      "The type of value1 is type(value1)\n",
      "value1 is 100\n",
      "The type of value2 is <class 'str'>\n",
      "value2 is 55\n",
      "The type of value3 is <class 'float'>\n",
      "value3 is 100.0\n"
     ]
    }
   ],
   "source": [
    "num1=55\n",
    "num2=28.75\n",
    "num3=\"100\"\n",
    "\n",
    "#str to int using int() function\n",
    "value1=int(num3)\n",
    "print(\"The type of value1 is \",type(value1))\n",
    "print(\"value1 is\",value1)\n",
    "\n",
    "\n",
    "#int to str using str() function\n",
    "value2=str(num1)\n",
    "print(\"The type of value2 is\",type(value2))\n",
    "print(\"value2 is\",value2)\n",
    "\n",
    "#str to float using float() function\n",
    "value3=float(num3)\n",
    "print(\"The type of value3 is\",type(value3))\n",
    "print(\"value3 is\",value3)"
   ]
  },
  {
   "cell_type": "markdown",
   "id": "290a77a8",
   "metadata": {},
   "source": [
    "# Escape Sequences\n",
    "They are always used as a string\n",
    "\\t   a tab space\n",
    "\\n   new line\n",
    "\\    will remove the special meaning of escape sequences "
   ]
  },
  {
   "cell_type": "code",
   "execution_count": 17,
   "id": "955c43e7",
   "metadata": {},
   "outputs": [
    {
     "name": "stdout",
     "output_type": "stream",
     "text": [
      "THURSDAY\n",
      "T\tH\tU\tR\tS\tD\tA\tY\n"
     ]
    }
   ],
   "source": [
    "print(\"THURSDAY\")\n",
    "print(\"T\\tH\\tU\\tR\\tS\\tD\\tA\\tY\")\n"
   ]
  },
  {
   "cell_type": "code",
   "execution_count": 25,
   "id": "aea9264e",
   "metadata": {},
   "outputs": [
    {
     "name": "stdout",
     "output_type": "stream",
     "text": [
      "Hello \\t World\n"
     ]
    }
   ],
   "source": [
    "print(\"Hello \\\\t World\")"
   ]
  },
  {
   "cell_type": "code",
   "execution_count": 29,
   "id": "9cc5504a",
   "metadata": {},
   "outputs": [
    {
     "name": "stdout",
     "output_type": "stream",
     "text": [
      "E:\\new.txt\n"
     ]
    }
   ],
   "source": [
    "path=\"E:\\\\new.txt\"\n",
    "print(path)"
   ]
  },
  {
   "cell_type": "markdown",
   "id": "341c5e11",
   "metadata": {},
   "source": [
    "\"Sunny's mother said: \"That cat is ours\"\""
   ]
  },
  {
   "cell_type": "code",
   "execution_count": 32,
   "id": "90c79137",
   "metadata": {},
   "outputs": [
    {
     "name": "stdout",
     "output_type": "stream",
     "text": [
      "Sunny's mother said: \"That cat is ours\" \n"
     ]
    }
   ],
   "source": [
    "print(\"Sunny's mother said: \\\"That cat is ours\\\" \")"
   ]
  },
  {
   "cell_type": "code",
   "execution_count": 34,
   "id": "a466fbe1",
   "metadata": {},
   "outputs": [
    {
     "name": "stdout",
     "output_type": "stream",
     "text": [
      "hhhhhhhhhhhhhhhhhhhhhhhhhhhhhhhhhhhhhhhhhhhhhhhhhhhhhhhhhhhhhhhhhhhhhhhhhhhhhhhhhhhhhhhhhhhhhhhhhhhhhhhhhhhhhhhhhhhhhhhhhhhhhhhhhhhhhh\n"
     ]
    }
   ],
   "source": [
    "print(\"hhhhhhhhhhhhhhhhhhhhhhhhhhhhhhhhhhhhhhhhhhhhhhhhhhhhhhhhhhhhhhhhhhhhhhhhhhhhhhhhhhhhh\\\n",
    "hhhhhhhhhhhhhhhhhhhhhhhhhhhhhhhhhhhhhhhhhhhhhhhhh\")"
   ]
  },
  {
   "cell_type": "markdown",
   "id": "48f7f001",
   "metadata": {},
   "source": [
    "# String Concatenation\n",
    "two or more strings are joined using + operator"
   ]
  },
  {
   "cell_type": "code",
   "execution_count": 40,
   "id": "fe04822b",
   "metadata": {},
   "outputs": [
    {
     "name": "stdout",
     "output_type": "stream",
     "text": [
      "friDAY\n"
     ]
    }
   ],
   "source": [
    "str1=\"DAY\"\n",
    "str2=\"FRI\"\n",
    "print(str2+str1)"
   ]
  },
  {
   "cell_type": "markdown",
   "id": "daccac45",
   "metadata": {},
   "source": [
    "# f-strings and string formatting"
   ]
  },
  {
   "cell_type": "code",
   "execution_count": 43,
   "id": "29ac428c",
   "metadata": {},
   "outputs": [
    {
     "name": "stdout",
     "output_type": "stream",
     "text": [
      "My name is Shah my age is 23\n"
     ]
    }
   ],
   "source": [
    "name=\"Shah\"\n",
    "age=23\n",
    "print(\"My name is\", name ,  \"my age is\" ,age)"
   ]
  },
  {
   "cell_type": "code",
   "execution_count": 46,
   "id": "19a64044",
   "metadata": {},
   "outputs": [
    {
     "name": "stdout",
     "output_type": "stream",
     "text": [
      "My name is Shah my age is 23\n"
     ]
    }
   ],
   "source": [
    "print(\"My name is \"+ name +  \" my age is\" ,age)"
   ]
  },
  {
   "cell_type": "code",
   "execution_count": 48,
   "id": "d0a48d98",
   "metadata": {},
   "outputs": [
    {
     "name": "stdout",
     "output_type": "stream",
     "text": [
      "My name is Shah and my age is 23\n"
     ]
    }
   ],
   "source": [
    "#fstring\n",
    "print(f\"My name is {name} and my age is {age}\")"
   ]
  },
  {
   "cell_type": "code",
   "execution_count": 49,
   "id": "f8e2f94e",
   "metadata": {},
   "outputs": [
    {
     "name": "stdout",
     "output_type": "stream",
     "text": [
      "My name is Shah and my age is 23\n"
     ]
    }
   ],
   "source": [
    "#string formatting\n",
    "print(\"My name is {} and my age is {}\".format(name,age))"
   ]
  },
  {
   "cell_type": "code",
   "execution_count": null,
   "id": "351d431d",
   "metadata": {},
   "outputs": [],
   "source": [
    "#Ali drinks 2 glasses of milk every day\n",
    "#Ali also eats one apple every day\n",
    "# Calorie intake for 1 glass of milk is 300 calories\n",
    "# Calorie intake for 1 apple is 200 calories\n",
    "#Calculate Total calories in one month\n",
    "#Calculate Total calories in one year"
   ]
  }
 ],
 "metadata": {
  "kernelspec": {
   "display_name": "Python 3 (ipykernel)",
   "language": "python",
   "name": "python3"
  },
  "language_info": {
   "codemirror_mode": {
    "name": "ipython",
    "version": 3
   },
   "file_extension": ".py",
   "mimetype": "text/x-python",
   "name": "python",
   "nbconvert_exporter": "python",
   "pygments_lexer": "ipython3",
   "version": "3.9.7"
  }
 },
 "nbformat": 4,
 "nbformat_minor": 5
}
