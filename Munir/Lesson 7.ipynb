{
 "cells": [
  {
   "cell_type": "code",
   "execution_count": 12,
   "id": "02b3d72e",
   "metadata": {},
   "outputs": [
    {
     "name": "stdout",
     "output_type": "stream",
     "text": [
      "P\ty\tt\th\to\tn\t"
     ]
    }
   ],
   "source": [
    "for abc in \"Python\":\n",
    "    print(abc,end='\\t')"
   ]
  },
  {
   "cell_type": "code",
   "execution_count": 11,
   "id": "c190d3fe",
   "metadata": {},
   "outputs": [
    {
     "name": "stdout",
     "output_type": "stream",
     "text": [
      "7\n",
      "8\n",
      "9\n",
      "10\n"
     ]
    }
   ],
   "source": [
    "print(7,8,9,10,sep='\\n')"
   ]
  },
  {
   "cell_type": "code",
   "execution_count": null,
   "id": "d45b2a49",
   "metadata": {},
   "outputs": [],
   "source": [
    "#Take any Positive number greater than or equal to zero\n",
    "#Tell the number of digits of that number\n",
    "#87      123   1000\n"
   ]
  },
  {
   "cell_type": "code",
   "execution_count": 18,
   "id": "e9dc645d",
   "metadata": {},
   "outputs": [
    {
     "name": "stdout",
     "output_type": "stream",
     "text": [
      "The number a and A are 4\n"
     ]
    }
   ],
   "source": [
    "#Take any string and count number of  a and A\n",
    "sentence=\"We are learning Python ProgrAmming and it's very helpful. \"\n",
    "count=0\n",
    "for char in sentence:\n",
    "    if char=='a' or char=='A':\n",
    "        count=count+1                 #count=count+1\n",
    "\n",
    "print(\"The number a and A are\", count)\n",
    "    "
   ]
  },
  {
   "cell_type": "code",
   "execution_count": null,
   "id": "967ac06d",
   "metadata": {},
   "outputs": [],
   "source": [
    "#Take any string\n",
    "#count the number of vowels in that string"
   ]
  },
  {
   "cell_type": "code",
   "execution_count": null,
   "id": "3a185a20",
   "metadata": {},
   "outputs": [],
   "source": [
    "#range() with for loops in python"
   ]
  }
 ],
 "metadata": {
  "kernelspec": {
   "display_name": "Python 3 (ipykernel)",
   "language": "python",
   "name": "python3"
  },
  "language_info": {
   "codemirror_mode": {
    "name": "ipython",
    "version": 3
   },
   "file_extension": ".py",
   "mimetype": "text/x-python",
   "name": "python",
   "nbconvert_exporter": "python",
   "pygments_lexer": "ipython3",
   "version": "3.9.7"
  }
 },
 "nbformat": 4,
 "nbformat_minor": 5
}
