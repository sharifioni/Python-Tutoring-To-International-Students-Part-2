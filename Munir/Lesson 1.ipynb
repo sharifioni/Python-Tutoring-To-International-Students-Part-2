{
 "cells": [
  {
   "cell_type": "markdown",
   "id": "0665a0c0",
   "metadata": {},
   "source": [
    "# Print Function"
   ]
  },
  {
   "cell_type": "code",
   "execution_count": 6,
   "id": "d8819e67",
   "metadata": {},
   "outputs": [
    {
     "name": "stdout",
     "output_type": "stream",
     "text": [
      "Hello World\n",
      "\n",
      "Hi\n"
     ]
    }
   ],
   "source": [
    "#print function with hello world\n",
    "#built in functions   print(Arguments), type(), input()\n",
    "#user defined functions\n",
    "#function_name(arguments)\n",
    "#syntax (rules that you follow to write a code)  Syntax errors, name error, type error\n",
    "#Case Sensitive Language\n",
    "print() #parenthesis\n",
    "print()\n",
    "print(\"Hi\")"
   ]
  },
  {
   "cell_type": "markdown",
   "id": "a9325536",
   "metadata": {},
   "source": [
    "# Data Types\n",
    "Types of Data:\n",
    "1. String  str   Anything or any character written inside double quotes or single quotes is a string \"1aaa@#\"\n",
    "2. Integer int   Numbers without decimal part   2,0,-3\n",
    "3. Float   float Numbers with decimal part      2.5,0.00,-25.98\n",
    "4. Boolean bool  True,False"
   ]
  },
  {
   "cell_type": "code",
   "execution_count": 7,
   "id": "3e413576",
   "metadata": {},
   "outputs": [
    {
     "name": "stdout",
     "output_type": "stream",
     "text": [
      "Hello World\n",
      "5\n",
      "5.5\n",
      "True\n"
     ]
    }
   ],
   "source": [
    "print(\"Hello World\")  #string\n",
    "print(5)           #integer\n",
    "print(5.5)  #float\n",
    "print(True)  #bool"
   ]
  },
  {
   "cell_type": "markdown",
   "id": "4586b439",
   "metadata": {},
   "source": [
    "# Type Function\n",
    "type()  It tells you the type of the data"
   ]
  },
  {
   "cell_type": "code",
   "execution_count": 10,
   "id": "bd2c0cb3",
   "metadata": {},
   "outputs": [
    {
     "name": "stdout",
     "output_type": "stream",
     "text": [
      "<class 'str'>\n",
      "<class 'int'>\n",
      "<class 'float'>\n",
      "<class 'bool'>\n"
     ]
    }
   ],
   "source": [
    "print(type(\"Hello World\"))       #type(\"Hello World\")  #str\n",
    "print(type(5)) \n",
    "print(type(5.5))\n",
    "print(type(False))"
   ]
  },
  {
   "cell_type": "markdown",
   "id": "6bd6fe3f",
   "metadata": {},
   "source": [
    "# Variables and Assignments\n",
    "Variablename =  value   (= is Assignment operator)\n",
    "\n",
    "Rules to give variable names or identifiers\n",
    "The name of variable should consist of letters digits or _ (underscore)\n",
    "The starting letter can be an alphabet or _\n",
    "Variable names cannot be built in keywords"
   ]
  },
  {
   "cell_type": "code",
   "execution_count": 22,
   "id": "0cc0d446",
   "metadata": {},
   "outputs": [
    {
     "name": "stdout",
     "output_type": "stream",
     "text": [
      "55 Muhammad 55.5 True\n",
      "5\n"
     ]
    }
   ],
   "source": [
    "number1=55\n",
    "name=\"Muhammad\"\n",
    "num_f=55.5\n",
    "night=True\n",
    "\n",
    "print(number1 , name , num_f, night)\n",
    "print(5)\n"
   ]
  },
  {
   "cell_type": "markdown",
   "id": "397eefb4",
   "metadata": {},
   "source": [
    "# Arithmetic Operators\n",
    "+ \n",
    "-\n",
    "*\n",
    "/\n",
    "**    Exponentiation\n",
    "//    Floor Division\n",
    "%     Remainder"
   ]
  },
  {
   "cell_type": "code",
   "execution_count": 28,
   "id": "eb326347",
   "metadata": {},
   "outputs": [
    {
     "name": "stdout",
     "output_type": "stream",
     "text": [
      "num1 + num2*5=  40\n",
      "num1 - num2=  4\n",
      "num1 * num2=  60\n",
      "num1 / num2=  1.6666666666666667\n",
      "num1 ** num2=  1000000\n",
      "num1 // num2=  1\n",
      "num1 % num2=  4\n"
     ]
    }
   ],
   "source": [
    "num1=10\n",
    "num2=6\n",
    "print(\"num1 + num2*5= \",num1+num2*5)  #16\n",
    "print(\"num1 - num2= \",num1-num2)  #4\n",
    "print(\"num1 * num2= \",num1*num2)  #60\n",
    "print(\"num1 / num2= \",num1/num2)  #1.6666\n",
    "print(\"num1 ** num2= \",num1**num2) #1000000\n",
    "print(\"num1 // num2= \",num1//num2) #1\n",
    "print(\"num1 % num2= \",num1%num2)  #4\n"
   ]
  },
  {
   "cell_type": "markdown",
   "id": "e14e694d",
   "metadata": {},
   "source": [
    "# Operator Precedence\n",
    "Bracket Exponentiation Multiplication/division Addition/Subtraction\n"
   ]
  },
  {
   "cell_type": "code",
   "execution_count": 30,
   "id": "5921d75d",
   "metadata": {},
   "outputs": [
    {
     "name": "stdout",
     "output_type": "stream",
     "text": [
      "13*4**2+8/4-(10+5) =  195.0\n"
     ]
    }
   ],
   "source": [
    "expr=13*4**2+8/4-(10+5)  #13*4**2+8/4-15   13*16+8/4-15   13*16+8/4-15  208+8/4-15   208+2.0-15\n",
    "print(\"13*4**2+8/4-(10+5) = \",expr)"
   ]
  },
  {
   "cell_type": "code",
   "execution_count": null,
   "id": "3f6f755e",
   "metadata": {},
   "outputs": [],
   "source": [
    "#Input function\n",
    "#what type of data does input function returns and what is the purpose of input function"
   ]
  }
 ],
 "metadata": {
  "kernelspec": {
   "display_name": "Python 3 (ipykernel)",
   "language": "python",
   "name": "python3"
  },
  "language_info": {
   "codemirror_mode": {
    "name": "ipython",
    "version": 3
   },
   "file_extension": ".py",
   "mimetype": "text/x-python",
   "name": "python",
   "nbconvert_exporter": "python",
   "pygments_lexer": "ipython3",
   "version": "3.9.7"
  }
 },
 "nbformat": 4,
 "nbformat_minor": 5
}
