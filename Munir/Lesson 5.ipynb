{
 "cells": [
  {
   "cell_type": "markdown",
   "id": "5ac1f0e5",
   "metadata": {},
   "source": [
    "# Nested if else  or if elif else\n",
    "\n",
    "using a condition inside another condition is nested condition"
   ]
  },
  {
   "cell_type": "code",
   "execution_count": 6,
   "id": "ba670166",
   "metadata": {},
   "outputs": [
    {
     "name": "stdout",
     "output_type": "stream",
     "text": [
      "Enter any number: -4\n",
      "Number is negative\n"
     ]
    }
   ],
   "source": [
    "num=int(input(\"Enter any number: \"))  #-5\n",
    "\n",
    "if num>=0:   #False\n",
    "    if num==0:   #\n",
    "        print(\"Number is zero\")\n",
    "    \n",
    "    else:\n",
    "        print(\"number is positive\")\n",
    "    \n",
    "else:\n",
    "    print(\"Number is negative\")"
   ]
  },
  {
   "cell_type": "code",
   "execution_count": null,
   "id": "aa42bca5",
   "metadata": {},
   "outputs": [],
   "source": [
    "#number is -1\n",
    "#print(\"You entered -1\")\n",
    "#print(\"number is negative other than -1\")"
   ]
  },
  {
   "cell_type": "code",
   "execution_count": 10,
   "id": "fdfa448c",
   "metadata": {},
   "outputs": [
    {
     "name": "stdout",
     "output_type": "stream",
     "text": [
      "Enter any number: 5\n",
      "number is positive\n"
     ]
    }
   ],
   "source": [
    "num=int(input(\"Enter any number: \"))  #5\n",
    "\n",
    "#if elif else\n",
    "\n",
    "if num>=0: #True  \n",
    "    if num==0:   \n",
    "        print(\"Number is zero\")\n",
    "    \n",
    "    else:\n",
    "        print(\"number is positive\")\n",
    "    \n",
    "elif num==-1:  \n",
    "    print(\"Number is -1\")\n",
    "    \n",
    "else:\n",
    "    print(\"Number is negative other than -1\")"
   ]
  },
  {
   "cell_type": "code",
   "execution_count": 16,
   "id": "1bf05ef6",
   "metadata": {},
   "outputs": [
    {
     "name": "stdout",
     "output_type": "stream",
     "text": [
      "Enter a number between 1 and 10: 3\n",
      "Please guess higher\n",
      "Enter a number between 1 and 10: 10\n",
      "You loose\n",
      "Program finished\n"
     ]
    }
   ],
   "source": [
    "#Guessing game\n",
    "#The first guess is wrong, you have to take guess value again from the user\n",
    "\n",
    "def guess_number():\n",
    "    guess=int(input(\"Enter a number between 1 and 10: \"))\n",
    "    return guess\n",
    "    \n",
    "\n",
    "guess=guess_number()\n",
    "answer=5\n",
    "\n",
    "#When guess value is less than the answer value\n",
    "if guess<answer:  #True   \n",
    "    print(\"Please guess higher\")\n",
    "    #Taking value of guess again\n",
    "    guess=guess_number() #7\n",
    "    \n",
    "    if guess==answer:  #False\n",
    "        print(\"You win\")\n",
    "    \n",
    "    else:\n",
    "        print(\"You loose\")\n",
    "    \n",
    "#When guess value is greater than the answer value    \n",
    "elif guess>answer: #\n",
    "    print(\"Please guess lower\")\n",
    "    \n",
    "     #Taking value of guess again\n",
    "    guess=guess_number()  #5\n",
    "    if guess==answer:\n",
    "        print(\"You win\")\n",
    "    \n",
    "    else:\n",
    "        print(\"You loose\")\n",
    "    \n",
    "    \n",
    "#When guess value is equal to answer value on first attempt   \n",
    "else:\n",
    "    print(\"You win\")\n",
    "\n",
    "print(\"Program finished\")"
   ]
  }
 ],
 "metadata": {
  "kernelspec": {
   "display_name": "Python 3 (ipykernel)",
   "language": "python",
   "name": "python3"
  },
  "language_info": {
   "codemirror_mode": {
    "name": "ipython",
    "version": 3
   },
   "file_extension": ".py",
   "mimetype": "text/x-python",
   "name": "python",
   "nbconvert_exporter": "python",
   "pygments_lexer": "ipython3",
   "version": "3.9.7"
  }
 },
 "nbformat": 4,
 "nbformat_minor": 5
}
