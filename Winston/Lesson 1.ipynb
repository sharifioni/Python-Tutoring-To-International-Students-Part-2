{
 "cells": [
  {
   "cell_type": "code",
   "execution_count": 6,
   "id": "01e28dd3",
   "metadata": {},
   "outputs": [
    {
     "name": "stdout",
     "output_type": "stream",
     "text": [
      "15\n"
     ]
    }
   ],
   "source": [
    "p=15\n",
    "print(p)"
   ]
  },
  {
   "cell_type": "code",
   "execution_count": 7,
   "id": "40f311c0",
   "metadata": {},
   "outputs": [
    {
     "name": "stdout",
     "output_type": "stream",
     "text": [
      "10\n"
     ]
    }
   ],
   "source": [
    "p=p-5\n",
    "print(p)"
   ]
  },
  {
   "cell_type": "code",
   "execution_count": 41,
   "id": "139bbfb9",
   "metadata": {},
   "outputs": [
    {
     "name": "stdout",
     "output_type": "stream",
     "text": [
      "34\n"
     ]
    }
   ],
   "source": [
    "myVar=34\n",
    "print(myVar);"
   ]
  },
  {
   "cell_type": "code",
   "execution_count": 19,
   "id": "ca73931b",
   "metadata": {},
   "outputs": [
    {
     "name": "stdout",
     "output_type": "stream",
     "text": [
      "5\n"
     ]
    }
   ],
   "source": [
    "def change(x):\n",
    "    return x+2\n",
    "\n",
    "x=3\n",
    "x=change(x)\n",
    "print(x)"
   ]
  },
  {
   "cell_type": "code",
   "execution_count": 24,
   "id": "edc39d14",
   "metadata": {},
   "outputs": [
    {
     "ename": "SyntaxError",
     "evalue": "invalid syntax (<ipython-input-24-78108211f66d>, line 1)",
     "output_type": "error",
     "traceback": [
      "\u001b[1;36m  File \u001b[1;32m\"<ipython-input-24-78108211f66d>\"\u001b[1;36m, line \u001b[1;32m1\u001b[0m\n\u001b[1;33m    print(\"hi /\"hello/\" \")\u001b[0m\n\u001b[1;37m                ^\u001b[0m\n\u001b[1;31mSyntaxError\u001b[0m\u001b[1;31m:\u001b[0m invalid syntax\n"
     ]
    }
   ],
   "source": [
    "print(\"hi \\\"hello\\\" \")"
   ]
  },
  {
   "cell_type": "code",
   "execution_count": 32,
   "id": "83cd1d2a",
   "metadata": {},
   "outputs": [
    {
     "name": "stdout",
     "output_type": "stream",
     "text": [
      "HelloWorld\n"
     ]
    }
   ],
   "source": [
    "print(\"Hello\"+\"World\")"
   ]
  },
  {
   "cell_type": "code",
   "execution_count": 33,
   "id": "b9693f5b",
   "metadata": {},
   "outputs": [
    {
     "name": "stdout",
     "output_type": "stream",
     "text": [
      "Enter your first name\n",
      "Cristina\n",
      "Hello Cristina\n"
     ]
    }
   ],
   "source": [
    "print(\"Enter your first name\")\n",
    "print(\"Hello\", input())"
   ]
  },
  {
   "cell_type": "code",
   "execution_count": 34,
   "id": "f8543462",
   "metadata": {},
   "outputs": [
    {
     "name": "stdout",
     "output_type": "stream",
     "text": [
      "foo\n"
     ]
    }
   ],
   "source": [
    "x=5\n",
    "y=7\n",
    "if x < y: \n",
    "    print('foo')\n",
    "elif y < x: \n",
    "    print('bar')\n",
    "else: \n",
    "    print('baz')\n",
    "\n",
    "\n",
    "\n",
    "\n",
    "\n",
    "\n"
   ]
  },
  {
   "cell_type": "code",
   "execution_count": 37,
   "id": "fddd7445",
   "metadata": {},
   "outputs": [],
   "source": [
    "if x < y: \n",
    "    if x > 10: \n",
    "    print('foo')"
   ]
  },
  {
   "cell_type": "code",
   "execution_count": 39,
   "id": "dc7684a0",
   "metadata": {},
   "outputs": [
    {
     "name": "stdout",
     "output_type": "stream",
     "text": [
      "foo\n"
     ]
    }
   ],
   "source": [
    "if x < y: print('foo') \n",
    "else: print('bar')"
   ]
  },
  {
   "cell_type": "code",
   "execution_count": 40,
   "id": "084a064f",
   "metadata": {},
   "outputs": [
    {
     "name": "stdout",
     "output_type": "stream",
     "text": [
      "foo\n"
     ]
    }
   ],
   "source": [
    "if x < y: \n",
    "    print('foo');"
   ]
  },
  {
   "cell_type": "code",
   "execution_count": null,
   "id": "f842fc47",
   "metadata": {},
   "outputs": [],
   "source": [
    "if (input(\"Do you want to continue? Y/N\") != 'Y'):\n",
    "    print (\"Quitting\")\n",
    "else:\n",
    "    print (\"Continuing\")\n"
   ]
  }
 ],
 "metadata": {
  "kernelspec": {
   "display_name": "Python 3",
   "language": "python",
   "name": "python3"
  },
  "language_info": {
   "codemirror_mode": {
    "name": "ipython",
    "version": 3
   },
   "file_extension": ".py",
   "mimetype": "text/x-python",
   "name": "python",
   "nbconvert_exporter": "python",
   "pygments_lexer": "ipython3",
   "version": "3.8.8"
  }
 },
 "nbformat": 4,
 "nbformat_minor": 5
}
