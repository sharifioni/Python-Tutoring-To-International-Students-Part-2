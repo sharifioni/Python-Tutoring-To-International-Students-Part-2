{
 "cells": [
  {
   "cell_type": "markdown",
   "id": "f6020bbf",
   "metadata": {},
   "source": [
    "# Python\n",
    "* Every programming language has some rules that you follow to write code which is called syntax\n",
    "* Every language has some functions called built in functions to perform some specific task\n",
    "* print() function that is used to display any output"
   ]
  },
  {
   "cell_type": "markdown",
   "id": "acbae8d9",
   "metadata": {},
   "source": [
    "# print function\n",
    "* paranthesis\n",
    "* print(values)\n",
    "* what ever value you provide inside print function is displayed in output screen\n",
    "* inside print function, you can provide different values separated by commas"
   ]
  },
  {
   "cell_type": "code",
   "execution_count": 2,
   "id": "f2b7cbd0",
   "metadata": {
    "scrolled": true
   },
   "outputs": [
    {
     "name": "stdout",
     "output_type": "stream",
     "text": [
      "We are learning python\n",
      "Monday Tuesday Wednesday\n"
     ]
    }
   ],
   "source": [
    "print(\"We are learning python\")\n",
    "print(\"Monday\", \"Tuesday\", \"Wednesday\")"
   ]
  },
  {
   "cell_type": "markdown",
   "id": "a7fec2c1",
   "metadata": {},
   "source": [
    "# Data types\n",
    "* string      str       Any thing that you write inside double quotes or single quotes is a string. e.g: \"Hello\"\n",
    "* integer     int       any number without decimal part.   34, 75, 0, -50\n",
    "* float       float     any number that has decimal part   32.5, 87.65, 0.05, -1.5\n",
    "* boolean     bool      True, False"
   ]
  },
  {
   "cell_type": "code",
   "execution_count": 5,
   "id": "964d5c63",
   "metadata": {},
   "outputs": [
    {
     "name": "stdout",
     "output_type": "stream",
     "text": [
      "Hello 56 87.65 True\n"
     ]
    }
   ],
   "source": [
    "print(\"Hello\", 56, 87.65, True)"
   ]
  },
  {
   "cell_type": "markdown",
   "id": "34e3bd77",
   "metadata": {},
   "source": [
    "# Types of Errors\n",
    "* Syntax Error\n",
    "* Name Error\n",
    "* Value Error\n",
    "* Type Error"
   ]
  },
  {
   "cell_type": "code",
   "execution_count": 11,
   "id": "67babb0d",
   "metadata": {},
   "outputs": [
    {
     "name": "stdout",
     "output_type": "stream",
     "text": [
      "Python\n",
      "60\n"
     ]
    }
   ],
   "source": [
    "print(\"Python\")\n",
    "print(45 + 15)"
   ]
  },
  {
   "cell_type": "markdown",
   "id": "6e0a903a",
   "metadata": {},
   "source": [
    "# Variables\n",
    "* Variables are used to store / hold a value with a name\n",
    "* rules to give variable names\n",
    "* 1: variable names should only consist of alphabets, underscore or digits\n",
    "* 2: First letter of your variable name cannot be a digit\n",
    "* 3: it will not include space and it should not be a python keyword"
   ]
  },
  {
   "cell_type": "code",
   "execution_count": 1,
   "id": "30237355",
   "metadata": {},
   "outputs": [
    {
     "name": "stdout",
     "output_type": "stream",
     "text": [
      "Peter\n"
     ]
    }
   ],
   "source": [
    "fname = 'Peter'\n",
    "print(fname)"
   ]
  },
  {
   "cell_type": "markdown",
   "id": "82924810",
   "metadata": {},
   "source": [
    "# Arithmetic Operators\n",
    "* They can be used between integers and floats (numbers)\n",
    "* Addition\n",
    "* Subtraction\n",
    "* Multiplication\n",
    "* Division\n",
    "* Power / Exponentiation\n",
    "* Remainder\n",
    "* Floor division"
   ]
  },
  {
   "cell_type": "code",
   "execution_count": null,
   "id": "5377be8a",
   "metadata": {},
   "outputs": [],
   "source": []
  }
 ],
 "metadata": {
  "kernelspec": {
   "display_name": "Python 3 (ipykernel)",
   "language": "python",
   "name": "python3"
  },
  "language_info": {
   "codemirror_mode": {
    "name": "ipython",
    "version": 3
   },
   "file_extension": ".py",
   "mimetype": "text/x-python",
   "name": "python",
   "nbconvert_exporter": "python",
   "pygments_lexer": "ipython3",
   "version": "3.9.7"
  }
 },
 "nbformat": 4,
 "nbformat_minor": 5
}
