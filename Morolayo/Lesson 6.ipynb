{
 "cells": [
  {
   "cell_type": "markdown",
   "id": "af01c2ab",
   "metadata": {},
   "source": [
    "# string methods\n",
    "* join\n",
    "* lower\n",
    "* upper\n",
    "* strip\n",
    "* split "
   ]
  },
  {
   "cell_type": "code",
   "execution_count": 1,
   "id": "8fcc13b2",
   "metadata": {},
   "outputs": [
    {
     "name": "stdout",
     "output_type": "stream",
     "text": [
      "we are learning python\n"
     ]
    }
   ],
   "source": [
    "# lower\n",
    "# Converts all of the characters into lower case letters\n",
    "sentence = \"WE are LEARNING Python\"\n",
    "print(sentence.lower())"
   ]
  },
  {
   "cell_type": "code",
   "execution_count": 2,
   "id": "bbe51564",
   "metadata": {},
   "outputs": [
    {
     "name": "stdout",
     "output_type": "stream",
     "text": [
      "WE ARE LEARNING PYTHON\n"
     ]
    }
   ],
   "source": [
    "# upper\n",
    "# Converts all of the characters into upper case letters\n",
    "sentence = \"WE are learning python\"\n",
    "print(sentence.upper())"
   ]
  },
  {
   "cell_type": "code",
   "execution_count": 4,
   "id": "e267626b",
   "metadata": {},
   "outputs": [
    {
     "name": "stdout",
     "output_type": "stream",
     "text": [
      "   WE are learning python   \n",
      "WE are learning python\n",
      "   WE are learning python\n",
      "WE are learning python   \n"
     ]
    }
   ],
   "source": [
    "# strip\n",
    "# it removes extra spaces at the start and at the end of the string\n",
    "sentence = \"   WE are learning python   \"\n",
    "print(sentence)\n",
    "print(sentence.strip())\n",
    "print(sentence.rstrip()) # removes extra spaces at the end\n",
    "print(sentence.lstrip()) # removes extra spaces at the beginning"
   ]
  },
  {
   "cell_type": "code",
   "execution_count": 9,
   "id": "84c256d6",
   "metadata": {},
   "outputs": [
    {
     "name": "stdout",
     "output_type": "stream",
     "text": [
      "['Apple', 'Banana', 'Orange', 'Peach', 'Mango']\n",
      "['Apple', 'Banana', 'Orange', 'Peach', 'Mango']\n"
     ]
    }
   ],
   "source": [
    "# split\n",
    "# string.split(value)  it splits your string to a list based on some value and returns that list. \n",
    "#                      by default value be a space\n",
    "fruits = \"Apple Banana Orange Peach Mango\"\n",
    "print(fruits.split())\n",
    "fruits = \"Apple, Banana, Orange, Peach, Mango\"\n",
    "print(fruits.split(', '))"
   ]
  },
  {
   "cell_type": "code",
   "execution_count": 13,
   "id": "522d5d3d",
   "metadata": {},
   "outputs": [
    {
     "name": "stdout",
     "output_type": "stream",
     "text": [
      "Apple, Banana, Orange, Peach, Mango\n",
      "a, b, c, d, e, f, g, h, i, j, k, l, m, n, o, p, q, r, s, t, u, v, w, x, y, z\n"
     ]
    }
   ],
   "source": [
    "# join\n",
    "# string.join(iterable) # it joins your iterable into a string\n",
    "fruits = ['Apple', 'Banana', 'Orange', 'Peach', 'Mango']\n",
    "print(', '.join(fruits))\n",
    "letters ='abcdefghijklmnopqrstuvwxyz'\n",
    "print(', '.join(letters))"
   ]
  },
  {
   "cell_type": "markdown",
   "id": "9b395bbe",
   "metadata": {},
   "source": [
    "# List methods\n",
    "* append\n",
    "* clear\n",
    "* copy\n",
    "* index\n",
    "* insert\n",
    "* pop\n",
    "* remove\n",
    "* sort\n",
    "* count\n",
    "* extend\n",
    "* reverse"
   ]
  },
  {
   "cell_type": "code",
   "execution_count": 17,
   "id": "2aa64f6b",
   "metadata": {},
   "outputs": [
    {
     "name": "stdout",
     "output_type": "stream",
     "text": [
      "['Apple', 'Banana', 'Orange', 'Peach', 'Mango', 'Water melon']\n",
      "['Apple', 'Banana', 'Orange', 'Peach', 'Mango', 'Water melon', ['Water melon', 'Guava']]\n"
     ]
    }
   ],
   "source": [
    "# append\n",
    "# list.append(value)  value can be of any data type, it is added at the end of the list\n",
    "fruits = ['Apple', 'Banana', 'Orange', 'Peach', 'Mango']\n",
    "fruits.append(\"Water melon\")\n",
    "print(fruits)\n",
    "fruits.append([\"Water melon\", 'Guava'])\n",
    "print(fruits)"
   ]
  },
  {
   "cell_type": "code",
   "execution_count": 23,
   "id": "69fedad6",
   "metadata": {},
   "outputs": [
    {
     "name": "stdout",
     "output_type": "stream",
     "text": [
      "['Apple', 'Banana', 'Orange', 'Peach', 'Mango', 'A', 'p', 'p', 'l', 'e', 'Apple', 'Guava']\n"
     ]
    }
   ],
   "source": [
    "# extend\n",
    "# list.extend(iterable)  each element / item  is extended / added separately at the end of the list\n",
    "fruits = ['Apple', 'Banana', 'Orange', 'Peach', 'Mango']\n",
    "fruits.extend(\"Apple\")\n",
    "fruits.extend([\"Apple\", 'Guava'])\n",
    "print(fruits)\n"
   ]
  },
  {
   "cell_type": "code",
   "execution_count": 29,
   "id": "ac14bb91",
   "metadata": {},
   "outputs": [
    {
     "name": "stdout",
     "output_type": "stream",
     "text": [
      "[]\n"
     ]
    }
   ],
   "source": [
    "# clear\n",
    "# list.clear() it clears the list and leave it empty\n",
    "fruits = ['Apple', 'Banana', 'Orange', 'Peach', 'Mango']\n",
    "fruits.clear()\n",
    "print(fruits)\n"
   ]
  },
  {
   "cell_type": "code",
   "execution_count": 27,
   "id": "c9685965",
   "metadata": {},
   "outputs": [
    {
     "name": "stdout",
     "output_type": "stream",
     "text": [
      "['Apple', 'Banana', 'Orange', 'Peach', 'Mango']\n",
      "['Apple', 'Banana', 'Orange', 'Peach', 'Mango']\n",
      "['Apple', 'Banana', 'Orange', 'Peach', 'Mango', 'Guava']\n",
      "['Apple', 'Banana', 'Orange', 'Peach', 'Mango', 'Guava']\n"
     ]
    }
   ],
   "source": [
    "fruits = ['Apple', 'Banana', 'Orange', 'Peach', 'Mango']\n",
    "\n",
    "list1 = fruits\n",
    "\n",
    "print(fruits)\n",
    "print(list1)\n",
    "\n",
    "list1.append(\"Guava\")\n",
    "print(list1)\n",
    "print(fruits)"
   ]
  },
  {
   "cell_type": "code",
   "execution_count": 31,
   "id": "59e950e6",
   "metadata": {},
   "outputs": [
    {
     "name": "stdout",
     "output_type": "stream",
     "text": [
      "['Apple', 'Banana', 'Orange', 'Peach', 'Mango']\n",
      "['Apple', 'Banana', 'Orange', 'Peach', 'Mango']\n",
      "['Apple', 'Banana', 'Orange', 'Peach', 'Mango', 'Guava']\n",
      "['Apple', 'Banana', 'Orange', 'Peach', 'Mango']\n"
     ]
    }
   ],
   "source": [
    "# copy\n",
    "# list.copy() it returns a copy of the list\n",
    "fruits = ['Apple', 'Banana', 'Orange', 'Peach', 'Mango']\n",
    "list1 = fruits.copy()\n",
    "print(fruits)\n",
    "print(list1)\n",
    "\n",
    "list1.append(\"Guava\")\n",
    "print(list1)\n",
    "print(fruits)"
   ]
  },
  {
   "cell_type": "code",
   "execution_count": 35,
   "id": "eb501401",
   "metadata": {},
   "outputs": [
    {
     "name": "stdout",
     "output_type": "stream",
     "text": [
      "4\n"
     ]
    }
   ],
   "source": [
    "# index\n",
    "# list.index(item)  index method returns the index of the item provided \n",
    "#                   if the item is not present in the list, it will raise an error / exception\n",
    "fruits = ['Apple', 'Banana', 'Orange', 'Peach', 'Mango']\n",
    "print(fruits.index('Mango'))\n",
    "#print(fruits.index('Watermelon'))  ValueError"
   ]
  },
  {
   "cell_type": "code",
   "execution_count": 37,
   "id": "0ae5fc00",
   "metadata": {},
   "outputs": [
    {
     "name": "stdout",
     "output_type": "stream",
     "text": [
      "None\n",
      "['Apple', 'Water Melon', 'Banana', 'Orange', 'Peach', 'Mango']\n"
     ]
    }
   ],
   "source": [
    "# insert \n",
    "# list.insert(index, value)  it iserts a value at a specified index\n",
    "fruits = ['Apple', 'Banana', 'Orange', 'Peach', 'Mango']\n",
    "fruits.insert(1, 'Water Melon')\n",
    "print(fruits)\n"
   ]
  },
  {
   "cell_type": "code",
   "execution_count": 41,
   "id": "a4329db4",
   "metadata": {},
   "outputs": [
    {
     "name": "stdout",
     "output_type": "stream",
     "text": [
      "['Apple', 'Banana', 'Orange', 'Peach']\n"
     ]
    }
   ],
   "source": [
    "# pop\n",
    "# list.pop(index)  it removes an item from the list based on index\n",
    "#                  if the index is not provided, it will remove the last item from the list\n",
    "#                  it returns the item that is popped out\n",
    "fruits = ['Apple', 'Banana', 'Orange', 'Peach', 'Mango']\n",
    "fruits.pop()\n",
    "print(fruits)"
   ]
  },
  {
   "cell_type": "code",
   "execution_count": 44,
   "id": "4f3e9060",
   "metadata": {},
   "outputs": [
    {
     "name": "stdout",
     "output_type": "stream",
     "text": [
      "['Apple', 'Banana', 'Peach', 'Mango']\n"
     ]
    }
   ],
   "source": [
    "# pop\n",
    "# list.pop(index)  it removes an item from the list based on index\n",
    "#                  if the index is not provided, it will remove the last item from the list\n",
    "#                  it returns the item that is popped out\n",
    "fruits = ['Apple', 'Banana', 'Orange', 'Peach', 'Mango']\n",
    "fruits.pop(2)\n",
    "# fruits.pop(7)  error index out of range\n",
    "print(fruits)"
   ]
  },
  {
   "cell_type": "code",
   "execution_count": 47,
   "id": "67cf040e",
   "metadata": {},
   "outputs": [
    {
     "name": "stdout",
     "output_type": "stream",
     "text": [
      "['Apple', 'Orange', 'Peach', 'Mango']\n"
     ]
    }
   ],
   "source": [
    "# remove\n",
    "# list.remove(item)  it removes an item from the list based on some item / value\n",
    "#                  if the item is not present in the list, it will give us error\n",
    "fruits = ['Apple', 'Banana', 'Orange', 'Peach', 'Mango']\n",
    "fruits.remove('banana'.capitalize())\n",
    "print(fruits)"
   ]
  },
  {
   "cell_type": "code",
   "execution_count": 48,
   "id": "9c82939d",
   "metadata": {},
   "outputs": [
    {
     "ename": "ValueError",
     "evalue": "list.remove(x): x not in list",
     "output_type": "error",
     "traceback": [
      "\u001b[1;31m---------------------------------------------------------------------------\u001b[0m",
      "\u001b[1;31mValueError\u001b[0m                                Traceback (most recent call last)",
      "\u001b[1;32m~\\AppData\\Local\\Temp/ipykernel_7556/3205671174.py\u001b[0m in \u001b[0;36m<module>\u001b[1;34m\u001b[0m\n\u001b[0;32m      3\u001b[0m \u001b[1;31m#                  if the item is not present in the list, it will give us error\u001b[0m\u001b[1;33m\u001b[0m\u001b[1;33m\u001b[0m\u001b[0m\n\u001b[0;32m      4\u001b[0m \u001b[0mfruits\u001b[0m \u001b[1;33m=\u001b[0m \u001b[1;33m[\u001b[0m\u001b[1;34m'Apple'\u001b[0m\u001b[1;33m,\u001b[0m \u001b[1;34m'Banana'\u001b[0m\u001b[1;33m,\u001b[0m \u001b[1;34m'Orange'\u001b[0m\u001b[1;33m,\u001b[0m \u001b[1;34m'Peach'\u001b[0m\u001b[1;33m,\u001b[0m \u001b[1;34m'Mango'\u001b[0m\u001b[1;33m]\u001b[0m\u001b[1;33m\u001b[0m\u001b[1;33m\u001b[0m\u001b[0m\n\u001b[1;32m----> 5\u001b[1;33m \u001b[0mfruits\u001b[0m\u001b[1;33m.\u001b[0m\u001b[0mremove\u001b[0m\u001b[1;33m(\u001b[0m\u001b[1;34m'guava'\u001b[0m\u001b[1;33m)\u001b[0m\u001b[1;33m\u001b[0m\u001b[1;33m\u001b[0m\u001b[0m\n\u001b[0m\u001b[0;32m      6\u001b[0m \u001b[0mprint\u001b[0m\u001b[1;33m(\u001b[0m\u001b[0mfruits\u001b[0m\u001b[1;33m)\u001b[0m\u001b[1;33m\u001b[0m\u001b[1;33m\u001b[0m\u001b[0m\n",
      "\u001b[1;31mValueError\u001b[0m: list.remove(x): x not in list"
     ]
    }
   ],
   "source": [
    "# remove\n",
    "# list.remove(item)  it removes an item from the list based on some item / value\n",
    "#                  if the item is not present in the list, it will give us error\n",
    "fruits = ['Apple', 'Banana', 'Orange', 'Peach', 'Mango']\n",
    "fruits.remove('guava')\n",
    "print(fruits)"
   ]
  },
  {
   "cell_type": "code",
   "execution_count": 51,
   "id": "155ec267",
   "metadata": {},
   "outputs": [
    {
     "name": "stdout",
     "output_type": "stream",
     "text": [
      "3\n",
      "\n"
     ]
    }
   ],
   "source": [
    "# count\n",
    "# list.count(value)  # returns an integer of how many time the value has occured in the list\n",
    "num = [1, 1, 1, 2, 2, 3, 3, 3, 4, 5, 6, 7, 7, 7, 7]\n",
    "print(num.count(1))\n",
    "print()"
   ]
  },
  {
   "cell_type": "code",
   "execution_count": 54,
   "id": "9a3c63ac",
   "metadata": {},
   "outputs": [
    {
     "name": "stdout",
     "output_type": "stream",
     "text": [
      "['Mango', 'Peach', 'Orange', 'Banana', 'Apple']\n"
     ]
    }
   ],
   "source": [
    "# reverse\n",
    "# list.reverse() it reverses your list\n",
    "fruits = ['Apple', 'Banana', 'Orange', 'Peach', 'Mango']\n",
    "fruits.reverse()\n",
    "print(fruits)"
   ]
  },
  {
   "cell_type": "code",
   "execution_count": 55,
   "id": "66478aa5",
   "metadata": {},
   "outputs": [
    {
     "name": "stdout",
     "output_type": "stream",
     "text": [
      "[0, 11, 12, 15, 67, 98]\n"
     ]
    }
   ],
   "source": [
    "# sort method\n",
    "# list.sort(reverse) #reverse is optional. it is assigned a boolean value. by default it is False\n",
    "num = [ 67, 12, 15, 11, 0, 98]\n",
    "num.sort()  #sort in ascending order, reverse = False by default\n",
    "print(num)"
   ]
  },
  {
   "cell_type": "code",
   "execution_count": 56,
   "id": "4e7dd44e",
   "metadata": {},
   "outputs": [
    {
     "name": "stdout",
     "output_type": "stream",
     "text": [
      "[98, 67, 15, 12, 11, 0]\n"
     ]
    }
   ],
   "source": [
    "# sort method\n",
    "# list.sort(reverse) #reverse is optional. it is assigned a boolean value. by default it is False\n",
    "num = [ 67, 12, 15, 11, 0, 98]\n",
    "num.sort(reverse = True)  #sorts in descending order\n",
    "print(num)"
   ]
  },
  {
   "cell_type": "code",
   "execution_count": 57,
   "id": "502ffd74",
   "metadata": {},
   "outputs": [
    {
     "name": "stdout",
     "output_type": "stream",
     "text": [
      "['Apple', 'Banana', 'Mango', 'Orange', 'Peach']\n"
     ]
    }
   ],
   "source": [
    "fruits = ['Apple', 'Banana', 'Orange', 'Peach', 'Mango']\n",
    "fruits.sort()\n",
    "print(fruits)"
   ]
  },
  {
   "cell_type": "code",
   "execution_count": 58,
   "id": "cd5e0ff7",
   "metadata": {},
   "outputs": [
    {
     "name": "stdout",
     "output_type": "stream",
     "text": [
      "['Peach', 'Orange', 'Mango', 'Banana', 'Apple']\n"
     ]
    }
   ],
   "source": [
    "fruits = ['Apple', 'Banana', 'Orange', 'Peach', 'Mango']\n",
    "fruits.sort(reverse = True)\n",
    "print(fruits)"
   ]
  },
  {
   "cell_type": "markdown",
   "id": "5837cd86",
   "metadata": {},
   "source": [
    "# Tuple methods\n",
    "* count\n",
    "* index"
   ]
  },
  {
   "cell_type": "code",
   "execution_count": null,
   "id": "64c40c9e",
   "metadata": {},
   "outputs": [],
   "source": []
  }
 ],
 "metadata": {
  "kernelspec": {
   "display_name": "Python 3 (ipykernel)",
   "language": "python",
   "name": "python3"
  },
  "language_info": {
   "codemirror_mode": {
    "name": "ipython",
    "version": 3
   },
   "file_extension": ".py",
   "mimetype": "text/x-python",
   "name": "python",
   "nbconvert_exporter": "python",
   "pygments_lexer": "ipython3",
   "version": "3.9.7"
  }
 },
 "nbformat": 4,
 "nbformat_minor": 5
}
