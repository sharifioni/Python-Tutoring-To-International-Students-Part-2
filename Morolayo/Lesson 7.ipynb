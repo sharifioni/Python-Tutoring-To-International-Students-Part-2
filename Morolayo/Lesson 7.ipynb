{
 "cells": [
  {
   "cell_type": "markdown",
   "id": "188e5e93",
   "metadata": {},
   "source": [
    "# List Exercises"
   ]
  },
  {
   "cell_type": "code",
   "execution_count": null,
   "id": "8cee9884",
   "metadata": {},
   "outputs": [],
   "source": [
    "# Exercise 1 : Reverse the given list\n",
    "list1 = [100, 200, 300, 400, 500]"
   ]
  },
  {
   "cell_type": "code",
   "execution_count": null,
   "id": "3198ca06",
   "metadata": {},
   "outputs": [],
   "source": [
    "# Exercise 2: Turn every item of a list into its square\n",
    "numbers = [1, 2, 3, 4, 5, 6, 7]"
   ]
  },
  {
   "cell_type": "code",
   "execution_count": null,
   "id": "1f1c050b",
   "metadata": {},
   "outputs": [],
   "source": [
    "# Exercise 3: Remove all occurrences of a specific item from a list.\n",
    "list1 = [5, 20, 15, 20, 25, 50, 20]"
   ]
  },
  {
   "cell_type": "code",
   "execution_count": null,
   "id": "fde32ccd",
   "metadata": {},
   "outputs": [],
   "source": [
    "# Exercise 4:\n",
    "# convert following list into a list containing only the unique values in sorted form\n",
    "list1 = [10 ,1 ,1, 7, 7, 7, 5, 5, 15, 15, 15, 3, 3, 10]"
   ]
  },
  {
   "cell_type": "code",
   "execution_count": 11,
   "id": "d1c05418",
   "metadata": {},
   "outputs": [
    {
     "name": "stdout",
     "output_type": "stream",
     "text": [
      "Length of both lists or every second element of both lists are not same\n"
     ]
    }
   ],
   "source": [
    "# submission file Exercise 1:\n",
    "list1 = [99,1,123,3]\n",
    "list2 = [0,1,2,5]\n",
    "# their length should be\n",
    "# every second element in the list should be same\n",
    "# len(iterable)   it will return the length of the iterable\n",
    "x = len(list1)\n",
    "y = len(list2)\n",
    "\n",
    "result = False\n",
    "\n",
    "if x == y:\n",
    "    for i in range(1, x, 2):\n",
    "        if list1 [i] == list2[i]:\n",
    "            result = True\n",
    "            \n",
    "        else:\n",
    "            result = False\n",
    "            break\n",
    "            \n",
    "if result == True:\n",
    "    print(\"Length of both lists and every second element of both lists are same\")\n",
    "    \n",
    "else:\n",
    "    print(\"Length of both lists or every second element of both lists are not same\")\n",
    "            \n",
    "        \n"
   ]
  },
  {
   "cell_type": "code",
   "execution_count": null,
   "id": "5035daee",
   "metadata": {},
   "outputs": [],
   "source": []
  },
  {
   "cell_type": "code",
   "execution_count": 1,
   "id": "4784cb05",
   "metadata": {},
   "outputs": [
    {
     "name": "stdout",
     "output_type": "stream",
     "text": [
      "99\n",
      "1\n",
      "123\n",
      "3\n"
     ]
    }
   ],
   "source": [
    "list1 = [99,1,123,3]\n",
    "for i in list1:\n",
    "    print(i)"
   ]
  },
  {
   "cell_type": "code",
   "execution_count": 8,
   "id": "3f4dd8d3",
   "metadata": {},
   "outputs": [
    {
     "name": "stdout",
     "output_type": "stream",
     "text": [
      "25\n",
      "50\n"
     ]
    }
   ],
   "source": [
    "list1 = [99,25,123,50]\n",
    "for i in range(1, len(list1), 2):\n",
    "    print(list1[i])"
   ]
  },
  {
   "cell_type": "code",
   "execution_count": null,
   "id": "73f89427",
   "metadata": {},
   "outputs": [],
   "source": [
    "list1 = [1,2,3,3,'3']\n",
    "# Hint : empty list\n",
    "#       iterate over list1 using for loop\n",
    "#       append odd values inside that empty from list1\n",
    "#       ignore values that are not numeric"
   ]
  },
  {
   "cell_type": "markdown",
   "id": "587b9c88",
   "metadata": {},
   "source": [
    "# String Exercises\n"
   ]
  },
  {
   "cell_type": "code",
   "execution_count": null,
   "id": "19aabb47",
   "metadata": {},
   "outputs": [],
   "source": [
    "# Exercise 1: Create a string made of the first, middle and last character\n",
    "str1 = \"James\"\n",
    "# output: Jms\n"
   ]
  },
  {
   "cell_type": "code",
   "execution_count": null,
   "id": "7142c788",
   "metadata": {},
   "outputs": [],
   "source": [
    "# Exercise 2: Create a string made of the middle three characters\n",
    "str1 = \"JhonDipPeta\"\n",
    "# output: Dip\n"
   ]
  },
  {
   "cell_type": "code",
   "execution_count": null,
   "id": "9177fb59",
   "metadata": {},
   "outputs": [],
   "source": [
    "# Exercise 3: Arrange string characters such that lowercase letters should come first\n",
    "str1 = 'PyNaTive'\n",
    "# Output: yaivePNT"
   ]
  },
  {
   "cell_type": "code",
   "execution_count": 12,
   "id": "16e02ce7",
   "metadata": {},
   "outputs": [
    {
     "name": "stdout",
     "output_type": "stream",
     "text": [
      "Chars = 8\n",
      "Digits = 3\n",
      "Symbols = 4\n"
     ]
    }
   ],
   "source": [
    "# Exercise 4: Count all letters, digits, and special symbols from a given string\n",
    "str1 = \"P@#yn26at^&i5ve\"\n",
    "\n",
    "\"\"\"OUTPUT:\n",
    "Total counts of chars, digits, and symbols \n",
    "\n",
    "Chars = 8 \n",
    "Digits = 3 \n",
    "Symbol = 4\n",
    "\n",
    "\"\"\"\n",
    "char = 0\n",
    "digits = 0\n",
    "symbols = 0\n",
    "for letter in str1:\n",
    "    if letter.isalpha():\n",
    "        char = char + 1\n",
    "        \n",
    "    elif letter.isdigit():\n",
    "        digits = digits + 1\n",
    "        \n",
    "    else:\n",
    "        symbols = symbols + 1\n",
    "        \n",
    "print(\"Chars =\", char)\n",
    "print(\"Digits =\", digits)\n",
    "print(\"Symbols =\", symbols)\n",
    "\n",
    "        \n",
    "    "
   ]
  },
  {
   "cell_type": "code",
   "execution_count": null,
   "id": "378da0fa",
   "metadata": {},
   "outputs": [],
   "source": [
    "# Exercise 5: Split a string on hyphens\n",
    "str1 = \"Emma-is-a-data-scientist\"\n",
    "\n",
    "\"\"\"EXPECTED OUTPUT:\n",
    "Emma\n",
    "is\n",
    "a\n",
    "data\n",
    "scientist\n",
    "\"\"\""
   ]
  },
  {
   "cell_type": "code",
   "execution_count": null,
   "id": "beb00d85",
   "metadata": {},
   "outputs": [],
   "source": [
    "# Exercise 6: Removal all characters from a string except integers\n",
    "str1 = 'I am 25 years and 10 months old'\n",
    "\n",
    "\"\"\"EXPECTED OUTPUT\n",
    "2510\n",
    "\"\"\""
   ]
  }
 ],
 "metadata": {
  "kernelspec": {
   "display_name": "Python 3 (ipykernel)",
   "language": "python",
   "name": "python3"
  },
  "language_info": {
   "codemirror_mode": {
    "name": "ipython",
    "version": 3
   },
   "file_extension": ".py",
   "mimetype": "text/x-python",
   "name": "python",
   "nbconvert_exporter": "python",
   "pygments_lexer": "ipython3",
   "version": "3.9.7"
  }
 },
 "nbformat": 4,
 "nbformat_minor": 5
}
