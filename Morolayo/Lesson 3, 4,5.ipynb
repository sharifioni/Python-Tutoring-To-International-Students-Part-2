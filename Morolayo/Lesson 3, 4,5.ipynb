{
 "cells": [
  {
   "cell_type": "markdown",
   "id": "95eb3a97",
   "metadata": {},
   "source": [
    "# Logical operators\n",
    "* and , or , not"
   ]
  },
  {
   "cell_type": "markdown",
   "id": "1f5831c5",
   "metadata": {},
   "source": [
    "# Type Casting\n",
    "* Conversting one data type into another"
   ]
  },
  {
   "cell_type": "code",
   "execution_count": 2,
   "id": "f30e0dbb",
   "metadata": {},
   "outputs": [
    {
     "name": "stdout",
     "output_type": "stream",
     "text": [
      "90\n"
     ]
    }
   ],
   "source": [
    "a = '75'\n",
    "print(int(a) + 15)"
   ]
  },
  {
   "cell_type": "code",
   "execution_count": 4,
   "id": "7edec707",
   "metadata": {},
   "outputs": [
    {
     "name": "stdout",
     "output_type": "stream",
     "text": [
      "7515\n",
      "(45, 75, 85)\n"
     ]
    }
   ],
   "source": [
    "# When we use + operator between two strings, it is called string concatenation\n",
    "a = '75'\n",
    "print(a + str(15))\n",
    "list1 = [45, 75, 85]\n",
    "a = tuple(list1)\n",
    "print(a)"
   ]
  },
  {
   "cell_type": "markdown",
   "id": "b2fb07e7",
   "metadata": {},
   "source": [
    "# for loops\n",
    "* for loops is a definite loop (we know the number of iterations)\n",
    "* it is used with iterables (range, list, tuple, dictionary, strings, set)\n",
    "* for loop goes through each item of iterable until the last item\n",
    "* for variable_name in iterrable:\n",
    "    statements1\n",
    "    statement2\n",
    "    ........."
   ]
  },
  {
   "cell_type": "code",
   "execution_count": 5,
   "id": "6f16d6d8",
   "metadata": {},
   "outputs": [
    {
     "name": "stdout",
     "output_type": "stream",
     "text": [
      "P\n",
      "y\n",
      "t\n",
      "h\n",
      "o\n",
      "n\n"
     ]
    }
   ],
   "source": [
    "for i in \"Python\":\n",
    "    print(i)"
   ]
  },
  {
   "cell_type": "code",
   "execution_count": 6,
   "id": "a358b67b",
   "metadata": {},
   "outputs": [
    {
     "name": "stdout",
     "output_type": "stream",
     "text": [
      "20\n",
      "30\n",
      "40\n",
      "50\n",
      "60\n"
     ]
    }
   ],
   "source": [
    "for i in [20, 30, 40, 50, 60]:\n",
    "    print(i)"
   ]
  },
  {
   "cell_type": "code",
   "execution_count": 7,
   "id": "dd3303de",
   "metadata": {},
   "outputs": [
    {
     "name": "stdout",
     "output_type": "stream",
     "text": [
      "20\n",
      "30\n",
      "40\n",
      "50\n",
      "60\n"
     ]
    }
   ],
   "source": [
    "for i in (20, 30, 40, 50, 60):\n",
    "    print(i)"
   ]
  },
  {
   "cell_type": "code",
   "execution_count": null,
   "id": "87019c18",
   "metadata": {},
   "outputs": [],
   "source": [
    "# range(start, stop, step)\n",
    "# start, stop, step they all should be integer\n",
    "\n",
    "# When we provide a single value in range\n",
    "# range(10)  start = 0, stop = 10 , step = 1\n",
    "\n",
    "# When we provide two values in range\n",
    "# range(5, 21)  start = 5, stop = 21, step = 1\n",
    "\n",
    "# When we provide all values in range\n",
    "# range(5, 21, 2)  start = 5, stop = 21, step = 2"
   ]
  },
  {
   "cell_type": "code",
   "execution_count": 9,
   "id": "14557e73",
   "metadata": {},
   "outputs": [
    {
     "name": "stdout",
     "output_type": "stream",
     "text": [
      "0\n",
      "1\n",
      "2\n",
      "3\n",
      "4\n",
      "5\n",
      "6\n",
      "7\n",
      "8\n",
      "9\n",
      "10\n",
      "11\n",
      "12\n",
      "13\n",
      "14\n"
     ]
    }
   ],
   "source": [
    "for i in range(15):\n",
    "    print(i)"
   ]
  },
  {
   "cell_type": "code",
   "execution_count": 10,
   "id": "1c6a0dc7",
   "metadata": {},
   "outputs": [
    {
     "name": "stdout",
     "output_type": "stream",
     "text": [
      "5\n",
      "6\n",
      "7\n",
      "8\n",
      "9\n",
      "10\n",
      "11\n",
      "12\n",
      "13\n",
      "14\n",
      "15\n",
      "16\n",
      "17\n",
      "18\n",
      "19\n",
      "20\n"
     ]
    }
   ],
   "source": [
    "for i in range(5, 21):\n",
    "    print(i)"
   ]
  },
  {
   "cell_type": "code",
   "execution_count": 13,
   "id": "9835517f",
   "metadata": {},
   "outputs": [
    {
     "name": "stdout",
     "output_type": "stream",
     "text": [
      "0\n",
      "2\n",
      "4\n",
      "6\n",
      "8\n",
      "10\n",
      "12\n",
      "14\n",
      "16\n",
      "18\n",
      "20\n"
     ]
    }
   ],
   "source": [
    "for i in range(0, 21, 2):\n",
    "    print(i)"
   ]
  },
  {
   "cell_type": "code",
   "execution_count": 14,
   "id": "89c9a603",
   "metadata": {},
   "outputs": [],
   "source": [
    "# when the step value is positive, start value should be less than stop value\n",
    "for i in range(21, 0, 2):\n",
    "    print(i)"
   ]
  },
  {
   "cell_type": "code",
   "execution_count": 17,
   "id": "ba33a4b1",
   "metadata": {},
   "outputs": [
    {
     "name": "stdout",
     "output_type": "stream",
     "text": [
      "20\n",
      "18\n",
      "16\n",
      "14\n",
      "12\n",
      "10\n",
      "8\n",
      "6\n",
      "4\n",
      "2\n",
      "0\n",
      "-2\n",
      "-4\n"
     ]
    }
   ],
   "source": [
    "# when the step value is negative, start value should be greater than stop value\n",
    "for i in range(20, -5, -2):\n",
    "    print(i)"
   ]
  },
  {
   "cell_type": "code",
   "execution_count": 19,
   "id": "763dcbf9",
   "metadata": {},
   "outputs": [
    {
     "name": "stdout",
     "output_type": "stream",
     "text": [
      "Enter a number: 5\n",
      "5 * 1 = 5\n",
      "5 * 2 = 10\n",
      "5 * 10 = 50\n"
     ]
    }
   ],
   "source": [
    "number = int(input(\"Enter a number: \"))\n",
    "print(f\"{number} * {1} = {number*1}\")\n",
    "print(f\"{number} * {2} = {number*2}\")\n",
    "print(f\"{number} * {10} = {number*10}\")"
   ]
  },
  {
   "cell_type": "code",
   "execution_count": 22,
   "id": "0bffc140",
   "metadata": {},
   "outputs": [
    {
     "name": "stdout",
     "output_type": "stream",
     "text": [
      "Enter a number: 6\n",
      "6 * 1 = 6\n",
      "6 * 2 = 12\n",
      "6 * 3 = 18\n",
      "6 * 4 = 24\n",
      "6 * 5 = 30\n",
      "6 * 6 = 36\n",
      "6 * 7 = 42\n",
      "6 * 8 = 48\n",
      "6 * 9 = 54\n",
      "6 * 10 = 60\n"
     ]
    }
   ],
   "source": [
    "number = int(input(\"Enter a number: \"))\n",
    "for i in range(1, 11):\n",
    "    print(f\"{number} * {i} = {number*i}\")\n",
    "    "
   ]
  },
  {
   "cell_type": "code",
   "execution_count": 24,
   "id": "0ea3116f",
   "metadata": {},
   "outputs": [
    {
     "name": "stdout",
     "output_type": "stream",
     "text": [
      "Enter number 1: 25\n",
      "Enter number 2: 35\n",
      "Enter number 3: 66\n",
      "Enter number 4: 78\n",
      "Enter number 5: 45\n"
     ]
    }
   ],
   "source": [
    "for i in range(5):\n",
    "    number = int(input(f\"Enter number {i+1}: \"))"
   ]
  },
  {
   "cell_type": "code",
   "execution_count": 34,
   "id": "cbdb6b00",
   "metadata": {},
   "outputs": [
    {
     "name": "stdout",
     "output_type": "stream",
     "text": [
      "i is  0\n",
      "Enter a number 1: 20\n",
      "Current value of sum is 20\n",
      "i is  1\n",
      "Enter a number 2: 10\n",
      "Current value of sum is 30\n",
      "i is  2\n",
      "Enter a number 3: 15\n",
      "Current value of sum is 45\n",
      "i is  3\n",
      "Enter a number 4: 15\n",
      "Current value of sum is 60\n",
      "i is  4\n",
      "Enter a number 5: 15\n",
      "Current value of sum is 75\n",
      "75\n"
     ]
    }
   ],
   "source": [
    "# take 5 values and calculate their sum\n",
    "sum_values = 0\n",
    "for i in range(5):\n",
    "    print(\"i is \", i)\n",
    "    number = int(input(f\"Enter a number {i+1}: \"))\n",
    "    sum_values = sum_values + number\n",
    "    print(\"Current value of sum is\", sum_values)\n",
    "    \n",
    "print(sum_values)\n",
    "    \n",
    "    "
   ]
  },
  {
   "cell_type": "code",
   "execution_count": 25,
   "id": "e7e02479",
   "metadata": {},
   "outputs": [
    {
     "name": "stdout",
     "output_type": "stream",
     "text": [
      "135\n"
     ]
    }
   ],
   "source": []
  },
  {
   "cell_type": "markdown",
   "id": "008dfa34",
   "metadata": {},
   "source": [
    "# while loop\n",
    "* while loop is an indefinite loop (we don't know exactly, how many times it will iterate)\n",
    "* It runs based on a condition. It keeps running as long as condition is True\n",
    "* it stops when condition becomes false\n",
    "* while condition:\n",
    "    statement1\n",
    "    statement2\n",
    "    statement3\n",
    "    .........\n",
    "* Infinite loop (When condition never becomes false)"
   ]
  },
  {
   "cell_type": "code",
   "execution_count": 36,
   "id": "80fb4f6e",
   "metadata": {},
   "outputs": [
    {
     "name": "stdout",
     "output_type": "stream",
     "text": [
      "5\n",
      "6\n",
      "7\n",
      "8\n",
      "9\n",
      "10\n",
      "11\n",
      "12\n",
      "13\n",
      "14\n",
      "15\n",
      "16\n",
      "17\n",
      "18\n",
      "19\n"
     ]
    }
   ],
   "source": [
    "x = 5\n",
    "\n",
    "while x < 20:\n",
    "    print(x)\n",
    "    x = x + 1"
   ]
  },
  {
   "cell_type": "code",
   "execution_count": 58,
   "id": "4f809720",
   "metadata": {},
   "outputs": [
    {
     "name": "stdout",
     "output_type": "stream",
     "text": [
      "Enter any number: 121\n",
      "121\n",
      "121 is a palindrome\n"
     ]
    }
   ],
   "source": [
    "# palindrome\n",
    "# 5665 , 545, 373, 121\n",
    "number = int(input(\"Enter any number: \"))\n",
    "reverse = str(number)\n",
    "reverse = reverse[ : : -1]\n",
    "print(reverse)\n",
    "reverse = int(reverse)\n",
    "\n",
    "if reverse == number:\n",
    "    print(f\"{number} is a palindrome\")\n",
    "else:\n",
    "    print(f\"{number} is not a palindrome\")"
   ]
  },
  {
   "cell_type": "code",
   "execution_count": 75,
   "id": "d4013c64",
   "metadata": {},
   "outputs": [
    {
     "name": "stdout",
     "output_type": "stream",
     "text": [
      "Enter any number: 1000001\n",
      "Current value of reverse is 1\n",
      "Current value of number is 100000\n",
      "Current value of reverse is 10\n",
      "Current value of number is 10000\n",
      "Current value of reverse is 100\n",
      "Current value of number is 1000\n",
      "Current value of reverse is 1000\n",
      "Current value of number is 100\n",
      "Current value of reverse is 10000\n",
      "Current value of number is 10\n",
      "Current value of reverse is 100000\n",
      "Current value of number is 1\n",
      "Current value of reverse is 1000001\n",
      "Current value of number is 0\n",
      "1000001 is a palindrome\n"
     ]
    }
   ],
   "source": [
    "number = int(input(\"Enter any number: \"))\n",
    "x = number\n",
    "reverse = 0\n",
    "while number != 0:\n",
    "    reverse = number % 10 + reverse * 10\n",
    "    number = number // 10\n",
    "    print(\"Current value of reverse is\", reverse)\n",
    "    print(\"Current value of number is\", number)\n",
    "    \n",
    "if reverse == x:\n",
    "    print(f\"{x} is a palindrome\")\n",
    "else:\n",
    "    print(f\"{x} is not a palindrome\")"
   ]
  },
  {
   "cell_type": "code",
   "execution_count": 71,
   "id": "7592dea4",
   "metadata": {},
   "outputs": [
    {
     "name": "stdout",
     "output_type": "stream",
     "text": [
      "0\n"
     ]
    }
   ],
   "source": [
    "print(2 // 10)"
   ]
  },
  {
   "cell_type": "code",
   "execution_count": 54,
   "id": "be0a9000",
   "metadata": {},
   "outputs": [
    {
     "name": "stdout",
     "output_type": "stream",
     "text": [
      "syadremmus\n"
     ]
    }
   ],
   "source": [
    "a = \"summerdays\"\n",
    "print(a[  :  : -1])"
   ]
  },
  {
   "cell_type": "markdown",
   "id": "ea11fd3c",
   "metadata": {},
   "source": [
    "# Iterables\n",
    "* iterables is something on which you can use a for loop (range, list, tuple, dictionary, strings, set)\n",
    "\n",
    "# Mutable and immutable types/objects\n",
    "* mutable types are those types whose elements can be changed (list, dictionary, set)\n",
    "* immutable types are those types whose elements can't be changed (strings, tuple)\n",
    "\n",
    "# Sequences\n",
    "* sequences are those data types / objects with which we can use indexing\n",
    "* strings, lists, tuples, range\n",
    "* ordered\n"
   ]
  },
  {
   "cell_type": "code",
   "execution_count": null,
   "id": "043249ac",
   "metadata": {},
   "outputs": [],
   "source": []
  },
  {
   "cell_type": "markdown",
   "id": "0e0b7e49",
   "metadata": {},
   "source": [
    "# Some operators that we can use with sequences and iterables\n",
    "* in and not in  (iterables)\n",
    "* \\+ two strings, two lists, two tuples\n",
    "* \\*  string and integer, list and integer, tuple and integer"
   ]
  },
  {
   "cell_type": "code",
   "execution_count": 82,
   "id": "0f519c15",
   "metadata": {},
   "outputs": [
    {
     "name": "stdout",
     "output_type": "stream",
     "text": [
      "False\n",
      "True\n",
      "True\n",
      "True\n"
     ]
    }
   ],
   "source": [
    "# in and not in\n",
    "# searches a value in iterable and returns a boolean value\n",
    "\n",
    "name = \"Biden\"\n",
    "print('a' in name)\n",
    "print('Bid' in name)\n",
    "print('a' not in name)\n",
    "\n",
    "info = {'name' : 'John', 'height' : 175 , 'age' : 25}\n",
    "print(25 in info.values())"
   ]
  },
  {
   "cell_type": "code",
   "execution_count": 87,
   "id": "9b594f94",
   "metadata": {},
   "outputs": [
    {
     "name": "stdout",
     "output_type": "stream",
     "text": [
      "FruitApple\n",
      "[25, 65, 75, 105, 115]\n",
      "(25, 65, 75, 105, 115)\n"
     ]
    },
    {
     "ename": "TypeError",
     "evalue": "can only concatenate list (not \"int\") to list",
     "output_type": "error",
     "traceback": [
      "\u001b[1;31m---------------------------------------------------------------------------\u001b[0m",
      "\u001b[1;31mTypeError\u001b[0m                                 Traceback (most recent call last)",
      "\u001b[1;32m~\\AppData\\Local\\Temp/ipykernel_12484/3532788856.py\u001b[0m in \u001b[0;36m<module>\u001b[1;34m\u001b[0m\n\u001b[0;32m      2\u001b[0m \u001b[0mprint\u001b[0m\u001b[1;33m(\u001b[0m\u001b[1;33m[\u001b[0m\u001b[1;36m25\u001b[0m\u001b[1;33m,\u001b[0m \u001b[1;36m65\u001b[0m\u001b[1;33m,\u001b[0m \u001b[1;36m75\u001b[0m\u001b[1;33m]\u001b[0m \u001b[1;33m+\u001b[0m \u001b[1;33m[\u001b[0m\u001b[1;36m105\u001b[0m\u001b[1;33m,\u001b[0m \u001b[1;36m115\u001b[0m\u001b[1;33m]\u001b[0m\u001b[1;33m)\u001b[0m\u001b[1;33m\u001b[0m\u001b[1;33m\u001b[0m\u001b[0m\n\u001b[0;32m      3\u001b[0m \u001b[0mprint\u001b[0m\u001b[1;33m(\u001b[0m\u001b[1;33m(\u001b[0m\u001b[1;36m25\u001b[0m\u001b[1;33m,\u001b[0m \u001b[1;36m65\u001b[0m\u001b[1;33m,\u001b[0m \u001b[1;36m75\u001b[0m\u001b[1;33m)\u001b[0m \u001b[1;33m+\u001b[0m \u001b[1;33m(\u001b[0m\u001b[1;36m105\u001b[0m\u001b[1;33m,\u001b[0m \u001b[1;36m115\u001b[0m\u001b[1;33m)\u001b[0m\u001b[1;33m)\u001b[0m\u001b[1;33m\u001b[0m\u001b[1;33m\u001b[0m\u001b[0m\n\u001b[1;32m----> 4\u001b[1;33m \u001b[0mprint\u001b[0m\u001b[1;33m(\u001b[0m\u001b[1;33m[\u001b[0m\u001b[1;36m25\u001b[0m\u001b[1;33m,\u001b[0m \u001b[1;36m65\u001b[0m\u001b[1;33m,\u001b[0m \u001b[1;36m75\u001b[0m\u001b[1;33m]\u001b[0m \u001b[1;33m+\u001b[0m \u001b[1;36m55\u001b[0m\u001b[1;33m)\u001b[0m\u001b[1;33m\u001b[0m\u001b[1;33m\u001b[0m\u001b[0m\n\u001b[0m",
      "\u001b[1;31mTypeError\u001b[0m: can only concatenate list (not \"int\") to list"
     ]
    }
   ],
   "source": [
    "print(\"Fruit\" + \"Apple\")\n",
    "print([25, 65, 75] + [105, 115])\n",
    "print((25, 65, 75) + (105, 115))\n",
    "# print([25, 65, 75] + 55)"
   ]
  },
  {
   "cell_type": "code",
   "execution_count": 90,
   "id": "3a356ffb",
   "metadata": {},
   "outputs": [
    {
     "name": "stdout",
     "output_type": "stream",
     "text": [
      "HelloHelloHelloHelloHello\n",
      "[25, 13, 14, 25, 13, 14, 25, 13, 14, 25, 13, 14, 25, 13, 14]\n",
      "(25, 13, 14, 25, 13, 14, 25, 13, 14, 25, 13, 14, 25, 13, 14)\n"
     ]
    }
   ],
   "source": [
    "print(\"Hello\" * 5)\n",
    "print([25, 13, 14] * 5)\n",
    "print((25, 13, 14) * 5)"
   ]
  },
  {
   "cell_type": "code",
   "execution_count": 91,
   "id": "58cbcf78",
   "metadata": {},
   "outputs": [
    {
     "name": "stdout",
     "output_type": "stream",
     "text": [
      "Number of vowel are 10\n"
     ]
    }
   ],
   "source": [
    "# count the number of vowels\n",
    "# we went on a picnic to a lake\n",
    "sentence = \"we went on a picnic to a lake\"\n",
    "count = 0\n",
    "for letter in sentence:\n",
    "    if letter in ('a', 'e', 'i','o','u'):\n",
    "        count = count + 1\n",
    "\n",
    "print(\"Number of vowel are\",count)\n"
   ]
  },
  {
   "cell_type": "markdown",
   "id": "f53db458",
   "metadata": {},
   "source": [
    "# Indexing\n",
    "* Sequences\n",
    "* positive indexing\n",
    "* negative indexing\n",
    "* positive slicing\n",
    "* negative slicing"
   ]
  },
  {
   "cell_type": "code",
   "execution_count": 94,
   "id": "e41dc23f",
   "metadata": {},
   "outputs": [
    {
     "name": "stdout",
     "output_type": "stream",
     "text": [
      "6\n",
      "Steven\n",
      "Steven\n"
     ]
    }
   ],
   "source": [
    "# positive indexing (Accessing elements through positive indexing)\n",
    "names = [\"John\", \"Peter\", \"Parker\", \"Joseph\", \"Brad\", \"Steven\"]\n",
    "print(len(names))\n",
    "print(names[5])\n",
    "print(names[len(names)-1])"
   ]
  },
  {
   "cell_type": "code",
   "execution_count": 97,
   "id": "df2e10a3",
   "metadata": {},
   "outputs": [
    {
     "name": "stdout",
     "output_type": "stream",
     "text": [
      "Parker\n",
      "Steven\n",
      "John\n"
     ]
    }
   ],
   "source": [
    "# negative indexing (Accessing elements through negative indexing)\n",
    "names = [\"John\", \"Peter\", \"Parker\", \"Joseph\", \"Brad\", \"Steven\"]\n",
    "\n",
    "print(names[-4])\n",
    "print(names[-1])\n",
    "print(names[-6])"
   ]
  },
  {
   "cell_type": "code",
   "execution_count": 102,
   "id": "2764a262",
   "metadata": {},
   "outputs": [
    {
     "name": "stdout",
     "output_type": "stream",
     "text": [
      "['John', 'Peter', 'Parker']\n",
      "['John', 'Peter', 'Parker']\n",
      "['John', 'Peter', 'Parker', 'Joseph', 'Brad', 'Steven']\n",
      "['Parker', 'Joseph', 'Brad']\n",
      "['John', 'Parker']\n"
     ]
    }
   ],
   "source": [
    "# slicing\n",
    "# with slicing, we can access more than one element\n",
    "# start : stop : step\n",
    "names = [\"John\", \"Peter\", \"Parker\", \"Joseph\", \"Brad\", \"Steven\"]\n",
    "print(names[0 : 3])\n",
    "print(names[ : 3])\n",
    "print(names[ : ])\n",
    "\n",
    "print(names[ 2 : 5])\n",
    "\n",
    "print(names[  : 4 : 2])"
   ]
  },
  {
   "cell_type": "code",
   "execution_count": 104,
   "id": "1c49141e",
   "metadata": {},
   "outputs": [
    {
     "name": "stdout",
     "output_type": "stream",
     "text": [
      "['Joseph', 'Parker', 'Peter']\n",
      "['Steven', 'Brad', 'Joseph', 'Parker', 'Peter', 'John']\n"
     ]
    }
   ],
   "source": [
    "print(names[ 3 : 0 : -1])\n",
    "print(names[ : : -1])"
   ]
  },
  {
   "cell_type": "markdown",
   "id": "913f2c94",
   "metadata": {},
   "source": [
    "# string methods\n",
    "* capitalize (Converts the first character to upper case)\n",
    "* casefold   (Converts string into lower case)\n",
    "* count       (Returns the number of times a specified value occurs in a string)\n",
    "* endswith\n",
    "* startswith\n",
    "* find\n",
    "* index\n",
    "* isalnum\n",
    "* isalpha\n",
    "* isdigit\n",
    "* islower\n",
    "* isupper\n",
    "* join\n",
    "* lower\n",
    "* upper\n",
    "* strip\n",
    "* split "
   ]
  },
  {
   "cell_type": "code",
   "execution_count": 107,
   "id": "6d6383fb",
   "metadata": {},
   "outputs": [
    {
     "name": "stdout",
     "output_type": "stream",
     "text": [
      "Night sky\n"
     ]
    }
   ],
   "source": [
    "#capitalize (Converts the first character to upper case) and returns it\n",
    "a = \"night sky\"\n",
    "b = a.capitalize()\n",
    "print(b)"
   ]
  },
  {
   "cell_type": "code",
   "execution_count": 108,
   "id": "cf8e1c06",
   "metadata": {},
   "outputs": [
    {
     "name": "stdout",
     "output_type": "stream",
     "text": [
      "we are learning python\n"
     ]
    }
   ],
   "source": [
    "# casefold   (Converts string into lower case)\n",
    "sentence = \"WE are LEARNING Python\"\n",
    "print(sentence.casefold())"
   ]
  },
  {
   "cell_type": "code",
   "execution_count": 109,
   "id": "d0c23143",
   "metadata": {},
   "outputs": [
    {
     "name": "stdout",
     "output_type": "stream",
     "text": [
      "we are learning python\n"
     ]
    }
   ],
   "source": [
    "# lower   (Converts string into lower case)\n",
    "sentence = \"WE are LEARNING Python\"\n",
    "print(sentence.lower())"
   ]
  },
  {
   "cell_type": "code",
   "execution_count": 112,
   "id": "691ef0fb",
   "metadata": {},
   "outputs": [
    {
     "name": "stdout",
     "output_type": "stream",
     "text": [
      "3\n"
     ]
    }
   ],
   "source": [
    "# count counts a specified value in your string and retruns an integer\n",
    "# string.count(value)\n",
    "sentence = \"one one tree one two\"\n",
    "print(sentence.count(\"one\"))"
   ]
  },
  {
   "cell_type": "code",
   "execution_count": 116,
   "id": "43a8a585",
   "metadata": {},
   "outputs": [
    {
     "name": "stdout",
     "output_type": "stream",
     "text": [
      "True\n"
     ]
    }
   ],
   "source": [
    "#endswith it checks if your string ends with a specified value and returns answer in boolean\n",
    "# string.endswith(value)\n",
    "sentence = \"one one tree one two.\"\n",
    "print(sentence.endswith(\"two.\"))"
   ]
  },
  {
   "cell_type": "code",
   "execution_count": 122,
   "id": "d4f8224d",
   "metadata": {},
   "outputs": [
    {
     "name": "stdout",
     "output_type": "stream",
     "text": [
      "True\n"
     ]
    }
   ],
   "source": [
    "#startswith it checks if your string starts with a specified value and returns answer in boolean\n",
    "# string.startswith(value)\n",
    "sentence = \"one one tree one two.\"\n",
    "print(sentence.startswith(\"one\"))"
   ]
  },
  {
   "cell_type": "code",
   "execution_count": 127,
   "id": "f552a49b",
   "metadata": {},
   "outputs": [
    {
     "name": "stdout",
     "output_type": "stream",
     "text": [
      "0\n",
      "8\n",
      "-1\n",
      "13\n"
     ]
    }
   ],
   "source": [
    "# find   finds a specified value in your string and returns its index\n",
    "#string.find(value)\n",
    "# if the value is not found, then it will return -1\n",
    "sentence = \"one one tree one two.\"\n",
    "print(sentence.find(\"one\"))\n",
    "print(sentence.find(\"tree\"))\n",
    "print(sentence.find(\"dog\"))\n",
    "print(sentence.rfind(\"one\"))\n"
   ]
  },
  {
   "cell_type": "code",
   "execution_count": 4,
   "id": "0b8f2d9d",
   "metadata": {},
   "outputs": [
    {
     "name": "stdout",
     "output_type": "stream",
     "text": [
      "0\n",
      "8\n",
      "13\n"
     ]
    }
   ],
   "source": [
    "# index   finds a specified value in your string and returns its index\n",
    "#string.index(value)\n",
    "# if the value is not found, then it raises an exception\n",
    "sentence = \"one one tree one two.\"\n",
    "print(sentence.index(\"one\"))\n",
    "print(sentence.index(\"tree\"))\n",
    "# print(sentence.index(\"dog\")) Error\n",
    "print(sentence.rindex(\"one\"))"
   ]
  },
  {
   "cell_type": "markdown",
   "id": "c52a3a05",
   "metadata": {},
   "source": [
    "# Topics\n",
    "* List methods\n",
    "* dictionaries and sets\n",
    "* Built in functions \n",
    "* nested loops and lists, tuples\n",
    "* functions\n",
    "* Exceptions\n",
    "* file handling\n",
    "* classes"
   ]
  },
  {
   "cell_type": "markdown",
   "id": "3aa78ffc",
   "metadata": {},
   "source": [
    "# homework\n",
    "* See break and continue in loops\n",
    "* take 5 values and calculate their sum, find out the maximum value and minimum value\n",
    "* Apply indexing and slicing with lists , tuple, strings"
   ]
  },
  {
   "cell_type": "code",
   "execution_count": 3,
   "id": "8b60c58e",
   "metadata": {},
   "outputs": [
    {
     "name": "stdout",
     "output_type": "stream",
     "text": [
      "12\n",
      "35\n"
     ]
    }
   ],
   "source": [
    "# break statement breaks your loop at a specific point or under a specific condition\n",
    "for i in [12, 35, 67, 87]:\n",
    "    if i == 67:\n",
    "        break\n",
    "        \n",
    "    print(i)"
   ]
  }
 ],
 "metadata": {
  "kernelspec": {
   "display_name": "Python 3 (ipykernel)",
   "language": "python",
   "name": "python3"
  },
  "language_info": {
   "codemirror_mode": {
    "name": "ipython",
    "version": 3
   },
   "file_extension": ".py",
   "mimetype": "text/x-python",
   "name": "python",
   "nbconvert_exporter": "python",
   "pygments_lexer": "ipython3",
   "version": "3.9.7"
  }
 },
 "nbformat": 4,
 "nbformat_minor": 5
}
