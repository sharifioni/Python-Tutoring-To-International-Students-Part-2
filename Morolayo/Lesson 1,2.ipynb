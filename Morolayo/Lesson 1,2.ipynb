{
 "cells": [
  {
   "cell_type": "markdown",
   "id": "d7950301",
   "metadata": {},
   "source": [
    "# print function"
   ]
  },
  {
   "cell_type": "code",
   "execution_count": 1,
   "id": "f2bc6d5d",
   "metadata": {},
   "outputs": [
    {
     "name": "stdout",
     "output_type": "stream",
     "text": [
      "Hello world\n"
     ]
    }
   ],
   "source": [
    "print(\"Hello world\")"
   ]
  },
  {
   "cell_type": "code",
   "execution_count": 2,
   "id": "41c99a92",
   "metadata": {},
   "outputs": [
    {
     "name": "stdout",
     "output_type": "stream",
     "text": [
      "Hello world 99 87.5 True\n"
     ]
    }
   ],
   "source": [
    "print(\"Hello world\", 99, 87.5, True)"
   ]
  },
  {
   "cell_type": "markdown",
   "id": "2d1c5534",
   "metadata": {},
   "source": [
    "# Data types\n",
    "* strings\n",
    "* integer\n",
    "* float\n",
    "* boolean\n",
    "* lists\n",
    "* tuple\n",
    "* dictionary\n",
    "* sets"
   ]
  },
  {
   "cell_type": "markdown",
   "id": "c475568b",
   "metadata": {},
   "source": [
    "# Variables\n",
    "* They are used to hold a value of any type\n",
    "* you basically assign names to values that you hold\n",
    "* name = value\n",
    "* variable names only include letters, digits and underscore\n",
    "* the first character of a variable name cannot be a digit\n",
    "* you cannot give names to a variable that are keywords"
   ]
  },
  {
   "cell_type": "code",
   "execution_count": 4,
   "id": "df07312d",
   "metadata": {},
   "outputs": [
    {
     "name": "stdout",
     "output_type": "stream",
     "text": [
      "98\n",
      "John\n"
     ]
    }
   ],
   "source": [
    "x = 98\n",
    "print(x)\n",
    "\n",
    "name = \"John\"\n",
    "print(name)\n",
    "\n"
   ]
  },
  {
   "cell_type": "code",
   "execution_count": 8,
   "id": "d4c5e40a",
   "metadata": {},
   "outputs": [
    {
     "name": "stdout",
     "output_type": "stream",
     "text": [
      "5\n"
     ]
    }
   ],
   "source": [
    "x = 3\n",
    "del x\n",
    "\n",
    "x = 5\n",
    "print(x)"
   ]
  },
  {
   "cell_type": "markdown",
   "id": "f097eb2f",
   "metadata": {},
   "source": [
    "# Arithmetic operators\n",
    "* \\+ , - , \\*, / , **, %, //"
   ]
  },
  {
   "cell_type": "code",
   "execution_count": 9,
   "id": "7f6c9693",
   "metadata": {},
   "outputs": [
    {
     "name": "stdout",
     "output_type": "stream",
     "text": [
      "2\n"
     ]
    }
   ],
   "source": [
    "# Modulus % (Calculates the remainder)\n",
    "\n",
    "print(11 % 3)"
   ]
  },
  {
   "cell_type": "code",
   "execution_count": 10,
   "id": "802e9c07",
   "metadata": {},
   "outputs": [
    {
     "name": "stdout",
     "output_type": "stream",
     "text": [
      "1\n"
     ]
    }
   ],
   "source": [
    "print(13 % 2)"
   ]
  },
  {
   "cell_type": "code",
   "execution_count": 11,
   "id": "ce4e3dc8",
   "metadata": {},
   "outputs": [
    {
     "name": "stdout",
     "output_type": "stream",
     "text": [
      "3.6666666666666665\n"
     ]
    }
   ],
   "source": [
    "# floor division operator  //\n",
    "\n",
    "print(11 / 3)\n"
   ]
  },
  {
   "cell_type": "code",
   "execution_count": 12,
   "id": "a81fba4b",
   "metadata": {},
   "outputs": [
    {
     "name": "stdout",
     "output_type": "stream",
     "text": [
      "3\n"
     ]
    }
   ],
   "source": [
    "print( 11 // 3)"
   ]
  },
  {
   "cell_type": "code",
   "execution_count": null,
   "id": "3378bfb7",
   "metadata": {},
   "outputs": [],
   "source": []
  },
  {
   "cell_type": "code",
   "execution_count": 13,
   "id": "4a86aaa6",
   "metadata": {},
   "outputs": [
    {
     "name": "stdout",
     "output_type": "stream",
     "text": [
      "Volume is 336\n"
     ]
    }
   ],
   "source": [
    "width = 6\n",
    "height = 7\n",
    "depth = 8\n",
    "volume = width * height * depth\n",
    "print(\"Volume is\", volume)"
   ]
  },
  {
   "cell_type": "markdown",
   "id": "c823aa6a",
   "metadata": {},
   "source": [
    "# fstrings\n",
    "* used with string\n",
    "* mostly used in print statement\n",
    "* convenient way displaying your output"
   ]
  },
  {
   "cell_type": "code",
   "execution_count": 46,
   "id": "708c84a0",
   "metadata": {},
   "outputs": [
    {
     "name": "stdout",
     "output_type": "stream",
     "text": [
      "Hello! My name is John My age is 25 My height is 175 My hobby is Sports\n"
     ]
    }
   ],
   "source": [
    "age = 25\n",
    "height = 175\n",
    "name = \"John\"\n",
    "hobby = \"Sports\"\n",
    "\n",
    "print(\"Hello! My name is\", name, \"My age is\", age, \"My height is\", height, \"My hobby is\", hobby)"
   ]
  },
  {
   "cell_type": "code",
   "execution_count": 51,
   "id": "36747de7",
   "metadata": {},
   "outputs": [
    {
     "name": "stdout",
     "output_type": "stream",
     "text": [
      "Hello! My name is John My age is 25 My height is 175 My hobby is Sports\n"
     ]
    }
   ],
   "source": [
    "age = 25\n",
    "height = 175\n",
    "name = \"John\"\n",
    "hobby = \"Sports\"\n",
    "\n",
    "print(f\"Hello! My name is {name} My age is {age} My height is {height} My hobby is {hobby}\")"
   ]
  },
  {
   "cell_type": "markdown",
   "id": "921caf54",
   "metadata": {},
   "source": [
    "# Operator precedence\n",
    "* B E DM AS"
   ]
  },
  {
   "cell_type": "code",
   "execution_count": 14,
   "id": "7a1dbdcd",
   "metadata": {},
   "outputs": [
    {
     "name": "stdout",
     "output_type": "stream",
     "text": [
      "21.074074074074073\n"
     ]
    }
   ],
   "source": [
    "x = 3 * 6 + 4 - (5 * 5) / 3 ** 3\n",
    "print(x)"
   ]
  },
  {
   "cell_type": "markdown",
   "id": "ff3e9184",
   "metadata": {},
   "source": [
    "# Comparison Operators\n",
    "* \\>\n",
    "* \\<\n",
    "* \\>=\n",
    "* \\<=\n",
    "* ==\n",
    "* !="
   ]
  },
  {
   "cell_type": "code",
   "execution_count": 17,
   "id": "6f42c5df",
   "metadata": {},
   "outputs": [
    {
     "name": "stdout",
     "output_type": "stream",
     "text": [
      "True\n",
      "False\n",
      "True\n",
      "False\n",
      "False\n",
      "True\n"
     ]
    }
   ],
   "source": [
    "x = 3    # Assignment operator, used to assign values to a variable\n",
    "\n",
    "# == is a comparison operator that is used to compare two values and check if they are equal. Result will be Boolean\n",
    "\n",
    "\n",
    "\n",
    "x = 5\n",
    "y = 7\n",
    "\n",
    "print(x < y)\n",
    "print(x > y)\n",
    "print(x <= y)\n",
    "print(x >= y)\n",
    "print(x == y)\n",
    "print(x != y)"
   ]
  },
  {
   "cell_type": "code",
   "execution_count": 21,
   "id": "5accd494",
   "metadata": {},
   "outputs": [
    {
     "ename": "SyntaxError",
     "evalue": "unexpected EOF while parsing (Temp/ipykernel_13096/1647630127.py, line 1)",
     "output_type": "error",
     "traceback": [
      "\u001b[1;36m  File \u001b[1;32m\"C:\\Users\\shahj\\AppData\\Local\\Temp/ipykernel_13096/1647630127.py\"\u001b[1;36m, line \u001b[1;32m1\u001b[0m\n\u001b[1;33m    print(\"Hello\"\u001b[0m\n\u001b[1;37m                 ^\u001b[0m\n\u001b[1;31mSyntaxError\u001b[0m\u001b[1;31m:\u001b[0m unexpected EOF while parsing\n"
     ]
    }
   ],
   "source": [
    "print(\"Hello\""
   ]
  },
  {
   "cell_type": "code",
   "execution_count": 24,
   "id": "6ae9d5ab",
   "metadata": {},
   "outputs": [
    {
     "ename": "NameError",
     "evalue": "name 'Print' is not defined",
     "output_type": "error",
     "traceback": [
      "\u001b[1;31m---------------------------------------------------------------------------\u001b[0m",
      "\u001b[1;31mNameError\u001b[0m                                 Traceback (most recent call last)",
      "\u001b[1;32m~\\AppData\\Local\\Temp/ipykernel_13096/244804411.py\u001b[0m in \u001b[0;36m<module>\u001b[1;34m\u001b[0m\n\u001b[1;32m----> 1\u001b[1;33m \u001b[0mPrint\u001b[0m\u001b[1;33m(\u001b[0m\u001b[1;34m\"Hello\"\u001b[0m\u001b[1;33m)\u001b[0m\u001b[1;33m\u001b[0m\u001b[1;33m\u001b[0m\u001b[0m\n\u001b[0m",
      "\u001b[1;31mNameError\u001b[0m: name 'Print' is not defined"
     ]
    }
   ],
   "source": [
    "print(\"Hello\")"
   ]
  },
  {
   "cell_type": "code",
   "execution_count": 26,
   "id": "0d9fdf8d",
   "metadata": {},
   "outputs": [
    {
     "ename": "NameError",
     "evalue": "name 'false' is not defined",
     "output_type": "error",
     "traceback": [
      "\u001b[1;31m---------------------------------------------------------------------------\u001b[0m",
      "\u001b[1;31mNameError\u001b[0m                                 Traceback (most recent call last)",
      "\u001b[1;32m~\\AppData\\Local\\Temp/ipykernel_13096/309619509.py\u001b[0m in \u001b[0;36m<module>\u001b[1;34m\u001b[0m\n\u001b[1;32m----> 1\u001b[1;33m \u001b[0mprint\u001b[0m\u001b[1;33m(\u001b[0m\u001b[1;32mTrue\u001b[0m\u001b[1;33m,\u001b[0m \u001b[0mfalse\u001b[0m\u001b[1;33m)\u001b[0m\u001b[1;33m\u001b[0m\u001b[1;33m\u001b[0m\u001b[0m\n\u001b[0m",
      "\u001b[1;31mNameError\u001b[0m: name 'false' is not defined"
     ]
    }
   ],
   "source": [
    "print(True, False)"
   ]
  },
  {
   "cell_type": "code",
   "execution_count": 29,
   "id": "e1a035ca",
   "metadata": {},
   "outputs": [
    {
     "name": "stdout",
     "output_type": "stream",
     "text": [
      "9\n"
     ]
    }
   ],
   "source": [
    "abc = 9\n",
    "print(abc)"
   ]
  },
  {
   "cell_type": "code",
   "execution_count": null,
   "id": "6de248ba",
   "metadata": {},
   "outputs": [],
   "source": [
    "# type error"
   ]
  },
  {
   "cell_type": "markdown",
   "id": "552f086b",
   "metadata": {},
   "source": [
    " # Decision making\n",
    " * if else statements\n",
    " * if part runs for true condition\n",
    " * else part runs for false condition\n",
    " * you only put conditions with the if part\n",
    " * its not compulsory to use else part, you can skip it according to your program choice\n",
    " * indentation (Spaces that define a block of code): it tells you about the block of code. if has block of code, else has a block of code \n",
    " * atleast one statement should be written in if block and else block\n",
    " * if condition:\n",
    "     statement1\n",
    "     statement2\n",
    "     .........\n",
    "   else:\n",
    "       statement1\n",
    "       statement2\n",
    "       .........."
   ]
  },
  {
   "cell_type": "code",
   "execution_count": 37,
   "id": "fad259d0",
   "metadata": {},
   "outputs": [
    {
     "name": "stdout",
     "output_type": "stream",
     "text": [
      "x is not equal to 9\n",
      "Our program ends here\n"
     ]
    }
   ],
   "source": [
    "x = 8\n",
    "\n",
    "if x == 9:\n",
    "    print(\"x is equal to 9\")\n",
    "    \n",
    "else:\n",
    "    print(\"x is not equal to 9\")\n",
    "    \n",
    "print(\"Our program ends here\")\n",
    "    "
   ]
  },
  {
   "cell_type": "code",
   "execution_count": 36,
   "id": "54e1b1ee",
   "metadata": {},
   "outputs": [
    {
     "name": "stdout",
     "output_type": "stream",
     "text": [
      "x is less than 9\n"
     ]
    }
   ],
   "source": [
    "x = 8\n",
    "\n",
    "if x < 9:\n",
    "    print(\"x is less than 9\")\n",
    "    \n"
   ]
  },
  {
   "cell_type": "code",
   "execution_count": 52,
   "id": "53887432",
   "metadata": {},
   "outputs": [
    {
     "name": "stdout",
     "output_type": "stream",
     "text": [
      "7 is less than 10\n",
      "7 is less than or equal to 10\n",
      "7 is not equal to 10\n"
     ]
    }
   ],
   "source": [
    "# Multiple if statements\n",
    "x = 7\n",
    "y = 10\n",
    "\n",
    "if x < y: \n",
    "    print(f\"{x} is less than {y}\")\n",
    "    \n",
    "if x > y:\n",
    "    print(x, \"is greater than\", y)\n",
    "    \n",
    "if x <= y:\n",
    "    print(x, \"is less than or equal to\", y)\n",
    "    \n",
    "if x >= y:\n",
    "    print(x, \"is greater than or equal to\", y)\n",
    "    \n",
    "if x == y:\n",
    "    print(x, \"is equal to\", y)\n",
    "    \n",
    "if x != y:\n",
    "    print(x, \"is not equal to\", y)"
   ]
  },
  {
   "cell_type": "markdown",
   "id": "cd388dcb",
   "metadata": {},
   "source": [
    "# if elif else structure\n",
    "* used to make multiple decisions\n",
    "* it is used when you have to find first True condition\n",
    "* else part is not compulsory to write"
   ]
  },
  {
   "cell_type": "code",
   "execution_count": 54,
   "id": "2a62aa2f",
   "metadata": {},
   "outputs": [
    {
     "name": "stdout",
     "output_type": "stream",
     "text": [
      "This is not a good time\n"
     ]
    }
   ],
   "source": [
    "day = \"Tuesday\"\n",
    "\n",
    "if day == \"Monday\":\n",
    "    print(\"You need to go to school\")\n",
    "    \n",
    "elif day == \"Friday\":\n",
    "    print(\"You can help you mom\")\n",
    "    \n",
    "elif day == \"Sunday\":\n",
    "    print(\"you can play with your friends\")\n",
    "    \n",
    "else:\n",
    "    print(\"This is not a good time\")"
   ]
  },
  {
   "cell_type": "code",
   "execution_count": 55,
   "id": "823af034",
   "metadata": {},
   "outputs": [
    {
     "name": "stdout",
     "output_type": "stream",
     "text": [
      "7 is less than 10\n"
     ]
    }
   ],
   "source": [
    "# Multiple if statements\n",
    "x = 7\n",
    "y = 10\n",
    "\n",
    "if x < y: \n",
    "    print(f\"{x} is less than {y}\")\n",
    "    \n",
    "elif x > y:\n",
    "    print(x, \"is greater than\", y)\n",
    "    \n",
    "elif x <= y:\n",
    "    print(x, \"is less than or equal to\", y)\n",
    "    \n",
    "elif x >= y:\n",
    "    print(x, \"is greater than or equal to\", y)\n",
    "    \n",
    "elif x == y:\n",
    "    print(x, \"is equal to\", y)\n",
    "    \n",
    "elif x != y:\n",
    "    print(x, \"is not equal to\", y)"
   ]
  },
  {
   "cell_type": "code",
   "execution_count": null,
   "id": "5ac9e45a",
   "metadata": {},
   "outputs": [],
   "source": [
    "# take a variable grade and store an integer value in it between 0 to 100\n",
    "\n",
    "# less than 50, You got F grade\n",
    "# 50 to 59, You got D grade\n",
    "# 60 to 69  You got C\n",
    "# 70 to 79  You got B\n",
    "# 80 to 89 You A\n",
    "# 90 to 100 , A+\n",
    "\n",
    "grade = 75\n",
    "\n",
    "if grade < 50:\n",
    "    print (\"You got F grade\")\n",
    "if grade >= 50 and grade < 60:\n",
    "    print (\"You got D grade\")\n",
    "if grade >= 60 and grade < 70:\n",
    "    print (\"You got C grade\")\n",
    "if grade >= 70 and grade < 80:\n",
    "    print (\"You got B grade\")\n",
    "if grade >= 80 and grade < 90:\n",
    "    print (\"You got A grade\")\n",
    "if grade >= 90 and grade <= 100:\n",
    "    print (\"You got A+ grade\")\n"
   ]
  },
  {
   "cell_type": "code",
   "execution_count": 57,
   "id": "aee7bf8d",
   "metadata": {},
   "outputs": [
    {
     "name": "stdout",
     "output_type": "stream",
     "text": [
      "You got B\n"
     ]
    }
   ],
   "source": [
    "# Chain Comparison\n",
    "\n",
    "grade = 75\n",
    "\n",
    "if grade < 50:\n",
    "    print(\"You got F\")\n",
    "    \n",
    "elif 50 <= grade < 60:\n",
    "    print(\"You got D\")\n",
    "\n",
    "elif 60 <= grade < 70:\n",
    "    print(\"You got C\")\n",
    "\n",
    "elif 70 <= grade < 80:\n",
    "    print(\"You got B\")\n",
    "    \n",
    "elif 80 <= grade < 90:\n",
    "    print(\"You got A\")\n",
    "    \n",
    "elif 90 <= grade <= 100:\n",
    "    print(\"You got A+\")"
   ]
  },
  {
   "cell_type": "code",
   "execution_count": 59,
   "id": "847000ab",
   "metadata": {},
   "outputs": [
    {
     "name": "stdout",
     "output_type": "stream",
     "text": [
      "You got F\n"
     ]
    }
   ],
   "source": [
    "# using if elif in a correct order\n",
    "\n",
    "grade = 46\n",
    "\n",
    "if grade >=90:\n",
    "    print(\"You got A+\")\n",
    "    \n",
    "\n",
    "elif grade >=80:\n",
    "    print(\"You got A\")\n",
    "    \n",
    "elif grade >=70:\n",
    "    print(\"You got B\")\n",
    "    \n",
    "elif grade >=60:\n",
    "    print(\"You got C\")\n",
    "    \n",
    "elif grade >=50:\n",
    "    print(\"You got D\")\n",
    "    \n",
    "else:\n",
    "    print(\"You got F\")"
   ]
  },
  {
   "cell_type": "code",
   "execution_count": 60,
   "id": "572236fb",
   "metadata": {},
   "outputs": [
    {
     "name": "stdout",
     "output_type": "stream",
     "text": [
      "You got A+\n",
      "You got A\n",
      "You got B\n",
      "You got C\n",
      "You got D\n"
     ]
    }
   ],
   "source": [
    "# using multiple if is not a good idea here\n",
    "\n",
    "grade = 95\n",
    "\n",
    "if grade >=90:\n",
    "    print(\"You got A+\")\n",
    "    \n",
    "\n",
    "if grade >=80:\n",
    "    print(\"You got A\")\n",
    "    \n",
    "if grade >=70:\n",
    "    print(\"You got B\")\n",
    "    \n",
    "if grade >=60:\n",
    "    print(\"You got C\")\n",
    "    \n",
    "if grade >=50:\n",
    "    print(\"You got D\")\n",
    "    \n",
    "if grade < 50:\n",
    "    print(\"You got F\")"
   ]
  },
  {
   "cell_type": "code",
   "execution_count": null,
   "id": "e07bf34e",
   "metadata": {},
   "outputs": [],
   "source": [
    "\n",
    "grade = 46\n",
    "\n",
    "if grade in range(0 , 50):\n",
    "    print(\"You got F\")\n",
    "    \n",
    "\n",
    "elif grade in range(50, 60):\n",
    "    print(\"You got D\")\n",
    "    \n",
    "elif grade in range(60 , 70):\n",
    "    print(\"You got C\")\n",
    "    \n",
    "elif grade in range(70 , 80):\n",
    "    print(\"You got B\")\n",
    "    \n",
    "elif grade in range(80 , 90):\n",
    "    print(\"You got A\")\n",
    "    \n",
    "    \n",
    "elif grade in range(90 , 101):\n",
    "    print(\"You got A+\")"
   ]
  },
  {
   "cell_type": "code",
   "execution_count": null,
   "id": "100aeb28",
   "metadata": {},
   "outputs": [],
   "source": [
    "# logical operators  and, or, not \n",
    "# type casting       is converting from one data type to another\n",
    "# for loops and while loops   looping structure"
   ]
  }
 ],
 "metadata": {
  "kernelspec": {
   "display_name": "Python 3 (ipykernel)",
   "language": "python",
   "name": "python3"
  },
  "language_info": {
   "codemirror_mode": {
    "name": "ipython",
    "version": 3
   },
   "file_extension": ".py",
   "mimetype": "text/x-python",
   "name": "python",
   "nbconvert_exporter": "python",
   "pygments_lexer": "ipython3",
   "version": "3.9.7"
  }
 },
 "nbformat": 4,
 "nbformat_minor": 5
}
