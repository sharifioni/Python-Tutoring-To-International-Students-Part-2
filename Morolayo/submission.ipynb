{
 "cells": [
  {
   "cell_type": "markdown",
   "id": "51071da5",
   "metadata": {},
   "source": [
    "\n",
    " # Instructions:\n",
    "- Please enter (and check!) your name and email address in the `get_consultant_name` function, just below this text.\n",
    "- Please enter in your answers 1-11 in the code cells starting with `# submit`.\n",
    "- You can use the code cells starting with `# scratch` to test your solutions. We won't run these.  \n",
    "- You can make more cells starting with `# submit` or `# scratch` as necessary.\n",
    "- Before you submit your file, please *restart your kernel*, and then run all cells from the top, \n",
    "making sure that there are no errors or unhandled exceptions. \n",
    "(Please handle, comment out, or delete, any source code that raises an Exception)\n",
    "- If this paper is being taken under test conditions, then:\n",
    "    - Normally **three hours** is allowed to complete all questions. \n",
    "    - Your best 10 answers count, i.e. you receive a mark out of fifty, scaled to a percentage.\n",
    "    - Normally this is an 'open book' test, i.e. access to your notes and on-line resources is allowed.\n",
    "    - Please ensure that this is only your own work: please don't accept help from others (or give it!)  \n",
    "\n",
    "## Hints:\n",
    "1) Make sure you are returning the right type of object that the question is asking for (and how this is not the same as printing out the answer from within the function.) \n",
    "\n",
    "2) In some questions, partial marks are awarded for satisfying the simpler test cases. Use your time wisely!"
   ]
  },
  {
   "cell_type": "code",
   "execution_count": null,
   "id": "26abb164",
   "metadata": {},
   "outputs": [],
   "source": [
    "\n",
    "def get_consultant_name():\n",
    "    first_name = 'your first name goes here'\n",
    "    surname = 'your surname goes here'\n",
    "    email = 'your email address goes here'\n",
    "    return first_name, surname, email\n"
   ]
  },
  {
   "cell_type": "markdown",
   "id": "580d1e92",
   "metadata": {},
   "source": [
    "1. Every Second Equal\n",
    "-------------------------------\n",
    "Write a function that takes in two lists and returns `True`\n",
    "if the lists are of the same length and every second element in these lists is equal to each other, and otherwise, `False`. \n",
    "\n",
    "\n",
    "Required Signature:\n",
    "\n",
    "    def every_second_equal(x,y):  \n",
    "        pass  \n",
    "\n",
    "for example, calling `every_second_equal([99,1,123,3], [0,1,2,3])` \n",
    " will return `True`\n",
    "\n",
    "Another example: calling `every_second_equal([1,123,3,99], [1,321,3,101])` \n",
    " will return `False` \n",
    "\n"
   ]
  },
  {
   "cell_type": "code",
   "execution_count": null,
   "id": "85c5e116",
   "metadata": {},
   "outputs": [],
   "source": [
    "# submit (we will import your solution from this cell. Don't use Global Variables here.  )\n",
    "# ------------------------------------------------------------------------------\n",
    "\n",
    "\n",
    "\n",
    "\n"
   ]
  },
  {
   "cell_type": "code",
   "execution_count": null,
   "id": "ab7cf1d5",
   "metadata": {},
   "outputs": [],
   "source": [
    "# scratch (we will NOT mark this cell - use this for your own tests)\n",
    "# ------------------------------------------------------------------------------\n",
    "\n",
    "\n",
    "\n",
    "\n"
   ]
  },
  {
   "cell_type": "markdown",
   "id": "f0f0ef18",
   "metadata": {},
   "source": [
    "2. Odd Numbers (1)\n",
    "-------------------------------\n",
    "Write a function that takes in a collection and returns a list of elements of \n",
    "all values that are odd.\n",
    "You should ignore any non-numeric elements in the collection.\n",
    "\n",
    "\n",
    "Required Signature:\n",
    "\n",
    "    def odd_numbers1(x):  \n",
    "        pass  \n",
    "\n",
    "for example, calling `odd_numbers1([1,2,3,3,'3'])` \n",
    " will return `[1,3,3]` (4 marks)\n",
    "\n",
    "for example, calling `odd_numbers1([False,True,3,5.0,7.5])` \n",
    " will return `[True,3, 5.0]` (1 further mark)\n",
    "\n"
   ]
  },
  {
   "cell_type": "code",
   "execution_count": null,
   "id": "d49947af",
   "metadata": {},
   "outputs": [],
   "source": [
    "# submit (we will import your solution from this cell. Don't use Global Variables here.  )\n",
    "# ------------------------------------------------------------------------------\n",
    "\n",
    "\n",
    "\n",
    "\n"
   ]
  },
  {
   "cell_type": "code",
   "execution_count": null,
   "id": "855504e0",
   "metadata": {},
   "outputs": [],
   "source": [
    "# scratch (we will NOT mark this cell - use this for your own tests)\n",
    "# ------------------------------------------------------------------------------\n",
    "\n",
    "\n",
    "\n",
    "\n"
   ]
  },
  {
   "cell_type": "markdown",
   "id": "13d45411",
   "metadata": {},
   "source": [
    "3. Name Processing (1)\n",
    "-------------------------------\n",
    "Write a function that accepts an input argument list of 'full name' strings \n",
    "and returns a list having the same length, \n",
    "each element containing a `['first name', 'second name']` list. \n",
    "You may assume that full_name has one or zero space characters.\n",
    "\n",
    "\n",
    "Required Signature:\n",
    "\n",
    "    def name_processing1(list_of_names):  \n",
    "        pass  \n",
    "\n",
    "\n",
    "for example, using the following  list as input:\n",
    "\n",
    "`['Diego Maradona', 'Ronaldo', 'Cormac McCarthy', 'Eminem'] `\n",
    "\n",
    "the function would return :\n",
    "\n",
    "`[['Diego', 'Maradona'], ['Ronaldo', None], ['Cormac', 'MacArthy'], ['Eminem', None]]`\n",
    "\n",
    "\n"
   ]
  },
  {
   "cell_type": "code",
   "execution_count": null,
   "id": "0a6fd988",
   "metadata": {},
   "outputs": [],
   "source": [
    "# submit (we will import your solution from this cell. Don't use Global Variables here.  )\n",
    "# ------------------------------------------------------------------------------\n",
    "\n",
    "\n",
    "\n",
    "\n"
   ]
  },
  {
   "cell_type": "code",
   "execution_count": null,
   "id": "658efbcf",
   "metadata": {},
   "outputs": [],
   "source": [
    "# scratch (we will NOT mark this cell - use this for your own tests)\n",
    "# ------------------------------------------------------------------------------\n",
    "\n",
    "\n",
    "\n",
    "\n"
   ]
  },
  {
   "cell_type": "markdown",
   "id": "5a03180d",
   "metadata": {},
   "source": [
    "4. Name Processing (2)\n",
    "-------------------------------\n",
    "\n",
    "Write a function that takes a list of 'full_name' strings and returns a \n",
    "list of dictionaries. Each directory will store one name:\n",
    "\n",
    "- if is there is a first name and a second name, then the output dictionary contains\n",
    "two keys: `'first_name'` and `'second_name'`.\n",
    " \n",
    "- if there is just one name (a 'mononym'), then there is just one key: `'mononym'`.\n",
    "\n",
    "\n",
    "Required Signature:\n",
    "\n",
    "    def name_processing2(list_of_names):  \n",
    "        pass  \n",
    "\n",
    "\n",
    "For example, an input of \n",
    "\n",
    "`['Diego Maradona', 'Ronaldo', 'Cormac McCarthy', 'Eminem']`\n",
    "\n",
    "would return \n",
    "```\n",
    "[{'first_name': 'Diego', 'second_name': 'Maradona'}, \n",
    " {'mononym': 'Ronaldo'}, \n",
    " {'first_name': 'Cormac', 'second_name': 'McCarthy'}, \n",
    " {'mononym': 'Eminem'}]\n",
    "```\n",
    "\n",
    "\n"
   ]
  },
  {
   "cell_type": "code",
   "execution_count": null,
   "id": "602147d4",
   "metadata": {},
   "outputs": [],
   "source": [
    "# submit (we will import your solution from this cell. Don't use Global Variables here.  )\n",
    "# ------------------------------------------------------------------------------\n",
    "\n",
    "\n",
    "\n",
    "\n"
   ]
  },
  {
   "cell_type": "code",
   "execution_count": null,
   "id": "aebb7d12",
   "metadata": {},
   "outputs": [],
   "source": [
    "# scratch (we will NOT mark this cell - use this for your own tests)\n",
    "# ------------------------------------------------------------------------------\n",
    "\n",
    "\n",
    "\n",
    "\n"
   ]
  },
  {
   "cell_type": "markdown",
   "id": "a52d366d",
   "metadata": {},
   "source": [
    "5. LongestString\n",
    "-------------------------------\n",
    "Write a function that takes in a list of strings and returns the length of the longest string. \n",
    "        It should ignore any elements that are not strings. If there are no strings in the input list, then it should return `None`.\n",
    "\n",
    "Required Signature:\n",
    "\n",
    "    def longest_string(x):  \n",
    "        pass  \n",
    "\n",
    "for example, calling `longest_string(['cat', 'dog', 'horse'])` \n",
    " will return `5`\n",
    "\n"
   ]
  },
  {
   "cell_type": "code",
   "execution_count": null,
   "id": "d1a74643",
   "metadata": {},
   "outputs": [],
   "source": [
    "# submit (we will import your solution from this cell. Don't use Global Variables here.  )\n",
    "# ------------------------------------------------------------------------------\n",
    "\n",
    "\n",
    "\n",
    "\n"
   ]
  },
  {
   "cell_type": "code",
   "execution_count": null,
   "id": "b645f207",
   "metadata": {},
   "outputs": [],
   "source": [
    "# scratch (we will NOT mark this cell - use this for your own tests)\n",
    "# ------------------------------------------------------------------------------\n",
    "\n",
    "\n",
    "\n",
    "\n"
   ]
  },
  {
   "cell_type": "markdown",
   "id": "26397c3e",
   "metadata": {},
   "source": [
    "6. Logger (1)\n",
    "-------------------------------\n",
    "Write a mock logging class called MyLogger.\n",
    "\n",
    "The MyLogger class is initialized with a `disk_space` argument which is an\n",
    "integer. When initialized, `disk_remaining` should be set to the value of\n",
    "`disk_space`, i.e. it is assumed that none of the disk has been used at this point.\n",
    "\n",
    "Instance variables:\n",
    "- `disk_space` (int)\n",
    "- `disk_remaining` (int)\n",
    "\n",
    "The class shall also implement three methods:\n",
    "\n",
    "Methods:\n",
    "- `disk_full`: Returns `True` if disk remaining is 0, otherwise `False`.\n",
    "- `log_to_file`: If the disk is not full, decrement disk_remaining by 1 unit and\n",
    "    return the string \"Successfully logged\".\n",
    "    Otherwise (if the disk is full), return the string \"Disk full\"\n",
    "- `delete_logs`: Set disk_remaining to disk_space and return the string \n",
    "    \"Logs deleted\".\n",
    "\n",
    "\n",
    "\n",
    "Required Signature:\n",
    "\n",
    "    class MyLogger():  \n",
    "        pass  \n",
    "\n",
    "\n",
    "Example usage:\n",
    "\n",
    "```\n",
    "logger = MyLogger(1) # initializes a logger with 1 unit of disk space.\n",
    "logger.log_to_file() # writes one log to file. Disk remaining should be 0.\n",
    "logger.log_to_file() # fails to write log to file because disk is full.\n",
    "logger.delete_logs() # deletes logs, so disk_remaining should reset back to 1.\n",
    "\n",
    "```\n",
    "The above three method calls should return strings \n",
    "`'Successfully logged'`, `'Disk full'` and `'Logs deleted'`.\n",
    "\n",
    "\n",
    "\n"
   ]
  },
  {
   "cell_type": "code",
   "execution_count": null,
   "id": "20706ebc",
   "metadata": {},
   "outputs": [],
   "source": [
    "# submit (we will import your solution from this cell. Don't use Global Variables here.  )\n",
    "# ------------------------------------------------------------------------------\n",
    "\n",
    "\n",
    "\n",
    "\n"
   ]
  },
  {
   "cell_type": "code",
   "execution_count": null,
   "id": "841324f4",
   "metadata": {},
   "outputs": [],
   "source": [
    "# scratch (we will NOT mark this cell - use this for your own tests)\n",
    "# ------------------------------------------------------------------------------\n",
    "\n",
    "\n",
    "\n",
    "\n"
   ]
  },
  {
   "cell_type": "markdown",
   "id": "faadfea8",
   "metadata": {},
   "source": [
    "7. Create Dataframe (1)\n",
    "-------------------------------\n",
    "Write a function that takes two arguments `data`, and `col_names` and returns a \n",
    "dataframe. Assume the first argument `data` is a list of lists, and `col_names`\n",
    "is a list of column names.\n",
    "\n",
    "\n",
    "Required Signature:\n",
    "\n",
    "    def dataframe_creator1(data, col_names):  \n",
    "        pass  \n",
    "\n",
    " Example:\n",
    "Calling `dataframe_creator1([[1,2],[3,4]], col_names=['cookies', 'cream'])` should\n",
    "return a dataframe with the following columns:\n",
    "\n",
    "| index   | cookies | cream |\n",
    "| ---     | ---     | ----- |\n",
    "| 0       |      1 |     2 |\n",
    "| 1       |      3 |     4 |\n",
    "\n",
    "\n"
   ]
  },
  {
   "cell_type": "code",
   "execution_count": null,
   "id": "fcfd0c86",
   "metadata": {},
   "outputs": [],
   "source": [
    "# submit (we will import your solution from this cell. Don't use Global Variables here.  )\n",
    "# ------------------------------------------------------------------------------\n",
    "\n",
    "\n",
    "\n",
    "\n"
   ]
  },
  {
   "cell_type": "code",
   "execution_count": null,
   "id": "3c6bc132",
   "metadata": {},
   "outputs": [],
   "source": [
    "# scratch (we will NOT mark this cell - use this for your own tests)\n",
    "# ------------------------------------------------------------------------------\n",
    "\n",
    "\n",
    "\n",
    "\n"
   ]
  },
  {
   "cell_type": "markdown",
   "id": "dde74608",
   "metadata": {},
   "source": [
    "8. DataFrame Selector (2)\n",
    "-------------------------------\n",
    "Write a function that accepts three arguments `df`, `col_names` and `row_indices`. \n",
    "Assume `df` is a dataframe, `col_names` is a list and `row_indices` is a list. \n",
    "The function is to return a dataframe with only the columns specified in \n",
    "`col_names` and rows with explicit index corresponding to `row_indices`.\n",
    "\n",
    "\n",
    "Required Signature:\n",
    "\n",
    "    def dataframe_selector2(df,  row_indices, col_names):  \n",
    "        pass  \n",
    "\n",
    "Example:\n",
    "If this is the input dataframe df:\n",
    "\n",
    "|   | a |   b  |   c | \n",
    "| --- | --- | --- | --- | \n",
    "| 0 | 1 |  10 |  100 | \n",
    "| 1 |  2 |  20 |  200 | \n",
    "| 2 |  3  | 30 |  300 | \n",
    "\n",
    "Calling `dataframe_selector2(df, [0,2], ['a','c'])` will return the following dataframe:\n",
    "\n",
    "|  |   a |    c | \n",
    "| --- | --- | --- | \n",
    "| 0 |  1 |  100 | \n",
    "| 2 |  3 |  300 | \n",
    "\n",
    "\n",
    "\n"
   ]
  },
  {
   "cell_type": "code",
   "execution_count": null,
   "id": "700170b0",
   "metadata": {},
   "outputs": [],
   "source": [
    "# submit (we will import your solution from this cell. Don't use Global Variables here.  )\n",
    "# ------------------------------------------------------------------------------\n",
    "\n",
    "\n",
    "\n",
    "\n"
   ]
  },
  {
   "cell_type": "code",
   "execution_count": null,
   "id": "caa4707a",
   "metadata": {},
   "outputs": [],
   "source": [
    "# scratch (we will NOT mark this cell - use this for your own tests)\n",
    "# ------------------------------------------------------------------------------\n",
    "\n",
    "\n",
    "\n",
    "\n"
   ]
  },
  {
   "cell_type": "markdown",
   "id": "76481b90",
   "metadata": {},
   "source": [
    "9. Dataframe Combine (2)\n",
    "-------------------------------\n",
    "Write a function that takes in two dataframes `df1` and `df2` and returns a new\n",
    "dataframe which includes all their rows, sorted by their 'date' column. \n",
    "\n",
    "Required Signature:\n",
    "\n",
    "    def dataframe_combine2(df1, df2):  \n",
    "        pass  \n",
    "\n",
    "\n",
    "For example, if this is `df1`:\n",
    "\n",
    "| |         date | volume |\n",
    "|---|---|---|\n",
    "|0 | 01/01/2020  |    10 |\n",
    "|1 | 20/01/2020  |    20 |\n",
    "\n",
    "And this is `df2`:\n",
    "\n",
    "|   |      date | volume |\n",
    "|---|---|---|\n",
    "| 0 | 10/01/2020   |   30 |\n",
    "|1  | 30/01/2020  |    40 |\n",
    "\n",
    "Then this would be the expected output:\n",
    "\n",
    "| |         date | volume |\n",
    "|---|---|---|\n",
    "| 0  | 01/01/2020  |    10 |\n",
    "| 1  | 10/01/2020  |    30 |\n",
    "| 2  | 20/01/2020  |    20 |\n",
    "| 3  | 30/01/2020  |    40 |\n",
    "\n",
    "\n"
   ]
  },
  {
   "cell_type": "code",
   "execution_count": null,
   "id": "2dd0d0f4",
   "metadata": {},
   "outputs": [],
   "source": [
    "# submit (we will import your solution from this cell. Don't use Global Variables here.  )\n",
    "# ------------------------------------------------------------------------------\n",
    "\n",
    "\n",
    "\n",
    "\n"
   ]
  },
  {
   "cell_type": "code",
   "execution_count": null,
   "id": "0bd4d4ab",
   "metadata": {},
   "outputs": [],
   "source": [
    "# scratch (we will NOT mark this cell - use this for your own tests)\n",
    "# ------------------------------------------------------------------------------\n",
    "\n",
    "\n",
    "\n",
    "\n"
   ]
  },
  {
   "cell_type": "markdown",
   "id": "a518e63b",
   "metadata": {},
   "source": [
    "10. Dataframe Process Data (2)\n",
    "-------------------------------\n",
    "Given an input dataframe in which each row holds students' marks for some questions, e.g.\n",
    "\n",
    "|  | student | question   |    topic | mark |\n",
    "| --- | --- | --- | --- | --- |\n",
    "| 0    | Alice | multiply | arithmetic  |   6 |\n",
    "| 1 |   Bob   | multiply  | arithmetic  |   3 |\n",
    "| 2 |  Alice  |  divide | arithmetic  |   5 |\n",
    "| 3 |    Bob  |  divide | arithmetic  |   4 |\n",
    "| 4 |  Alice  |  angles |   geometry  |  10 |\n",
    "| 5  |   Bob  |  angles |   geometry  |   5 |\n",
    "\n",
    "Write a function to calculate the mean mark for each question, and return this in a dictionary.\n",
    "\n",
    "Required Signature:\n",
    "\n",
    "    def dataframe_process_data2(df):  \n",
    "        pass  \n",
    "\n",
    " For example, for the following input:\n",
    "```\n",
    "pd.DataFrame({'student':['Alice', 'Bob', 'Alice', 'Bob', 'Alice', 'Bob'], \n",
    "            'question':['multiply', 'multiply', 'divide', 'divide', 'angles','angles'],\n",
    "            'topic':['arithmetic', 'arithmetic', 'arithmetic', 'arithmetic', 'geometry','geometry'],\n",
    "            'mark':[10,20,30,40,50,60]})\n",
    "```            \n",
    "this is the expected output:\n",
    "\n",
    "`{'angles': 55, 'divide': 35, 'multiply': 15}`\n",
    "\n",
    "\n"
   ]
  },
  {
   "cell_type": "code",
   "execution_count": null,
   "id": "98d835c0",
   "metadata": {},
   "outputs": [],
   "source": [
    "# submit (we will import your solution from this cell. Don't use Global Variables here.  )\n",
    "# ------------------------------------------------------------------------------\n",
    "\n",
    "\n",
    "\n",
    "\n"
   ]
  },
  {
   "cell_type": "code",
   "execution_count": null,
   "id": "c024148a",
   "metadata": {},
   "outputs": [],
   "source": [
    "# scratch (we will NOT mark this cell - use this for your own tests)\n",
    "# ------------------------------------------------------------------------------\n",
    "\n",
    "\n",
    "\n",
    "\n"
   ]
  },
  {
   "cell_type": "markdown",
   "id": "54aa5c1b",
   "metadata": {},
   "source": [
    "11. Get SpaceFlight Articles\n",
    "-------------------------------\n",
    "\n",
    "Write a function that uses the articles endpoint of `https://api.spaceflightnewsapi.net/v3/articles` \n",
    "to return a list of the titles of recent news articles.\n",
    "\n",
    "Required Signature:\n",
    "\n",
    "    def get_spaceflight_articles():  \n",
    "        pass  \n",
    "\n",
    "For example, here are the first three items in the returned list, \n",
    "when the function was called on the 12th March:\n",
    "\n",
    "`['Satellogic expanding U.S. footprint with eye on national security market',` \n",
    "`'SpaceX Starlink beta testers see big speed boosts, major outages', `\n",
    "`\"NASA's Perseverance Mars Rover Mission Honors Navajo Language\"]`\n",
    "\n",
    "Your function should return the list of titles that are available\n",
    "at the time of making the call to `https://api.spaceflightnewsapi.net/v3/articles`\n",
    "\n",
    "\n"
   ]
  },
  {
   "cell_type": "code",
   "execution_count": null,
   "id": "d4a7a29d",
   "metadata": {},
   "outputs": [],
   "source": [
    "# submit (we will import your solution from this cell. Don't use Global Variables here.  )\n",
    "# ------------------------------------------------------------------------------\n",
    "\n",
    "\n",
    "\n",
    "\n"
   ]
  },
  {
   "cell_type": "code",
   "execution_count": null,
   "id": "6e6702d8",
   "metadata": {},
   "outputs": [],
   "source": [
    "# scratch (we will NOT mark this cell - use this for your own tests)\n",
    "# ------------------------------------------------------------------------------\n",
    "\n",
    "\n",
    "\n",
    "\n"
   ]
  }
 ],
 "metadata": {
  "kernelspec": {
   "display_name": "Python 3 (ipykernel)",
   "language": "python",
   "name": "python3"
  },
  "language_info": {
   "codemirror_mode": {
    "name": "ipython",
    "version": 3
   },
   "file_extension": ".py",
   "mimetype": "text/x-python",
   "name": "python",
   "nbconvert_exporter": "python",
   "pygments_lexer": "ipython3",
   "version": "3.9.7"
  }
 },
 "nbformat": 4,
 "nbformat_minor": 5
}
