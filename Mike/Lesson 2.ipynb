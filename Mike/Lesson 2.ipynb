{
 "cells": [
  {
   "cell_type": "markdown",
   "id": "8e62cfdb",
   "metadata": {},
   "source": [
    "# using end in print statement"
   ]
  },
  {
   "cell_type": "code",
   "execution_count": 4,
   "id": "70f43a1f",
   "metadata": {},
   "outputs": [
    {
     "name": "stdout",
     "output_type": "stream",
     "text": [
      "Today is Friday    Its evening    They are happy Python is great\n"
     ]
    }
   ],
   "source": [
    "print(\"Today is Friday\", end = '    ')\n",
    "print(\"Its evening\", end = '    ')\n",
    "print(\"They are happy\", \"Python is great\")"
   ]
  },
  {
   "cell_type": "code",
   "execution_count": 6,
   "id": "5e7847bd",
   "metadata": {},
   "outputs": [
    {
     "name": "stdout",
     "output_type": "stream",
     "text": [
      "Hello\tHello\tHello\tHello\tHello\tHello\tHello\tHello\tHello\tHello\t"
     ]
    }
   ],
   "source": [
    "for i in range(10):\n",
    "    print(\"Hello\", end = '\\t')"
   ]
  },
  {
   "cell_type": "markdown",
   "id": "cffed5f2",
   "metadata": {},
   "source": [
    "# Arithmetic Operators\n",
    "* Arithmetic Operators are used between numbers (integers and float)\n",
    "* Addition                   +\n",
    "* Subtraction                -\n",
    "* Multiplication             *\n",
    "* Division                   /\n",
    "* Power / Exponentiation     **\n",
    "* Remainder / Modulus         %        \n",
    "* Floor division              //"
   ]
  },
  {
   "cell_type": "code",
   "execution_count": 8,
   "id": "3fde5be7",
   "metadata": {},
   "outputs": [
    {
     "name": "stdout",
     "output_type": "stream",
     "text": [
      "10 + 5 =  15\n",
      "10 - 5 =  5\n",
      "10 * 5 =  50\n",
      "11 / 5 =  2.2\n",
      "5  ** 2 =  25\n",
      "11 % 5 =  1\n",
      "11 // 5 =  2\n"
     ]
    }
   ],
   "source": [
    "print(\"10 + 5 = \", 10 + 5)\n",
    "print(\"10 - 5 = \", 10 - 5)\n",
    "print(\"10 * 5 = \", 10 * 5)\n",
    "print(\"11 / 5 = \", 11 / 5)\n",
    "print(\"5  ** 2 = \", 5 ** 2)\n",
    "print(\"11 % 5 = \", 11 % 5)\n",
    "print(\"11 // 5 = \", 11 // 5)"
   ]
  },
  {
   "cell_type": "markdown",
   "id": "14cb6328",
   "metadata": {},
   "source": [
    "# Operator Precedence\n",
    "* B E DM AS"
   ]
  },
  {
   "cell_type": "code",
   "execution_count": 9,
   "id": "591650a7",
   "metadata": {},
   "outputs": [
    {
     "name": "stdout",
     "output_type": "stream",
     "text": [
      "5.0\n"
     ]
    }
   ],
   "source": [
    "expression = 5 + 5 * (2 + 2) / 5 + 2 ** 2 - 8   \n",
    "# 5 + 5 * 4 / 5 + 2 ** 2 - 8   \n",
    "# 5 + 5 * 4 / 5 + 4 - 8   \n",
    "# 5 + 20 / 5 + 4 - 8   \n",
    "# 5 + 4.0 + 4 - 8   \n",
    "# 5.0\n",
    "print(expression)"
   ]
  },
  {
   "cell_type": "markdown",
   "id": "13815b37",
   "metadata": {},
   "source": [
    "# Comparison Operators\n",
    "* >\n",
    "* <\n",
    "* >=\n",
    "* <=\n",
    "* !=\n",
    "* =="
   ]
  },
  {
   "cell_type": "code",
   "execution_count": 12,
   "id": "f2e6c11d",
   "metadata": {},
   "outputs": [
    {
     "name": "stdout",
     "output_type": "stream",
     "text": [
      "False\n",
      "True\n",
      "False\n",
      "True\n",
      "True\n",
      "False\n"
     ]
    }
   ],
   "source": [
    "print(10 < 2)\n",
    "print(10 > 2)\n",
    "print(10 <= 2)\n",
    "print(10 >= 2)\n",
    "print(10 != 2)\n",
    "print(10 == 2)"
   ]
  },
  {
   "cell_type": "code",
   "execution_count": 18,
   "id": "dbca6d90",
   "metadata": {},
   "outputs": [
    {
     "name": "stdout",
     "output_type": "stream",
     "text": [
      "False\n",
      "False\n",
      "True\n"
     ]
    }
   ],
   "source": [
    "print('orange' < 'apple')\n",
    "print( 'apple' == 'banana')\n",
    "print( 'apple' != 'banana')"
   ]
  },
  {
   "cell_type": "markdown",
   "id": "5260c6d2",
   "metadata": {},
   "source": [
    "# Conditional Structure / Decision Making\n",
    "* if / else\n",
    "* if part runs for True condition\n",
    "* else part runs for False condition\n",
    "* We write condition with if part only\n",
    "* Indentation : it defines a block of code\n",
    "* if  condition:\n",
    "    statement1\n",
    "    statement2\n",
    "    .........\n",
    "  else:\n",
    "      statement1\n",
    "      statement2\n",
    "      .........."
   ]
  },
  {
   "cell_type": "code",
   "execution_count": 22,
   "id": "07553924",
   "metadata": {},
   "outputs": [
    {
     "name": "stdout",
     "output_type": "stream",
     "text": [
      "You can enjoy rain at home\n"
     ]
    }
   ],
   "source": [
    "weather = 'raining'\n",
    "if weather == 'sunny':\n",
    "    print(\"You can go to school\")\n",
    "\n",
    "else:\n",
    "    print(\"You can enjoy rain at home\")"
   ]
  },
  {
   "cell_type": "code",
   "execution_count": null,
   "id": "de398786",
   "metadata": {},
   "outputs": [],
   "source": [
    "weather = 'raining'\n",
    "if weather == 'sunny':\n",
    "print(\"You can go to school\")  # Indentation Error\n",
    "\n",
    "else:\n",
    "    print(\"You can enjoy rain at home\")"
   ]
  },
  {
   "cell_type": "code",
   "execution_count": null,
   "id": "43bee562",
   "metadata": {},
   "outputs": [],
   "source": [
    "weather = 'raining'\n",
    "if weather == 'sunny':\n",
    "    print(\"You can go to school\")  \n",
    "print(\"Hello\")        # Syntax Error\n",
    "\n",
    "else:\n",
    "    print(\"You can enjoy rain at home\")"
   ]
  },
  {
   "cell_type": "code",
   "execution_count": 24,
   "id": "fc28772d",
   "metadata": {},
   "outputs": [
    {
     "name": "stdout",
     "output_type": "stream",
     "text": [
      "You can go to school\n"
     ]
    }
   ],
   "source": [
    "# else part is not necessary. you can skip it according to your program choice\n",
    "weather = 'raining'\n",
    "if weather == 'raining':\n",
    "    print(\"You can go to school\")\n",
    "\n"
   ]
  },
  {
   "cell_type": "code",
   "execution_count": null,
   "id": "9f4cc60a",
   "metadata": {},
   "outputs": [],
   "source": [
    "# income\n",
    "# cost\n",
    "\n",
    "# income > cost: print profit\n",
    "# income < cost: print loss"
   ]
  },
  {
   "cell_type": "code",
   "execution_count": 25,
   "id": "361a1eda",
   "metadata": {},
   "outputs": [
    {
     "name": "stdout",
     "output_type": "stream",
     "text": [
      "Odd\n"
     ]
    }
   ],
   "source": [
    "number = 3\n",
    "if number % 2 == 0:\n",
    "    print(\"Even\")\n",
    "    \n",
    "else:\n",
    "    print(\"Odd\")"
   ]
  },
  {
   "cell_type": "code",
   "execution_count": null,
   "id": "e2ac6ea7",
   "metadata": {},
   "outputs": [],
   "source": [
    "number1 = 7\n",
    "number2 = 10\n",
    "if number2 > number1:\n",
    "    print(\"Number2 is bigger\")\n",
    "else:\n",
    "    print(\"Number1 is bigger\")"
   ]
  },
  {
   "cell_type": "code",
   "execution_count": 26,
   "id": "cdabfede",
   "metadata": {},
   "outputs": [
    {
     "name": "stdout",
     "output_type": "stream",
     "text": [
      "Hi\n"
     ]
    }
   ],
   "source": [
    "if True:\n",
    "    print(\"Hi\")\n",
    "    \n",
    "else:\n",
    "    print(\"Bye\")"
   ]
  },
  {
   "cell_type": "code",
   "execution_count": 27,
   "id": "7cd864bb",
   "metadata": {},
   "outputs": [
    {
     "name": "stdout",
     "output_type": "stream",
     "text": [
      "Bye\n"
     ]
    }
   ],
   "source": [
    "if 0:\n",
    "    print(\"Hi\")\n",
    "    \n",
    "else:\n",
    "    print(\"Bye\")"
   ]
  },
  {
   "cell_type": "code",
   "execution_count": 28,
   "id": "361af458",
   "metadata": {},
   "outputs": [
    {
     "name": "stdout",
     "output_type": "stream",
     "text": [
      "Hi\n"
     ]
    }
   ],
   "source": [
    "if 45:\n",
    "    print(\"Hi\")\n",
    "    \n",
    "else:\n",
    "    print(\"Bye\")"
   ]
  },
  {
   "cell_type": "code",
   "execution_count": 29,
   "id": "3581d01b",
   "metadata": {},
   "outputs": [
    {
     "name": "stdout",
     "output_type": "stream",
     "text": [
      "Bye\n"
     ]
    }
   ],
   "source": [
    "if '':\n",
    "    print(\"Hi\")\n",
    "    \n",
    "else:\n",
    "    print(\"Bye\")"
   ]
  },
  {
   "cell_type": "code",
   "execution_count": 31,
   "id": "0e8f4e08",
   "metadata": {},
   "outputs": [
    {
     "name": "stdout",
     "output_type": "stream",
     "text": [
      "Hi\n"
     ]
    }
   ],
   "source": [
    "if 'orh':\n",
    "    print(\"Hi\")\n",
    "    \n",
    "else:\n",
    "    print(\"Bye\")"
   ]
  },
  {
   "cell_type": "markdown",
   "id": "6685f31f",
   "metadata": {},
   "source": [
    "* Logical Operators\n",
    "* multiple if conditions\n",
    "* if elif else\n",
    "* nested if else\n",
    "* fstrings"
   ]
  },
  {
   "cell_type": "markdown",
   "id": "4752945f",
   "metadata": {},
   "source": [
    "# Homework\n",
    "* type casting (converting from one data type to another data type) string to integer, integer to string  (Homework)\n",
    "* input function"
   ]
  },
  {
   "cell_type": "code",
   "execution_count": null,
   "id": "a7e31da9",
   "metadata": {},
   "outputs": [],
   "source": []
  }
 ],
 "metadata": {
  "kernelspec": {
   "display_name": "Python 3 (ipykernel)",
   "language": "python",
   "name": "python3"
  },
  "language_info": {
   "codemirror_mode": {
    "name": "ipython",
    "version": 3
   },
   "file_extension": ".py",
   "mimetype": "text/x-python",
   "name": "python",
   "nbconvert_exporter": "python",
   "pygments_lexer": "ipython3",
   "version": "3.9.7"
  }
 },
 "nbformat": 4,
 "nbformat_minor": 5
}
