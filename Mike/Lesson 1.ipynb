{
 "cells": [
  {
   "cell_type": "markdown",
   "id": "96a08246",
   "metadata": {},
   "source": [
    "# Python\n",
    "* Data Science, Machine Learning, Deep LEarning, Computer Vision, Web Development, GUI, Desktop, Hardware programming, Robotics\n",
    "* interpreter / compiler  (Used to convert high level code to a low level code)\n",
    "* Every language follows some set of rules to write a code that is called syntax\n",
    "* In every language, there are some built in functions"
   ]
  },
  {
   "cell_type": "markdown",
   "id": "66b8981a",
   "metadata": {},
   "source": [
    "* print() function\n",
    "* Data types\n",
    "* Variables\n",
    "* type() function\n",
    "* Errors: syntax error, name error, value error, type error, zero division error"
   ]
  },
  {
   "cell_type": "code",
   "execution_count": 2,
   "id": "74266d1d",
   "metadata": {},
   "outputs": [
    {
     "name": "stdout",
     "output_type": "stream",
     "text": [
      "Help on built-in function print in module builtins:\n",
      "\n",
      "print(...)\n",
      "    print(value, ..., sep=' ', end='\\n', file=sys.stdout, flush=False)\n",
      "    \n",
      "    Prints the values to a stream, or to sys.stdout by default.\n",
      "    Optional keyword arguments:\n",
      "    file:  a file-like object (stream); defaults to the current sys.stdout.\n",
      "    sep:   string inserted between values, default a space.\n",
      "    end:   string appended after the last value, default a newline.\n",
      "    flush: whether to forcibly flush the stream.\n",
      "\n"
     ]
    }
   ],
   "source": [
    "# print() it is used to display an output\n",
    "help(print)"
   ]
  },
  {
   "cell_type": "code",
   "execution_count": 5,
   "id": "e0b33dd2",
   "metadata": {},
   "outputs": [
    {
     "name": "stdout",
     "output_type": "stream",
     "text": [
      "Hello World\n",
      "Apple Orange Banana Water Melon 89 89.5\n"
     ]
    }
   ],
   "source": [
    "print(\"Hello World\")\n",
    "print(\"Apple\", \"Orange\", \"Banana\", \"Water Melon\", 89, 89.5)"
   ]
  },
  {
   "cell_type": "code",
   "execution_count": 8,
   "id": "ec363fde",
   "metadata": {},
   "outputs": [
    {
     "name": "stdout",
     "output_type": "stream",
     "text": [
      "Apple.Orange.Banana.Water Melon.89.89.5\n"
     ]
    }
   ],
   "source": [
    "print(\"Apple\", \"Orange\", \"Banana\", \"Water Melon\", 89, 89.5, sep = \"\")"
   ]
  },
  {
   "cell_type": "code",
   "execution_count": null,
   "id": "e29b731f",
   "metadata": {},
   "outputs": [],
   "source": [
    "# Escape Sequence\n",
    "# \\t  used for creating a tab space inside a string\n",
    "# \\n  used to create a new line inside a string"
   ]
  },
  {
   "cell_type": "code",
   "execution_count": 9,
   "id": "11e3fffe",
   "metadata": {},
   "outputs": [
    {
     "name": "stdout",
     "output_type": "stream",
     "text": [
      "We are learning python\n"
     ]
    }
   ],
   "source": [
    "print(\"We are learning python\")"
   ]
  },
  {
   "cell_type": "code",
   "execution_count": 11,
   "id": "030fb3ab",
   "metadata": {},
   "outputs": [
    {
     "name": "stdout",
     "output_type": "stream",
     "text": [
      "We\tare\tlearning\tpython\n"
     ]
    }
   ],
   "source": [
    "print(\"We\\tare\\tlearning\\tpython\")"
   ]
  },
  {
   "cell_type": "code",
   "execution_count": 12,
   "id": "859d50c9",
   "metadata": {},
   "outputs": [
    {
     "name": "stdout",
     "output_type": "stream",
     "text": [
      "We\n",
      "are learning python\n"
     ]
    }
   ],
   "source": [
    "print(\"We\\nare learning python\")"
   ]
  },
  {
   "cell_type": "code",
   "execution_count": 13,
   "id": "7b296d62",
   "metadata": {},
   "outputs": [
    {
     "name": "stdout",
     "output_type": "stream",
     "text": [
      "We\n",
      "are\n",
      "learning\n",
      "python\n"
     ]
    }
   ],
   "source": [
    "print(\"We\\nare\\nlearning\\npython\")"
   ]
  },
  {
   "cell_type": "code",
   "execution_count": 16,
   "id": "45cb55ee",
   "metadata": {},
   "outputs": [
    {
     "name": "stdout",
     "output_type": "stream",
     "text": [
      "Apple\tOrange\tBanana\tWater Melon\t89\t89.5\n"
     ]
    }
   ],
   "source": [
    "print(\"Apple\", \"Orange\", \"Banana\", \"Water Melon\", 89, 89.5, sep = \"\\t\")"
   ]
  },
  {
   "cell_type": "code",
   "execution_count": 17,
   "id": "0e9f7d28",
   "metadata": {},
   "outputs": [
    {
     "name": "stdout",
     "output_type": "stream",
     "text": [
      "Apple\n",
      "Orange\n",
      "Banana\n",
      "Water Melon\n",
      "89\n",
      "89.5\n"
     ]
    }
   ],
   "source": [
    "print(\"Apple\", \"Orange\", \"Banana\", \"Water Melon\", 89, 89.5, sep = \"\\n\")"
   ]
  },
  {
   "cell_type": "code",
   "execution_count": 18,
   "id": "ccf72e28",
   "metadata": {},
   "outputs": [
    {
     "ename": "NameError",
     "evalue": "name 'Print' is not defined",
     "output_type": "error",
     "traceback": [
      "\u001b[1;31m---------------------------------------------------------------------------\u001b[0m",
      "\u001b[1;31mNameError\u001b[0m                                 Traceback (most recent call last)",
      "\u001b[1;32m~\\AppData\\Local\\Temp/ipykernel_11128/320528285.py\u001b[0m in \u001b[0;36m<module>\u001b[1;34m\u001b[0m\n\u001b[1;32m----> 1\u001b[1;33m \u001b[0mPrint\u001b[0m\u001b[1;33m(\u001b[0m\u001b[1;34m\"Hello World\"\u001b[0m\u001b[1;33m)\u001b[0m\u001b[1;33m\u001b[0m\u001b[1;33m\u001b[0m\u001b[0m\n\u001b[0m",
      "\u001b[1;31mNameError\u001b[0m: name 'Print' is not defined"
     ]
    }
   ],
   "source": [
    "Print(\"Hello World\")"
   ]
  },
  {
   "cell_type": "code",
   "execution_count": 21,
   "id": "7e640a5c",
   "metadata": {},
   "outputs": [
    {
     "ename": "SyntaxError",
     "evalue": "unexpected EOF while parsing (Temp/ipykernel_11128/662561251.py, line 1)",
     "output_type": "error",
     "traceback": [
      "\u001b[1;36m  File \u001b[1;32m\"C:\\Users\\shahj\\AppData\\Local\\Temp/ipykernel_11128/662561251.py\"\u001b[1;36m, line \u001b[1;32m1\u001b[0m\n\u001b[1;33m    print(\"Hello World\"  , 67\u001b[0m\n\u001b[1;37m                             ^\u001b[0m\n\u001b[1;31mSyntaxError\u001b[0m\u001b[1;31m:\u001b[0m unexpected EOF while parsing\n"
     ]
    }
   ],
   "source": [
    "print(\"Hello World\"  , 67"
   ]
  },
  {
   "cell_type": "markdown",
   "id": "958ffc3e",
   "metadata": {},
   "source": [
    "* Python is a case sensitive language"
   ]
  },
  {
   "cell_type": "markdown",
   "id": "e8194a20",
   "metadata": {},
   "source": [
    "# Data types\n",
    "* string      str              Any character written inside double or single quotes will be treated as a string \"Hello\"\n",
    "* integer     int              numbers without decimal part 34, 0, , -87, 103\n",
    "* floats      float            numbers with the decimal part   76.95, 0.00 , -87.75\n",
    "* boolean     bool             True , False\n",
    "* lists\n",
    "* tuples\n",
    "* dictionary\n",
    "* sets"
   ]
  },
  {
   "cell_type": "code",
   "execution_count": 25,
   "id": "483d69f2",
   "metadata": {},
   "outputs": [
    {
     "name": "stdout",
     "output_type": "stream",
     "text": [
      "True False\n"
     ]
    }
   ],
   "source": [
    "print(True, False)\n",
    "# print(true)  Name Error"
   ]
  },
  {
   "cell_type": "markdown",
   "id": "332e6221",
   "metadata": {},
   "source": [
    "# type() function"
   ]
  },
  {
   "cell_type": "code",
   "execution_count": 27,
   "id": "c0516c00",
   "metadata": {},
   "outputs": [
    {
     "name": "stdout",
     "output_type": "stream",
     "text": [
      "<class 'int'>\n",
      "<class 'str'>\n",
      "<class 'float'>\n",
      "<class 'bool'>\n"
     ]
    }
   ],
   "source": [
    "# type() function  inside type function we can provide only one value of any data type and it will display the type\n",
    "#                   of that value in the output\n",
    "print(type(45))\n",
    "print(type(\"Python\"))\n",
    "print(type(0.98))\n",
    "print(type(True))"
   ]
  },
  {
   "cell_type": "code",
   "execution_count": 29,
   "id": "88a41c3d",
   "metadata": {},
   "outputs": [
    {
     "name": "stdout",
     "output_type": "stream",
     "text": [
      "<class 'int'>\n",
      "<class 'str'>\n"
     ]
    }
   ],
   "source": [
    "print(type(45), type(\"Python\"), sep = \"\\n\")"
   ]
  },
  {
   "cell_type": "markdown",
   "id": "833d941d",
   "metadata": {},
   "source": [
    "# Variables\n",
    "* Variables are used to store a value or hold value and you can use it later with its name\n",
    "* variable_name = value of any data type\n",
    "* Some rules for variable naming (Home work)"
   ]
  },
  {
   "cell_type": "code",
   "execution_count": 32,
   "id": "3b89cdfd",
   "metadata": {},
   "outputs": [
    {
     "name": "stdout",
     "output_type": "stream",
     "text": [
      "175\n"
     ]
    }
   ],
   "source": [
    "value = 35\n",
    "print(value * 5)"
   ]
  },
  {
   "cell_type": "markdown",
   "id": "a191be57",
   "metadata": {},
   "source": [
    "# Homework\n",
    "* using end in a print statement with examples\n",
    "* Variable naming rules in python"
   ]
  },
  {
   "cell_type": "markdown",
   "id": "03722c18",
   "metadata": {},
   "source": [
    "* Arithmetic Operators\n",
    "* Operator Precedence\n",
    "* Comparison Operators\n",
    "* if else"
   ]
  },
  {
   "cell_type": "code",
   "execution_count": null,
   "id": "a1b0b09c",
   "metadata": {},
   "outputs": [],
   "source": []
  }
 ],
 "metadata": {
  "kernelspec": {
   "display_name": "Python 3 (ipykernel)",
   "language": "python",
   "name": "python3"
  },
  "language_info": {
   "codemirror_mode": {
    "name": "ipython",
    "version": 3
   },
   "file_extension": ".py",
   "mimetype": "text/x-python",
   "name": "python",
   "nbconvert_exporter": "python",
   "pygments_lexer": "ipython3",
   "version": "3.9.7"
  }
 },
 "nbformat": 4,
 "nbformat_minor": 5
}
