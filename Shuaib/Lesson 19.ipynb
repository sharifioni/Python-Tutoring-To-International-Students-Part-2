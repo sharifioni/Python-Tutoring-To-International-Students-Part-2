{
 "cells": [
  {
   "cell_type": "markdown",
   "id": "bc1172fb",
   "metadata": {},
   "source": [
    "# Functions\n",
    "* Two types of functions: Built in Functions, User Defined Functions\n",
    "* print(), input(), type(), sum(), len(), max(), min(), int(), str(),float()\n",
    "* Functions are created to perform a certain task\n",
    "* It increases readibility of code, avoids repetition, and you can use them whenever you want"
   ]
  },
  {
   "cell_type": "markdown",
   "id": "88c6b1f2",
   "metadata": {},
   "source": [
    "### Structure of Functions\n",
    "> def function_name(<parameters>):\n",
    "    <statement 1>\n",
    "    <statement 2>\n",
    "    ..............\n",
    "        \n",
    "* name of function and creating a function\n",
    "* parameters  (Written in paranthesis of function in the form of variable names)\n",
    "* arguments  (Passed to a function when we call it)\n",
    "* Function Calling (After you have created your function, you can call it by its name with paranthesis)\n",
    "* Function Docstrings\n",
    "* Function Returning\n",
    "* Function body will never run until you call it\n"
   ]
  },
  {
   "cell_type": "code",
   "execution_count": 3,
   "id": "5d423ef1",
   "metadata": {},
   "outputs": [
    {
     "name": "stdout",
     "output_type": "stream",
     "text": [
      "Before Calling our Function multiply()\n",
      "20\n",
      "After calling our function multiply()\n"
     ]
    }
   ],
   "source": [
    "# name of function and creating a function\n",
    "\n",
    "def multiply():\n",
    "    num1=4\n",
    "    num2=5\n",
    "    print(num1*num2)\n",
    "  \n",
    "\n",
    "print(\"Before Calling our Function multiply()\")\n",
    "\n",
    "# Function Calling\n",
    "multiply()\n",
    "\n",
    "print(\"After calling our function multiply()\")"
   ]
  },
  {
   "cell_type": "code",
   "execution_count": 6,
   "id": "0506297f",
   "metadata": {},
   "outputs": [
    {
     "name": "stdout",
     "output_type": "stream",
     "text": [
      "Before Calling our Function OneDigit( 5 )\n"
     ]
    },
    {
     "ename": "TypeError",
     "evalue": "OneDigit() takes 1 positional argument but 2 were given",
     "output_type": "error",
     "traceback": [
      "\u001b[1;31m---------------------------------------------------------------------------\u001b[0m",
      "\u001b[1;31mTypeError\u001b[0m                                 Traceback (most recent call last)",
      "\u001b[1;32m~\\AppData\\Local\\Temp/ipykernel_9232/1028741144.py\u001b[0m in \u001b[0;36m<module>\u001b[1;34m\u001b[0m\n\u001b[0;32m     12\u001b[0m \u001b[1;31m# Function Calling\u001b[0m\u001b[1;33m\u001b[0m\u001b[1;33m\u001b[0m\u001b[0m\n\u001b[0;32m     13\u001b[0m          \u001b[1;31m#Argument\u001b[0m\u001b[1;33m\u001b[0m\u001b[1;33m\u001b[0m\u001b[0m\n\u001b[1;32m---> 14\u001b[1;33m \u001b[0mOneDigit\u001b[0m\u001b[1;33m(\u001b[0m \u001b[1;36m5\u001b[0m \u001b[1;33m,\u001b[0m \u001b[1;36m6\u001b[0m  \u001b[1;33m)\u001b[0m\u001b[1;33m\u001b[0m\u001b[1;33m\u001b[0m\u001b[0m\n\u001b[0m\u001b[0;32m     15\u001b[0m \u001b[1;33m\u001b[0m\u001b[0m\n\u001b[0;32m     16\u001b[0m \u001b[0mprint\u001b[0m\u001b[1;33m(\u001b[0m\u001b[1;34m\"After calling our function OneDigit( 5 )\"\u001b[0m\u001b[1;33m)\u001b[0m\u001b[1;33m\u001b[0m\u001b[1;33m\u001b[0m\u001b[0m\n",
      "\u001b[1;31mTypeError\u001b[0m: OneDigit() takes 1 positional argument but 2 were given"
     ]
    }
   ],
   "source": [
    "# name of function and creating a function\n",
    "# A function that involves arguments and parameters\n",
    "\n",
    "              #Parameter\n",
    "def OneDigit(   num1     ):\n",
    "    print(num1)\n",
    "    \n",
    "  \n",
    "\n",
    "print(\"Before Calling our Function OneDigit( 5 )\")\n",
    "\n",
    "# Function Calling\n",
    "         #Argument\n",
    "OneDigit( 5  )\n",
    "\n",
    "print(\"After calling our function OneDigit( 5 )\")"
   ]
  },
  {
   "cell_type": "code",
   "execution_count": 4,
   "id": "770363a5",
   "metadata": {},
   "outputs": [
    {
     "name": "stdout",
     "output_type": "stream",
     "text": [
      "Before Calling our Function multiply(20,5)\n",
      "100\n",
      "After calling our function multiply(20,5)\n"
     ]
    }
   ],
   "source": [
    "# name of function and creating a function\n",
    "\n",
    "def multiply(num1,num2):\n",
    "    print(num1*num2)\n",
    "  \n",
    "\n",
    "print(\"Before Calling our Function multiply(20,5)\")\n",
    "\n",
    "# Function Calling\n",
    "multiply(20,5)\n",
    "\n",
    "print(\"After calling our function multiply(20,5)\")"
   ]
  },
  {
   "cell_type": "markdown",
   "id": "5fbd0f3d",
   "metadata": {},
   "source": [
    "* Function Docstrings\n",
    "* Types of arguments (default arguments, positional arguments, keyword arguments, arbitrary arguments, arbitrary keyword arguments)\n",
    "* importing a module\n",
    "* Function Returning\n",
    "* Scope of Variables in functions"
   ]
  },
  {
   "cell_type": "code",
   "execution_count": 5,
   "id": "220bfcfb",
   "metadata": {},
   "outputs": [],
   "source": [
    "multiply?"
   ]
  }
 ],
 "metadata": {
  "kernelspec": {
   "display_name": "Python 3 (ipykernel)",
   "language": "python",
   "name": "python3"
  },
  "language_info": {
   "codemirror_mode": {
    "name": "ipython",
    "version": 3
   },
   "file_extension": ".py",
   "mimetype": "text/x-python",
   "name": "python",
   "nbconvert_exporter": "python",
   "pygments_lexer": "ipython3",
   "version": "3.9.7"
  }
 },
 "nbformat": 4,
 "nbformat_minor": 5
}
