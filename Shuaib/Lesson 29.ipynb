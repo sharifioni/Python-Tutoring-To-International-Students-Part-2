{
 "cells": [
  {
   "cell_type": "markdown",
   "id": "78918a62",
   "metadata": {},
   "source": [
    "# List methods\n",
    "* append()\n",
    "* extend()\n",
    "* count()\n",
    "* insert()\n",
    "* reverse()\n",
    "* pop()\n",
    "* remove()\n",
    "* sort()\n",
    "* clear()\n",
    "* copy()\n",
    "* index()"
   ]
  },
  {
   "cell_type": "code",
   "execution_count": 1,
   "id": "505cf095",
   "metadata": {},
   "outputs": [
    {
     "name": "stdout",
     "output_type": "stream",
     "text": [
      "[2, 4, 6, 8, 10, 12]\n"
     ]
    }
   ],
   "source": [
    "# append() method. it will add a value at the end of the list\n",
    "# list.append(value)\n",
    "\n",
    "a = [2, 4, 6, 8, 10]\n",
    "a.append(12)\n",
    "print(a)"
   ]
  },
  {
   "cell_type": "code",
   "execution_count": 4,
   "id": "3440dd0e",
   "metadata": {},
   "outputs": [
    {
     "name": "stdout",
     "output_type": "stream",
     "text": [
      "[2, 4, 6, 8, 10, [12, 14, 16]]\n"
     ]
    }
   ],
   "source": [
    "a = [2, 4, 6, 8, 10]\n",
    "a.append([12,14,16])\n",
    "print(a)"
   ]
  },
  {
   "cell_type": "code",
   "execution_count": 5,
   "id": "eaeaeae7",
   "metadata": {},
   "outputs": [
    {
     "name": "stdout",
     "output_type": "stream",
     "text": [
      "[2, 4, 6, 8, 10, 'Hello']\n"
     ]
    }
   ],
   "source": [
    "a = [2, 4, 6, 8, 10]\n",
    "a.append(\"Hello\")\n",
    "print(a)"
   ]
  },
  {
   "cell_type": "code",
   "execution_count": 6,
   "id": "5f6594e3",
   "metadata": {},
   "outputs": [
    {
     "name": "stdout",
     "output_type": "stream",
     "text": [
      "[2, 4, 6, 8, 10, 'H', 'e', 'l', 'l', 'o']\n"
     ]
    }
   ],
   "source": [
    "# extend method. it extends your current list with an iterable at the end of your current list\n",
    "# list.extend(iterable)\n",
    "\n",
    "a = [2, 4, 6, 8, 10]\n",
    "a.extend(\"Hello\")\n",
    "print(a)"
   ]
  },
  {
   "cell_type": "code",
   "execution_count": 7,
   "id": "8a87f3d3",
   "metadata": {},
   "outputs": [
    {
     "name": "stdout",
     "output_type": "stream",
     "text": [
      "[2, 4, 6, 8, 10, 12, 14, 16]\n"
     ]
    }
   ],
   "source": [
    "a = [2, 4, 6, 8, 10]\n",
    "a.extend([12,14,16])\n",
    "print(a)"
   ]
  },
  {
   "cell_type": "code",
   "execution_count": 10,
   "id": "d709c0e6",
   "metadata": {},
   "outputs": [
    {
     "name": "stdout",
     "output_type": "stream",
     "text": [
      "None\n",
      "[2, 4, 6, 8, 10, 13, 14, 15]\n"
     ]
    }
   ],
   "source": [
    "a = [2, 4, 6, 8, 10]\n",
    "a.extend((13,14,15))\n",
    "print(a)"
   ]
  },
  {
   "cell_type": "code",
   "execution_count": 11,
   "id": "e1c4b255",
   "metadata": {},
   "outputs": [
    {
     "name": "stdout",
     "output_type": "stream",
     "text": [
      "3\n"
     ]
    }
   ],
   "source": [
    "# count() method\n",
    "# count() it accepts an item and returns an integer after counting that item from your list\n",
    "# list.count(item)\n",
    "\n",
    "a = [2, 4, 6, 8, 10,2,2,8]\n",
    "b = a.count(2)\n",
    "print(b)"
   ]
  },
  {
   "cell_type": "code",
   "execution_count": 12,
   "id": "8e53b15f",
   "metadata": {},
   "outputs": [
    {
     "name": "stdout",
     "output_type": "stream",
     "text": [
      "2\n",
      "4\n",
      "6\n",
      "8\n",
      "10\n",
      "2\n",
      "2\n",
      "8\n"
     ]
    }
   ],
   "source": [
    "a = [2, 4, 6, 8, 10, 2, 2, 8]\n",
    "for i in a:\n",
    "    print(i)"
   ]
  },
  {
   "cell_type": "code",
   "execution_count": null,
   "id": "06a62e56",
   "metadata": {},
   "outputs": [],
   "source": [
    "for i in range(8):\n",
    "    print(i)"
   ]
  },
  {
   "cell_type": "code",
   "execution_count": 18,
   "id": "29295ac4",
   "metadata": {},
   "outputs": [
    {
     "name": "stdout",
     "output_type": "stream",
     "text": [
      "0\n",
      "1\n",
      "2\n",
      "3\n",
      "4\n",
      "5\n",
      "6\n",
      "7\n"
     ]
    }
   ],
   "source": [
    "a = [2, 4, 6, 8, 10, 2, 2, 8]\n",
    "\n",
    "for i in range(len(a)):\n",
    "    print(i)\n",
    "    "
   ]
  },
  {
   "cell_type": "code",
   "execution_count": 17,
   "id": "4820c17d",
   "metadata": {},
   "outputs": [
    {
     "name": "stdout",
     "output_type": "stream",
     "text": [
      "Index = 0, Value = 2\n",
      "Index = 1, Value = 4\n",
      "Index = 2, Value = 6\n",
      "Index = 3, Value = 8\n",
      "Index = 4, Value = 10\n",
      "Index = 5, Value = 2\n",
      "Index = 6, Value = 2\n",
      "Index = 7, Value = 8\n"
     ]
    }
   ],
   "source": [
    "a = [2, 4, 6, 8, 10, 2, 2, 8]\n",
    "\n",
    "# len(a) = 8\n",
    "# start = 0 , stop = 8\n",
    "# i = 0\n",
    "# a[i] = a[0] = 2\n",
    "\n",
    "# i = 1\n",
    "# a[i] = a[1] = 4\n",
    "\n",
    "for i in range(len(a)):\n",
    "    print(f\"Index = {i}, Value = {a[i]}\")\n",
    "    "
   ]
  },
  {
   "cell_type": "code",
   "execution_count": 1,
   "id": "f7ad8e58",
   "metadata": {},
   "outputs": [
    {
     "name": "stdout",
     "output_type": "stream",
     "text": [
      "5 is divisible by 5 and its index is 0\n",
      "65 is divisible by 5 and its index is 3\n",
      "115 is divisible by 5 and its index is 4\n",
      "200 is divisible by 5 and its index is 5\n"
     ]
    }
   ],
   "source": [
    "a = [5, 23, 54, 65, 115, 200]\n",
    "# print those values and indexes that are divisible by 5\n",
    "for i in range(len(a)):\n",
    "    if a[i] % 5 == 0:\n",
    "        print(f\"{a[i]} is divisible by 5 and its index is {i}\")\n",
    "        \n",
    "        \n"
   ]
  }
 ],
 "metadata": {
  "kernelspec": {
   "display_name": "Python 3 (ipykernel)",
   "language": "python",
   "name": "python3"
  },
  "language_info": {
   "codemirror_mode": {
    "name": "ipython",
    "version": 3
   },
   "file_extension": ".py",
   "mimetype": "text/x-python",
   "name": "python",
   "nbconvert_exporter": "python",
   "pygments_lexer": "ipython3",
   "version": "3.9.7"
  }
 },
 "nbformat": 4,
 "nbformat_minor": 5
}
