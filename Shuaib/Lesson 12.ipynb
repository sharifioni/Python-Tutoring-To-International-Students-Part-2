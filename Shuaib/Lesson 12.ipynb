{
 "cells": [
  {
   "cell_type": "markdown",
   "id": "eece5945",
   "metadata": {},
   "source": [
    "# Nested if else\n",
    "* using if else statements inside another if statement is called nested if else\n"
   ]
  },
  {
   "cell_type": "code",
   "execution_count": 2,
   "id": "34fd9aa4",
   "metadata": {},
   "outputs": [
    {
     "name": "stdout",
     "output_type": "stream",
     "text": [
      "Enter any guess between 1 and 10: 8\n",
      "Your guess is greater than the correct guess\n",
      "Enter any guess between 1 and 10 again: 4\n",
      "Unfortunately you lose\n"
     ]
    }
   ],
   "source": [
    "# guessing\n",
    "guess=int(input(\"Enter any guess between 1 and 10: \"))#8\n",
    "correct_guess=5\n",
    "\n",
    "if guess<correct_guess: #False\n",
    "    print(\"Your guess is lower than the correct guess\")\n",
    "    \n",
    "    guess=int(input(\"Enter any guess between 1 and 10 again: \"))\n",
    "    if guess==correct_guess:\n",
    "        print(\"You win on second attempt\")\n",
    "    else:\n",
    "        print(\"Unfortunately you lose\")\n",
    "    \n",
    "elif guess > correct_guess: #True\n",
    "    print(\"Your guess is greater than the correct guess\")\n",
    "    \n",
    "    guess=int(input(\"Enter any guess between 1 and 10 again: \"))#4\n",
    "    if guess==correct_guess:#False\n",
    "        print(\"You win on second attempt\")\n",
    "    else:\n",
    "        print(\"Unfortunately you lose\")\n",
    "else:\n",
    "    print(\"Your guess is correct, you win\")\n"
   ]
  },
  {
   "cell_type": "code",
   "execution_count": null,
   "id": "ad9c5417",
   "metadata": {},
   "outputs": [],
   "source": []
  },
  {
   "cell_type": "code",
   "execution_count": 16,
   "id": "f140ac70",
   "metadata": {},
   "outputs": [
    {
     "name": "stdout",
     "output_type": "stream",
     "text": [
      "\n"
     ]
    }
   ],
   "source": [
    "print(\"Hello \"*0)"
   ]
  },
  {
   "cell_type": "code",
   "execution_count": 18,
   "id": "2ea67d8e",
   "metadata": {},
   "outputs": [
    {
     "name": "stdout",
     "output_type": "stream",
     "text": [
      "Enter number of rows: 15\n",
      "*\n",
      "**\n",
      "***\n",
      "****\n",
      "*****\n",
      "******\n",
      "*******\n",
      "********\n",
      "*********\n",
      "**********\n",
      "***********\n",
      "************\n",
      "*************\n",
      "**************\n",
      "***************\n"
     ]
    }
   ],
   "source": [
    "# Exercise 3.17 (a)\n",
    "rows=int(input(\"Enter number of rows: \"))\n",
    "for i in range(1,rows+1):\n",
    "    print(\"*\"*i)\n"
   ]
  },
  {
   "cell_type": "markdown",
   "id": "ed0ec03a",
   "metadata": {},
   "source": [
    "# Nested for loops\n",
    "* Using a for loop inside another for loop"
   ]
  },
  {
   "cell_type": "code",
   "execution_count": null,
   "id": "8e37a38b",
   "metadata": {},
   "outputs": [],
   "source": []
  },
  {
   "cell_type": "markdown",
   "id": "3ad36a9d",
   "metadata": {},
   "source": [
    "# Homework\n",
    "* Difference between multiple if statements and if elif statements with example\n",
    "* Difference between and logical operator, or logical operator with example\n",
    "* Write any program using nested if statements or nested if else statements\n",
    "* Difference between sep and end inside print function with example\n",
    "* Exercises on Lesson 9\n",
    "* Exercise 3.17 (b)"
   ]
  }
 ],
 "metadata": {
  "kernelspec": {
   "display_name": "Python 3 (ipykernel)",
   "language": "python",
   "name": "python3"
  },
  "language_info": {
   "codemirror_mode": {
    "name": "ipython",
    "version": 3
   },
   "file_extension": ".py",
   "mimetype": "text/x-python",
   "name": "python",
   "nbconvert_exporter": "python",
   "pygments_lexer": "ipython3",
   "version": "3.9.7"
  }
 },
 "nbformat": 4,
 "nbformat_minor": 5
}
