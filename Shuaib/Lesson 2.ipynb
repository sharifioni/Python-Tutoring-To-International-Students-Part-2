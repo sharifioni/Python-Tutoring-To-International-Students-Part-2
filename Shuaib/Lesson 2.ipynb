{
 "cells": [
  {
   "cell_type": "markdown",
   "id": "1a013cf1",
   "metadata": {},
   "source": [
    "# Escape Sequences\n",
    ">Escape Sequences are used to display your output in a meaningful way\n",
    ">\n",
    ">They are used with strings\n",
    ">\n",
    ">  \\ (backslash character is called escape character and it is also callled continuation operator)\n",
    ">\n",
    "> \\n  (It is used for creating a new line\n",
    ">\n",
    "> \\t   It is used for creating tab spaces\n",
    ">\n",
    "> \\\\\\   It is used for adding backslash or remove special purpose of escape sequence\n",
    ">\n",
    ">  \\\\'   is used for adding a single quote in your string\n",
    ">\n",
    ">  \\\\\"   is used for adding a double quote in your string"
   ]
  },
  {
   "cell_type": "code",
   "execution_count": 8,
   "id": "005bdbde",
   "metadata": {},
   "outputs": [
    {
     "name": "stdout",
     "output_type": "stream",
     "text": [
      "Hello!, My name is Shuaib \" \n"
     ]
    }
   ],
   "source": [
    "print(\"Hello!, My name is Shuaib  \")"
   ]
  },
  {
   "cell_type": "code",
   "execution_count": 2,
   "id": "30629e5a",
   "metadata": {},
   "outputs": [
    {
     "name": "stdout",
     "output_type": "stream",
     "text": [
      "Hello!, \n",
      "My name is Shuaib\n"
     ]
    }
   ],
   "source": [
    "print(\"Hello!, \\nMy name is Shuaib\")"
   ]
  },
  {
   "cell_type": "code",
   "execution_count": 7,
   "id": "517c4095",
   "metadata": {},
   "outputs": [
    {
     "name": "stdout",
     "output_type": "stream",
     "text": [
      "Hello!, \tMy name is Shuaib\tWe are learning python\n",
      "This is second argument\n"
     ]
    }
   ],
   "source": [
    "print(\"Hello!, \\tMy name is Shuaib\\tWe are learning python\",\"This is second argument\",sep=\"\\n\")"
   ]
  },
  {
   "cell_type": "code",
   "execution_count": 11,
   "id": "14f224b2",
   "metadata": {},
   "outputs": [
    {
     "name": "stdout",
     "output_type": "stream",
     "text": [
      "Hi \\\n"
     ]
    }
   ],
   "source": [
    "print(\"Hi \\\\\")"
   ]
  },
  {
   "cell_type": "code",
   "execution_count": 13,
   "id": "54ca841e",
   "metadata": {},
   "outputs": [
    {
     "name": "stdout",
     "output_type": "stream",
     "text": [
      "Hello!, \n",
      "My name is Shuaib\n"
     ]
    }
   ],
   "source": [
    "print(\"Hello!, \\\\nMy name is Shuaib\")"
   ]
  },
  {
   "cell_type": "code",
   "execution_count": 10,
   "id": "5c0bb23f",
   "metadata": {},
   "outputs": [
    {
     "name": "stdout",
     "output_type": "stream",
     "text": [
      "E:\\new.txt\n"
     ]
    }
   ],
   "source": [
    "print('E:\\\\new.txt')"
   ]
  },
  {
   "cell_type": "code",
   "execution_count": 19,
   "id": "c748cf2c",
   "metadata": {},
   "outputs": [
    {
     "name": "stdout",
     "output_type": "stream",
     "text": [
      "My mother's cat is sick\n"
     ]
    }
   ],
   "source": [
    "# Example: My mother's cat is sick\n",
    "\n",
    "print('My mother\\'s cat is sick')"
   ]
  },
  {
   "cell_type": "code",
   "execution_count": 22,
   "id": "aeb1dcd3",
   "metadata": {},
   "outputs": [
    {
     "name": "stdout",
     "output_type": "stream",
     "text": [
      "My mother said, \"Sara's cat is sick.\"\n"
     ]
    }
   ],
   "source": [
    "# Example: My mother said, \"Sara's cat is sick\".\n",
    "print(\"My mother said, \\\"Sara's cat is sick.\\\"\")"
   ]
  },
  {
   "cell_type": "code",
   "execution_count": 28,
   "id": "3fed5166",
   "metadata": {},
   "outputs": [
    {
     "name": "stdout",
     "output_type": "stream",
     "text": [
      "number\tsquare\tcube\n",
      "0\t0\t0\n"
     ]
    }
   ],
   "source": [
    "# Exercise 2.8\n",
    "print(\"number\",\"square\",\"cube\",sep=\"\\t\")\n",
    "print(0,0**2,0**3,sep=\"\\t\")"
   ]
  },
  {
   "cell_type": "markdown",
   "id": "d298c4be",
   "metadata": {},
   "source": [
    "# Arithmetic Operators\n",
    "> Used between two integer or float values\n",
    "> \n",
    "> \\+ , -, *, / , **, // , %"
   ]
  },
  {
   "cell_type": "code",
   "execution_count": 40,
   "id": "380fd6da",
   "metadata": {},
   "outputs": [
    {
     "name": "stdout",
     "output_type": "stream",
     "text": [
      "10 + 5 = 15\n",
      "10 - 5 = 5\n",
      "10 * 5 = 50\n",
      "11 / 3 = 3.6666666666666665\n",
      "2 ** 4 = 16\n",
      "11 // 3 = 3\n",
      "11 % 3 =  2\n"
     ]
    }
   ],
   "source": [
    "print(\"10 + 5 =\",10+5)\n",
    "print(\"10 - 5 =\",10-5)\n",
    "print(\"10 * 5 =\",10*5)\n",
    "print(\"11 / 3 =\",11/3)\n",
    "print(\"2 ** 4 =\",2**4)       # Power / Exponentiation  **\n",
    "print(\"11 // 3 =\",11 // 3)   #Floor Division           //  \n",
    "print(\"11 % 3 = \",11%3)      #Modulus/ Remainder       %"
   ]
  },
  {
   "cell_type": "code",
   "execution_count": 43,
   "id": "a65f6336",
   "metadata": {},
   "outputs": [
    {
     "name": "stdout",
     "output_type": "stream",
     "text": [
      "10 + 5.5 = 15.5\n",
      "10 - 5.5 = 4.5\n",
      "10 * 5.5 = 55.0\n",
      "11 / 3.3 = 3.3333333333333335\n",
      "2.5 ** 4 = 39.0625\n",
      "11 // 3 = 3.0\n",
      "11.77 % 3.3 =  1.87\n"
     ]
    }
   ],
   "source": [
    "print(\"10 + 5.5 =\",10+5.5)\n",
    "print(\"10 - 5.5 =\",10-5.5)\n",
    "print(\"10 * 5.5 =\",10*5.5)\n",
    "print(\"11 / 3.3 =\",11/3.3)\n",
    "print(\"2.5 ** 4 =\",2.5**4)       # Power / Exponentiation  **\n",
    "print(\"11 // 3 =\",11.33 // 3.77)   #Floor Division           //  \n",
    "print(\"11.77 % 3.3 = \",11.77%3.3)      #Modulus/ Remainder       %"
   ]
  }
 ],
 "metadata": {
  "kernelspec": {
   "display_name": "Python 3 (ipykernel)",
   "language": "python",
   "name": "python3"
  },
  "language_info": {
   "codemirror_mode": {
    "name": "ipython",
    "version": 3
   },
   "file_extension": ".py",
   "mimetype": "text/x-python",
   "name": "python",
   "nbconvert_exporter": "python",
   "pygments_lexer": "ipython3",
   "version": "3.9.7"
  }
 },
 "nbformat": 4,
 "nbformat_minor": 5
}
