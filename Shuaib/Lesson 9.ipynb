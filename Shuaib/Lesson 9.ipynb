{
 "cells": [
  {
   "cell_type": "markdown",
   "id": "b71a90f6",
   "metadata": {},
   "source": [
    "# Exercise 1\n",
    "A company decided to give bonus of 5% to employee if his/her year of service is more than 5 years.\n",
    "Ask user for their salary and year of service and print the net bonus amount."
   ]
  },
  {
   "cell_type": "markdown",
   "id": "32266691",
   "metadata": {},
   "source": [
    "# Exercise 2\n",
    "Take values of length and breadth of a rectangle from user and check if it is square or not."
   ]
  },
  {
   "cell_type": "markdown",
   "id": "9d217258",
   "metadata": {},
   "source": [
    "# Exercise 3\n",
    "Take two int values from user and print greatest among them"
   ]
  },
  {
   "cell_type": "markdown",
   "id": "e88a5d1a",
   "metadata": {},
   "source": [
    "# Exercise 4\n",
    "A shop will give discount of 10% if the cost of purchased quantity is more than 1000.\n",
    "Ask user for quantity\n",
    "Suppose, one unit will cost 100.\n",
    "Judge and print total cost for user."
   ]
  },
  {
   "cell_type": "markdown",
   "id": "13fc4320",
   "metadata": {},
   "source": [
    "# Exercise 5\n",
    "\n",
    "A school has following rules for grading system:\n",
    "* a. Below 25 - F\n",
    "* b. 25 to 45 - E\n",
    "* c. 45 to 50 - D\n",
    "* d. 50 to 60 - C\n",
    "* e. 60 to 80 - B\n",
    "* f. Above 80 - A\n",
    "> Ask user to enter marks and print the corresponding grade."
   ]
  },
  {
   "cell_type": "markdown",
   "id": "1157421b",
   "metadata": {},
   "source": [
    "# Exercise 6\n",
    "Take input of age of 3 people by user and determine oldest and youngest among them."
   ]
  },
  {
   "cell_type": "code",
   "execution_count": 2,
   "id": "15b63540",
   "metadata": {},
   "outputs": [
    {
     "name": "stdout",
     "output_type": "stream",
     "text": [
      "Input day: 35\n",
      "Input month of birth (e.g. march, july etc): march\n",
      "Your Astrological sign is : aries\n"
     ]
    }
   ],
   "source": [
    "day = int(input(\"Input day: \"))\n",
    "month = input(\"Input month of birth (e.g. march, july etc): \")\n",
    "if month == 'december':\n",
    " astro_sign = 'Sagittarius' if (day < 22) else 'capricorn'\n",
    "elif month == 'january':\n",
    " astro_sign = 'Capricorn' if (day < 20) else 'aquarius'\n",
    "elif month == 'february':\n",
    " astro_sign = 'Aquarius' if (day < 19) else 'pisces'\n",
    "elif month == 'march':\n",
    " astro_sign = 'Pisces' if (day < 21) else 'aries'\n",
    "elif month == 'april':\n",
    " astro_sign = 'Aries' if (day < 20) else 'taurus'\n",
    "elif month == 'may':\n",
    " astro_sign = 'Taurus' if (day < 21) else 'gemini'\n",
    "elif month == 'june':\n",
    " astro_sign = 'Gemini' if (day < 21) else 'cancer'\n",
    "elif month == 'july':\n",
    " astro_sign = 'Cancer' if (day < 23) else 'leo'\n",
    "elif month == 'august':\n",
    " astro_sign = 'Leo' if (day < 23) else 'virgo'\n",
    "elif month == 'september':\n",
    " astro_sign = 'Virgo' if (day < 23) else 'libra'\n",
    "elif month == 'october':\n",
    " astro_sign = 'Libra' if (day < 23) else 'scorpio'\n",
    "elif month == 'november':\n",
    " astro_sign = 'scorpio' if (day < 22) else 'sagittarius'\n",
    "print(\"Your Astrological sign is :\",astro_sign)"
   ]
  },
  {
   "cell_type": "code",
   "execution_count": 6,
   "id": "29282c72",
   "metadata": {},
   "outputs": [
    {
     "name": "stdout",
     "output_type": "stream",
     "text": [
      "Enter the birthday in 8-digit format for person#1: (YYYYMMDD): 19610804\n",
      "Enter the birthday in 8-digit format for person#2: (YYYYMMDD): 19810904\n",
      "Enter name for person#1: Obama\n",
      "Enter name for person#2: Beyonce\n",
      "Obama's date of birth is: 8/4/1961'\n",
      "Beyonce's date of birth is: 9/4/1981'\n"
     ]
    }
   ],
   "source": [
    "birthday1=int(input(\"Enter the birthday in 8-digit format for person#1: (YYYYMMDD): \"))\n",
    "birthday2=int(input(\"Enter the birthday in 8-digit format for person#2: (YYYYMMDD): \"))\n",
    "name1=input(\"Enter name for person#1: \")\n",
    "name2=input(\"Enter name for person#2: \")\n",
    "day1=birthday1%100\n",
    "month1=(birthday1//100)%100\n",
    "year1=birthday1//10000\n",
    "day2=birthday2%100\n",
    "month2=(birthday2//100)%100\n",
    "year2=birthday2//10000\n",
    "\n",
    "print(f\"{name1}'s date of birth is: {month1}/{day1}/{year1}\")\n",
    "print(f\"{name2}'s date of birth is: {month2}/{day2}/{year2}\")\n"
   ]
  }
 ],
 "metadata": {
  "kernelspec": {
   "display_name": "Python 3 (ipykernel)",
   "language": "python",
   "name": "python3"
  },
  "language_info": {
   "codemirror_mode": {
    "name": "ipython",
    "version": 3
   },
   "file_extension": ".py",
   "mimetype": "text/x-python",
   "name": "python",
   "nbconvert_exporter": "python",
   "pygments_lexer": "ipython3",
   "version": "3.9.7"
  }
 },
 "nbformat": 4,
 "nbformat_minor": 5
}
