{
 "cells": [
  {
   "cell_type": "code",
   "execution_count": 80,
   "id": "e08e8639",
   "metadata": {},
   "outputs": [
    {
     "name": "stdout",
     "output_type": "stream",
     "text": [
      "18\n"
     ]
    }
   ],
   "source": [
    "def multiply(num1, num2):\n",
    "    return num1*num2\n",
    "\n",
    "\n",
    "r = multiply(9, 2)\n",
    "print(r)\n"
   ]
  },
  {
   "cell_type": "markdown",
   "id": "f35cc327",
   "metadata": {},
   "source": [
    "Write a function named collatz() that has one parameter named number. If \n",
    "number is even, then collatz() should print number // 2 and return this value. \n",
    "If number is odd, then collatz() should print and return 3 * number + 1.\n",
    "Then write a program that lets the user type in an integer and that \n",
    "keeps calling collatz() on that number until the function returns the value 1. \n",
    "(Amazingly enough, this sequence actually works for any integer—sooner or \n",
    "later, using this sequence, you’ll arrive at 1! Even mathematicians aren’t sure \n",
    "why. Your program is exploring what’s called the Collatz sequence, sometimes \n",
    "called “the simplest impossible math problem.”)\n",
    "Remember to convert the return value from input() to an integer with \n",
    "the int() function; otherwise, it will be a string value.\n",
    "Hint: An integer number is even if number % 2 == 0, and it’s odd if \n",
    "number % 2 == 1.\n",
    "The output of this program could look something like this:\n",
    "Enter number:\n",
    "3\n",
    "10\n",
    "5\n",
    "16\n",
    "8\n",
    "4\n",
    "2\n",
    "1"
   ]
  },
  {
   "cell_type": "code",
   "execution_count": null,
   "id": "94644473",
   "metadata": {},
   "outputs": [],
   "source": [
    "x = 7\n",
    "y = 8\n",
    "z = 9\n",
    "xy = 0"
   ]
  },
  {
   "cell_type": "markdown",
   "id": "1c68ba72",
   "metadata": {},
   "source": [
    "# Lists\n",
    "* Lists is a datatype that can store multiple items inside enclosed square brackets and is ordered and changeable"
   ]
  },
  {
   "cell_type": "code",
   "execution_count": 81,
   "id": "91ceadae",
   "metadata": {},
   "outputs": [
    {
     "name": "stdout",
     "output_type": "stream",
     "text": [
      "[1, 2, 3, 7, 8.5, 9]\n",
      "<class 'list'>\n"
     ]
    }
   ],
   "source": [
    "# string , integer, float, boolean, list\n",
    "\n",
    "# how to create a list\n",
    "# List of numbers\n",
    "numbers = [1, 2 , 3, 7, 8.5, 9]\n",
    "print(numbers)\n",
    "print(type(numbers))"
   ]
  },
  {
   "cell_type": "code",
   "execution_count": 82,
   "id": "2f889201",
   "metadata": {},
   "outputs": [
    {
     "name": "stdout",
     "output_type": "stream",
     "text": [
      "['Ali', 'Talha', 'Shuaib', 'Sara']\n",
      "<class 'list'>\n"
     ]
    }
   ],
   "source": [
    "# List of strings\n",
    "name = [\"Ali\", \"Talha\", \"Shuaib\", \"Sara\"]\n",
    "print(name)\n",
    "print(type(name))"
   ]
  },
  {
   "cell_type": "code",
   "execution_count": 83,
   "id": "509405d2",
   "metadata": {},
   "outputs": [
    {
     "name": "stdout",
     "output_type": "stream",
     "text": [
      "['John', 76, 'Python', 85.5, True]\n",
      "<class 'list'>\n"
     ]
    }
   ],
   "source": [
    "# List with mixed data types\n",
    "a = [\"John\", 76, \"Python\", 85.5, True ]\n",
    "print(a)\n",
    "print(type(a))"
   ]
  },
  {
   "cell_type": "markdown",
   "id": "92bc4c56",
   "metadata": {},
   "source": [
    "# Builtin functions in python that can be used with lists\n",
    "* min()\n",
    "* max()\n",
    "* len()\n",
    "* sum()\n",
    "* sorted()"
   ]
  },
  {
   "cell_type": "code",
   "execution_count": 87,
   "id": "b7518dec",
   "metadata": {},
   "outputs": [
    {
     "name": "stdout",
     "output_type": "stream",
     "text": [
      "6\n",
      "4\n",
      "5\n"
     ]
    }
   ],
   "source": [
    "# iterables : lists, strings, tuple, range, dictionary, sets\n",
    "\n",
    "# len(iterable) , it will return number items present inside your iterable\n",
    "numbers = [1, 2 , 3, 7, 8.5, 9]\n",
    "print(len(numbers))\n",
    "\n",
    "name = [\"Ali\", \"Talha\", \"Shuaib\", \"Sara\"]\n",
    "print(len(name))\n",
    "\n",
    "a = [\"John\", 76, \"Python\", 85.5, True ]\n",
    "print(len(a))"
   ]
  },
  {
   "cell_type": "code",
   "execution_count": 91,
   "id": "a665f829",
   "metadata": {},
   "outputs": [
    {
     "name": "stdout",
     "output_type": "stream",
     "text": [
      "1\n",
      "Ali\n"
     ]
    }
   ],
   "source": [
    "# min(iterable) , it will return a lowest value in your iterable. if items in your iterable are strings, \n",
    "#                 then it will do alphabetical comparison. all the items in the iterable should have same data type\n",
    "\n",
    "numbers = [1, 2 , 3, 7, 8.5, 9]\n",
    "print(min(numbers))\n",
    "\n",
    "name = [\"Ali\", \"Talha\", \"Shuaib\", \"Sara\"]\n",
    "print(min(name))\n",
    "\n",
    "#a = [\"John\", 76, \"Python\", 85.5, True ]\n",
    "#print(min(a))   Error"
   ]
  },
  {
   "cell_type": "code",
   "execution_count": 92,
   "id": "d2726a44",
   "metadata": {},
   "outputs": [
    {
     "name": "stdout",
     "output_type": "stream",
     "text": [
      "9\n",
      "Talha\n"
     ]
    },
    {
     "ename": "TypeError",
     "evalue": "'<' not supported between instances of 'int' and 'str'",
     "output_type": "error",
     "traceback": [
      "\u001b[1;31m---------------------------------------------------------------------------\u001b[0m",
      "\u001b[1;31mTypeError\u001b[0m                                 Traceback (most recent call last)",
      "\u001b[1;32m~\\AppData\\Local\\Temp/ipykernel_12008/3286907102.py\u001b[0m in \u001b[0;36m<module>\u001b[1;34m\u001b[0m\n\u001b[0;32m      9\u001b[0m \u001b[1;33m\u001b[0m\u001b[0m\n\u001b[0;32m     10\u001b[0m \u001b[0ma\u001b[0m \u001b[1;33m=\u001b[0m \u001b[1;33m[\u001b[0m\u001b[1;34m\"John\"\u001b[0m\u001b[1;33m,\u001b[0m \u001b[1;36m76\u001b[0m\u001b[1;33m,\u001b[0m \u001b[1;34m\"Python\"\u001b[0m\u001b[1;33m,\u001b[0m \u001b[1;36m85.5\u001b[0m\u001b[1;33m,\u001b[0m \u001b[1;32mTrue\u001b[0m \u001b[1;33m]\u001b[0m\u001b[1;33m\u001b[0m\u001b[1;33m\u001b[0m\u001b[0m\n\u001b[1;32m---> 11\u001b[1;33m \u001b[0mprint\u001b[0m\u001b[1;33m(\u001b[0m\u001b[0mmin\u001b[0m\u001b[1;33m(\u001b[0m\u001b[0ma\u001b[0m\u001b[1;33m)\u001b[0m\u001b[1;33m)\u001b[0m   \u001b[1;31m#Error\u001b[0m\u001b[1;33m\u001b[0m\u001b[1;33m\u001b[0m\u001b[0m\n\u001b[0m",
      "\u001b[1;31mTypeError\u001b[0m: '<' not supported between instances of 'int' and 'str'"
     ]
    }
   ],
   "source": [
    "# max(iterable) , it will return a highest value in your iterable. if items in your iterable are strings, \n",
    "#                 then it will do alphabetical comparison. all the items in the iterable should have same data type\n",
    "\n",
    "numbers = [1, 2 , 3, 7, 8.5, 9]\n",
    "print(max(numbers))\n",
    "\n",
    "name = [\"Ali\", \"Talha\", \"Shuaib\", \"Sara\"]\n",
    "print(max(name))\n",
    "\n",
    "#a = [\"John\", 76, \"Python\", 85.5, True ]\n",
    "#print(min(a))   #Error"
   ]
  },
  {
   "cell_type": "code",
   "execution_count": 95,
   "id": "fc376f07",
   "metadata": {},
   "outputs": [
    {
     "name": "stdout",
     "output_type": "stream",
     "text": [
      "30.5\n",
      "37.5\n"
     ]
    }
   ],
   "source": [
    "# sum(iterable , start), Returns a number, the sum of all items in an iterable. \n",
    "                        # Start is optional. If you write it then it is added to the return value \n",
    "                        # All values should be integers or floats\n",
    "    \n",
    "numbers = [1, 2 , 3, 7, 8.5, 9]\n",
    "\n",
    "print(sum(numbers))\n",
    "print(sum(numbers,7))"
   ]
  },
  {
   "cell_type": "code",
   "execution_count": 97,
   "id": "39048249",
   "metadata": {},
   "outputs": [],
   "source": [
    "# name = [\"Ali\", \"Talha\", \"Shuaib\", \"Sara\"]\n",
    "# print(sum(name)) Error because values are strings"
   ]
  },
  {
   "cell_type": "code",
   "execution_count": null,
   "id": "06c1c966",
   "metadata": {},
   "outputs": [],
   "source": [
    "# Homework\n",
    "# how to use sorted() function with lists\n",
    "# how to access values of a list (indexing) positive and negative indexing, slicing\n",
    "# how to use for loop over a list\n",
    "# Operators that we can use with lists, + , *, in\n"
   ]
  }
 ],
 "metadata": {
  "kernelspec": {
   "display_name": "Python 3 (ipykernel)",
   "language": "python",
   "name": "python3"
  },
  "language_info": {
   "codemirror_mode": {
    "name": "ipython",
    "version": 3
   },
   "file_extension": ".py",
   "mimetype": "text/x-python",
   "name": "python",
   "nbconvert_exporter": "python",
   "pygments_lexer": "ipython3",
   "version": "3.9.7"
  }
 },
 "nbformat": 4,
 "nbformat_minor": 5
}
