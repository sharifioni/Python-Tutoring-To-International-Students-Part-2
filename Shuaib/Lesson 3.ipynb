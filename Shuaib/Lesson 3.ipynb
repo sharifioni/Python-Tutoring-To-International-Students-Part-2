{
 "cells": [
  {
   "cell_type": "markdown",
   "id": "1f9952ff",
   "metadata": {},
   "source": [
    "# Variables\n",
    "> Variables are used to store a value\n",
    ">\n",
    "> name_of_variable = 50"
   ]
  },
  {
   "cell_type": "code",
   "execution_count": 1,
   "id": "2f6ff42b",
   "metadata": {},
   "outputs": [
    {
     "name": "stdout",
     "output_type": "stream",
     "text": [
      "131\n",
      "23\n",
      "Shuaib\n"
     ]
    }
   ],
   "source": [
    "# Assignment operator is =\n",
    "number=75+56\n",
    "age=23\n",
    "name=\"Shuaib\"\n",
    "print(number)\n",
    "print(age)\n",
    "print(name)"
   ]
  },
  {
   "cell_type": "code",
   "execution_count": 2,
   "id": "da260e15",
   "metadata": {},
   "outputs": [
    {
     "name": "stdout",
     "output_type": "stream",
     "text": [
      "<class 'int'>\n",
      "<class 'int'>\n",
      "<class 'str'>\n"
     ]
    }
   ],
   "source": [
    "print(type(number))\n",
    "print(type(age))\n",
    "print(type(name))"
   ]
  },
  {
   "cell_type": "code",
   "execution_count": 3,
   "id": "790b4201",
   "metadata": {},
   "outputs": [
    {
     "name": "stdout",
     "output_type": "stream",
     "text": [
      "Friday\n"
     ]
    }
   ],
   "source": [
    "day=\"Friday\"\n",
    "print(day)"
   ]
  },
  {
   "cell_type": "markdown",
   "id": "c4fe532f",
   "metadata": {},
   "source": [
    "## Variable naming rules\n",
    "1. Variable names cannot be a Python key word \n",
    "1. Variable name cannot contain spaces\n",
    "1. First character must be a letter or an underscore\n",
    "1. After first character may use letters, digits, or underscores\n",
    "1. Variable names are case sensitive"
   ]
  },
  {
   "cell_type": "code",
   "execution_count": 1,
   "id": "41fd440a",
   "metadata": {},
   "outputs": [
    {
     "name": "stdout",
     "output_type": "stream",
     "text": [
      "Muhammad\n"
     ]
    }
   ],
   "source": [
    "first name=\"Muhammad\"  #space is not allowed in variable name\n",
    "print(first name)"
   ]
  },
  {
   "cell_type": "code",
   "execution_count": 7,
   "id": "1df1e42a",
   "metadata": {},
   "outputs": [
    {
     "name": "stdout",
     "output_type": "stream",
     "text": [
      "Muhammad\n"
     ]
    }
   ],
   "source": [
    "firstname=\"Muhammad\"\n",
    "print(firstname)"
   ]
  },
  {
   "cell_type": "code",
   "execution_count": 9,
   "id": "21b6a864",
   "metadata": {},
   "outputs": [
    {
     "name": "stdout",
     "output_type": "stream",
     "text": [
      "Muhammad\n"
     ]
    }
   ],
   "source": [
    "first_name1=\"Muhammad\"\n",
    "print(first_name1)"
   ]
  },
  {
   "cell_type": "code",
   "execution_count": 11,
   "id": "c1a147e0",
   "metadata": {},
   "outputs": [
    {
     "name": "stdout",
     "output_type": "stream",
     "text": [
      "Friday\n"
     ]
    },
    {
     "ename": "NameError",
     "evalue": "name 'DAY' is not defined",
     "output_type": "error",
     "traceback": [
      "\u001b[1;31m---------------------------------------------------------------------------\u001b[0m",
      "\u001b[1;31mNameError\u001b[0m                                 Traceback (most recent call last)",
      "\u001b[1;32m~\\AppData\\Local\\Temp/ipykernel_8308/3072524026.py\u001b[0m in \u001b[0;36m<module>\u001b[1;34m\u001b[0m\n\u001b[0;32m      1\u001b[0m \u001b[0mprint\u001b[0m\u001b[1;33m(\u001b[0m\u001b[0mday\u001b[0m\u001b[1;33m)\u001b[0m\u001b[1;33m\u001b[0m\u001b[1;33m\u001b[0m\u001b[0m\n\u001b[1;32m----> 2\u001b[1;33m \u001b[0mprint\u001b[0m\u001b[1;33m(\u001b[0m\u001b[0mDAY\u001b[0m\u001b[1;33m)\u001b[0m\u001b[1;33m\u001b[0m\u001b[1;33m\u001b[0m\u001b[0m\n\u001b[0m",
      "\u001b[1;31mNameError\u001b[0m: name 'DAY' is not defined"
     ]
    }
   ],
   "source": [
    "print(day)\n",
    "print(DAY)  # Case sensitive problem"
   ]
  },
  {
   "cell_type": "markdown",
   "id": "111ea210",
   "metadata": {},
   "source": [
    "## Variable Reassigning"
   ]
  },
  {
   "cell_type": "code",
   "execution_count": 14,
   "id": "f2b19493",
   "metadata": {},
   "outputs": [
    {
     "name": "stdout",
     "output_type": "stream",
     "text": [
      "65\n",
      "3006320300400\n",
      "12\n",
      "3006320110224\n"
     ]
    }
   ],
   "source": [
    "num=65\n",
    "print(num)\n",
    "print(id(num))\n",
    "\n",
    "num=12\n",
    "print(num)\n",
    "print(id(num))"
   ]
  },
  {
   "cell_type": "code",
   "execution_count": 4,
   "id": "a5cb862e",
   "metadata": {},
   "outputs": [
    {
     "name": "stdout",
     "output_type": "stream",
     "text": [
      "100\n",
      "52\n",
      "3.1666666666666665\n",
      "1824\n",
      "1378879181903229284421282144252718341922226176\n",
      "3\n",
      "4\n"
     ]
    },
    {
     "ename": "TypeError",
     "evalue": "unsupported operand type(s) for +: 'int' and 'str'",
     "output_type": "error",
     "traceback": [
      "\u001b[1;31m---------------------------------------------------------------------------\u001b[0m",
      "\u001b[1;31mTypeError\u001b[0m                                 Traceback (most recent call last)",
      "\u001b[1;32m~\\AppData\\Local\\Temp/ipykernel_12356/2152715303.py\u001b[0m in \u001b[0;36m<module>\u001b[1;34m\u001b[0m\n\u001b[0;32m      9\u001b[0m \u001b[0mprint\u001b[0m\u001b[1;33m(\u001b[0m\u001b[0mnum1\u001b[0m\u001b[1;33m//\u001b[0m\u001b[0mnum2\u001b[0m\u001b[1;33m)\u001b[0m\u001b[1;33m\u001b[0m\u001b[1;33m\u001b[0m\u001b[0m\n\u001b[0;32m     10\u001b[0m \u001b[0mprint\u001b[0m\u001b[1;33m(\u001b[0m\u001b[0mnum1\u001b[0m\u001b[1;33m%\u001b[0m\u001b[0mnum2\u001b[0m\u001b[1;33m)\u001b[0m\u001b[1;33m\u001b[0m\u001b[1;33m\u001b[0m\u001b[0m\n\u001b[1;32m---> 11\u001b[1;33m \u001b[0mprint\u001b[0m\u001b[1;33m(\u001b[0m\u001b[0mnum1\u001b[0m\u001b[1;33m+\u001b[0m\u001b[0mnum3\u001b[0m\u001b[1;33m)\u001b[0m\u001b[1;33m\u001b[0m\u001b[1;33m\u001b[0m\u001b[0m\n\u001b[0m",
      "\u001b[1;31mTypeError\u001b[0m: unsupported operand type(s) for +: 'int' and 'str'"
     ]
    }
   ],
   "source": [
    "num1=76\n",
    "num2=24\n",
    "num3=\"90\"\n",
    "print(num1+num2)\n",
    "print(num1-num2)\n",
    "print(num1/num2)\n",
    "print(num1*num2)\n",
    "print(num1**num2)\n",
    "print(num1//num2)\n",
    "print(num1%num2)\n",
    "print(num1+num3)"
   ]
  },
  {
   "cell_type": "markdown",
   "id": "b2f656d2",
   "metadata": {},
   "source": [
    "# Operator Precedence\n",
    "* Brackets Exponentiation Division/Multiplication  Addition/Subtraction"
   ]
  },
  {
   "cell_type": "code",
   "execution_count": 18,
   "id": "1afa15a3",
   "metadata": {},
   "outputs": [
    {
     "name": "stdout",
     "output_type": "stream",
     "text": [
      "27.0\n"
     ]
    }
   ],
   "source": [
    "expression= 12+(2+4)*3-12/2**2        #12+6*3-12/2**2       12+6*3-12/2**2        12+6*3-12/4   12+18-12/4    12+18-3\n",
    "print(expression)"
   ]
  },
  {
   "cell_type": "markdown",
   "id": "8a3af623",
   "metadata": {},
   "source": [
    "# Type Casting\n",
    "> Converting one data type to another data type\n",
    ">\n",
    "> E.g: converting string into integer"
   ]
  },
  {
   "cell_type": "code",
   "execution_count": 22,
   "id": "b492ca48",
   "metadata": {},
   "outputs": [
    {
     "name": "stdout",
     "output_type": "stream",
     "text": [
      "num4 is 5\n",
      "type of num4 is <class 'str'>\n",
      "num4 is 76\n",
      "type of num4 is <class 'int'>\n"
     ]
    }
   ],
   "source": [
    "num1=5\n",
    "num2=6.5\n",
    "num3='76'\n",
    "\n",
    "\n",
    "#Converting integer to string using  str() function\n",
    "num4=str(num1)\n",
    "print(\"num4 is\",num4)\n",
    "print(\"type of num4 is\",type(num4))\n",
    "\n",
    "\n",
    "#Converting string to integer using  int() function\n",
    "num4=int(num3)\n",
    "print(\"num4 is\",num4)\n",
    "print(\"type of num4 is\",type(num4))\n",
    "\n",
    "\n",
    "#Convert string to float\n",
    "#Convert float to string\n",
    "#Convert integer to float\n",
    "#Convert float  to integer"
   ]
  },
  {
   "cell_type": "markdown",
   "id": "6760eced",
   "metadata": {},
   "source": [
    "# string concatenation\n",
    "> using + operator between two strings (It combines or joins two strings)"
   ]
  },
  {
   "cell_type": "code",
   "execution_count": 27,
   "id": "44c0d390",
   "metadata": {},
   "outputs": [
    {
     "name": "stdout",
     "output_type": "stream",
     "text": [
      "HelloWorld.We are learning\n",
      "MuhammadShahjahan\n"
     ]
    }
   ],
   "source": [
    "print(\"Hello\"+\"World\" + \".We are learning\")\n",
    "first_name=\"Muhammad\"\n",
    "last_name=\"Shahjahan\"\n",
    "name=first_name+last_name\n",
    "print(name)"
   ]
  },
  {
   "cell_type": "markdown",
   "id": "f3aa6889",
   "metadata": {},
   "source": [
    "# f-strings, formatted strings"
   ]
  },
  {
   "cell_type": "code",
   "execution_count": 30,
   "id": "af80f757",
   "metadata": {},
   "outputs": [
    {
     "name": "stdout",
     "output_type": "stream",
     "text": [
      "I'm 20 years old and I'm 1.73 meters taller\n"
     ]
    }
   ],
   "source": [
    "#age=20\n",
    "#height=1.73\n",
    "# I'm  age years old and I'm height meters taller\n",
    "age=20\n",
    "height=1.73\n",
    "\n",
    "print(\"I'm\",age, \"years old and I'm\", height, \"meters taller\")"
   ]
  },
  {
   "cell_type": "code",
   "execution_count": null,
   "id": "8f63cda9",
   "metadata": {},
   "outputs": [],
   "source": [
    "print(f\"I'm {age} years old and I'm {h} meters taller\")"
   ]
  }
 ],
 "metadata": {
  "kernelspec": {
   "display_name": "Python 3 (ipykernel)",
   "language": "python",
   "name": "python3"
  },
  "language_info": {
   "codemirror_mode": {
    "name": "ipython",
    "version": 3
   },
   "file_extension": ".py",
   "mimetype": "text/x-python",
   "name": "python",
   "nbconvert_exporter": "python",
   "pygments_lexer": "ipython3",
   "version": "3.9.7"
  }
 },
 "nbformat": 4,
 "nbformat_minor": 5
}
