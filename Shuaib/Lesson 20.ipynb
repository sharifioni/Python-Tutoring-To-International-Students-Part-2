{
 "cells": [
  {
   "cell_type": "markdown",
   "id": "39b14db5",
   "metadata": {},
   "source": [
    "# Doc Strings of a function"
   ]
  },
  {
   "cell_type": "code",
   "execution_count": 1,
   "id": "a882563f",
   "metadata": {},
   "outputs": [
    {
     "name": "stdout",
     "output_type": "stream",
     "text": [
      "Before Calling our Function multiply(20,5)\n",
      "100\n",
      "After calling our function multiply(20,5)\n"
     ]
    }
   ],
   "source": [
    "# name of function and creating a function\n",
    "\n",
    "def multiply(num1,num2):\n",
    "    \"\"\"\n",
    "    This function gives the multiplication result of two numbers\n",
    "    :param num1:\n",
    "                An integer value\n",
    "    :param num2:\n",
    "                An integer value\n",
    "    \n",
    "    :return:\n",
    "            None\n",
    "    \"\"\"\n",
    "    print(num1*num2)\n",
    "  \n",
    "\n",
    "print(\"Before Calling our Function multiply(20,5)\")\n",
    "\n",
    "# Function Calling\n",
    "multiply(20,5)\n",
    "\n",
    "print(\"After calling our function multiply(20,5)\")"
   ]
  },
  {
   "cell_type": "code",
   "execution_count": 5,
   "id": "b56a74ff",
   "metadata": {},
   "outputs": [],
   "source": [
    "multiply?"
   ]
  },
  {
   "cell_type": "code",
   "execution_count": 3,
   "id": "14419d32",
   "metadata": {},
   "outputs": [
    {
     "name": "stdout",
     "output_type": "stream",
     "text": [
      "\n",
      "    This function gives the multiplication result of two numbers\n",
      "    :param num1:\n",
      "                An integer value\n",
      "    :param num2:\n",
      "                An integer value\n",
      "    \n",
      "    :return:\n",
      "            None\n",
      "    \n"
     ]
    }
   ],
   "source": [
    "print(multiply.__doc__)"
   ]
  },
  {
   "cell_type": "code",
   "execution_count": 4,
   "id": "ee9eaea8",
   "metadata": {},
   "outputs": [
    {
     "name": "stdout",
     "output_type": "stream",
     "text": [
      "Help on function multiply in module __main__:\n",
      "\n",
      "multiply(num1, num2)\n",
      "    This function gives the multiplication result of two numbers\n",
      "    :param num1:\n",
      "                An integer value\n",
      "    :param num2:\n",
      "                An integer value\n",
      "    \n",
      "    :return:\n",
      "            None\n",
      "\n"
     ]
    }
   ],
   "source": [
    "help(multiply)"
   ]
  },
  {
   "cell_type": "markdown",
   "id": "53634c31",
   "metadata": {},
   "source": [
    "# Return in a function"
   ]
  },
  {
   "cell_type": "code",
   "execution_count": 7,
   "id": "d576b6e2",
   "metadata": {},
   "outputs": [
    {
     "name": "stdout",
     "output_type": "stream",
     "text": [
      "Before Calling our Function multiply(20,5)\n",
      "Multiplication result is 100\n",
      "After calling our function multiply(20,5)\n"
     ]
    }
   ],
   "source": [
    "# name of function and creating a function\n",
    "\n",
    "def multiply(num1,num2):\n",
    "    \"\"\"\n",
    "    This function gives the multiplication result of two numbers\n",
    "    :param num1:\n",
    "                An integer value\n",
    "    :param num2:\n",
    "                An integer value\n",
    "    \n",
    "    :return:\n",
    "            None\n",
    "    \"\"\"\n",
    "    return num1*num2\n",
    "  \n",
    "\n",
    "print(\"Before Calling our Function multiply(20,5)\")\n",
    "\n",
    "# Function Calling\n",
    "mult = multiply(20,5)\n",
    "print(\"Multiplication result is\", mult)\n",
    "\n",
    "print(\"After calling our function multiply(20,5)\")"
   ]
  },
  {
   "cell_type": "code",
   "execution_count": 8,
   "id": "4c9265de",
   "metadata": {},
   "outputs": [
    {
     "name": "stdout",
     "output_type": "stream",
     "text": [
      "Before Calling our Function multiply(20,5)\n",
      "Multiplication result is 100\n",
      "After calling our function multiply(20,5)\n"
     ]
    }
   ],
   "source": [
    "# name of function and creating a function\n",
    "\n",
    "def multiply(num1,num2):\n",
    "    \"\"\"\n",
    "    This function gives the multiplication result of two numbers\n",
    "    :param num1:\n",
    "                An integer value\n",
    "    :param num2:\n",
    "                An integer value\n",
    "    \n",
    "    :return:\n",
    "            None\n",
    "    \"\"\"\n",
    "    return num1*num2\n",
    "  \n",
    "\n",
    "print(\"Before Calling our Function multiply(20,5)\")\n",
    "\n",
    "# Function Calling\n",
    "print(\"Multiplication result is\", multiply(20,5))\n",
    "\n",
    "print(\"After calling our function multiply(20,5)\")"
   ]
  },
  {
   "cell_type": "code",
   "execution_count": 9,
   "id": "3ac151f3",
   "metadata": {},
   "outputs": [
    {
     "name": "stdout",
     "output_type": "stream",
     "text": [
      "Before Calling our Function multiply(20,5)\n",
      "100\n",
      "Value returned is None\n",
      "After calling our function multiply(20,5)\n"
     ]
    }
   ],
   "source": [
    "# name of function and creating a function\n",
    "\n",
    "def multiply(num1,num2):\n",
    "    \"\"\"\n",
    "    This function gives the multiplication result of two numbers\n",
    "    :param num1:\n",
    "                An integer value\n",
    "    :param num2:\n",
    "                An integer value\n",
    "    \n",
    "    :return:\n",
    "            None\n",
    "    \"\"\"\n",
    "    print(num1*num2)\n",
    "  \n",
    "\n",
    "print(\"Before Calling our Function multiply(20,5)\")\n",
    "\n",
    "# Function Calling\n",
    "x = multiply(20,5)\n",
    "print(\"Value returned is\", x)\n",
    "\n",
    "print(\"After calling our function multiply(20,5)\")"
   ]
  },
  {
   "cell_type": "code",
   "execution_count": 11,
   "id": "cf6d4be0",
   "metadata": {},
   "outputs": [
    {
     "name": "stdout",
     "output_type": "stream",
     "text": [
      "Enter first number:10\n",
      "Enter second number:15\n",
      "Enter 1,2,3,4: 1 for addition, 2 for subtraction, 3 for multiplication, 4 for division1\n",
      "10 + 15 is 25\n"
     ]
    }
   ],
   "source": [
    "def addition(x,y):\n",
    "    return x + y\n",
    "\n",
    "\n",
    "def subtraction(x,y):\n",
    "    return x-y\n",
    "\n",
    "\n",
    "def multiplication(x,y):\n",
    "    return x*y\n",
    "\n",
    "\n",
    "def division(x,y):\n",
    "    return x/y\n",
    "\n",
    "num1=int(input(\"Enter first number:\"))\n",
    "num2=int(input(\"Enter second number:\"))\n",
    "choice=input(\"Enter 1,2,3,4: 1 for addition, 2 for subtraction, 3 for multiplication, 4 for division\")\n",
    "\n",
    "if choice == \"1\":\n",
    "    print(f\"{num1} + {num2} is\",addition(num1,num2))\n",
    "     \n"
   ]
  },
  {
   "cell_type": "code",
   "execution_count": 12,
   "id": "59cb185b",
   "metadata": {},
   "outputs": [
    {
     "name": "stdout",
     "output_type": "stream",
     "text": [
      "enter the first angle: 90\n",
      "enter the second angle: 45\n",
      "enter the third angle: 45\n",
      "right triangle\n"
     ]
    }
   ],
   "source": [
    "def triangle_type(a,b,c):\n",
    "    if a<90 and b<90 and c<90:\n",
    "        return \"acute triangle\"\n",
    "    \n",
    "    elif a==90 or b==90 or c==90:\n",
    "        return \"right triangle\"\n",
    "    \n",
    "    elif a>90 or b>90 or c>90:\n",
    "        return \"obtuse triangle\"\n",
    "\n",
    "x=int(input(\"enter the first angle: \")) # 90\n",
    "y=int(input(\"enter the second angle: \"))  # 45 \n",
    "z=int(input(\"enter the third angle: \"))    # 45\n",
    "\n",
    "print(triangle_type(x,y,z))\n"
   ]
  }
 ],
 "metadata": {
  "kernelspec": {
   "display_name": "Python 3 (ipykernel)",
   "language": "python",
   "name": "python3"
  },
  "language_info": {
   "codemirror_mode": {
    "name": "ipython",
    "version": 3
   },
   "file_extension": ".py",
   "mimetype": "text/x-python",
   "name": "python",
   "nbconvert_exporter": "python",
   "pygments_lexer": "ipython3",
   "version": "3.9.7"
  }
 },
 "nbformat": 4,
 "nbformat_minor": 5
}
