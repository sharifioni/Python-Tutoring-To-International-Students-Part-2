{
 "cells": [
  {
   "cell_type": "code",
   "execution_count": 5,
   "id": "ba5a90c3",
   "metadata": {},
   "outputs": [
    {
     "name": "stdout",
     "output_type": "stream",
     "text": [
      "Enter first number: 20\n",
      "Enter second number: 10\n",
      "30\n",
      "10\n",
      "200\n",
      "2.0\n",
      "10240000000000\n",
      "2\n",
      "0\n"
     ]
    }
   ],
   "source": [
    "num1=int(input(\"Enter first number: \"))\n",
    "num2=int(input(\"Enter second number: \"))\n",
    "print(num1+num2)\n",
    "print(num1-num2)\n",
    "print(num1*num2)\n",
    "print(num1/num2)\n",
    "print(num1**num2)\n",
    "print(num1//num2)\n",
    "print(num1%num2)\n"
   ]
  },
  {
   "cell_type": "code",
   "execution_count": 3,
   "id": "d2468806",
   "metadata": {},
   "outputs": [
    {
     "name": "stdout",
     "output_type": "stream",
     "text": [
      "Enter first number: 6\n",
      "Enter second number: 3\n",
      "3 is smaller\n"
     ]
    }
   ],
   "source": [
    "num1=int(input(\"Enter first number: \"))   #prompts the user to enter a value\n",
    "num2=int(input(\"Enter second number: \"))\n",
    "\n",
    "if num1 < num2:\n",
    "    print(f\"{num1} is smaller\")\n",
    "    \n",
    "else:\n",
    "    print(f\"{num2} is smaller\")"
   ]
  },
  {
   "cell_type": "code",
   "execution_count": 3,
   "id": "778e30fe",
   "metadata": {},
   "outputs": [
    {
     "name": "stdout",
     "output_type": "stream",
     "text": [
      "Enter a number: 5\n",
      "<class 'str'>\n",
      "5\n"
     ]
    }
   ],
   "source": [
    "a=input(\"Enter a number: \")\n",
    "print(type(a))\n",
    "print(a)"
   ]
  },
  {
   "cell_type": "code",
   "execution_count": 4,
   "id": "43bfad7e",
   "metadata": {},
   "outputs": [
    {
     "name": "stdout",
     "output_type": "stream",
     "text": [
      "Enter a number: 15\n",
      "<class 'int'>\n",
      "15\n"
     ]
    }
   ],
   "source": [
    "a=int(input(\"Enter a number: \"))\n",
    "print(type(a))\n",
    "print(a)"
   ]
  },
  {
   "cell_type": "code",
   "execution_count": 10,
   "id": "b4e7a5a3",
   "metadata": {},
   "outputs": [
    {
     "name": "stdout",
     "output_type": "stream",
     "text": [
      "Type in circumference of the circle: 6\n",
      "The radius of the circle is:  0.9554140127388535\n"
     ]
    }
   ],
   "source": [
    "c=float(input(\"Type in circumference of the circle: \"))\n",
    "print(\"The radius of the circle is: \",c/(2*3.14))\n",
    "\n"
   ]
  },
  {
   "cell_type": "code",
   "execution_count": 7,
   "id": "37a5ac90",
   "metadata": {},
   "outputs": [
    {
     "name": "stdout",
     "output_type": "stream",
     "text": [
      "Enter radius of the circle: 3.5\n",
      "Area of the circle is 38.465\n"
     ]
    }
   ],
   "source": [
    "radius=float(input(\"Enter radius of the circle: \"))\n",
    "# Calculate area\n",
    "print(\"Area of the circle is\",3.14*(radius**2))"
   ]
  },
  {
   "cell_type": "code",
   "execution_count": 11,
   "id": "8d8b3514",
   "metadata": {},
   "outputs": [],
   "source": [
    "# Homework\n",
    "# Calculate minimum number out of three numbers"
   ]
  },
  {
   "cell_type": "code",
   "execution_count": 6,
   "id": "63448325",
   "metadata": {},
   "outputs": [
    {
     "name": "stdout",
     "output_type": "stream",
     "text": [
      "Enter a month number: -6\n",
      "You entered a wrong month\n"
     ]
    }
   ],
   "source": [
    "month=int(input(\"Enter a month number: \"))\n",
    "\n",
    "if month==1:\n",
    "    print(\"January\")\n",
    "    \n",
    "if month==2:\n",
    "    print(\"February\")\n",
    "    \n",
    "if month==3:\n",
    "    print(\"March\")\n",
    "    \n",
    "if month==4:\n",
    "    print(\"April\")\n",
    "    \n",
    "if month==5:\n",
    "    print(\"May\")\n",
    "    \n",
    "if month==6:\n",
    "    print(\"June\")\n",
    "    \n",
    "if month==7:\n",
    "    print(\"July\")\n",
    "    \n",
    "if month==8:\n",
    "    print(\"August\")\n",
    "    \n",
    "if month==9:\n",
    "    print(\"September\")\n",
    "    \n",
    "if month==10:\n",
    "    print(\"October\")\n",
    "    \n",
    "if month==11:\n",
    "    print(\"November\")\n",
    "    \n",
    "if month==12:\n",
    "    print(\"December\")\n",
    "    \n",
    "if month <1 or month>12:\n",
    "    print(\"You entered a wrong month\")"
   ]
  }
 ],
 "metadata": {
  "kernelspec": {
   "display_name": "Python 3 (ipykernel)",
   "language": "python",
   "name": "python3"
  },
  "language_info": {
   "codemirror_mode": {
    "name": "ipython",
    "version": 3
   },
   "file_extension": ".py",
   "mimetype": "text/x-python",
   "name": "python",
   "nbconvert_exporter": "python",
   "pygments_lexer": "ipython3",
   "version": "3.9.7"
  }
 },
 "nbformat": 4,
 "nbformat_minor": 5
}
