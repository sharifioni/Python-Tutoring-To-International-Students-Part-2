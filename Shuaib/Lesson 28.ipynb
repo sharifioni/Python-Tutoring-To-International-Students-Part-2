{
 "cells": [
  {
   "cell_type": "code",
   "execution_count": 1,
   "id": "b69a666b",
   "metadata": {},
   "outputs": [
    {
     "name": "stdout",
     "output_type": "stream",
     "text": [
      "(4, 5)\n"
     ]
    }
   ],
   "source": [
    "b = [34, 56, (3,4,5,6), 88]\n",
    "print(b[2][1 : 3])"
   ]
  },
  {
   "cell_type": "code",
   "execution_count": 6,
   "id": "91be310c",
   "metadata": {},
   "outputs": [
    {
     "name": "stdout",
     "output_type": "stream",
     "text": [
      "HelloWorld\n",
      "HelloHelloHelloHelloHello\n",
      "False\n",
      "True\n"
     ]
    }
   ],
   "source": [
    "a = \"Hello\"\n",
    "b = \"World\"\n",
    "print(a+b)\n",
    "print(a * 5)\n",
    "print(\"z\" in a)\n",
    "print(\"z\" not in a)"
   ]
  },
  {
   "cell_type": "markdown",
   "id": "acc4af60",
   "metadata": {},
   "source": [
    "# Operators with the lists:\n",
    "* Concatenation between two lists with +\n",
    "* Multiplying with any integer *\n",
    "* Check if an elemnt is present in your list with \"in\" and \"not in\" operator. (The result will be boolean)\n"
   ]
  },
  {
   "cell_type": "code",
   "execution_count": 9,
   "id": "2f4fb958",
   "metadata": {},
   "outputs": [
    {
     "name": "stdout",
     "output_type": "stream",
     "text": [
      "[2, 4, 6, 8, 10, 1, 3, 5, 7, 9]\n",
      "[2, 4, 6, 8, 10, 2]\n"
     ]
    }
   ],
   "source": [
    "a = [2, 4, 6, 8, 10]\n",
    "b = [1, 3, 5, 7, 9]\n",
    "\n",
    "# List Concatenation\n",
    "print(a + b) # Lists joined / concatenated\n",
    "print(a + [2]) "
   ]
  },
  {
   "cell_type": "code",
   "execution_count": 12,
   "id": "63505002",
   "metadata": {},
   "outputs": [
    {
     "name": "stdout",
     "output_type": "stream",
     "text": [
      "[2, 4, 6, 8, 10, 2, 4, 6, 8, 10, 2, 4, 6, 8, 10]\n"
     ]
    }
   ],
   "source": [
    "# Multiplication with lists\n",
    "a = [2, 4, 6, 8, 10]\n",
    "print(a * 3) # The same list appears three times as a list"
   ]
  },
  {
   "cell_type": "code",
   "execution_count": 19,
   "id": "672978a2",
   "metadata": {},
   "outputs": [
    {
     "name": "stdout",
     "output_type": "stream",
     "text": [
      "False\n",
      "True\n",
      "False\n"
     ]
    }
   ],
   "source": [
    "# Search an item in a list with \"in\" and \"not in\"\n",
    "a = [2, 4, 6, 8, 10]\n",
    "\n",
    "print(3 in a)\n",
    "print(3 not in a)\n",
    "\n",
    "b = [34, 56, (3,4,5,6), 88]\n",
    "print(3 in b)"
   ]
  },
  {
   "cell_type": "markdown",
   "id": "9cb50b0c",
   "metadata": {},
   "source": [
    "# Mutable and immutable objects / data types\n",
    "#### Mutable Objects:\n",
    "Those objects / data types whose item values can be changed\n",
    "* Lists\n",
    "* Dictionaries\n",
    "* Sets\n",
    "\n",
    "#### Immutable Objects:\n",
    "Those objects / data types whose item values cannot be changed\n",
    "* Strings\n",
    "* Tuples\n",
    "* Numbers (integer / float)\n"
   ]
  },
  {
   "cell_type": "code",
   "execution_count": 26,
   "id": "9a28c7fd",
   "metadata": {},
   "outputs": [
    {
     "name": "stdout",
     "output_type": "stream",
     "text": [
      "[2, 4, 6, 8, 10]\n",
      "[2, 0, 6, 8, 10]\n",
      "[78, 8, 10]\n"
     ]
    }
   ],
   "source": [
    "a = [2, 4, 6, 8, 10]\n",
    "print(a)\n",
    "\n",
    "a[1] = 0\n",
    "print(a)\n",
    "\n",
    "a[0 : 3] = [78]\n",
    "print(a)"
   ]
  },
  {
   "cell_type": "code",
   "execution_count": 27,
   "id": "38e45c0a",
   "metadata": {},
   "outputs": [
    {
     "ename": "TypeError",
     "evalue": "'str' object does not support item assignment",
     "output_type": "error",
     "traceback": [
      "\u001b[1;31m---------------------------------------------------------------------------\u001b[0m",
      "\u001b[1;31mTypeError\u001b[0m                                 Traceback (most recent call last)",
      "\u001b[1;32m~\\AppData\\Local\\Temp/ipykernel_16744/1514736317.py\u001b[0m in \u001b[0;36m<module>\u001b[1;34m\u001b[0m\n\u001b[0;32m      1\u001b[0m \u001b[0mname\u001b[0m \u001b[1;33m=\u001b[0m \u001b[1;34m\"Ruben\"\u001b[0m\u001b[1;33m\u001b[0m\u001b[1;33m\u001b[0m\u001b[0m\n\u001b[0;32m      2\u001b[0m \u001b[1;33m\u001b[0m\u001b[0m\n\u001b[1;32m----> 3\u001b[1;33m \u001b[0mname\u001b[0m \u001b[1;33m[\u001b[0m\u001b[1;36m0\u001b[0m\u001b[1;33m]\u001b[0m \u001b[1;33m=\u001b[0m \u001b[1;34m\"S\"\u001b[0m\u001b[1;33m\u001b[0m\u001b[1;33m\u001b[0m\u001b[0m\n\u001b[0m\u001b[0;32m      4\u001b[0m \u001b[0mprint\u001b[0m\u001b[1;33m(\u001b[0m\u001b[0mname\u001b[0m\u001b[1;33m)\u001b[0m\u001b[1;33m\u001b[0m\u001b[1;33m\u001b[0m\u001b[0m\n",
      "\u001b[1;31mTypeError\u001b[0m: 'str' object does not support item assignment"
     ]
    }
   ],
   "source": [
    "name = \"Ruben\"\n",
    "\n",
    "name [0] = \"S\"\n",
    "print(name)"
   ]
  },
  {
   "cell_type": "markdown",
   "id": "502a7774",
   "metadata": {},
   "source": [
    "# Homework\n",
    "* Positive indexing, negative indexing, positive slicing, negative slicing with strings, tuples,range\n",
    "* Learn about iterables, sequences, mutable and immutable objects\n",
    "* Do indexing with nested lists\n",
    "* Do item assignment with Lists\n",
    "* Use for loops with lists\n",
    "* See list methods (https://www.w3schools.com/python/python_ref_list.asp)\n"
   ]
  },
  {
   "cell_type": "code",
   "execution_count": null,
   "id": "f246c2af",
   "metadata": {},
   "outputs": [],
   "source": []
  }
 ],
 "metadata": {
  "kernelspec": {
   "display_name": "Python 3 (ipykernel)",
   "language": "python",
   "name": "python3"
  },
  "language_info": {
   "codemirror_mode": {
    "name": "ipython",
    "version": 3
   },
   "file_extension": ".py",
   "mimetype": "text/x-python",
   "name": "python",
   "nbconvert_exporter": "python",
   "pygments_lexer": "ipython3",
   "version": "3.9.7"
  }
 },
 "nbformat": 4,
 "nbformat_minor": 5
}
