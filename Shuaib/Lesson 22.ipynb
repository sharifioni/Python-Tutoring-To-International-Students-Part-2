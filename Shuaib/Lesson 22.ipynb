{
 "cells": [
  {
   "cell_type": "code",
   "execution_count": 2,
   "id": "04328226",
   "metadata": {},
   "outputs": [
    {
     "name": "stdout",
     "output_type": "stream",
     "text": [
      "Enter a number: 6\n",
      "Factorial of 6 is 0\n"
     ]
    }
   ],
   "source": [
    "# Exercise 3.13\n",
    "n = int(input(\"Enter a number: \")) \n",
    "fact = 1\n",
    "\n",
    "if n == 1 or n == 0:\n",
    "    print(f\"Factorial of {n} is {fact}\")\n",
    "\n",
    "elif n < 0:\n",
    "    print(\"Please enter a positive integer\")\n",
    "    \n",
    "else:\n",
    "    for i in range(1,n+1):\n",
    "        fact = fact * i\n",
    "        \n",
    "print(f\"Factorial of {n} is {fact}\")\n",
    "    "
   ]
  },
  {
   "cell_type": "markdown",
   "id": "9382e440",
   "metadata": {},
   "source": [
    "# Modules in Python\n",
    "* Math\n",
    "* Random"
   ]
  },
  {
   "cell_type": "code",
   "execution_count": 7,
   "id": "68c2f7ad",
   "metadata": {},
   "outputs": [
    {
     "name": "stdout",
     "output_type": "stream",
     "text": [
      "0.5139784559875352\n",
      "5.0\n",
      "25.0\n",
      "25\n"
     ]
    }
   ],
   "source": [
    "import math\n",
    "\n",
    "# name of module (dot) name of function inside that module\n",
    "print(math.sin(78))\n",
    "print(math.sqrt(25))\n",
    "print(math.pow(5,2))\n",
    "print(5**2)"
   ]
  },
  {
   "cell_type": "code",
   "execution_count": null,
   "id": "98da9333",
   "metadata": {},
   "outputs": [],
   "source": [
    "import random\n"
   ]
  },
  {
   "cell_type": "markdown",
   "id": "8b1d698e",
   "metadata": {},
   "source": [
    "# Homework\n",
    "* 4.9, 4.11 \n",
    "* Factorial function\n",
    "* Positional, Default and keyword arguments\n",
    "* Perform all the functions of math module"
   ]
  },
  {
   "cell_type": "code",
   "execution_count": null,
   "id": "942c4a35",
   "metadata": {},
   "outputs": [],
   "source": []
  }
 ],
 "metadata": {
  "kernelspec": {
   "display_name": "Python 3 (ipykernel)",
   "language": "python",
   "name": "python3"
  },
  "language_info": {
   "codemirror_mode": {
    "name": "ipython",
    "version": 3
   },
   "file_extension": ".py",
   "mimetype": "text/x-python",
   "name": "python",
   "nbconvert_exporter": "python",
   "pygments_lexer": "ipython3",
   "version": "3.9.7"
  }
 },
 "nbformat": 4,
 "nbformat_minor": 5
}
