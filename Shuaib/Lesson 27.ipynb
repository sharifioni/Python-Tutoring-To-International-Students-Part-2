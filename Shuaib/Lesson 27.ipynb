{
 "cells": [
  {
   "cell_type": "markdown",
   "id": "5826465a",
   "metadata": {},
   "source": [
    "# Iterables\n",
    "It is something on which you can use for loop\n",
    "* List\n",
    "* String\n",
    "* range\n",
    "* Tuple\n",
    "* Dictionary\n",
    "* Sets"
   ]
  },
  {
   "cell_type": "markdown",
   "id": "d3f91784",
   "metadata": {},
   "source": [
    "# Sequences\n",
    "It is an ordered data type on which you can use indexing\n",
    "* List\n",
    "* String\n",
    "* Tuple\n",
    "* Range"
   ]
  },
  {
   "cell_type": "markdown",
   "id": "ab247483",
   "metadata": {},
   "source": [
    "* len() it can be used with iterables\n",
    "* min() and max() can be used with iterables\n",
    "* sum() sequences with integer or float values\n",
    "* sorted() it can be used with iterables"
   ]
  },
  {
   "cell_type": "code",
   "execution_count": 14,
   "id": "c4335dc9",
   "metadata": {},
   "outputs": [
    {
     "name": "stdout",
     "output_type": "stream",
     "text": [
      "[15, 88, 22, 67, 45]\n",
      "[15, 88, 22, 67, 45]\n",
      "[88, 22, 67]\n",
      "[88, 22, 67]\n"
     ]
    }
   ],
   "source": [
    "a = [45, 67, 22, 88, 15]\n",
    "# print(sorted(a[1 : 4], reverse = True))\n",
    "#print(sorted(a, reverse = True))\n",
    "\n",
    "\n",
    "# printing backwards\n",
    "# negative slicing\n",
    "print(a[ :  : -1 ])\n",
    "print(a[ 4:  : -1 ])\n",
    "\n",
    "# [88, 22, 67]\n",
    "print(a[-2 : -5 : -1])\n",
    "print(a[3 : 0 : -1])"
   ]
  },
  {
   "cell_type": "code",
   "execution_count": 18,
   "id": "146006b7",
   "metadata": {},
   "outputs": [
    {
     "name": "stdout",
     "output_type": "stream",
     "text": [
      "kis\n",
      "['a', 'a', 'i', 'k', 'n', 'p', 's', 't']\n"
     ]
    }
   ],
   "source": [
    "a = \"pakistan\"\n",
    "print(a[2 : 5])\n",
    "print(sorted(a))"
   ]
  },
  {
   "cell_type": "markdown",
   "id": "ba63fabe",
   "metadata": {},
   "source": [
    "# Nested Lists"
   ]
  },
  {
   "cell_type": "code",
   "execution_count": 22,
   "id": "79c64d8d",
   "metadata": {},
   "outputs": [
    {
     "name": "stdout",
     "output_type": "stream",
     "text": [
      "3\n",
      "[3, 3, 4]\n",
      "[1, 2, 3]\n",
      "[4, 5, 6]\n"
     ]
    }
   ],
   "source": [
    "a = [ [3,3,4], [1,2,3], [4,5,6]]\n",
    "print(len(a))\n",
    "\n",
    "print(a[0])\n",
    "print(a[1])\n",
    "print(a[2])"
   ]
  },
  {
   "cell_type": "code",
   "execution_count": 26,
   "id": "ff6b28f9",
   "metadata": {},
   "outputs": [
    {
     "name": "stdout",
     "output_type": "stream",
     "text": [
      "3\n",
      "2\n",
      "6\n"
     ]
    }
   ],
   "source": [
    "a = [ [3,3,4], [1,2,3], [4,5,6]]\n",
    "print(a[0][0])\n",
    "print(a[1][1])\n",
    "print(a[2][2])"
   ]
  },
  {
   "cell_type": "code",
   "execution_count": 31,
   "id": "4b40396a",
   "metadata": {},
   "outputs": [
    {
     "name": "stdout",
     "output_type": "stream",
     "text": [
      "Fat\n"
     ]
    }
   ],
   "source": [
    "name = [ [\"John\", \"Fat\",25] , \"Peter\", \"Hello\"]\n",
    "print(name[0][1])\n"
   ]
  },
  {
   "cell_type": "code",
   "execution_count": 29,
   "id": "96aa74df",
   "metadata": {},
   "outputs": [
    {
     "name": "stdout",
     "output_type": "stream",
     "text": [
      "5\n"
     ]
    }
   ],
   "source": [
    "b = [34, 56, (3,4,5,6), 88]\n",
    "print(b[2][2])"
   ]
  },
  {
   "cell_type": "markdown",
   "id": "49ebe8db",
   "metadata": {},
   "source": [
    "# Homework\n",
    "* Negative Slicing\n",
    "* Positive indexing, negative indexing, positive slicing, negative slicing with strings, tuples,range"
   ]
  },
  {
   "cell_type": "code",
   "execution_count": null,
   "id": "7346b486",
   "metadata": {},
   "outputs": [],
   "source": []
  }
 ],
 "metadata": {
  "kernelspec": {
   "display_name": "Python 3 (ipykernel)",
   "language": "python",
   "name": "python3"
  },
  "language_info": {
   "codemirror_mode": {
    "name": "ipython",
    "version": 3
   },
   "file_extension": ".py",
   "mimetype": "text/x-python",
   "name": "python",
   "nbconvert_exporter": "python",
   "pygments_lexer": "ipython3",
   "version": "3.9.7"
  }
 },
 "nbformat": 4,
 "nbformat_minor": 5
}
