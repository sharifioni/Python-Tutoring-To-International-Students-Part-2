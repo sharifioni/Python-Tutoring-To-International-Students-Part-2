{
 "cells": [
  {
   "cell_type": "markdown",
   "id": "840d6cef",
   "metadata": {},
   "source": [
    "# for loop\n",
    "* for loop is a loop that is used with iterables (string, list, tuple, dictionary, range,sets)\n",
    "* for loop runs over an iterable starting from first item until last item\n",
    "* for (variable_name) in iterable:\n",
    "    statement1.......\n",
    "    statement2........\n",
    "    ..................\n",
    " * \"in\" operator checks an item from an iterable"
   ]
  },
  {
   "cell_type": "code",
   "execution_count": 1,
   "id": "cc147f8a",
   "metadata": {},
   "outputs": [
    {
     "name": "stdout",
     "output_type": "stream",
     "text": [
      "P\n",
      "r\n",
      "o\n",
      "g\n",
      "r\n",
      "a\n",
      "m\n",
      "m\n",
      "i\n",
      "n\n",
      "g\n"
     ]
    }
   ],
   "source": [
    "# for loop with strings\n",
    "for char in \"Programming\":\n",
    "    print(char)\n",
    "    "
   ]
  },
  {
   "cell_type": "code",
   "execution_count": 2,
   "id": "981ef86c",
   "metadata": {},
   "outputs": [
    {
     "name": "stdout",
     "output_type": "stream",
     "text": [
      "P\n",
      "r\n",
      "o\n",
      "g\n",
      "r\n",
      "a\n",
      "m\n",
      "m\n",
      "i\n",
      "n\n",
      "g\n"
     ]
    }
   ],
   "source": [
    "# for loop with strings\n",
    "word=\"Programming\"\n",
    "for char in word:\n",
    "    print(char)"
   ]
  },
  {
   "cell_type": "code",
   "execution_count": 6,
   "id": "fa80a203",
   "metadata": {},
   "outputs": [
    {
     "name": "stdout",
     "output_type": "stream",
     "text": [
      "o\n",
      "a\n",
      "i\n",
      "The number of vowels are 3\n"
     ]
    }
   ],
   "source": [
    "# Exercise: Count the number of vowels in a string\n",
    "word=\"Programming\"\n",
    "\n",
    "count=0\n",
    "#for loop will run over each character of the string\n",
    "for i in word:\n",
    "    # if condition will check whether current character is vowel or not\n",
    "    if i=='a' or i=='e' or i=='i' or i=='o' or i=='u':\n",
    "        print(i)\n",
    "        count=count+1\n",
    "\n",
    "print(\"The number of vowels are\",count)\n",
    "    "
   ]
  },
  {
   "cell_type": "markdown",
   "id": "20cdfe93",
   "metadata": {},
   "source": [
    "# Range function with for loops\n",
    "\n",
    "* range()\n",
    "* you can only pass integer values to range function\n",
    "* it accepts atmost 3 integer values / arguments\n",
    "* start value, stop value, step value"
   ]
  },
  {
   "cell_type": "code",
   "execution_count": null,
   "id": "9112b850",
   "metadata": {},
   "outputs": [],
   "source": [
    "# range function with one argument with for loop\n",
    "# by default start value is 0\n",
    "# stop value is the value that you have given\n",
    "# step value is 1\n",
    "for a in range(5):\n",
    "    print(a)"
   ]
  }
 ],
 "metadata": {
  "kernelspec": {
   "display_name": "Python 3 (ipykernel)",
   "language": "python",
   "name": "python3"
  },
  "language_info": {
   "codemirror_mode": {
    "name": "ipython",
    "version": 3
   },
   "file_extension": ".py",
   "mimetype": "text/x-python",
   "name": "python",
   "nbconvert_exporter": "python",
   "pygments_lexer": "ipython3",
   "version": "3.9.7"
  }
 },
 "nbformat": 4,
 "nbformat_minor": 5
}
