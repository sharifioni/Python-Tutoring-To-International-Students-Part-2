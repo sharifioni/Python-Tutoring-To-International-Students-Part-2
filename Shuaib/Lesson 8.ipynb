{
 "cells": [
  {
   "cell_type": "code",
   "execution_count": null,
   "id": "0ed5bccd",
   "metadata": {},
   "outputs": [],
   "source": [
    "# Homework, convert it into if elif else structure\n",
    "month=int(input(\"Enter a month number: \"))\n",
    "\n",
    "if month==1:\n",
    "    print(\"January\")\n",
    "    \n",
    "if month==2:\n",
    "    print(\"February\")\n",
    "    \n",
    "if month==3:\n",
    "    print(\"March\")\n",
    "    \n",
    "if month==4:\n",
    "    print(\"April\")\n",
    "    \n",
    "if month==5:\n",
    "    print(\"May\")\n",
    "    \n",
    "if month==6:\n",
    "    print(\"June\")\n",
    "    \n",
    "if month==7:\n",
    "    print(\"July\")\n",
    "    \n",
    "if month==8:\n",
    "    print(\"August\")\n",
    "    \n",
    "if month==9:\n",
    "    print(\"September\")\n",
    "    \n",
    "if month==10:\n",
    "    print(\"October\")\n",
    "    \n",
    "if month==11:\n",
    "    print(\"November\")\n",
    "    \n",
    "if month==12:\n",
    "    print(\"December\")\n",
    "    \n",
    "if month <1 or month>12:\n",
    "    print(\"You entered a wrong month\")"
   ]
  },
  {
   "cell_type": "code",
   "execution_count": 2,
   "id": "d429ac26",
   "metadata": {},
   "outputs": [
    {
     "name": "stdout",
     "output_type": "stream",
     "text": [
      "Enter your valid month from 1 to 12: 5\n",
      "Enter a valid day of your month: 15\n",
      "Your Birthday is on 5/15\n",
      "Your Astrology Sign is Taurus\n",
      "Your personality traits are Reliable, Diligent and Conservative\n"
     ]
    }
   ],
   "source": [
    "month=int(input(\"Enter your valid month from 1 to 12: \"))\n",
    "day=int(input(\"Enter a valid day of your month: \"))\n",
    "print(f\"Your Birthday is on {month}/{day}\")\n",
    "\n",
    "if (month==3 and (day>=21 and day <=31)) or (month==4 and (day>=1 and day <=19)):\n",
    "    print(\"Your Astrology Sign is Aries\")\n",
    "    print(\"Your personality traits are Energetic, candid and willful\")\n",
    "    \n",
    "\n",
    "elif (month==4 and (day>=20 and day <=30)) or (month==5 and (day>=1 and day <=20)):\n",
    "    print(\"Your Astrology Sign is Taurus\")\n",
    "    print(\"Your personality traits are Reliable, Diligent and Conservative\")\n",
    "\n",
    "\n"
   ]
  },
  {
   "cell_type": "code",
   "execution_count": null,
   "id": "fcf5d2ba",
   "metadata": {},
   "outputs": [],
   "source": []
  }
 ],
 "metadata": {
  "kernelspec": {
   "display_name": "Python 3 (ipykernel)",
   "language": "python",
   "name": "python3"
  },
  "language_info": {
   "codemirror_mode": {
    "name": "ipython",
    "version": 3
   },
   "file_extension": ".py",
   "mimetype": "text/x-python",
   "name": "python",
   "nbconvert_exporter": "python",
   "pygments_lexer": "ipython3",
   "version": "3.9.7"
  }
 },
 "nbformat": 4,
 "nbformat_minor": 5
}
