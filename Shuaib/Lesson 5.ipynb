{
 "cells": [
  {
   "cell_type": "code",
   "execution_count": 1,
   "id": "9619520c",
   "metadata": {},
   "outputs": [
    {
     "name": "stdout",
     "output_type": "stream",
     "text": [
      "Enter any positive number: 7\n",
      "7 is odd\n"
     ]
    }
   ],
   "source": [
    "# Exercise 2.6\n",
    "\n",
    "number=int(input(\"Enter any positive number: \"))\n",
    "\n",
    "if number%2==0:\n",
    "    print(f\"{number} is even\")\n",
    "    \n",
    "else:\n",
    "    print(f\"{number} is odd\")\n"
   ]
  },
  {
   "cell_type": "code",
   "execution_count": null,
   "id": "6324d6ba",
   "metadata": {},
   "outputs": [],
   "source": [
    "# Enter any year and determine if it's a leap year or not"
   ]
  },
  {
   "cell_type": "code",
   "execution_count": 3,
   "id": "9d166d32",
   "metadata": {},
   "outputs": [
    {
     "name": "stdout",
     "output_type": "stream",
     "text": [
      "Enter any positive number: 7\n"
     ]
    }
   ],
   "source": [
    "# When writing if else, you can skip the else part in your code depending on the requirement of your program\n",
    "number=int(input(\"Enter any positive number: \"))\n",
    "\n",
    "if number%2==0:\n",
    "    print(f\"{number} is even\")\n",
    "    \n"
   ]
  },
  {
   "cell_type": "code",
   "execution_count": 1,
   "id": "2ee4afaa",
   "metadata": {},
   "outputs": [
    {
     "name": "stdout",
     "output_type": "stream",
     "text": [
      "if part is running\n"
     ]
    }
   ],
   "source": [
    "if True:\n",
    "    print(\"if part is running\")\n",
    "else:\n",
    "    print(\"else part is running\")"
   ]
  },
  {
   "cell_type": "code",
   "execution_count": 5,
   "id": "4d12e527",
   "metadata": {},
   "outputs": [
    {
     "name": "stdout",
     "output_type": "stream",
     "text": [
      "else part is running\n"
     ]
    }
   ],
   "source": [
    "if False:\n",
    "    print(\"if part is running\")\n",
    "else:\n",
    "    print(\"else part is running\")"
   ]
  },
  {
   "cell_type": "code",
   "execution_count": 6,
   "id": "bc6c3f2c",
   "metadata": {},
   "outputs": [
    {
     "name": "stdout",
     "output_type": "stream",
     "text": [
      "if part is running\n"
     ]
    }
   ],
   "source": [
    "#Any number passed to if is considered True\n",
    "if 8:\n",
    "    print(\"if part is running\")\n",
    "else:\n",
    "    print(\"else part is running\")"
   ]
  },
  {
   "cell_type": "code",
   "execution_count": 7,
   "id": "ade4a612",
   "metadata": {},
   "outputs": [
    {
     "name": "stdout",
     "output_type": "stream",
     "text": [
      "else part is running\n"
     ]
    }
   ],
   "source": [
    "#zero passed to if is considered False\n",
    "if 0:\n",
    "    print(\"if part is running\")\n",
    "else:\n",
    "    print(\"else part is running\")"
   ]
  },
  {
   "cell_type": "code",
   "execution_count": 8,
   "id": "f0db7766",
   "metadata": {},
   "outputs": [
    {
     "name": "stdout",
     "output_type": "stream",
     "text": [
      "if part is running\n"
     ]
    }
   ],
   "source": [
    "#Any string passed to if is considered True\n",
    "if \"Today\":\n",
    "    print(\"if part is running\")\n",
    "else:\n",
    "    print(\"else part is running\")"
   ]
  },
  {
   "cell_type": "code",
   "execution_count": 9,
   "id": "d35d51ae",
   "metadata": {},
   "outputs": [
    {
     "name": "stdout",
     "output_type": "stream",
     "text": [
      "else part is running\n"
     ]
    }
   ],
   "source": [
    "#Empty string passed to if is considered false\n",
    "if \"\":\n",
    "    print(\"if part is running\")\n",
    "else:\n",
    "    print(\"else part is running\")"
   ]
  },
  {
   "cell_type": "markdown",
   "id": "39fd36a0",
   "metadata": {},
   "source": [
    "# Multiple if conditions\n"
   ]
  },
  {
   "cell_type": "code",
   "execution_count": 11,
   "id": "9446392f",
   "metadata": {},
   "outputs": [
    {
     "name": "stdout",
     "output_type": "stream",
     "text": [
      "Enter two integers, and I will tell you the relationships they satisfy.\n",
      "Enter first integer: 5\n",
      "Enter second integer: 5\n",
      "5 is equal to 5\n",
      "5 is less than or equal to 5\n",
      "5 is greater than or equal to 5\n"
     ]
    }
   ],
   "source": [
    "print('Enter two integers, and I will tell you','the relationships they satisfy.')\n",
    "\n",
    "# read first integer\n",
    "number1 = int(input('Enter first integer: ')) #5\n",
    "\n",
    "# read second integer\n",
    "number2 = int(input('Enter second integer: ')) #5\n",
    "\n",
    "if number1 == number2:#True\n",
    "    print(number1, 'is equal to', number2)\n",
    "\n",
    "if number1 != number2:  \n",
    "    print(number1, 'is not equal to', number2)\n",
    "\n",
    "if number1 < number2: \n",
    "    print(number1, 'is less than', number2)\n",
    "\n",
    "if number1 > number2:\n",
    "    print(number1, 'is greater than', number2)\n",
    "\n",
    "if number1 <= number2: #True\n",
    "    print(number1, 'is less than or equal to', number2)\n",
    "\n",
    "if number1 >= number2: #True\n",
    "    print(number1, 'is greater than or equal to', number2)"
   ]
  },
  {
   "cell_type": "code",
   "execution_count": 13,
   "id": "e7b376d6",
   "metadata": {},
   "outputs": [
    {
     "name": "stdout",
     "output_type": "stream",
     "text": [
      "Enter first number: 10\n",
      "Enter second number: 15\n",
      "Enter third number: 5\n",
      "maximum number is 15\n"
     ]
    }
   ],
   "source": [
    "# Calculating maximum number out of three numbers\n",
    "number1=int(input(\"Enter first number: \"))\n",
    "number2=int(input(\"Enter second number: \"))\n",
    "number3=int(input(\"Enter third number: \"))\n",
    "maximum=number1\n",
    "\n",
    "if number1<number2:\n",
    "    maximum=number2\n",
    "    \n",
    "if number2<number3:\n",
    "    maximum=number3\n",
    "    \n",
    "print(f\"maximum number is {maximum}\")"
   ]
  },
  {
   "cell_type": "code",
   "execution_count": null,
   "id": "1bfcb3d2",
   "metadata": {},
   "outputs": [],
   "source": [
    "# Calculate minimum number out of three numbers"
   ]
  },
  {
   "cell_type": "markdown",
   "id": "b588111c",
   "metadata": {},
   "source": [
    "# Logical or Boolean Operators\n",
    "* They are used between two conditions\n",
    "* and\n",
    "* or\n",
    "* not"
   ]
  },
  {
   "cell_type": "markdown",
   "id": "5e03e8b3",
   "metadata": {},
   "source": [
    "## and operator\n",
    "* if all of the conditions are true then it gives you true as a result otherwise false\n",
    "> True and True   =    True\n",
    ">\n",
    "> True and False   =   False\n",
    "> \n",
    "> False and True   =   False\n",
    "> \n",
    "> False and False  =   False\n",
    "\n"
   ]
  },
  {
   "cell_type": "code",
   "execution_count": 14,
   "id": "25ace31e",
   "metadata": {},
   "outputs": [
    {
     "name": "stdout",
     "output_type": "stream",
     "text": [
      "True\n"
     ]
    }
   ],
   "source": [
    "x=7\n",
    "y=10\n",
    "z=13\n",
    "\n",
    "# x < y   and y < z                 # True   and   True     =  True\n",
    "print(x < y   and y < z)"
   ]
  },
  {
   "cell_type": "code",
   "execution_count": 15,
   "id": "2330af61",
   "metadata": {},
   "outputs": [
    {
     "name": "stdout",
     "output_type": "stream",
     "text": [
      "False\n"
     ]
    }
   ],
   "source": [
    "# x < y   and y > z                 # True   and   False     =  False\n",
    "print(x < y   and y > z)"
   ]
  },
  {
   "cell_type": "code",
   "execution_count": 16,
   "id": "997b7312",
   "metadata": {},
   "outputs": [
    {
     "name": "stdout",
     "output_type": "stream",
     "text": [
      "False\n"
     ]
    }
   ],
   "source": [
    "# x > y   and y > x                 # False   and   True     =  False\n",
    "print(x > y   and y > x)"
   ]
  },
  {
   "cell_type": "code",
   "execution_count": 17,
   "id": "c4b2e644",
   "metadata": {},
   "outputs": [
    {
     "name": "stdout",
     "output_type": "stream",
     "text": [
      "False\n"
     ]
    }
   ],
   "source": [
    "# x > y   and y > z                 # False   and   False     =  False\n",
    "print(x > y   and y > z)"
   ]
  },
  {
   "cell_type": "code",
   "execution_count": 18,
   "id": "fbce03d3",
   "metadata": {},
   "outputs": [
    {
     "name": "stdout",
     "output_type": "stream",
     "text": [
      "True\n"
     ]
    }
   ],
   "source": [
    "# x < y   and y < z  and y > x                 # True   and   True and True     =  True\n",
    "\n",
    "print(x < y   and y < z  and y > x )\n"
   ]
  },
  {
   "cell_type": "code",
   "execution_count": 5,
   "id": "ad80b6e4",
   "metadata": {},
   "outputs": [
    {
     "name": "stdout",
     "output_type": "stream",
     "text": [
      "Enter wehather. Sunny, Rainy, Windy, Snowy: Sunny\n",
      "Enter any day between Monay to Sunday: Monday\n",
      "you can go to school\n"
     ]
    }
   ],
   "source": [
    "weather=input(\"Enter wehather. Sunny, Rainy, Windy, Snowy: \")\n",
    "day=input(\"Enter any day between Monay to Sunday: \")\n",
    "\n",
    "if weather == \"Rainy\" and day== \"Saturday\":\n",
    "    print(\"You are good to go for swimming\")\n",
    "\n",
    "if weather== 'Sunny' and day == 'Monday':\n",
    "    print(\"you can go to school\")"
   ]
  }
 ],
 "metadata": {
  "kernelspec": {
   "display_name": "Python 3 (ipykernel)",
   "language": "python",
   "name": "python3"
  },
  "language_info": {
   "codemirror_mode": {
    "name": "ipython",
    "version": 3
   },
   "file_extension": ".py",
   "mimetype": "text/x-python",
   "name": "python",
   "nbconvert_exporter": "python",
   "pygments_lexer": "ipython3",
   "version": "3.9.7"
  }
 },
 "nbformat": 4,
 "nbformat_minor": 5
}
