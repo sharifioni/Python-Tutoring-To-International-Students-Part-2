{
 "cells": [
  {
   "cell_type": "markdown",
   "id": "6eced585",
   "metadata": {},
   "source": [
    "# Input Function\n",
    "* Input function is used to take the value from the user\n",
    "* you can pass a string as an argument to the input function to prompt the user\n",
    "* input function always return you a string value\n",
    "* input()"
   ]
  },
  {
   "cell_type": "code",
   "execution_count": 4,
   "id": "a4938e9f",
   "metadata": {},
   "outputs": [
    {
     "name": "stdout",
     "output_type": "stream",
     "text": [
      "Enter your name: shahjahan\n",
      "The name is shahjahan\n"
     ]
    }
   ],
   "source": [
    "name=input(\"Enter your name: \")\n",
    "print(f\"The name is {name}\")"
   ]
  },
  {
   "cell_type": "code",
   "execution_count": 5,
   "id": "9cb6749c",
   "metadata": {},
   "outputs": [
    {
     "name": "stdout",
     "output_type": "stream",
     "text": [
      "Enter first number: 45\n",
      "Enter second number: 15\n",
      "4515\n"
     ]
    }
   ],
   "source": [
    "num1=input(\"Enter first number: \")\n",
    "num2=input(\"Enter second number: \")\n",
    "print(num1+num2)"
   ]
  },
  {
   "cell_type": "code",
   "execution_count": 6,
   "id": "f5832720",
   "metadata": {},
   "outputs": [
    {
     "name": "stdout",
     "output_type": "stream",
     "text": [
      "Enter first number: 45\n",
      "Enter second number: 15\n",
      "60\n"
     ]
    }
   ],
   "source": [
    "num1=int(input(\"Enter first number: \"))\n",
    "num2=int(input(\"Enter second number: \"))\n",
    "print(num1+num2)"
   ]
  },
  {
   "cell_type": "markdown",
   "id": "5c028644",
   "metadata": {},
   "source": [
    ">Separating the Digits in an Integer) Write a script that inputs a five-digit integer\n",
    "from the user. Separate the number into its individual digits. Print them separated by three\n",
    "spaces each. For example, if the user types in the number 42339, the script should print"
   ]
  },
  {
   "cell_type": "code",
   "execution_count": 17,
   "id": "04d7625e",
   "metadata": {},
   "outputs": [
    {
     "name": "stdout",
     "output_type": "stream",
     "text": [
      "Enter a five digit number: 42339\n",
      "4   2\n"
     ]
    }
   ],
   "source": [
    "number=int(input(\"Enter a five digit number: \"))\n",
    "\n",
    "print(number//10000,(number//1000)%10,sep=\"   \")"
   ]
  },
  {
   "cell_type": "markdown",
   "id": "5d1a2a99",
   "metadata": {},
   "source": [
    "# Comparison Operators\n",
    "* These are the operators that compare the two values and returns a boolean value\n",
    "* \\>   greater than\n",
    "* <   less than\n",
    "* \\>=  greater than or equal to\n",
    "* <=  less than or equal to\n",
    "* ==  equal\n",
    "* !=  not equal"
   ]
  },
  {
   "cell_type": "code",
   "execution_count": 18,
   "id": "ace5e5d5",
   "metadata": {},
   "outputs": [
    {
     "name": "stdout",
     "output_type": "stream",
     "text": [
      "True\n"
     ]
    }
   ],
   "source": [
    "print(5 < 6)"
   ]
  },
  {
   "cell_type": "code",
   "execution_count": 19,
   "id": "ea60bc0f",
   "metadata": {},
   "outputs": [
    {
     "name": "stdout",
     "output_type": "stream",
     "text": [
      "False\n"
     ]
    }
   ],
   "source": [
    "print(5 > 6)"
   ]
  },
  {
   "cell_type": "code",
   "execution_count": 20,
   "id": "d35ca081",
   "metadata": {},
   "outputs": [
    {
     "name": "stdout",
     "output_type": "stream",
     "text": [
      "True\n"
     ]
    }
   ],
   "source": [
    "print(5 <= 6)"
   ]
  },
  {
   "cell_type": "code",
   "execution_count": 21,
   "id": "ac014618",
   "metadata": {},
   "outputs": [
    {
     "name": "stdout",
     "output_type": "stream",
     "text": [
      "False\n"
     ]
    }
   ],
   "source": [
    "print(5 >= 6)"
   ]
  },
  {
   "cell_type": "code",
   "execution_count": 22,
   "id": "a1f61f17",
   "metadata": {},
   "outputs": [
    {
     "name": "stdout",
     "output_type": "stream",
     "text": [
      "False\n"
     ]
    }
   ],
   "source": [
    "print(5 == 6)"
   ]
  },
  {
   "cell_type": "code",
   "execution_count": 23,
   "id": "aa92de47",
   "metadata": {},
   "outputs": [
    {
     "name": "stdout",
     "output_type": "stream",
     "text": [
      "True\n"
     ]
    }
   ],
   "source": [
    "print(5 != 6)"
   ]
  },
  {
   "cell_type": "code",
   "execution_count": 25,
   "id": "76e3b3bc",
   "metadata": {},
   "outputs": [
    {
     "name": "stdout",
     "output_type": "stream",
     "text": [
      "True\n"
     ]
    }
   ],
   "source": [
    "name=\"Shah\"\n",
    "\n",
    "print( name == \"Shah\" )"
   ]
  },
  {
   "cell_type": "markdown",
   "id": "92639c11",
   "metadata": {},
   "source": [
    "# if  else\n",
    "\n",
    "* Used to make decisions\n",
    "* if part runs for true condition\n",
    "* else part runs for false condition\n",
    "* each if and else block gives you indentation\n",
    "* if  condition:\n",
    "    statements1\n",
    "    statement2\n",
    "    statement3\n",
    "    ...........\n",
    "  \n",
    "  else:\n",
    "      statement1\n",
    "      statement2\n",
    "      .........."
   ]
  },
  {
   "cell_type": "code",
   "execution_count": 27,
   "id": "c16e4599",
   "metadata": {},
   "outputs": [
    {
     "name": "stdout",
     "output_type": "stream",
     "text": [
      "10 is less than 15\n"
     ]
    }
   ],
   "source": [
    "\n",
    "x=10\n",
    "y=15\n",
    "\n",
    "#To check which number is greater\n",
    "if x>y:\n",
    "    print(f\"{x} is greater than {y}\")\n",
    "    \n",
    "else:\n",
    "    print(f\"{y} is greater than {x}\")\n",
    "    \n",
    "    "
   ]
  }
 ],
 "metadata": {
  "kernelspec": {
   "display_name": "Python 3 (ipykernel)",
   "language": "python",
   "name": "python3"
  },
  "language_info": {
   "codemirror_mode": {
    "name": "ipython",
    "version": 3
   },
   "file_extension": ".py",
   "mimetype": "text/x-python",
   "name": "python",
   "nbconvert_exporter": "python",
   "pygments_lexer": "ipython3",
   "version": "3.9.7"
  }
 },
 "nbformat": 4,
 "nbformat_minor": 5
}
