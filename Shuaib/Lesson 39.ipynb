{
 "cells": [
  {
   "cell_type": "markdown",
   "id": "b9af72c1",
   "metadata": {},
   "source": [
    "# String methods\n",
    "* capitalize (Converts the first character to upper case)\n",
    "* casefold   (Converts string into lower case)\n",
    "* count       (Returns the number of times a specified value occurs in a string)\n",
    "* endswith\n",
    "* startswith\n",
    "* find\n",
    "* index\n",
    "* isalnum\n",
    "* isalpha\n",
    "* isdigit\n",
    "* islower\n",
    "* isupper\n",
    "* join\n",
    "* lower\n",
    "* upper\n",
    "* strip\n",
    "* split "
   ]
  },
  {
   "cell_type": "code",
   "execution_count": 1,
   "id": "33e19735",
   "metadata": {},
   "outputs": [
    {
     "name": "stdout",
     "output_type": "stream",
     "text": [
      "We are learning python\n"
     ]
    }
   ],
   "source": [
    "# capitalize  \n",
    "# string.capitalize() converts first letter of your string into upper case and returns it\n",
    "sentence = \"we are learning python\"\n",
    "print(sentence.capitalize())\n"
   ]
  },
  {
   "cell_type": "code",
   "execution_count": 12,
   "id": "ca74f1e4",
   "metadata": {},
   "outputs": [
    {
     "name": "stdout",
     "output_type": "stream",
     "text": [
      "WE ARE LEARNING PYTHON\n",
      "we are learning python\n"
     ]
    }
   ],
   "source": [
    "# upper  \n",
    "# string.upper() converts all the letters of your string into upper case  and returns it\n",
    "sentence = \"we are learning python\"\n",
    "print(sentence.upper())\n",
    "print(sentence)"
   ]
  },
  {
   "cell_type": "code",
   "execution_count": 3,
   "id": "1fa0b0c1",
   "metadata": {},
   "outputs": [
    {
     "name": "stdout",
     "output_type": "stream",
     "text": [
      "we are learning python\n"
     ]
    }
   ],
   "source": [
    "# casefold\n",
    "# string.casefold()\n",
    "# converts all letters of your string into lower case and returns it\n",
    "sentence = \"WE ARE LEarning PYTHON\"\n",
    "print(sentence.casefold())"
   ]
  },
  {
   "cell_type": "code",
   "execution_count": 4,
   "id": "9ed3356a",
   "metadata": {},
   "outputs": [
    {
     "name": "stdout",
     "output_type": "stream",
     "text": [
      "we are learning python\n"
     ]
    }
   ],
   "source": [
    "# lower\n",
    "# string.lower()\n",
    "# converts all letters of your string into lower case and returns it\n",
    "sentence = \"WE ARE LEarning PYTHON\"\n",
    "print(sentence.lower())"
   ]
  },
  {
   "cell_type": "code",
   "execution_count": 15,
   "id": "b56a1290",
   "metadata": {},
   "outputs": [
    {
     "name": "stdout",
     "output_type": "stream",
     "text": [
      "3\n",
      "2\n"
     ]
    }
   ],
   "source": [
    "# count\n",
    "# string.count(item)  it returns integer value regarding how many times item occured in the string\n",
    "sentence = \"WE ARE LEarning PYTHON\"\n",
    "print(sentence.count(\"E\"))\n",
    "print(sentence.count(\"E\", 5, 11))"
   ]
  },
  {
   "cell_type": "code",
   "execution_count": 19,
   "id": "e34c3668",
   "metadata": {},
   "outputs": [
    {
     "name": "stdout",
     "output_type": "stream",
     "text": [
      "False\n",
      "True\n"
     ]
    }
   ],
   "source": [
    "# endswith\n",
    "# string.endswith(item) it returns a Boolean value. True if string endswith that item otherwise False\n",
    "sentence = \"WE ARE LEarning PYTHON\"\n",
    "print(sentence.endswith(\"py\"))\n",
    "print(sentence.endswith(\"r\", 0, 11))"
   ]
  },
  {
   "cell_type": "code",
   "execution_count": 25,
   "id": "7bf2768e",
   "metadata": {},
   "outputs": [
    {
     "name": "stdout",
     "output_type": "stream",
     "text": [
      "True\n",
      "True\n"
     ]
    }
   ],
   "source": [
    "# startswith\n",
    "# string.startswith(item) it returns a Boolean value. True if string starts with that item otherwise False\n",
    "sentence = \"WE ARE LEarning PYTHON\"\n",
    "print(sentence.startswith(\"WE \"))\n",
    "print(sentence.startswith(\"E\", 5, 15))"
   ]
  },
  {
   "cell_type": "code",
   "execution_count": null,
   "id": "55965cb4",
   "metadata": {},
   "outputs": [],
   "source": []
  },
  {
   "cell_type": "code",
   "execution_count": 11,
   "id": "e1c6b27c",
   "metadata": {},
   "outputs": [
    {
     "name": "stdout",
     "output_type": "stream",
     "text": [
      "[-1, 0, 2, 3, 5, 10]\n"
     ]
    }
   ],
   "source": [
    "list1 = [3, -1, 0, 10, 5, 2]\n",
    "list1.sort()\n",
    "print(list1)"
   ]
  },
  {
   "cell_type": "code",
   "execution_count": 20,
   "id": "b8bfb561",
   "metadata": {},
   "outputs": [
    {
     "name": "stdout",
     "output_type": "stream",
     "text": [
      "Hello\n",
      "None\n"
     ]
    }
   ],
   "source": [
    "def a():\n",
    "    print(\"Hello\")\n",
    "    \n",
    "print(a())"
   ]
  }
 ],
 "metadata": {
  "kernelspec": {
   "display_name": "Python 3 (ipykernel)",
   "language": "python",
   "name": "python3"
  },
  "language_info": {
   "codemirror_mode": {
    "name": "ipython",
    "version": 3
   },
   "file_extension": ".py",
   "mimetype": "text/x-python",
   "name": "python",
   "nbconvert_exporter": "python",
   "pygments_lexer": "ipython3",
   "version": "3.9.7"
  }
 },
 "nbformat": 4,
 "nbformat_minor": 5
}
