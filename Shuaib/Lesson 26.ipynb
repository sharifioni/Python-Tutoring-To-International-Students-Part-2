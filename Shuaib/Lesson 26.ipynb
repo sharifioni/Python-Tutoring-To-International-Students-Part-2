{
 "cells": [
  {
   "cell_type": "code",
   "execution_count": 2,
   "id": "5d1bae62",
   "metadata": {},
   "outputs": [
    {
     "name": "stdout",
     "output_type": "stream",
     "text": [
      "[-5, 0, 1, 2, 4, 8, 9]\n",
      "[9, 8, 4, 2, 1, 0, -5]\n"
     ]
    }
   ],
   "source": [
    "# sorted(sequence/ iterables , key , reverse)\n",
    "# sequence can be list or tuple, strings, range\n",
    "# key value is any function according to which you want to sort\n",
    "# reverse is any bolean value, if it's false it sorts in ascending order if it's true then it sorts in descending order\n",
    "\n",
    "a = [2, 4, 0, 8, -5, 1, 9]\n",
    "print(sorted(a))\n",
    "print(sorted(a, reverse = True))\n"
   ]
  },
  {
   "cell_type": "code",
   "execution_count": 6,
   "id": "80cbe35f",
   "metadata": {},
   "outputs": [
    {
     "name": "stdout",
     "output_type": "stream",
     "text": [
      "['class', 'name', 'shahjahan']\n",
      "['shahjahan', 'name', 'class']\n",
      "['name', 'class', 'shahjahan']\n",
      "['shahjahan', 'class', 'name']\n"
     ]
    }
   ],
   "source": [
    "def sort(x):\n",
    "    return len(x)\n",
    "    \n",
    "b = [\"name\", \"shahjahan\",\"class\"]\n",
    "print(sorted(b))\n",
    "print(sorted(b , reverse = True))\n",
    "print(sorted(b , key = sort))\n",
    "print(sorted(b , key = sort, reverse = True))"
   ]
  },
  {
   "cell_type": "markdown",
   "id": "e2406edd",
   "metadata": {},
   "source": [
    "# Indexing in Lists\n",
    "* Indexing is used to access items from a sequence.\n",
    "* Sequences are (list, tuple, strings, range)"
   ]
  },
  {
   "cell_type": "code",
   "execution_count": 23,
   "id": "f85c154d",
   "metadata": {},
   "outputs": [
    {
     "name": "stdout",
     "output_type": "stream",
     "text": [
      "2\n",
      "-5\n",
      "9\n",
      "1\n",
      "9\n"
     ]
    },
    {
     "ename": "IndexError",
     "evalue": "list index out of range",
     "output_type": "error",
     "traceback": [
      "\u001b[1;31m---------------------------------------------------------------------------\u001b[0m",
      "\u001b[1;31mIndexError\u001b[0m                                Traceback (most recent call last)",
      "\u001b[1;32m~\\AppData\\Local\\Temp/ipykernel_16068/2205138522.py\u001b[0m in \u001b[0;36m<module>\u001b[1;34m\u001b[0m\n\u001b[0;32m      7\u001b[0m \u001b[0mprint\u001b[0m\u001b[1;33m(\u001b[0m\u001b[0ma\u001b[0m\u001b[1;33m[\u001b[0m\u001b[0mlen\u001b[0m\u001b[1;33m(\u001b[0m\u001b[0ma\u001b[0m\u001b[1;33m)\u001b[0m\u001b[1;33m-\u001b[0m\u001b[1;36m2\u001b[0m\u001b[1;33m]\u001b[0m\u001b[1;33m)\u001b[0m\u001b[1;33m\u001b[0m\u001b[1;33m\u001b[0m\u001b[0m\n\u001b[0;32m      8\u001b[0m \u001b[0mprint\u001b[0m\u001b[1;33m(\u001b[0m\u001b[0ma\u001b[0m\u001b[1;33m[\u001b[0m\u001b[0mlen\u001b[0m\u001b[1;33m(\u001b[0m\u001b[0ma\u001b[0m\u001b[1;33m)\u001b[0m\u001b[1;33m-\u001b[0m\u001b[1;36m1\u001b[0m\u001b[1;33m]\u001b[0m\u001b[1;33m)\u001b[0m\u001b[1;33m\u001b[0m\u001b[1;33m\u001b[0m\u001b[0m\n\u001b[1;32m----> 9\u001b[1;33m \u001b[0mprint\u001b[0m\u001b[1;33m(\u001b[0m\u001b[0ma\u001b[0m\u001b[1;33m[\u001b[0m\u001b[1;36m8\u001b[0m\u001b[1;33m]\u001b[0m\u001b[1;33m)\u001b[0m\u001b[1;33m\u001b[0m\u001b[1;33m\u001b[0m\u001b[0m\n\u001b[0m",
      "\u001b[1;31mIndexError\u001b[0m: list index out of range"
     ]
    }
   ],
   "source": [
    "# Positive Indexing\n",
    "\n",
    "a = [2, 4, 0, 8, -5, 1, 9]\n",
    "print(a[0])\n",
    "print(a[4])\n",
    "print(a[6])\n",
    "print(a[len(a)-2])\n",
    "print(a[len(a)-1])\n",
    "print(a[8]) # index out of range"
   ]
  },
  {
   "cell_type": "code",
   "execution_count": 16,
   "id": "8a8090dd",
   "metadata": {},
   "outputs": [
    {
     "name": "stdout",
     "output_type": "stream",
     "text": [
      "1\n",
      "9\n",
      "2\n",
      "8\n",
      "-5\n"
     ]
    }
   ],
   "source": [
    "# Negative Indexing\n",
    "\n",
    "a = [2, 4, 0, 8, -5, 1, 9]\n",
    "print(a[-2]) #1\n",
    "print(a[-1]) #9\n",
    "print(a[-7]) #2\n",
    "print(a[-4]) #8\n",
    "print(a[-3]) #-5"
   ]
  },
  {
   "cell_type": "code",
   "execution_count": 25,
   "id": "750ec9bf",
   "metadata": {},
   "outputs": [
    {
     "name": "stdout",
     "output_type": "stream",
     "text": [
      "[4, 0, 8]\n",
      "[0, 8, -5, 1, 9, 87, 90]\n",
      "[4, 0, 8, -5, 1, 9, 87, 90, 56]\n",
      "[4, 0, 8, -5, 1, 9, 87, 90, 56]\n",
      "[0, -5, 9, 90]\n"
     ]
    }
   ],
   "source": [
    "# Positive slicing\n",
    "#start index , stop index , step\n",
    "\n",
    "a = [2, 4, 0, 8, -5, 1, 9, 87, 90, 56]\n",
    "#print(a[1]) #4\n",
    "#print(a[-9]) #4\n",
    "\n",
    "#positive slicing\n",
    "print(a[1 : 4])  #[4, 0, 8]\n",
    "\n",
    "print(a[2 : 9]) \n",
    "\n",
    "print(a[1 :  ]) # Gives all the values from first index to last index\n",
    "\n",
    "print(a[1 :  10]) # Gives all the values from first index to last index\n",
    "\n",
    "#start = 1  , stop = 9, step = 2\n",
    "print(a[2 : 9 : 2]) "
   ]
  },
  {
   "cell_type": "code",
   "execution_count": null,
   "id": "76d2af22",
   "metadata": {},
   "outputs": [],
   "source": []
  },
  {
   "cell_type": "markdown",
   "id": "57e48aa9",
   "metadata": {},
   "source": [
    "# Homework\n",
    "* Negative Slicing\n",
    "* Positive indexing, negative indexing, positive slicing, negative slicing with strings, tuples,range\n",
    "* for loops with lists\n",
    "* Operators that we can use with lists, + , *, in, not in"
   ]
  },
  {
   "cell_type": "code",
   "execution_count": 28,
   "id": "0f93f7f2",
   "metadata": {},
   "outputs": [
    {
     "name": "stdout",
     "output_type": "stream",
     "text": [
      "[90, 87, 9]\n"
     ]
    }
   ],
   "source": [
    "a = [2, 4, 0, 8, -5, 1, 9, 87, 90, 56]\n",
    "print(a[8 : 5 : -1])"
   ]
  },
  {
   "cell_type": "code",
   "execution_count": 29,
   "id": "a5b6b81c",
   "metadata": {},
   "outputs": [
    {
     "name": "stdout",
     "output_type": "stream",
     "text": [
      "2\n",
      "4\n",
      "0\n",
      "8\n",
      "-5\n",
      "1\n",
      "9\n",
      "87\n",
      "90\n",
      "56\n"
     ]
    }
   ],
   "source": [
    "a = [2, 4, 0, 8, -5, 1, 9, 87, 90, 56]\n",
    "for i in a:\n",
    "    print(i)"
   ]
  },
  {
   "cell_type": "code",
   "execution_count": null,
   "id": "9cebf8cb",
   "metadata": {},
   "outputs": [],
   "source": []
  }
 ],
 "metadata": {
  "kernelspec": {
   "display_name": "Python 3 (ipykernel)",
   "language": "python",
   "name": "python3"
  },
  "language_info": {
   "codemirror_mode": {
    "name": "ipython",
    "version": 3
   },
   "file_extension": ".py",
   "mimetype": "text/x-python",
   "name": "python",
   "nbconvert_exporter": "python",
   "pygments_lexer": "ipython3",
   "version": "3.9.7"
  }
 },
 "nbformat": 4,
 "nbformat_minor": 5
}
