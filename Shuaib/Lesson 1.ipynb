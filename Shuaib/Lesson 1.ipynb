{
 "cells": [
  {
   "cell_type": "markdown",
   "id": "6d6133d8",
   "metadata": {},
   "source": [
    "# Print Function"
   ]
  },
  {
   "cell_type": "code",
   "execution_count": 3,
   "id": "e6fd5d12",
   "metadata": {},
   "outputs": [
    {
     "name": "stdout",
     "output_type": "stream",
     "text": [
      "Hello World\n",
      "Today is Sunday\n",
      "We are learning python\n"
     ]
    }
   ],
   "source": [
    "print(\"Hello World\")\n",
    "print(\"Today is Sunday\")\n",
    "\n",
    "print(\"We are learning python\")"
   ]
  },
  {
   "cell_type": "code",
   "execution_count": 4,
   "id": "ea5fbad2",
   "metadata": {},
   "outputs": [
    {
     "name": "stdout",
     "output_type": "stream",
     "text": [
      "Help on built-in function print in module builtins:\n",
      "\n",
      "print(...)\n",
      "    print(value, ..., sep=' ', end='\\n', file=sys.stdout, flush=False)\n",
      "    \n",
      "    Prints the values to a stream, or to sys.stdout by default.\n",
      "    Optional keyword arguments:\n",
      "    file:  a file-like object (stream); defaults to the current sys.stdout.\n",
      "    sep:   string inserted between values, default a space.\n",
      "    end:   string appended after the last value, default a newline.\n",
      "    flush: whether to forcibly flush the stream.\n",
      "\n"
     ]
    }
   ],
   "source": [
    "help(print)"
   ]
  },
  {
   "cell_type": "code",
   "execution_count": 7,
   "id": "bf3664bd",
   "metadata": {},
   "outputs": [
    {
     "name": "stdout",
     "output_type": "stream",
     "text": [
      "Hello World Today is Sunday We are learnin python\n"
     ]
    }
   ],
   "source": [
    "print(\"Hello World\",\"Today is Sunday\",\"We are learning python\")"
   ]
  },
  {
   "cell_type": "markdown",
   "id": "ce277d85",
   "metadata": {},
   "source": [
    "# sep and end inside print function"
   ]
  },
  {
   "cell_type": "code",
   "execution_count": 5,
   "id": "e039f1ad",
   "metadata": {},
   "outputs": [
    {
     "ename": "SyntaxError",
     "evalue": "positional argument follows keyword argument (Temp/ipykernel_10568/4111937846.py, line 1)",
     "output_type": "error",
     "traceback": [
      "\u001b[1;36m  File \u001b[1;32m\"C:\\Users\\shahj\\AppData\\Local\\Temp/ipykernel_10568/4111937846.py\"\u001b[1;36m, line \u001b[1;32m1\u001b[0m\n\u001b[1;33m    print(sep=\"----\",\"Hello World\",\"Today is Sunday\",\"We are learning python\")\u001b[0m\n\u001b[1;37m                                                                             ^\u001b[0m\n\u001b[1;31mSyntaxError\u001b[0m\u001b[1;31m:\u001b[0m positional argument follows keyword argument\n"
     ]
    }
   ],
   "source": [
    "print(\"Hello World\",\"Today is Sunday\",\"We are learning python\",sep=\"----\")"
   ]
  },
  {
   "cell_type": "code",
   "execution_count": 3,
   "id": "f43ce30b",
   "metadata": {},
   "outputs": [
    {
     "name": "stdout",
     "output_type": "stream",
     "text": [
      "Hello World   Today is Sunday---We are learning python\n"
     ]
    }
   ],
   "source": [
    "print(\"Hello World\",end=\"   \")\n",
    "print(\"Today is Sunday\",end=\"---\")\n",
    "print(\"We are learning python\")"
   ]
  },
  {
   "cell_type": "markdown",
   "id": "87fecf42",
   "metadata": {},
   "source": [
    "# Basic Data types in Python"
   ]
  },
  {
   "cell_type": "code",
   "execution_count": 7,
   "id": "fb1e88eb",
   "metadata": {},
   "outputs": [
    {
     "name": "stdout",
     "output_type": "stream",
     "text": [
      "Sunday Python\n",
      "5   7   -8   0   100   999   -75\n",
      "1.25 5.5 -9.95 888.13\n",
      "True False\n"
     ]
    }
   ],
   "source": [
    "print(\"Sunday\",'Python')                 #string value\n",
    "print(5,7,-8,0,100,999,-75,sep=\"   \")     #integer values\n",
    "print(1.25, 5.50,-9.95,888.13)            #float values\n",
    "print(True,False)                         #boolean values"
   ]
  },
  {
   "cell_type": "markdown",
   "id": "7897db37",
   "metadata": {},
   "source": [
    "# type function\n",
    "> type() function returns class type of the argument\n",
    ">\n",
    "> it accepts only 1 argument"
   ]
  },
  {
   "cell_type": "code",
   "execution_count": 23,
   "id": "8678d48a",
   "metadata": {},
   "outputs": [
    {
     "name": "stdout",
     "output_type": "stream",
     "text": [
      "<class 'str'>\n",
      "<class 'int'>\n",
      "<class 'float'>\n",
      "<class 'bool'>\n"
     ]
    }
   ],
   "source": [
    "print(type(\"Sunday\"))\n",
    "print(type(7))\n",
    "print(type(5.75))\n",
    "print(type(True))"
   ]
  }
 ],
 "metadata": {
  "kernelspec": {
   "display_name": "Python 3 (ipykernel)",
   "language": "python",
   "name": "python3"
  },
  "language_info": {
   "codemirror_mode": {
    "name": "ipython",
    "version": 3
   },
   "file_extension": ".py",
   "mimetype": "text/x-python",
   "name": "python",
   "nbconvert_exporter": "python",
   "pygments_lexer": "ipython3",
   "version": "3.9.7"
  }
 },
 "nbformat": 4,
 "nbformat_minor": 5
}
