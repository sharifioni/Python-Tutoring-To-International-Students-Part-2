{
 "cells": [
  {
   "cell_type": "code",
   "execution_count": null,
   "id": "4fe1c1c3",
   "metadata": {},
   "outputs": [],
   "source": [
    "# Print sume of first 10 positive numbers using while loop"
   ]
  },
  {
   "cell_type": "code",
   "execution_count": 1,
   "id": "3e6957cc",
   "metadata": {},
   "outputs": [
    {
     "name": "stdout",
     "output_type": "stream",
     "text": [
      "Enter any guess between 1 and 10: 6\n",
      "Your guess is greater than the correct guess\n"
     ]
    }
   ],
   "source": [
    "# guessing\n",
    "\n",
    "correct_guess=5\n",
    "\n",
    "\n",
    "while guess != correct_guess:\n",
    "\n",
    "    guess=int(input(\"Enter any guess between 1 and 10: \"))#8\n",
    "\n",
    "\n",
    "    if guess<correct_guess: #False\n",
    "        print(\"Your guess is lower than the correct guess\")\n",
    "    \n",
    "    elif guess > correct_guess: #True\n",
    "        print(\"Your guess is greater than the correct guess\")\n",
    "    \n",
    "    else:\n",
    "        print(\"Your guess is correct, you win\")\n"
   ]
  },
  {
   "cell_type": "code",
   "execution_count": 3,
   "id": "6e39a3dd",
   "metadata": {},
   "outputs": [
    {
     "name": "stdout",
     "output_type": "stream",
     "text": [
      "Enter any guess between 1 and 10: 4\n",
      "Your guess is lower than the correct guess\n",
      "Enter any guess between 1 and 10: 9\n",
      "Your guess is greater than the correct guess\n",
      "Enter any guess between 1 and 10: 5\n",
      "Your guess is correct, you win\n"
     ]
    }
   ],
   "source": [
    "# guessing\n",
    "\n",
    "correct_guess=5\n",
    "guess=0\n",
    "\n",
    "    \n",
    "while guess != correct_guess:\n",
    "\n",
    "    guess=int(input(\"Enter any guess between 1 and 10: \"))#8\n",
    "\n",
    "\n",
    "    if guess<correct_guess: #False\n",
    "        print(\"Your guess is lower than the correct guess\")\n",
    "    \n",
    "    elif guess > correct_guess: #True\n",
    "        print(\"Your guess is greater than the correct guess\")\n",
    "    \n",
    "    else:\n",
    "        print(\"Your guess is correct, you win\")"
   ]
  },
  {
   "cell_type": "code",
   "execution_count": 4,
   "id": "7837ec2c",
   "metadata": {},
   "outputs": [
    {
     "name": "stdout",
     "output_type": "stream",
     "text": [
      "Enter any guess between 1 and 20: 6\n",
      "Your guess is lower than the correct guess, please guess higher\n",
      "Enter any guess between 1 and 20: 15\n",
      "Your guess is greater than the correct guess, please guess lower\n",
      "Enter any guess between 1 and 20: 10\n",
      "Your guess is lower than the correct guess, please guess higher\n"
     ]
    },
    {
     "ename": "KeyboardInterrupt",
     "evalue": "Interrupted by user",
     "output_type": "error",
     "traceback": [
      "\u001b[1;31m---------------------------------------------------------------------------\u001b[0m",
      "\u001b[1;31mKeyboardInterrupt\u001b[0m                         Traceback (most recent call last)",
      "\u001b[1;32m~\\AppData\\Local\\Temp/ipykernel_12184/367877096.py\u001b[0m in \u001b[0;36m<module>\u001b[1;34m\u001b[0m\n\u001b[0;32m      7\u001b[0m \u001b[1;32mwhile\u001b[0m \u001b[0mguess\u001b[0m \u001b[1;33m!=\u001b[0m \u001b[0mcorrect_guess\u001b[0m\u001b[1;33m:\u001b[0m\u001b[1;33m\u001b[0m\u001b[1;33m\u001b[0m\u001b[0m\n\u001b[0;32m      8\u001b[0m \u001b[1;33m\u001b[0m\u001b[0m\n\u001b[1;32m----> 9\u001b[1;33m     \u001b[0mguess\u001b[0m\u001b[1;33m=\u001b[0m\u001b[0mint\u001b[0m\u001b[1;33m(\u001b[0m\u001b[0minput\u001b[0m\u001b[1;33m(\u001b[0m\u001b[1;34m\"Enter any guess between 1 and 20: \"\u001b[0m\u001b[1;33m)\u001b[0m\u001b[1;33m)\u001b[0m\u001b[1;31m#8\u001b[0m\u001b[1;33m\u001b[0m\u001b[1;33m\u001b[0m\u001b[0m\n\u001b[0m\u001b[0;32m     10\u001b[0m \u001b[1;33m\u001b[0m\u001b[0m\n\u001b[0;32m     11\u001b[0m \u001b[1;33m\u001b[0m\u001b[0m\n",
      "\u001b[1;32m~\\anaconda3\\lib\\site-packages\\ipykernel\\kernelbase.py\u001b[0m in \u001b[0;36mraw_input\u001b[1;34m(self, prompt)\u001b[0m\n\u001b[0;32m   1004\u001b[0m                 \u001b[1;34m\"raw_input was called, but this frontend does not support input requests.\"\u001b[0m\u001b[1;33m\u001b[0m\u001b[1;33m\u001b[0m\u001b[0m\n\u001b[0;32m   1005\u001b[0m             )\n\u001b[1;32m-> 1006\u001b[1;33m         return self._input_request(\n\u001b[0m\u001b[0;32m   1007\u001b[0m             \u001b[0mstr\u001b[0m\u001b[1;33m(\u001b[0m\u001b[0mprompt\u001b[0m\u001b[1;33m)\u001b[0m\u001b[1;33m,\u001b[0m\u001b[1;33m\u001b[0m\u001b[1;33m\u001b[0m\u001b[0m\n\u001b[0;32m   1008\u001b[0m             \u001b[0mself\u001b[0m\u001b[1;33m.\u001b[0m\u001b[0m_parent_ident\u001b[0m\u001b[1;33m[\u001b[0m\u001b[1;34m\"shell\"\u001b[0m\u001b[1;33m]\u001b[0m\u001b[1;33m,\u001b[0m\u001b[1;33m\u001b[0m\u001b[1;33m\u001b[0m\u001b[0m\n",
      "\u001b[1;32m~\\anaconda3\\lib\\site-packages\\ipykernel\\kernelbase.py\u001b[0m in \u001b[0;36m_input_request\u001b[1;34m(self, prompt, ident, parent, password)\u001b[0m\n\u001b[0;32m   1049\u001b[0m             \u001b[1;32mexcept\u001b[0m \u001b[0mKeyboardInterrupt\u001b[0m\u001b[1;33m:\u001b[0m\u001b[1;33m\u001b[0m\u001b[1;33m\u001b[0m\u001b[0m\n\u001b[0;32m   1050\u001b[0m                 \u001b[1;31m# re-raise KeyboardInterrupt, to truncate traceback\u001b[0m\u001b[1;33m\u001b[0m\u001b[1;33m\u001b[0m\u001b[0m\n\u001b[1;32m-> 1051\u001b[1;33m                 \u001b[1;32mraise\u001b[0m \u001b[0mKeyboardInterrupt\u001b[0m\u001b[1;33m(\u001b[0m\u001b[1;34m\"Interrupted by user\"\u001b[0m\u001b[1;33m)\u001b[0m \u001b[1;32mfrom\u001b[0m \u001b[1;32mNone\u001b[0m\u001b[1;33m\u001b[0m\u001b[1;33m\u001b[0m\u001b[0m\n\u001b[0m\u001b[0;32m   1052\u001b[0m             \u001b[1;32mexcept\u001b[0m \u001b[0mException\u001b[0m\u001b[1;33m:\u001b[0m\u001b[1;33m\u001b[0m\u001b[1;33m\u001b[0m\u001b[0m\n\u001b[0;32m   1053\u001b[0m                 \u001b[0mself\u001b[0m\u001b[1;33m.\u001b[0m\u001b[0mlog\u001b[0m\u001b[1;33m.\u001b[0m\u001b[0mwarning\u001b[0m\u001b[1;33m(\u001b[0m\u001b[1;34m\"Invalid Message:\"\u001b[0m\u001b[1;33m,\u001b[0m \u001b[0mexc_info\u001b[0m\u001b[1;33m=\u001b[0m\u001b[1;32mTrue\u001b[0m\u001b[1;33m)\u001b[0m\u001b[1;33m\u001b[0m\u001b[1;33m\u001b[0m\u001b[0m\n",
      "\u001b[1;31mKeyboardInterrupt\u001b[0m: Interrupted by user"
     ]
    }
   ],
   "source": [
    "# guessing\n",
    "# Give user 3 attempts to guess the value\n",
    "correct_guess=11\n",
    "guess=0\n",
    "\n",
    "    \n",
    "while guess != correct_guess:\n",
    "\n",
    "    guess=int(input(\"Enter any guess between 1 and 20: \"))#8\n",
    "\n",
    "\n",
    "    if guess<correct_guess: #False\n",
    "        print(\"Your guess is lower than the correct guess, please guess higher\")\n",
    "    \n",
    "    elif guess > correct_guess: #True\n",
    "        print(\"Your guess is greater than the correct guess, please guess lower\")\n",
    "    \n",
    "    else:\n",
    "        print(\"Your guess is correct, you win\")"
   ]
  },
  {
   "cell_type": "markdown",
   "id": "e965cd91",
   "metadata": {},
   "source": [
    "# break statement\n",
    "* break statement is used in a control structure/loop. It breaks the control structure/loop depending on a certain condition"
   ]
  },
  {
   "cell_type": "code",
   "execution_count": 6,
   "id": "a4048ef6",
   "metadata": {},
   "outputs": [
    {
     "name": "stdout",
     "output_type": "stream",
     "text": [
      "1\n",
      "2\n",
      "3\n",
      "4\n",
      "5\n",
      "6\n",
      "7\n"
     ]
    }
   ],
   "source": [
    "for i in range(1,11):\n",
    "    print(i)\n",
    "    if i==7:\n",
    "        break"
   ]
  },
  {
   "cell_type": "code",
   "execution_count": 8,
   "id": "49d15711",
   "metadata": {},
   "outputs": [
    {
     "name": "stdout",
     "output_type": "stream",
     "text": [
      "Python Program"
     ]
    }
   ],
   "source": [
    "for i in \"Python Programming\":\n",
    "    print(i, end=\"\")\n",
    "    if i=='m':\n",
    "        break"
   ]
  },
  {
   "cell_type": "code",
   "execution_count": 12,
   "id": "b5d1507f",
   "metadata": {},
   "outputs": [
    {
     "name": "stdout",
     "output_type": "stream",
     "text": [
      "2\n",
      "3\n",
      "4\n",
      "5\n",
      "6\n",
      "7\n",
      "8\n",
      "9\n",
      "10\n"
     ]
    }
   ],
   "source": [
    "i=1\n",
    "while True:\n",
    "    i+=1\n",
    "    print(i)\n",
    "    if i==10:\n",
    "        break"
   ]
  },
  {
   "cell_type": "code",
   "execution_count": 14,
   "id": "cbff5d04",
   "metadata": {},
   "outputs": [
    {
     "name": "stdout",
     "output_type": "stream",
     "text": [
      "Enter any guess between 1 and 10: 6\n",
      "Your guess is greater than the correct guess\n",
      "Enter any guess between 1 and 10: 1\n",
      "Your guess is lower than the correct guess\n",
      "Enter any guess between 1 and 10: 5\n",
      "Your guess is correct, you win\n"
     ]
    }
   ],
   "source": [
    "# guessing\n",
    "\n",
    "correct_guess=5\n",
    "\n",
    "\n",
    "    \n",
    "while True:\n",
    "\n",
    "    guess=int(input(\"Enter any guess between 1 and 10: \"))#8\n",
    "\n",
    "\n",
    "    if guess<correct_guess: #False\n",
    "        print(\"Your guess is lower than the correct guess\")\n",
    "    \n",
    "    elif guess > correct_guess: #True\n",
    "        print(\"Your guess is greater than the correct guess\")\n",
    "    \n",
    "    else:\n",
    "        print(\"Your guess is correct, you win\")\n",
    "        break"
   ]
  },
  {
   "cell_type": "code",
   "execution_count": null,
   "id": "5ed72f27",
   "metadata": {},
   "outputs": [],
   "source": [
    "while True:\n",
    "    num1=float(input(\"Enter first number: \"))\n",
    "    num2=float(input(\"Enter second number: \"))\n",
    "    operator=input(\"Press 1 for addition\\n2 for subtraction\\n3 for multiplication\\n4 for division: \")\n",
    "\n",
    "    if operator=='1':\n",
    "        print(num1+num2)\n",
    "    elif operator=='2':\n",
    "        print(num1-num2)\n",
    "    elif operator=='3':\n",
    "        print(num1*num2)\n",
    "    elif operator=='4':\n",
    "        print(num1/num2)\n",
    "    \n",
    "    decision=input(\"Do you want to try again? enter yes or no: \")"
   ]
  },
  {
   "cell_type": "markdown",
   "id": "a8598cd3",
   "metadata": {},
   "source": [
    "# Homework \n",
    "* Modify the guessing game code\n",
    "* Do Exercise 2.8 with the while loop\n",
    "* See use of continue statement through any video"
   ]
  },
  {
   "cell_type": "code",
   "execution_count": null,
   "id": "1fe33b97",
   "metadata": {},
   "outputs": [],
   "source": []
  }
 ],
 "metadata": {
  "kernelspec": {
   "display_name": "Python 3 (ipykernel)",
   "language": "python",
   "name": "python3"
  },
  "language_info": {
   "codemirror_mode": {
    "name": "ipython",
    "version": 3
   },
   "file_extension": ".py",
   "mimetype": "text/x-python",
   "name": "python",
   "nbconvert_exporter": "python",
   "pygments_lexer": "ipython3",
   "version": "3.9.7"
  }
 },
 "nbformat": 4,
 "nbformat_minor": 5
}
