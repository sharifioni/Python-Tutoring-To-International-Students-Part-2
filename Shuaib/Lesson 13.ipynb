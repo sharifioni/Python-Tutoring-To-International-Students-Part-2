{
 "cells": [
  {
   "cell_type": "markdown",
   "id": "346c09c4",
   "metadata": {},
   "source": [
    "* names like variable names, function names and other names are also called identifiers"
   ]
  },
  {
   "cell_type": "code",
   "execution_count": 2,
   "id": "50bbd757",
   "metadata": {},
   "outputs": [
    {
     "name": "stdout",
     "output_type": "stream",
     "text": [
      "We found a\n"
     ]
    }
   ],
   "source": [
    "food=\"Cake\"\n",
    "for c in food:\n",
    "    if c=='a':\n",
    "        print(\"We found a\")\n",
    "    \n",
    "    "
   ]
  },
  {
   "cell_type": "code",
   "execution_count": 4,
   "id": "776bcb21",
   "metadata": {},
   "outputs": [
    {
     "name": "stdout",
     "output_type": "stream",
     "text": [
      "5\n",
      "10\n",
      "15\n",
      "20\n",
      "25\n",
      "30\n",
      "35\n",
      "40\n",
      "45\n",
      "50\n",
      "55\n",
      "60\n",
      "65\n",
      "70\n",
      "75\n",
      "80\n",
      "85\n",
      "90\n",
      "95\n",
      "100\n"
     ]
    }
   ],
   "source": [
    "#Run a for loop from 1 to 100.\n",
    "# print the numbers divisible by 5 \n",
    "for i in range(1,101):\n",
    "    if i%5==0:\n",
    "        print(i)"
   ]
  },
  {
   "cell_type": "code",
   "execution_count": null,
   "id": "6e0047a3",
   "metadata": {},
   "outputs": [],
   "source": [
    "# run a for loop over a range from 1 to 500\n",
    "# sum all numbers between 100 to 200 and print at the end\n",
    "# take square of all the numbers that are divisible by 4 from 1 to 300 and add them"
   ]
  },
  {
   "cell_type": "code",
   "execution_count": 5,
   "id": "54b4a85e",
   "metadata": {},
   "outputs": [
    {
     "name": "stdout",
     "output_type": "stream",
     "text": [
      "15150\n"
     ]
    }
   ],
   "source": [
    "sum_numbers=0\n",
    "for i in range(1,501):\n",
    "    if i>=100 and i<=200:\n",
    "        sum_numbers=sum_numbers+i\n",
    "        \n",
    "print(sum_numbers)\n",
    "        "
   ]
  },
  {
   "cell_type": "markdown",
   "id": "f586ae73",
   "metadata": {},
   "source": [
    "# Nested for loops\n",
    "* Using a for loop inside another for loop"
   ]
  },
  {
   "cell_type": "code",
   "execution_count": 6,
   "id": "610ed379",
   "metadata": {},
   "outputs": [
    {
     "name": "stdout",
     "output_type": "stream",
     "text": [
      "1 1\n",
      "1 2\n",
      "1 3\n",
      "1 4\n",
      "2 1\n",
      "2 2\n",
      "2 3\n",
      "2 4\n",
      "3 1\n",
      "3 2\n",
      "3 3\n",
      "3 4\n",
      "4 1\n",
      "4 2\n",
      "4 3\n",
      "4 4\n",
      "5 1\n",
      "5 2\n",
      "5 3\n",
      "5 4\n",
      "6 1\n",
      "6 2\n",
      "6 3\n",
      "6 4\n",
      "7 1\n",
      "7 2\n",
      "7 3\n",
      "7 4\n",
      "8 1\n",
      "8 2\n",
      "8 3\n",
      "8 4\n",
      "9 1\n",
      "9 2\n",
      "9 3\n",
      "9 4\n",
      "10 1\n",
      "10 2\n",
      "10 3\n",
      "10 4\n"
     ]
    }
   ],
   "source": [
    "for i in range(1,11):\n",
    "    for j in range(1,5):\n",
    "        print(i,j)\n",
    "        \n",
    "    "
   ]
  }
 ],
 "metadata": {
  "kernelspec": {
   "display_name": "Python 3 (ipykernel)",
   "language": "python",
   "name": "python3"
  },
  "language_info": {
   "codemirror_mode": {
    "name": "ipython",
    "version": 3
   },
   "file_extension": ".py",
   "mimetype": "text/x-python",
   "name": "python",
   "nbconvert_exporter": "python",
   "pygments_lexer": "ipython3",
   "version": "3.9.7"
  }
 },
 "nbformat": 4,
 "nbformat_minor": 5
}
