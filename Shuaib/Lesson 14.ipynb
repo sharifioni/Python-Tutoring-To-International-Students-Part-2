{
 "cells": [
  {
   "cell_type": "code",
   "execution_count": 3,
   "id": "e8baa77b",
   "metadata": {},
   "outputs": [
    {
     "name": "stdout",
     "output_type": "stream",
     "text": [
      "Hello\tWorld\n"
     ]
    }
   ],
   "source": [
    "print(\"Hello\",end='\\t')\n",
    "print(\"World\")"
   ]
  },
  {
   "cell_type": "code",
   "execution_count": 1,
   "id": "5a790918",
   "metadata": {},
   "outputs": [
    {
     "name": "stdout",
     "output_type": "stream",
     "text": [
      "Help on built-in function print in module builtins:\n",
      "\n",
      "print(...)\n",
      "    print(value, ..., sep=' ', end='\\n', file=sys.stdout, flush=False)\n",
      "    \n",
      "    Prints the values to a stream, or to sys.stdout by default.\n",
      "    Optional keyword arguments:\n",
      "    file:  a file-like object (stream); defaults to the current sys.stdout.\n",
      "    sep:   string inserted between values, default a space.\n",
      "    end:   string appended after the last value, default a newline.\n",
      "    flush: whether to forcibly flush the stream.\n",
      "\n"
     ]
    }
   ],
   "source": [
    "help(print)"
   ]
  },
  {
   "cell_type": "code",
   "execution_count": 6,
   "id": "453dd950",
   "metadata": {},
   "outputs": [
    {
     "name": "stdout",
     "output_type": "stream",
     "text": [
      "Enter the first age:\n",
      "41\n",
      "Enter second age:\n",
      "41\n",
      "Enter third age:\n",
      "39\n",
      "The oldest is first and second with age 41\n"
     ]
    }
   ],
   "source": [
    "# Exercise 6\n",
    "#Take input of age of 3 people by user and determine oldest and youngest among them.\n",
    "print(\"Enter the first age:\")\n",
    "first=int(input())\n",
    "\n",
    "print(\"Enter second age:\")\n",
    "second=int(input())\n",
    "\n",
    "print(\"Enter third age:\")\n",
    "third=int(input())\n",
    "\n",
    "if first>second and first >third:\n",
    "    print(\"The oldest is first person with age\",first)\n",
    "    \n",
    "elif second>first and second>third:\n",
    "    print(\"The oldest is second person with age\",second)\n",
    "    \n",
    "elif third>first and third>second:\n",
    "    print(\"The oldest is third person with age\",third)\n",
    "\n",
    "elif (first==second) and (first>third):\n",
    "    print(\"The oldest is first and second with age\",first)\n",
    "\n",
    "elif (first==third) and (first>second):\n",
    "    print(\"The oldest is first and third with age\",first)\n",
    "\n",
    "elif (second==third) and (second>first):\n",
    "    print(\"The oldest is second and third with age\",second)    \n",
    "    \n",
    "else:\n",
    "    print(\"They are all the same ages\")\n"
   ]
  },
  {
   "cell_type": "code",
   "execution_count": 7,
   "id": "dd3e2155",
   "metadata": {},
   "outputs": [
    {
     "name": "stdout",
     "output_type": "stream",
     "text": [
      "Hello World\n"
     ]
    }
   ],
   "source": [
    "print(\"Hello\" + \" World\")"
   ]
  },
  {
   "cell_type": "code",
   "execution_count": 8,
   "id": "5d18b617",
   "metadata": {},
   "outputs": [
    {
     "name": "stdout",
     "output_type": "stream",
     "text": [
      "Hi Hi Hi Hi Hi \n"
     ]
    }
   ],
   "source": [
    "print(\"Hi \" * 5)"
   ]
  },
  {
   "cell_type": "code",
   "execution_count": 10,
   "id": "ffa801ab",
   "metadata": {},
   "outputs": [
    {
     "name": "stdout",
     "output_type": "stream",
     "text": [
      "**********\n",
      "*********\n",
      "********\n",
      "*******\n"
     ]
    }
   ],
   "source": [
    "print(\"*\" * 10)\n",
    "print(\"*\" * 9)\n",
    "print(\"*\" * 8)\n",
    "print(\"*\" * 7)"
   ]
  }
 ],
 "metadata": {
  "kernelspec": {
   "display_name": "Python 3 (ipykernel)",
   "language": "python",
   "name": "python3"
  },
  "language_info": {
   "codemirror_mode": {
    "name": "ipython",
    "version": 3
   },
   "file_extension": ".py",
   "mimetype": "text/x-python",
   "name": "python",
   "nbconvert_exporter": "python",
   "pygments_lexer": "ipython3",
   "version": "3.9.7"
  }
 },
 "nbformat": 4,
 "nbformat_minor": 5
}
