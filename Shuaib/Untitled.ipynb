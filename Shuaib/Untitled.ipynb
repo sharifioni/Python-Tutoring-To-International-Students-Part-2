{
 "cells": [
  {
   "cell_type": "markdown",
   "id": "7be1fe38",
   "metadata": {},
   "source": [
    "Create a string called alphabet containing 'abcdefghijklmnopqrstuvwxyz', then perform the following separate slice operations to obtain: \n",
    "a) The first half of the string using starting and ending indices.\n",
    "b) The first half of the string using only the ending index.\n",
    "c) The second half of the string using starting and ending indices.\n",
    "d) The second half of the string using only the starting index.\n",
    "e) Every second letter in the string starting with 'a'.\n",
    "f) The entire string in reverse.\n",
    "g) Every third letter of the string in reverse starting with 'z'"
   ]
  },
  {
   "cell_type": "markdown",
   "id": "27465d93",
   "metadata": {},
   "source": [
    "# print() \n",
    "* print function is used to display output"
   ]
  },
  {
   "cell_type": "code",
   "execution_count": 1,
   "id": "0024dc59",
   "metadata": {},
   "outputs": [
    {
     "name": "stdout",
     "output_type": "stream",
     "text": [
      "Hello\n"
     ]
    }
   ],
   "source": [
    "print(\"Hello\")"
   ]
  },
  {
   "cell_type": "markdown",
   "id": "4baac583",
   "metadata": {},
   "source": [
    "# Logical Operators\n",
    "* and , or, not"
   ]
  }
 ],
 "metadata": {
  "kernelspec": {
   "display_name": "Python 3 (ipykernel)",
   "language": "python",
   "name": "python3"
  },
  "language_info": {
   "codemirror_mode": {
    "name": "ipython",
    "version": 3
   },
   "file_extension": ".py",
   "mimetype": "text/x-python",
   "name": "python",
   "nbconvert_exporter": "python",
   "pygments_lexer": "ipython3",
   "version": "3.9.7"
  }
 },
 "nbformat": 4,
 "nbformat_minor": 5
}
