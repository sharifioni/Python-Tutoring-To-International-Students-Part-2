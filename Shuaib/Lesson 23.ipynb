{
 "cells": [
  {
   "cell_type": "markdown",
   "id": "49c59d5d",
   "metadata": {},
   "source": [
    "# Random Module\n",
    "* randrange()\n",
    "* randint()\n",
    "* choice()\n",
    "* choices()\n",
    "* shuffle()\n",
    "* sample()\n",
    "* random()\n",
    "* uniform()"
   ]
  },
  {
   "cell_type": "code",
   "execution_count": 35,
   "id": "261ae273",
   "metadata": {},
   "outputs": [
    {
     "name": "stdout",
     "output_type": "stream",
     "text": [
      "5\n"
     ]
    }
   ],
   "source": [
    "import random\n",
    "# randrange(start,stop,step)\n",
    "# start and stop are integers\n",
    "# it generates a random number between start and stop value\n",
    "a = random.randrange(1,7,2)\n",
    "print(a)"
   ]
  },
  {
   "cell_type": "code",
   "execution_count": 44,
   "id": "2e2aa835",
   "metadata": {},
   "outputs": [
    {
     "name": "stdout",
     "output_type": "stream",
     "text": [
      "6\n"
     ]
    }
   ],
   "source": [
    "a = random.randint(1,7)\n",
    "print(a)"
   ]
  },
  {
   "cell_type": "code",
   "execution_count": 54,
   "id": "493fe108",
   "metadata": {},
   "outputs": [
    {
     "name": "stdout",
     "output_type": "stream",
     "text": [
      "3\n",
      "W\n"
     ]
    }
   ],
   "source": [
    "# choice\n",
    "# it accepts a sequence (list,tuple,range,set,string)\n",
    "list1 = [2,3,8,9,7]\n",
    "a = random.choice(list1)\n",
    "print(a)\n",
    "b = random.choice(\"Welcome\")\n",
    "print(b)"
   ]
  },
  {
   "cell_type": "code",
   "execution_count": 64,
   "id": "261f86b8",
   "metadata": {},
   "outputs": [
    {
     "name": "stdout",
     "output_type": "stream",
     "text": [
      "[7, 7, 2]\n"
     ]
    }
   ],
   "source": [
    "# choices\n",
    "# it accepts a sequence (list,tuple,range,set,string)\n",
    "# weight is defined for possibility of the sequence values\n",
    "# k is any integer that you can give to get number of choices\n",
    "list1 = [2,3,8,9,7]\n",
    "a = random.choices(list1,weights = (50,10,10,10,20), k=3)\n",
    "print(a)\n",
    "\n"
   ]
  },
  {
   "cell_type": "code",
   "execution_count": 76,
   "id": "a39d57ec",
   "metadata": {},
   "outputs": [
    {
     "name": "stdout",
     "output_type": "stream",
     "text": [
      "2 6\n",
      "1 3\n",
      "6 5\n",
      "5 6\n",
      "2 1\n",
      "6 3\n",
      "6 6\n",
      "2 3\n",
      "4 6\n",
      "4 3\n",
      "You lose\n"
     ]
    }
   ],
   "source": [
    "import random\n",
    "\n",
    "def dice_roll():\n",
    "    dice1 = random.randint(1,6)\n",
    "    dice2 = random.randint(1,6)\n",
    "    print(dice1,dice2)\n",
    "    return dice1+dice2\n",
    "\n",
    "sumofdices = dice_roll()\n",
    "\n",
    "if sumofdices == 11 or sumofdices==7:\n",
    "    print(\"You win game over\")\n",
    "    \n",
    "elif sumofdices == 2 or sumofdices == 3 or sumofdices ==12:\n",
    "    print(\"You lose game over\")\n",
    "    \n",
    "else:\n",
    "    point = sumofdices\n",
    "    while True:\n",
    "       \n",
    "        sumofdices = dice_roll()\n",
    "        \n",
    "        if sumofdices == point:\n",
    "            print(\"You win\")\n",
    "            break\n",
    "        \n",
    "        elif sumofdices == 7:\n",
    "            print(\"You lose\")\n",
    "            break\n",
    "  \n"
   ]
  },
  {
   "cell_type": "markdown",
   "id": "a64993f4",
   "metadata": {},
   "source": [
    "# Homework\n",
    "* Exercise 3.27\n",
    "* Create a function that returns factorial of a number\n",
    "* Practice the functions of random module and math module\n",
    "* write examples of positional arguments, default arguments, keyword arguments\n"
   ]
  }
 ],
 "metadata": {
  "kernelspec": {
   "display_name": "Python 3 (ipykernel)",
   "language": "python",
   "name": "python3"
  },
  "language_info": {
   "codemirror_mode": {
    "name": "ipython",
    "version": 3
   },
   "file_extension": ".py",
   "mimetype": "text/x-python",
   "name": "python",
   "nbconvert_exporter": "python",
   "pygments_lexer": "ipython3",
   "version": "3.9.7"
  }
 },
 "nbformat": 4,
 "nbformat_minor": 5
}
