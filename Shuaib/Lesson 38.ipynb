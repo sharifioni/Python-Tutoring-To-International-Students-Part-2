{
 "cells": [
  {
   "cell_type": "markdown",
   "id": "375f5614",
   "metadata": {},
   "source": [
    "# python basics \n",
    "* variables\n",
    "* data types (integer, string, float, boolean, lists)\n",
    "* print(), input(), type(), fstrings, sum(), len(), min(), max(), sorted()\n",
    "* Converting from one type to another\n",
    "* Operator precedence\n",
    "* Arithmetic Operators, Comparison Operators, Logical Operators\n",
    "\n",
    "\n",
    "# Control structures and loops\n",
    "* if else, nested if else, if elif else\n",
    "* for loops\n",
    "* range\n",
    "* while loops\n",
    "* break, continue inside loops\n",
    "\n",
    "# functions\n",
    "* creating a function\n",
    "* function parameters and arguments\n",
    "* function calling and returning\n",
    "* local and global variables\n",
    "* different types of arguments (positional, default, keyword)\n",
    "\n",
    "# lists\n",
    "* creating a list\n",
    "* for loops with list\n",
    "* indexing with lists\n",
    "* nested lists\n",
    "* for loops with nested lists\n",
    "* list methods (append, extend, count, clear, copy, reverse, sort, remove, pop, index, insert)"
   ]
  },
  {
   "cell_type": "code",
   "execution_count": null,
   "id": "d546ebc5",
   "metadata": {},
   "outputs": [],
   "source": [
    "#Step 1 \n",
    "\n",
    "word_list = [\"aardvark\", \"baboon\", \"camel\"]\n",
    "\n",
    "#TODO-1 - Randomly choose a word from the word_list and assign it to a variable called chosen_word.\n",
    "\n",
    "#TODO-2 - Ask the user to guess a letter and assign their answer to a variable called guess. Make guess lowercase.\n",
    "\n",
    "#TODO-3 - Check if the letter the user guessed (guess) is one of the letters in the chosen_word."
   ]
  }
 ],
 "metadata": {
  "kernelspec": {
   "display_name": "Python 3 (ipykernel)",
   "language": "python",
   "name": "python3"
  },
  "language_info": {
   "codemirror_mode": {
    "name": "ipython",
    "version": 3
   },
   "file_extension": ".py",
   "mimetype": "text/x-python",
   "name": "python",
   "nbconvert_exporter": "python",
   "pygments_lexer": "ipython3",
   "version": "3.9.7"
  }
 },
 "nbformat": 4,
 "nbformat_minor": 5
}
