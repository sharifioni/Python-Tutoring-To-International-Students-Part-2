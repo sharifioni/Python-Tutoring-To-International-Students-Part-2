{
 "cells": [
  {
   "cell_type": "code",
   "execution_count": null,
   "id": "bf9a26ea",
   "metadata": {},
   "outputs": [],
   "source": [
    "def factorial(n):\n",
    "    \"\"\"Return n! for positive values of n.\n",
    "    >>> factorial(1)\n",
    "    1\n",
    "    >>> factorial(2)\n",
    "    2\n",
    "    >>> factorial(3)\n",
    "    6\n",
    "    >>> factorial(4)\n",
    "    24\n",
    "    \"\"\"\n",
    "    fact = 1\n",
    "    for i in range(2,n+1):\n",
    "        fact = fact * n\n",
    "    return fact\n",
    "factorial(3)\n"
   ]
  },
  {
   "cell_type": "code",
   "execution_count": 48,
   "id": "355424ef",
   "metadata": {},
   "outputs": [
    {
     "name": "stdout",
     "output_type": "stream",
     "text": [
      "121\n",
      "It's a palindrome\n"
     ]
    }
   ],
   "source": [
    "# Exercise 3.12\n",
    "n = 121\n",
    "a = n\n",
    "ans = n % 10\n",
    "\n",
    "n = n // 10\n",
    "\n",
    "ans = (ans*10) + (n % 10)\n",
    "n = n // 10\n",
    "ans = (ans*10) + (n % 10)\n",
    "print(ans)\n",
    "if ans == a:\n",
    "    print(\"It's a palindrome\")\n",
    "else:\n",
    "    print(\"It's not a palindrome\")"
   ]
  },
  {
   "cell_type": "markdown",
   "id": "ea49814a",
   "metadata": {},
   "source": [
    "# Different types of arguments in python\n",
    "* positional arguments\n",
    "* default arguments\n",
    "* keyword arguments"
   ]
  },
  {
   "cell_type": "markdown",
   "id": "476a16c5",
   "metadata": {},
   "source": [
    "### Positional arguments"
   ]
  },
  {
   "cell_type": "code",
   "execution_count": 25,
   "id": "8cf733da",
   "metadata": {},
   "outputs": [
    {
     "name": "stdout",
     "output_type": "stream",
     "text": [
      "Before Calling our Function multiply(20,5)\n",
      "100\n",
      "After calling our function multiply(20,5)\n"
     ]
    }
   ],
   "source": [
    "#Positional arguments\n",
    "# name of function and creating a function\n",
    "\n",
    "def multiply(num1,num2):\n",
    "    print(num1*num2)\n",
    "  \n",
    "\n",
    "print(\"Before Calling our Function multiply(20,5)\")\n",
    "\n",
    "# Function Calling\n",
    "multiply(20,5)\n",
    "\n",
    "print(\"After calling our function multiply(20,5)\")"
   ]
  },
  {
   "cell_type": "markdown",
   "id": "138abc19",
   "metadata": {},
   "source": [
    "### Default arguments"
   ]
  },
  {
   "cell_type": "code",
   "execution_count": 27,
   "id": "eb6c8a60",
   "metadata": {},
   "outputs": [
    {
     "name": "stdout",
     "output_type": "stream",
     "text": [
      "5 10 14\n"
     ]
    }
   ],
   "source": [
    "# Default Arguments\n",
    "def Numbers(a,b = 10,c = 14):\n",
    "    print(a,b,c)\n",
    "    \n",
    "  \n",
    "\n",
    "\n",
    "\n",
    "# Function Calling\n",
    "Numbers(5)\n"
   ]
  },
  {
   "cell_type": "code",
   "execution_count": 28,
   "id": "9564f6ee",
   "metadata": {},
   "outputs": [
    {
     "name": "stdout",
     "output_type": "stream",
     "text": [
      "5 15 14\n"
     ]
    }
   ],
   "source": [
    "# Default Arguments\n",
    "def Numbers(a,b = 10,c = 14):\n",
    "    print(a,b,c)\n",
    "    \n",
    "  \n",
    "\n",
    "\n",
    "\n",
    "# Function Calling\n",
    "Numbers(5 , 15)"
   ]
  },
  {
   "cell_type": "code",
   "execution_count": 29,
   "id": "018be7e3",
   "metadata": {},
   "outputs": [
    {
     "name": "stdout",
     "output_type": "stream",
     "text": [
      "5 15 25\n"
     ]
    }
   ],
   "source": [
    "# Default Arguments\n",
    "def Numbers(a,b = 10,c = 14):\n",
    "    print(a,b,c)\n",
    "    \n",
    "  \n",
    "\n",
    "\n",
    "\n",
    "# Function Calling\n",
    "Numbers(5 , 15 , 25)"
   ]
  },
  {
   "cell_type": "code",
   "execution_count": 31,
   "id": "c73df5bf",
   "metadata": {},
   "outputs": [
    {
     "name": "stdout",
     "output_type": "stream",
     "text": [
      "15 13 5\n"
     ]
    }
   ],
   "source": [
    "# While writing default arguments, default parameters should follow non default parameters\n",
    "\n",
    "\n",
    "def Numbers(c, a = 15 , b = 13):\n",
    "    print(a,b,c)\n",
    "    \n",
    "  \n",
    "\n",
    "\n",
    "\n",
    "# Function Calling\n",
    "Numbers(5)"
   ]
  },
  {
   "cell_type": "code",
   "execution_count": 35,
   "id": "3b0a99fd",
   "metadata": {},
   "outputs": [
    {
     "name": "stdout",
     "output_type": "stream",
     "text": [
      "7 78 45\n"
     ]
    }
   ],
   "source": [
    "\n",
    "def Numbers(a=14 , c=12, b = 20):\n",
    "    print(a,b,c)\n",
    "    \n",
    "  \n",
    "\n",
    "\n",
    "\n",
    "# Function Calling\n",
    "Numbers()"
   ]
  },
  {
   "cell_type": "markdown",
   "id": "53cfd411",
   "metadata": {},
   "source": [
    "### Keyword arguments"
   ]
  },
  {
   "cell_type": "code",
   "execution_count": 51,
   "id": "ae4f3921",
   "metadata": {},
   "outputs": [
    {
     "name": "stdout",
     "output_type": "stream",
     "text": [
      "20 5 2\n"
     ]
    }
   ],
   "source": [
    "#keyword arguments\n",
    "# name of function and creating a function\n",
    "\n",
    "def multiply(num1,num2, num3):\n",
    "    print(num1,num2,num3)\n",
    "  \n",
    "\n",
    "\n",
    "\n",
    "# Function Calling\n",
    "multiply(20, num3 = 2, num2 = 5)\n",
    "\n"
   ]
  }
 ],
 "metadata": {
  "kernelspec": {
   "display_name": "Python 3 (ipykernel)",
   "language": "python",
   "name": "python3"
  },
  "language_info": {
   "codemirror_mode": {
    "name": "ipython",
    "version": 3
   },
   "file_extension": ".py",
   "mimetype": "text/x-python",
   "name": "python",
   "nbconvert_exporter": "python",
   "pygments_lexer": "ipython3",
   "version": "3.9.7"
  }
 },
 "nbformat": 4,
 "nbformat_minor": 5
}
