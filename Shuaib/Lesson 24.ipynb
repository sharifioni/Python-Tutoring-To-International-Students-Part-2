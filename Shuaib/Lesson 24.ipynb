{
 "cells": [
  {
   "cell_type": "markdown",
   "id": "7de2288d",
   "metadata": {},
   "source": [
    "# Global and Local Variables"
   ]
  },
  {
   "cell_type": "code",
   "execution_count": 1,
   "id": "2c3b8709",
   "metadata": {},
   "outputs": [
    {
     "ename": "NameError",
     "evalue": "name 's' is not defined",
     "output_type": "error",
     "traceback": [
      "\u001b[1;31m---------------------------------------------------------------------------\u001b[0m",
      "\u001b[1;31mNameError\u001b[0m                                 Traceback (most recent call last)",
      "\u001b[1;32m~\\AppData\\Local\\Temp/ipykernel_22680/948009327.py\u001b[0m in \u001b[0;36m<module>\u001b[1;34m\u001b[0m\n\u001b[0;32m      4\u001b[0m \u001b[1;33m\u001b[0m\u001b[0m\n\u001b[0;32m      5\u001b[0m \u001b[0mfunc\u001b[0m\u001b[1;33m(\u001b[0m\u001b[1;33m)\u001b[0m\u001b[1;33m\u001b[0m\u001b[1;33m\u001b[0m\u001b[0m\n\u001b[1;32m----> 6\u001b[1;33m \u001b[0mprint\u001b[0m\u001b[1;33m(\u001b[0m\u001b[0ms\u001b[0m\u001b[1;33m)\u001b[0m\u001b[1;33m\u001b[0m\u001b[1;33m\u001b[0m\u001b[0m\n\u001b[0m",
      "\u001b[1;31mNameError\u001b[0m: name 's' is not defined"
     ]
    }
   ],
   "source": [
    "def func():\n",
    "    # Local Variabale (Local variables cannot be accessed outside the function)\n",
    "    s = \"Hello\"\n",
    "\n",
    "\n",
    "func()\n",
    "print(s)"
   ]
  },
  {
   "cell_type": "code",
   "execution_count": 2,
   "id": "b5b98d85",
   "metadata": {},
   "outputs": [
    {
     "name": "stdout",
     "output_type": "stream",
     "text": [
      "Pakistan\n"
     ]
    }
   ],
   "source": [
    "def func():\n",
    "    print(s)\n",
    "\n",
    "\n",
    "# Global Variable s . It can be used in any part of your program\n",
    "s = \"Pakistan\"\n",
    "func()\n"
   ]
  },
  {
   "cell_type": "code",
   "execution_count": 9,
   "id": "8999f5ae",
   "metadata": {},
   "outputs": [
    {
     "name": "stdout",
     "output_type": "stream",
     "text": [
      "Before Calling our function Pakistan\n",
      "Inside Function Hello\n",
      "After Calling our function Pakistan\n"
     ]
    }
   ],
   "source": [
    "def func():\n",
    "    s = \"Hello\"\n",
    "    print(\"Inside Function\",s)\n",
    "\n",
    "\n",
    "s = \"Pakistan\"\n",
    "print(\"Before Calling our function\", s)\n",
    "\n",
    "func()\n",
    "\n",
    "print(\"After Calling our function\", s)\n"
   ]
  },
  {
   "cell_type": "code",
   "execution_count": 13,
   "id": "159ebdfd",
   "metadata": {},
   "outputs": [
    {
     "name": "stdout",
     "output_type": "stream",
     "text": [
      "Before Calling our function Pakistan\n",
      "Pakistan\n",
      "Inside Function Hello\n",
      "After Calling our function Hello\n"
     ]
    }
   ],
   "source": [
    "def func():\n",
    "    global s\n",
    "    print(s)\n",
    "    s = \"Hello\"\n",
    "    print(\"Inside Function\",s)\n",
    "   \n",
    "\n",
    "\n",
    "s = \"Pakistan\"\n",
    "print(\"Before Calling our function\", s)\n",
    "\n",
    "func()\n",
    "\n",
    "print(\"After Calling our function\", s)"
   ]
  }
 ],
 "metadata": {
  "kernelspec": {
   "display_name": "Python 3 (ipykernel)",
   "language": "python",
   "name": "python3"
  },
  "language_info": {
   "codemirror_mode": {
    "name": "ipython",
    "version": 3
   },
   "file_extension": ".py",
   "mimetype": "text/x-python",
   "name": "python",
   "nbconvert_exporter": "python",
   "pygments_lexer": "ipython3",
   "version": "3.9.7"
  }
 },
 "nbformat": 4,
 "nbformat_minor": 5
}
