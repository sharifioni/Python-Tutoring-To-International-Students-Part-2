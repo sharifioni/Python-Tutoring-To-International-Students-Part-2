{
 "cells": [
  {
   "cell_type": "markdown",
   "id": "cf6e3d20",
   "metadata": {},
   "source": [
    "# Friends Database Application using Lists\n",
    "* Information of your friend stored in multidimensional lists (ID, First Name, Last Name, Email, Contact No.)\n",
    "* View list of friends \n",
    "* Add an information of a new friend\n",
    "* Modify an information of a friend\n",
    "* Search for a friend ( ID, Email) ID doesn't match (ID not found, Email not found)\n",
    "* Delete an information of a friend"
   ]
  },
  {
   "cell_type": "code",
   "execution_count": null,
   "id": "9ac059b1",
   "metadata": {},
   "outputs": [],
   "source": [
    "# friends_Information()\n",
    "# Add_friend()\n",
    "# Modify_friend()\n",
    "# Search_friend()\n",
    "# Delete_friend()\n",
    "\n",
    "# you can start with a friends list with one friend information that will have ID, Firstname, lastname, email, phone\n",
    "\n",
    "# For displaying menu, you can use a while loop that keeps running until user press 6 for exit. "
   ]
  },
  {
   "cell_type": "code",
   "execution_count": null,
   "id": "2d9ac3c7",
   "metadata": {},
   "outputs": [],
   "source": [
    "def friends_information():\n",
    "    pass\n",
    "\n",
    "\n",
    "friends = [[]      ]\n",
    "\n",
    "\n"
   ]
  },
  {
   "cell_type": "code",
   "execution_count": 9,
   "id": "4b64604b",
   "metadata": {},
   "outputs": [
    {
     "name": "stdout",
     "output_type": "stream",
     "text": [
      "1\tShuaib\tHashemi\tshuaibhashemi@gmail.com\t512-453-3456\t\n",
      "2\tZakerya\tbambino\tzbino@gmail.com\t582-232-3421\t\n"
     ]
    }
   ],
   "source": [
    "friends = [[1, \"Shuaib\", \"Hashemi\", \"shuaibhashemi@gmail.com\", \"512-453-3456\"], \n",
    "           [2,\"Zakerya\",\"bambino\", \"zbino@gmail.com\",\"582-232-3421\"]]\n",
    "\n",
    "for i in friends:\n",
    "    for j in i:\n",
    "        print(j, end=\"\\t\")\n",
    "    \n",
    "    print()"
   ]
  },
  {
   "cell_type": "code",
   "execution_count": 2,
   "id": "78f99345",
   "metadata": {},
   "outputs": [
    {
     "name": "stdout",
     "output_type": "stream",
     "text": [
      "Help on built-in function print in module builtins:\n",
      "\n",
      "print(...)\n",
      "    print(value, ..., sep=' ', end='\\n', file=sys.stdout, flush=False)\n",
      "    \n",
      "    Prints the values to a stream, or to sys.stdout by default.\n",
      "    Optional keyword arguments:\n",
      "    file:  a file-like object (stream); defaults to the current sys.stdout.\n",
      "    sep:   string inserted between values, default a space.\n",
      "    end:   string appended after the last value, default a newline.\n",
      "    flush: whether to forcibly flush the stream.\n",
      "\n"
     ]
    }
   ],
   "source": [
    "help(print)"
   ]
  },
  {
   "cell_type": "code",
   "execution_count": 3,
   "id": "12054054",
   "metadata": {},
   "outputs": [
    {
     "name": "stdout",
     "output_type": "stream",
     "text": [
      "Hello\tWorld\thi\n"
     ]
    }
   ],
   "source": [
    "print(\"Hello\", end='\\t')\n",
    "print(\"World\",end=\"\\t\")\n",
    "print(\"hi\")"
   ]
  },
  {
   "cell_type": "code",
   "execution_count": null,
   "id": "360be887",
   "metadata": {},
   "outputs": [
    {
     "name": "stdout",
     "output_type": "stream",
     "text": [
      "Welome to the FRIENDS DATABASE APPLICATION\n",
      "Enter 1 to print all friends information\n",
      "Enter 2 to add a new friend\n",
      "Enter 3 to add new friends information\n",
      "Enter 4 to chang name of a particular friend\n",
      "Enter 5 to delete your friends information\n",
      "Enter 6 to exit this application\n"
     ]
    }
   ],
   "source": [
    "import time\n",
    "\n",
    "print(\"Welome to the FRIENDS DATABASE APPLICATION\")\n",
    "\n",
    "def friends_information():\n",
    "    count = 0\n",
    "    for i in friends:\n",
    "        count += 1\n",
    "        print(\"Information of friend\", count)\n",
    "        for j in i:\n",
    "            print(j, end=\"\\t\")\n",
    "        print()\n",
    "    \n",
    "        \n",
    "def add_friend():\n",
    "    info = []\n",
    "    info.append(friends[-1][0] + 1)\n",
    "    a = [\"First name\", \"Last name\", \"Email\", \"Phone number\"]\n",
    "    for i in range(4):\n",
    "        value = input(f\"Enter {a[i]} of your friend \")\n",
    "        info.append(value)\n",
    "    friends.append(info)\n",
    "    \n",
    "    \n",
    "    \n",
    "\n",
    "def modify_friend():\n",
    "    friend_id = int(input(\"Enter id of your friend to modify its information: \"))\n",
    "    \n",
    "\n",
    "def search_friend():\n",
    "    friend_id = int(input(\"Enter id of your friend to search its information: \"))\n",
    "\n",
    "def delete_friend():\n",
    "    friend_id = int(input(\"Enter id of your friend to delete its information: \")) #1\n",
    "    \"\"\"count = 0\n",
    "    for k in friends:\n",
    "        if friend_id in k:\n",
    "            friends.pop(count)\n",
    "            print(\"Friend's information deleted with ID\",friend_id)\n",
    "            break\n",
    "        count+=1\"\"\"\n",
    "        \n",
    "    for i in range(len(friends)):\n",
    "        if friend_id in friends[i]:\n",
    "            friends.pop(i)\n",
    "            print(\"Friend's information deleted with ID\",friend_id)\n",
    "            time.sleep(5)\n",
    "            break\n",
    "\n",
    "friends = [[1, \"Shuaib\", \"Hashemi\", \"shuaibhashemi@gmail.com\", \"512-453-3456\"], \n",
    "           [2,\"Zakerya\",\"bambino\", \"zbino@gmail.com\",\"582-232-3421\"]]\n",
    "\n",
    "while True:\n",
    "    print(\"Enter 1 to print all friends information\")\n",
    "    print(\"Enter 2 to add a new friend\")\n",
    "    print(\"Enter 3 to add new friends information\")\n",
    "    print(\"Enter 4 to chang name of a particular friend\")\n",
    "    print(\"Enter 5 to delete your friends information\")\n",
    "    print(\"Enter 6 to exit this application\")\n",
    "\n",
    "    inp = int(input(\"Enter your choice(1-6):\"))\n",
    "\n",
    "    if inp ==1:\n",
    "        friends_information()\n",
    "        \n",
    "    elif inp ==2:\n",
    "        add_friend()\n",
    "        \n",
    "    elif inp ==3:\n",
    "        modify_friend()\n",
    "        \n",
    "    elif inp ==4:\n",
    "        search_friend()\n",
    "        \n",
    "    elif inp ==5:\n",
    "        delete_friend()\n",
    "        \n",
    "    elif inp ==6:\n",
    "        print(\"Thank you for using the friends database application\")\n",
    "        \n",
    "        break\n",
    "    else:\n",
    "        print(\"You have entered an invalid number please try again\")\n",
    "    \n",
    "    print(\"_\"*100)\n",
    "\n"
   ]
  },
  {
   "cell_type": "code",
   "execution_count": 13,
   "id": "325916c2",
   "metadata": {},
   "outputs": [
    {
     "name": "stdout",
     "output_type": "stream",
     "text": [
      "2\n"
     ]
    }
   ],
   "source": [
    "friends = [[1, \"Shuaib\", \"Hashemi\", \"shuaibhashemi@gmail.com\", \"512-453-3456\"], \n",
    "           [2,\"Zakerya\",\"bambino\", \"zbino@gmail.com\",\"582-232-3421\"]]\n",
    "\n",
    "\n",
    "print(friends[-1][0])"
   ]
  }
 ],
 "metadata": {
  "kernelspec": {
   "display_name": "Python 3 (ipykernel)",
   "language": "python",
   "name": "python3"
  },
  "language_info": {
   "codemirror_mode": {
    "name": "ipython",
    "version": 3
   },
   "file_extension": ".py",
   "mimetype": "text/x-python",
   "name": "python",
   "nbconvert_exporter": "python",
   "pygments_lexer": "ipython3",
   "version": "3.9.7"
  }
 },
 "nbformat": 4,
 "nbformat_minor": 5
}
