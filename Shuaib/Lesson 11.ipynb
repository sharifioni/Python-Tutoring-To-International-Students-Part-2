{
 "cells": [
  {
   "cell_type": "markdown",
   "id": "bb98a81e",
   "metadata": {},
   "source": [
    "# Range function with for loops\n",
    "\n",
    "* range()\n",
    "* you can only pass integer values to range function\n",
    "* it accepts atmost 3 integer values / arguments\n",
    "* start value, stop value, step value"
   ]
  },
  {
   "cell_type": "code",
   "execution_count": null,
   "id": "3119b46d",
   "metadata": {},
   "outputs": [],
   "source": [
    "# range function with one argument with for loop\n",
    "# by default start value is 0\n",
    "# stop value is the value that you have given\n",
    "# step value is 1\n",
    "for a in range(5):\n",
    "    print(a)"
   ]
  },
  {
   "cell_type": "code",
   "execution_count": null,
   "id": "2f26b412",
   "metadata": {},
   "outputs": [],
   "source": [
    "for a in range(11):\n",
    "    print(a)"
   ]
  },
  {
   "cell_type": "code",
   "execution_count": null,
   "id": "74caf1d1",
   "metadata": {},
   "outputs": [],
   "source": [
    "# range function with one argument with for loop\n",
    "# start value is first argument\n",
    "# stop value is the second argument\n",
    "# step value is 1\n",
    "for a in range(10,30):\n",
    "    print(a)"
   ]
  },
  {
   "cell_type": "code",
   "execution_count": 1,
   "id": "4a8cd704",
   "metadata": {},
   "outputs": [
    {
     "name": "stdout",
     "output_type": "stream",
     "text": [
      "10\n",
      "12\n",
      "14\n",
      "16\n",
      "18\n",
      "20\n",
      "22\n",
      "24\n",
      "26\n",
      "28\n"
     ]
    }
   ],
   "source": [
    "# range function with one argument with for loop\n",
    "# start value is first argument\n",
    "# stop value is the second argument\n",
    "# step value is third argument\n",
    "for a in range(10,30,2):\n",
    "    print(a)"
   ]
  },
  {
   "cell_type": "code",
   "execution_count": null,
   "id": "b8cfe07f",
   "metadata": {},
   "outputs": [],
   "source": [
    "# no output\n",
    "for a in range(30,10):\n",
    "    print(a)"
   ]
  },
  {
   "cell_type": "code",
   "execution_count": 3,
   "id": "d6b47feb",
   "metadata": {},
   "outputs": [
    {
     "name": "stdout",
     "output_type": "stream",
     "text": [
      "30\n",
      "29\n",
      "28\n",
      "27\n",
      "26\n",
      "25\n",
      "24\n",
      "23\n",
      "22\n",
      "21\n",
      "20\n",
      "19\n",
      "18\n",
      "17\n",
      "16\n",
      "15\n",
      "14\n",
      "13\n",
      "12\n",
      "11\n"
     ]
    }
   ],
   "source": [
    "# negative step\n",
    "# step value=-1\n",
    "for a in range(30,10,-1):\n",
    "    print(a)"
   ]
  },
  {
   "cell_type": "code",
   "execution_count": 4,
   "id": "ab7826ad",
   "metadata": {},
   "outputs": [],
   "source": [
    "#no output\n",
    "for a in range(10,30,-1):\n",
    "    print(a)"
   ]
  },
  {
   "cell_type": "code",
   "execution_count": 5,
   "id": "91ada942",
   "metadata": {},
   "outputs": [
    {
     "name": "stdout",
     "output_type": "stream",
     "text": [
      "10*1= 10\n",
      "10*2= 20\n",
      "10*3= 30\n",
      "10*4= 40\n",
      "10*5= 50\n",
      "10*6= 60\n",
      "10*7= 70\n",
      "10*8= 80\n",
      "10*9= 90\n",
      "10*10= 100\n"
     ]
    }
   ],
   "source": [
    "# Writing a table of a number\n",
    "print(\"10*1=\",10*1)\n",
    "print(\"10*2=\",10*2)\n",
    "print(\"10*3=\",10*3)\n",
    "print(\"10*4=\",10*4)\n",
    "print(\"10*5=\",10*5)\n",
    "print(\"10*6=\",10*6)\n",
    "print(\"10*7=\",10*7)\n",
    "print(\"10*8=\",10*8)\n",
    "print(\"10*9=\",10*9)\n",
    "print(\"10*10=\",10*10)"
   ]
  },
  {
   "cell_type": "code",
   "execution_count": 13,
   "id": "1e309b03",
   "metadata": {},
   "outputs": [
    {
     "name": "stdout",
     "output_type": "stream",
     "text": [
      "10   *    1    =    10  \n",
      "10   *    2    =    20  \n",
      "10   *    3    =    30  \n",
      "10   *    4    =    40  \n",
      "10   *    5    =    50  \n",
      "10   *    6    =    60  \n",
      "10   *    7    =    70  \n",
      "10   *    8    =    80  \n",
      "10   *    9    =    90  \n",
      "10   *    10   =    100 \n"
     ]
    }
   ],
   "source": [
    "for i in range(1,11):\n",
    "    print(f\"{'10':<4} {'*':<4} {i:<4} {'=' : <4} {10*i:<4}\")"
   ]
  },
  {
   "cell_type": "code",
   "execution_count": 14,
   "id": "2c16f33b",
   "metadata": {},
   "outputs": [
    {
     "name": "stdout",
     "output_type": "stream",
     "text": [
      "Enter any number: 12\n",
      "12*1= 12\n",
      "12*2= 24\n",
      "12*3= 36\n",
      "12*4= 48\n",
      "12*5= 60\n",
      "12*6= 72\n",
      "12*7= 84\n",
      "12*8= 96\n",
      "12*9= 108\n",
      "12*10= 120\n"
     ]
    }
   ],
   "source": [
    "number=int(input(\"Enter any number: \"))\n",
    "for i in range(1,11):\n",
    "    print(f\"{number}*{i}= {number*i}\")"
   ]
  }
 ],
 "metadata": {
  "kernelspec": {
   "display_name": "Python 3 (ipykernel)",
   "language": "python",
   "name": "python3"
  },
  "language_info": {
   "codemirror_mode": {
    "name": "ipython",
    "version": 3
   },
   "file_extension": ".py",
   "mimetype": "text/x-python",
   "name": "python",
   "nbconvert_exporter": "python",
   "pygments_lexer": "ipython3",
   "version": "3.9.7"
  }
 },
 "nbformat": 4,
 "nbformat_minor": 5
}
