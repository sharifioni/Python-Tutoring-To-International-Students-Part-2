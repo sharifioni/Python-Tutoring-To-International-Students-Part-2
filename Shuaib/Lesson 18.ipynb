{
 "cells": [
  {
   "cell_type": "code",
   "execution_count": 2,
   "id": "5aaee330",
   "metadata": {},
   "outputs": [
    {
     "name": "stdout",
     "output_type": "stream",
     "text": [
      "Enter any guess between 1 and 20: 7\n",
      "Your guess is lower than the correct guess, please guess higher\n",
      "Enter any guess between 1 and 20: 13\n",
      "Your guess is greater than the correct guess, please guess lower\n",
      "Enter any guess between 1 and 20: 12\n",
      "Your guess is greater than the correct guess, please guess lower\n",
      "You are out of attempts, you lose\n"
     ]
    }
   ],
   "source": [
    "# guessing\n",
    "#give user 3 attempts to guiess thr value \n",
    "correct_guess=11\n",
    "guess=0\n",
    "count=0\n",
    "\n",
    "while guess!=correct_guess:\n",
    "    guess=int(input(\"Enter any guess between 1 and 20: \"))\n",
    "    count=count+1\n",
    "    \n",
    "    if guess<correct_guess: #False\n",
    "        print(\"Your guess is lower than the correct guess, please guess higher\")\n",
    "        \n",
    "    elif guess > correct_guess: #True\n",
    "        print(\"Your guess is greater than the correct guess, please guess lower\")\n",
    "    \n",
    "    else:\n",
    "        print(\"Your guess is correct, you win\")\n",
    "        \n",
    "    if count==3:\n",
    "        print(\"You are out of attempts, you lose\")\n",
    "        break\n"
   ]
  },
  {
   "cell_type": "code",
   "execution_count": 8,
   "id": "98d8e103",
   "metadata": {},
   "outputs": [
    {
     "name": "stdout",
     "output_type": "stream",
     "text": [
      "number\tsquare\t  cube\n",
      "     0\t     0\t     0\n",
      "     1\t     1\t     1\n",
      "     2\t     4\t     8\n",
      "     3\t     9\t    27\n",
      "     4\t    16\t    64\n",
      "     5\t    25\t   125\n"
     ]
    }
   ],
   "source": [
    "print(f\"{'number':>6}\\t{'square':>6}\\t{'cube':>6}\")\n",
    "\n",
    "for number in range(0,6):\n",
    "    square= number*number\n",
    "    cube= number*number*number\n",
    "    print(f'{number:>6}\\t{square:>6}\\t{cube:>6}')\n"
   ]
  },
  {
   "cell_type": "code",
   "execution_count": 9,
   "id": "a85b3996",
   "metadata": {},
   "outputs": [
    {
     "name": "stdout",
     "output_type": "stream",
     "text": [
      "number\tsquare\t  cube\n",
      "     0\t     0\t     0\n",
      "     1\t     1\t     1\n",
      "     2\t     4\t     8\n",
      "     3\t     9\t    27\n",
      "     4\t    16\t    64\n",
      "     5\t    25\t   125\n"
     ]
    }
   ],
   "source": [
    "print(f\"{'number':>6}\\t{'square':>6}\\t{'cube':>6}\")\n",
    "\n",
    "for number in range(0,6):\n",
    "    print(f'{number:>6}\\t{number**2:>6}\\t{number**3:>6}')"
   ]
  },
  {
   "cell_type": "markdown",
   "id": "4407fe97",
   "metadata": {},
   "source": [
    "# Continue statement\n",
    "* Continue statement is used in loops and it will skip the statements written below of it inside a loop"
   ]
  },
  {
   "cell_type": "code",
   "execution_count": 11,
   "id": "3d8cc387",
   "metadata": {},
   "outputs": [
    {
     "name": "stdout",
     "output_type": "stream",
     "text": [
      "0\n",
      "1\n",
      "2\n",
      "3\n",
      "4\n",
      "6\n",
      "7\n",
      "8\n",
      "9\n"
     ]
    }
   ],
   "source": [
    "for i in range(10):\n",
    "    \n",
    "    if i==5:\n",
    "        continue\n",
    "        \n",
    "    print(i)"
   ]
  },
  {
   "cell_type": "code",
   "execution_count": 19,
   "id": "9b7ac690",
   "metadata": {},
   "outputs": [
    {
     "name": "stdout",
     "output_type": "stream",
     "text": [
      "P\n",
      "------\n",
      "y\n",
      "------\n",
      "t\n",
      "------\n",
      "h\n",
      "------\n",
      "o\n",
      "n\n",
      "------\n"
     ]
    }
   ],
   "source": [
    "for char in \"Python\":\n",
    "    print(char)\n",
    "    if char=='o':\n",
    "        continue\n",
    "    print(\"------\")\n",
    "    \n",
    "    \n"
   ]
  },
  {
   "cell_type": "code",
   "execution_count": 16,
   "id": "4d7bc9c1",
   "metadata": {},
   "outputs": [
    {
     "name": "stdout",
     "output_type": "stream",
     "text": [
      "0\n",
      "1\n",
      "2\n",
      "3\n",
      "4\n"
     ]
    }
   ],
   "source": [
    "for i in range(10):\n",
    "    \n",
    "    if i==5:\n",
    "        break\n",
    "    print(i)  \n",
    "   "
   ]
  },
  {
   "cell_type": "code",
   "execution_count": null,
   "id": "d88ef8bc",
   "metadata": {},
   "outputs": [],
   "source": []
  },
  {
   "cell_type": "markdown",
   "id": "9d10696b",
   "metadata": {},
   "source": [
    "# Homework\n",
    "* Try to do 2.8 with the while loop\n",
    "* Exercise 3.12 , 3.27"
   ]
  },
  {
   "cell_type": "code",
   "execution_count": null,
   "id": "4ee4fee5",
   "metadata": {},
   "outputs": [],
   "source": []
  }
 ],
 "metadata": {
  "kernelspec": {
   "display_name": "Python 3 (ipykernel)",
   "language": "python",
   "name": "python3"
  },
  "language_info": {
   "codemirror_mode": {
    "name": "ipython",
    "version": 3
   },
   "file_extension": ".py",
   "mimetype": "text/x-python",
   "name": "python",
   "nbconvert_exporter": "python",
   "pygments_lexer": "ipython3",
   "version": "3.9.7"
  }
 },
 "nbformat": 4,
 "nbformat_minor": 5
}
