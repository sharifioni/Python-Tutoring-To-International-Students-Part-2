{
 "cells": [
  {
   "cell_type": "markdown",
   "id": "338f7592",
   "metadata": {},
   "source": [
    "# List methods\n",
    "* append()\n",
    "* extend()\n",
    "* count()\n",
    "* insert()\n",
    "* reverse()\n",
    "* pop()\n",
    "* remove()\n",
    "* sort()\n",
    "* clear()\n",
    "* copy()\n",
    "* index()"
   ]
  },
  {
   "cell_type": "code",
   "execution_count": 6,
   "id": "6ee25d23",
   "metadata": {},
   "outputs": [
    {
     "name": "stdout",
     "output_type": "stream",
     "text": [
      "['leaf', 'insect', 'stick', 'wood', 'soil']\n"
     ]
    }
   ],
   "source": [
    "# insert(pos, item).  it inserts an item inside your current list at a specific position\n",
    "# pos is any index (integer)\n",
    "# item can be any value of any data type\n",
    "\n",
    "a = [\"leaf\", \"stick\", \"wood\", \"soil\"]\n",
    "a.insert(1, \"insect\")\n",
    "print(a)"
   ]
  },
  {
   "cell_type": "code",
   "execution_count": 12,
   "id": "ce7bfc9d",
   "metadata": {},
   "outputs": [
    {
     "name": "stdout",
     "output_type": "stream",
     "text": [
      "['leaf', 'stick', 'wood', 'soil', 'insect']\n"
     ]
    }
   ],
   "source": [
    "a = [\"leaf\", \"stick\", \"wood\", \"soil\"]\n",
    "a.insert( 6, \"insect\")\n",
    "print(a)"
   ]
  },
  {
   "cell_type": "code",
   "execution_count": 13,
   "id": "37f465d7",
   "metadata": {},
   "outputs": [
    {
     "name": "stdout",
     "output_type": "stream",
     "text": [
      "['soil', 'wood', 'stick', 'leaf']\n"
     ]
    }
   ],
   "source": [
    "# revers()  reverse method just reverses your current list\n",
    "a = [\"leaf\", \"stick\", \"wood\", \"soil\"]\n",
    "a.reverse()\n",
    "print(a)"
   ]
  },
  {
   "cell_type": "code",
   "execution_count": 26,
   "id": "75ba44b4",
   "metadata": {},
   "outputs": [
    {
     "name": "stdout",
     "output_type": "stream",
     "text": [
      "['leaf', 'wood', 'soil']\n",
      "stick\n",
      "[2, 4, 6, 8]\n",
      "10\n"
     ]
    }
   ],
   "source": [
    "# pop(index) it pops an item from your list based on index value. If you don't provide index value then it will pop\n",
    "#                                                                 the last index item from your list\n",
    "# it also returns the popped item\n",
    "\n",
    "a = [\"leaf\", \"stick\", \"wood\", \"soil\"]\n",
    "b = a.pop(1)\n",
    "print(a)\n",
    "print(b)\n",
    "\n",
    "a = [2, 4, 6, 8, 10]\n",
    "b = a.pop()\n",
    "print(a)\n",
    "print(b)"
   ]
  },
  {
   "cell_type": "code",
   "execution_count": 27,
   "id": "ac10b784",
   "metadata": {},
   "outputs": [
    {
     "name": "stdout",
     "output_type": "stream",
     "text": [
      "['leaf', 'wood', 'soil']\n"
     ]
    }
   ],
   "source": [
    "# remove(item) it removes an item from your list based on item value. \n",
    "\n",
    "a = [\"leaf\", \"stick\", \"wood\", \"soil\"]\n",
    "a.remove(\"stick\")\n",
    "print(a)\n",
    "\n"
   ]
  },
  {
   "cell_type": "markdown",
   "id": "8ebaf3d8",
   "metadata": {},
   "source": [
    " * Create a function that receives a list and returns a (possi\u0002bly shorter) list containing only the unique values in sorted order. Test your function with a list of numbers and a list of strings.\n",
    " \n",
    " a = [1, 2, 2, 3, 4, 1, 3, 4, 5, 7]"
   ]
  },
  {
   "cell_type": "markdown",
   "id": "8583354a",
   "metadata": {},
   "source": [
    "# Homework\n",
    "# Practice all list methods"
   ]
  }
 ],
 "metadata": {
  "kernelspec": {
   "display_name": "Python 3 (ipykernel)",
   "language": "python",
   "name": "python3"
  },
  "language_info": {
   "codemirror_mode": {
    "name": "ipython",
    "version": 3
   },
   "file_extension": ".py",
   "mimetype": "text/x-python",
   "name": "python",
   "nbconvert_exporter": "python",
   "pygments_lexer": "ipython3",
   "version": "3.9.7"
  }
 },
 "nbformat": 4,
 "nbformat_minor": 5
}
