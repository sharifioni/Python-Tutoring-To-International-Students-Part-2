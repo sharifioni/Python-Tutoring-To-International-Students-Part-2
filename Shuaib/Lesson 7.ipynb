{
 "cells": [
  {
   "cell_type": "markdown",
   "id": "9c135ad8",
   "metadata": {},
   "source": [
    "# Logical or Boolean Operators\n",
    "* They are used between two conditions\n",
    "* and\n",
    "* or\n",
    "* not"
   ]
  },
  {
   "cell_type": "markdown",
   "id": "2219d9ec",
   "metadata": {},
   "source": [
    "## and operator\n",
    "* if all of the conditions are true then it gives you true as a result otherwise false\n",
    "> True and True   =    True\n",
    ">\n",
    "> True and False   =   False\n",
    "> \n",
    "> False and True   =   False\n",
    "> \n",
    "> False and False  =   False\n"
   ]
  },
  {
   "cell_type": "code",
   "execution_count": null,
   "id": "1c0be072",
   "metadata": {},
   "outputs": [],
   "source": [
    "x=7\n",
    "y=10\n",
    "z=13\n",
    "\n",
    "# x < y   and y < z                 # True   and   True     =  True\n",
    "print(x < y   and y < z)"
   ]
  },
  {
   "cell_type": "code",
   "execution_count": null,
   "id": "a0b83aac",
   "metadata": {},
   "outputs": [],
   "source": [
    "# x < y   and y > z                 # True   and   False     =  False\n",
    "print(x < y   and y > z)"
   ]
  },
  {
   "cell_type": "code",
   "execution_count": null,
   "id": "32fe6d1d",
   "metadata": {},
   "outputs": [],
   "source": [
    "# x > y   and y > x                 # False   and   True     =  False\n",
    "print(x > y   and y > x)"
   ]
  },
  {
   "cell_type": "code",
   "execution_count": null,
   "id": "d36b04dd",
   "metadata": {},
   "outputs": [],
   "source": [
    "# x > y   and y > z                 # False   and   False     =  False\n",
    "print(x > y   and y > z)"
   ]
  },
  {
   "cell_type": "code",
   "execution_count": null,
   "id": "20af7f1b",
   "metadata": {},
   "outputs": [],
   "source": [
    "# x < y   and y < z  and y > x                 # True   and   True and True     =  True\n",
    "\n",
    "print(x < y   and y < z  and y > x )\n"
   ]
  },
  {
   "cell_type": "code",
   "execution_count": null,
   "id": "50d9015e",
   "metadata": {},
   "outputs": [],
   "source": [
    "weather=input(\"Enter wehather. Sunny, Rainy, Windy, Snowy: \")\n",
    "day=input(\"Enter any day between Monay to Sunday: \")\n",
    "\n",
    "if weather == \"Rainy\" and day== \"Saturday\":\n",
    "    print(\"You are good to go for swimming\")\n",
    "\n",
    "if weather== 'Sunny' and day == 'Monday':\n",
    "    print(\"you can go to school\")"
   ]
  },
  {
   "cell_type": "markdown",
   "id": "0c029b61",
   "metadata": {},
   "source": [
    "## or Operator\n",
    "* if one of the conditions is True then the result will be True otherwise it will be False\n",
    "> True or True   =    True\n",
    ">\n",
    "> True or False   =   True\n",
    "> \n",
    "> False or True   =   True\n",
    "> \n",
    "> False or False  =   False"
   ]
  },
  {
   "cell_type": "code",
   "execution_count": 2,
   "id": "9c94f0e2",
   "metadata": {},
   "outputs": [
    {
     "name": "stdout",
     "output_type": "stream",
     "text": [
      "True\n"
     ]
    }
   ],
   "source": [
    "x=7\n",
    "y=10\n",
    "z=13\n",
    "\n",
    "# x < y   or y < z                 # True   or   True     =  True\n",
    "print(x < y   or y < z)"
   ]
  },
  {
   "cell_type": "code",
   "execution_count": 3,
   "id": "136f4518",
   "metadata": {},
   "outputs": [
    {
     "name": "stdout",
     "output_type": "stream",
     "text": [
      "True\n"
     ]
    }
   ],
   "source": [
    "# x < y   or y > z                 # True   or   False     =  True\n",
    "print(x < y   or y > z)"
   ]
  },
  {
   "cell_type": "code",
   "execution_count": 4,
   "id": "4c9f41f2",
   "metadata": {},
   "outputs": [
    {
     "name": "stdout",
     "output_type": "stream",
     "text": [
      "True\n"
     ]
    }
   ],
   "source": [
    "# x > y   or y > x                 # False   or   True     =  True\n",
    "print(x > y   or y > x)"
   ]
  },
  {
   "cell_type": "code",
   "execution_count": 5,
   "id": "c5ea7a31",
   "metadata": {},
   "outputs": [
    {
     "name": "stdout",
     "output_type": "stream",
     "text": [
      "False\n"
     ]
    }
   ],
   "source": [
    "# x > y   or y > z                 # False   or   False     =  False\n",
    "print(x > y   or y > z)"
   ]
  },
  {
   "cell_type": "code",
   "execution_count": 6,
   "id": "10391c95",
   "metadata": {},
   "outputs": [
    {
     "name": "stdout",
     "output_type": "stream",
     "text": [
      "True\n"
     ]
    }
   ],
   "source": [
    "# x < y   or y > z  or y > 15                 # True   or   False or False     =  True\n",
    "\n",
    "print(x < y   or y > z  or y > 15 )\n"
   ]
  },
  {
   "cell_type": "code",
   "execution_count": 8,
   "id": "5c6f178a",
   "metadata": {},
   "outputs": [
    {
     "name": "stdout",
     "output_type": "stream",
     "text": [
      "Enter wehather. Sunny, Rainy, Windy, Snowy: Rainy\n",
      "Enter any day between Monay to Sunday: Monday\n",
      "You are good to go for swimming\n",
      "you can go to school\n"
     ]
    }
   ],
   "source": [
    "weather=input(\"Enter wehather. Sunny, Rainy, Windy, Snowy: \")\n",
    "day=input(\"Enter any day between Monay to Sunday: \")\n",
    "\n",
    "if weather == \"Rainy\" or day== \"Saturday\":\n",
    "    print(\"You are good to go for swimming\")\n",
    "\n",
    "if weather== 'Sunny' or day == 'Monday':\n",
    "    print(\"you can go to school\")"
   ]
  },
  {
   "cell_type": "markdown",
   "id": "c635a071",
   "metadata": {},
   "source": [
    "# not operator\n",
    "* It converts True condition to False and False condition to True\n",
    "* You use not operator before your condition\n",
    "* not True :  False\n",
    "* not False: True"
   ]
  },
  {
   "cell_type": "code",
   "execution_count": 12,
   "id": "8317adc0",
   "metadata": {},
   "outputs": [
    {
     "name": "stdout",
     "output_type": "stream",
     "text": [
      "False\n",
      "True\n"
     ]
    }
   ],
   "source": [
    "x=7\n",
    "y=8\n",
    "print(not x<y)\n",
    "print(not x>y)"
   ]
  },
  {
   "cell_type": "code",
   "execution_count": 14,
   "id": "ea9cdf97",
   "metadata": {},
   "outputs": [
    {
     "name": "stdout",
     "output_type": "stream",
     "text": [
      "Enter wehather. Sunny, Rainy, Windy, Snowy: Snowy\n",
      "You can go to play soccer\n"
     ]
    }
   ],
   "source": [
    "# if its not raining, then you can go to play soccer\n",
    "\n",
    "weather=input(\"Enter wehather. Sunny, Rainy, Windy, Snowy: \")\n",
    "\n",
    "\n",
    "if not weather == \"Rainy\" :\n",
    "    print(\"You can go to play soccer\")\n",
    "\n"
   ]
  },
  {
   "cell_type": "code",
   "execution_count": 15,
   "id": "9495e7a9",
   "metadata": {},
   "outputs": [
    {
     "name": "stdout",
     "output_type": "stream",
     "text": [
      "Enter wehather. Sunny, Rainy, Windy, Snowy: Snowy\n",
      "You can go to play soccer\n"
     ]
    }
   ],
   "source": [
    "# if its not raining, then you can go to play soccer\n",
    "\n",
    "weather=input(\"Enter wehather. Sunny, Rainy, Windy, Snowy: \")\n",
    "\n",
    "\n",
    "if weather != \"Rainy\" :\n",
    "    print(\"You can go to play soccer\")\n"
   ]
  },
  {
   "cell_type": "markdown",
   "id": "4851e7f9",
   "metadata": {},
   "source": [
    "# Multiple if statements"
   ]
  },
  {
   "cell_type": "code",
   "execution_count": 1,
   "id": "19292073",
   "metadata": {},
   "outputs": [
    {
     "name": "stdout",
     "output_type": "stream",
     "text": [
      "Enter two integers, and I will tell you the relationships they satisfy.\n",
      "Enter first integer: 7\n",
      "Enter second integer: 10\n",
      "7 is not equal to 10\n",
      "7 is less than 10\n",
      "7 is less than or equal to 10\n",
      "Finished\n"
     ]
    }
   ],
   "source": [
    "print('Enter two integers, and I will tell you','the relationships they satisfy.')\n",
    "\n",
    "# read first integer\n",
    "number1 = int(input('Enter first integer: ')) #5\n",
    "\n",
    "# read second integer\n",
    "number2 = int(input('Enter second integer: ')) #5\n",
    "\n",
    "if number1 == number2:\n",
    "    print(number1, 'is equal to', number2)\n",
    "\n",
    "if number1 != number2:  \n",
    "    print(number1, 'is not equal to', number2)\n",
    "\n",
    "if number1 < number2: \n",
    "    print(number1, 'is less than', number2)\n",
    "\n",
    "if number1 > number2:\n",
    "    print(number1, 'is greater than', number2)\n",
    "\n",
    "if number1 <= number2: #True\n",
    "    print(number1, 'is less than or equal to', number2)\n",
    "\n",
    "if number1 >= number2: #True\n",
    "    print(number1, 'is greater than or equal to', number2)\n"
   ]
  },
  {
   "cell_type": "markdown",
   "id": "cfc47bba",
   "metadata": {},
   "source": [
    "# if elif else\n",
    "* in this structure: Python runs the first true condition and skips all other condition"
   ]
  },
  {
   "cell_type": "code",
   "execution_count": 18,
   "id": "3c76a7a3",
   "metadata": {},
   "outputs": [
    {
     "name": "stdout",
     "output_type": "stream",
     "text": [
      "Enter any guess between 1 and 10: 5\n",
      "Your guess is correct\n"
     ]
    }
   ],
   "source": [
    "# guessing\n",
    "guess=int(input(\"Enter any guess between 1 and 10: \"))\n",
    "correct_guess=5\n",
    "\n",
    "if guess<correct_guess:\n",
    "    print(\"Your guess is lower than the correct guess and you lose\")\n",
    "    \n",
    "elif guess > correct_guess:\n",
    "    print(\"Your guess is greater than the correct guess and you lose\")\n",
    "    \n",
    "else:\n",
    "    print(\"Your guess is correct\")\n"
   ]
  },
  {
   "cell_type": "code",
   "execution_count": 19,
   "id": "86d1d9d0",
   "metadata": {},
   "outputs": [
    {
     "name": "stdout",
     "output_type": "stream",
     "text": [
      "Enter two integers, and I will tell you the relationships they satisfy.\n",
      "Enter first integer: 6\n",
      "Enter second integer: 7\n",
      "6 is not equal to 7\n"
     ]
    }
   ],
   "source": [
    "print('Enter two integers, and I will tell you','the relationships they satisfy.')\n",
    "\n",
    "# read first integer\n",
    "number1 = int(input('Enter first integer: ')) #5\n",
    "\n",
    "# read second integer\n",
    "number2 = int(input('Enter second integer: ')) #5\n",
    "\n",
    "if number1 == number2:\n",
    "    print(number1, 'is equal to', number2)\n",
    "\n",
    "elif number1 != number2:  \n",
    "    print(number1, 'is not equal to', number2)\n",
    "\n",
    "elif number1 < number2: \n",
    "    print(number1, 'is less than', number2)\n",
    "\n",
    "elif number1 > number2:\n",
    "    print(number1, 'is greater than', number2)\n",
    "\n",
    "elif number1 <= number2: #True\n",
    "    print(number1, 'is less than or equal to', number2)\n",
    "\n",
    "elif number1 >= number2: #True\n",
    "    print(number1, 'is greater than or equal to', number2)\n"
   ]
  }
 ],
 "metadata": {
  "kernelspec": {
   "display_name": "Python 3 (ipykernel)",
   "language": "python",
   "name": "python3"
  },
  "language_info": {
   "codemirror_mode": {
    "name": "ipython",
    "version": 3
   },
   "file_extension": ".py",
   "mimetype": "text/x-python",
   "name": "python",
   "nbconvert_exporter": "python",
   "pygments_lexer": "ipython3",
   "version": "3.9.7"
  }
 },
 "nbformat": 4,
 "nbformat_minor": 5
}
