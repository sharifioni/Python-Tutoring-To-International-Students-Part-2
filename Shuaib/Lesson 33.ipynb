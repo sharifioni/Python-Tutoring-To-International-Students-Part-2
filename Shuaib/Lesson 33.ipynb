{
 "cells": [
  {
   "cell_type": "code",
   "execution_count": 17,
   "id": "594c4b4f",
   "metadata": {},
   "outputs": [
    {
     "name": "stdout",
     "output_type": "stream",
     "text": [
      "99\n"
     ]
    }
   ],
   "source": [
    "# Print name of a person who obtained highest marks\n",
    "students = [ [\"Peter\",  90] , [\"John\",    56], [\"Sara\",    78], [\"Ali\",     99], [\"Abdullah\",69]]\n",
    "\n",
    "\n",
    "maximum = 0\n",
    "for i in range(len(students)):              # i = 5   , students [4]  = [\"Abdullah\", 69]  \n",
    "    for j in range(len(students[i])):       # len(students[4])  = 2 , j = 2   , students[4][1] = 69,maximum = 99\n",
    "        \n",
    "        if type(students[i][j]) == int:\n",
    "            if maximum < students[i][j]:\n",
    "                maximum = students [i][j]\n",
    "            \n",
    "print(maximum)\n",
    "    \n",
    "    "
   ]
  },
  {
   "cell_type": "markdown",
   "id": "cf647a9d",
   "metadata": {},
   "source": [
    "Create an app that allows a user to manage a list of friends they follow\n",
    "on a fictional social media site, FollowMe.\n",
    "\n",
    "\n",
    "\n",
    "You should have four functions:\n",
    "    - display_options()\n",
    "        - Prints the four options (view friends, follow friend, unfollow friend,\n",
    "        exit)\n",
    "        - Gets the user's choice and returns it from the function\n",
    "    - view_friends()\n",
    "        - Should print the number of friends as well as the entire list of friends\n",
    "    - follow_friend()\n",
    "        - Should only follow the friend if they are not currently in the friends list\n",
    "    - unfollow_friend()\n",
    "        - Should remove the friend by index, and should only remove the friend if \n",
    "        the friends list is not empty.\n",
    "\n",
    "\n",
    "You should have a list to represent your friends.\n",
    "    - You should start the list with at least three friends.\n",
    "\n",
    "\n",
    "You should have an infinite loop which:\n",
    "    - Displays the options\n",
    "    - Gets the user's option\n",
    "    - Process the user's option and runs the correct function or exits\n",
    "    the loop\n",
    "\n",
    "\n",
    "Example output:\n",
    "-------------------------------------------------------------------------------\n",
    "\n",
    "(1) View Friends (2) Follow (3) Unfollow (4) Exit 1\n",
    "------------------------------\n",
    "Following 3 friends\n",
    "['lolDude99', 'm1n3c4aft_g0d', 'robloxMaster']\n",
    "------------------------------\n",
    "(1) View Friends (2) Follow (3) Unfollow (4) Exit 2\n",
    "Enter name of friend to follow: steve#34\n",
    "You followed steve#34!\n",
    "(1) View Friends (2) Follow (3) Unfollow (4) Exit 1\n",
    "------------------------------\n",
    "Following 4 friends\n",
    "['lolDude99', 'm1n3c4aft_g0d', 'robloxMaster', 'steve#34']\n",
    "------------------------------\n",
    "(1) View Friends (2) Follow (3) Unfollow (4) Exit 3\n",
    "------------------------------\n",
    "Following 4 friends\n",
    "['lolDude99', 'm1n3c4aft_g0d', 'robloxMaster', 'steve#34']\n",
    "------------------------------\n",
    "Enter index of friend to unfollow: 0\n",
    "You unfollowed lolDude99.\n",
    "(1) View Friends (2) Follow (3) Unfollow (4) Exit 1\n",
    "------------------------------\n",
    "Following 3 friends\n",
    "['m1n3c4aft_g0d', 'robloxMaster', 'steve#34']\n",
    "------------------------------\n",
    "(1) View Friends (2) Follow (3) Unfollow (4) Exit 4\n",
    "Goodbye!\n",
    "\n",
    "-------------------------------------------------------------------------------\n"
   ]
  },
  {
   "cell_type": "code",
   "execution_count": 15,
   "id": "76756aa4",
   "metadata": {},
   "outputs": [
    {
     "name": "stdout",
     "output_type": "stream",
     "text": [
      "(1) View Friends (2) Follow (3) Unfollow (4) Exit: \n",
      "1\n",
      "Following 3 friends\n",
      "['Ali', 'Usman', 'Abdullah']\n",
      "(1) View Friends (2) Follow (3) Unfollow (4) Exit: \n"
     ]
    },
    {
     "ename": "KeyboardInterrupt",
     "evalue": "Interrupted by user",
     "output_type": "error",
     "traceback": [
      "\u001b[1;31m---------------------------------------------------------------------------\u001b[0m",
      "\u001b[1;31mKeyboardInterrupt\u001b[0m                         Traceback (most recent call last)",
      "\u001b[1;32m~\\AppData\\Local\\Temp/ipykernel_10308/2530375008.py\u001b[0m in \u001b[0;36m<module>\u001b[1;34m\u001b[0m\n\u001b[0;32m     19\u001b[0m \u001b[1;32mwhile\u001b[0m \u001b[1;32mTrue\u001b[0m\u001b[1;33m:\u001b[0m\u001b[1;33m\u001b[0m\u001b[1;33m\u001b[0m\u001b[0m\n\u001b[0;32m     20\u001b[0m     \u001b[0mdisplay_options\u001b[0m\u001b[1;33m(\u001b[0m\u001b[1;33m)\u001b[0m\u001b[1;33m\u001b[0m\u001b[1;33m\u001b[0m\u001b[0m\n\u001b[1;32m---> 21\u001b[1;33m     \u001b[0moption\u001b[0m \u001b[1;33m=\u001b[0m \u001b[0minput\u001b[0m\u001b[1;33m(\u001b[0m\u001b[1;33m)\u001b[0m\u001b[1;33m\u001b[0m\u001b[1;33m\u001b[0m\u001b[0m\n\u001b[0m\u001b[0;32m     22\u001b[0m \u001b[1;33m\u001b[0m\u001b[0m\n\u001b[0;32m     23\u001b[0m     \u001b[1;32mif\u001b[0m \u001b[0moption\u001b[0m \u001b[1;33m==\u001b[0m \u001b[1;34m\"1\"\u001b[0m\u001b[1;33m:\u001b[0m\u001b[1;33m\u001b[0m\u001b[1;33m\u001b[0m\u001b[0m\n",
      "\u001b[1;32m~\\anaconda3\\lib\\site-packages\\ipykernel\\kernelbase.py\u001b[0m in \u001b[0;36mraw_input\u001b[1;34m(self, prompt)\u001b[0m\n\u001b[0;32m   1004\u001b[0m                 \u001b[1;34m\"raw_input was called, but this frontend does not support input requests.\"\u001b[0m\u001b[1;33m\u001b[0m\u001b[1;33m\u001b[0m\u001b[0m\n\u001b[0;32m   1005\u001b[0m             )\n\u001b[1;32m-> 1006\u001b[1;33m         return self._input_request(\n\u001b[0m\u001b[0;32m   1007\u001b[0m             \u001b[0mstr\u001b[0m\u001b[1;33m(\u001b[0m\u001b[0mprompt\u001b[0m\u001b[1;33m)\u001b[0m\u001b[1;33m,\u001b[0m\u001b[1;33m\u001b[0m\u001b[1;33m\u001b[0m\u001b[0m\n\u001b[0;32m   1008\u001b[0m             \u001b[0mself\u001b[0m\u001b[1;33m.\u001b[0m\u001b[0m_parent_ident\u001b[0m\u001b[1;33m[\u001b[0m\u001b[1;34m\"shell\"\u001b[0m\u001b[1;33m]\u001b[0m\u001b[1;33m,\u001b[0m\u001b[1;33m\u001b[0m\u001b[1;33m\u001b[0m\u001b[0m\n",
      "\u001b[1;32m~\\anaconda3\\lib\\site-packages\\ipykernel\\kernelbase.py\u001b[0m in \u001b[0;36m_input_request\u001b[1;34m(self, prompt, ident, parent, password)\u001b[0m\n\u001b[0;32m   1049\u001b[0m             \u001b[1;32mexcept\u001b[0m \u001b[0mKeyboardInterrupt\u001b[0m\u001b[1;33m:\u001b[0m\u001b[1;33m\u001b[0m\u001b[1;33m\u001b[0m\u001b[0m\n\u001b[0;32m   1050\u001b[0m                 \u001b[1;31m# re-raise KeyboardInterrupt, to truncate traceback\u001b[0m\u001b[1;33m\u001b[0m\u001b[1;33m\u001b[0m\u001b[0m\n\u001b[1;32m-> 1051\u001b[1;33m                 \u001b[1;32mraise\u001b[0m \u001b[0mKeyboardInterrupt\u001b[0m\u001b[1;33m(\u001b[0m\u001b[1;34m\"Interrupted by user\"\u001b[0m\u001b[1;33m)\u001b[0m \u001b[1;32mfrom\u001b[0m \u001b[1;32mNone\u001b[0m\u001b[1;33m\u001b[0m\u001b[1;33m\u001b[0m\u001b[0m\n\u001b[0m\u001b[0;32m   1052\u001b[0m             \u001b[1;32mexcept\u001b[0m \u001b[0mException\u001b[0m\u001b[1;33m:\u001b[0m\u001b[1;33m\u001b[0m\u001b[1;33m\u001b[0m\u001b[0m\n\u001b[0;32m   1053\u001b[0m                 \u001b[0mself\u001b[0m\u001b[1;33m.\u001b[0m\u001b[0mlog\u001b[0m\u001b[1;33m.\u001b[0m\u001b[0mwarning\u001b[0m\u001b[1;33m(\u001b[0m\u001b[1;34m\"Invalid Message:\"\u001b[0m\u001b[1;33m,\u001b[0m \u001b[0mexc_info\u001b[0m\u001b[1;33m=\u001b[0m\u001b[1;32mTrue\u001b[0m\u001b[1;33m)\u001b[0m\u001b[1;33m\u001b[0m\u001b[1;33m\u001b[0m\u001b[0m\n",
      "\u001b[1;31mKeyboardInterrupt\u001b[0m: Interrupted by user"
     ]
    }
   ],
   "source": [
    "# Local and Global variables in functions\n",
    "\n",
    "def display_options():\n",
    "    print(\"(1) View Friends (2) Follow (3) Unfollow (4) Exit: \")\n",
    "\n",
    "def view_friends():\n",
    "    print(f\"Following {len(friends)} friends\")\n",
    "    print(friends)\n",
    "\n",
    "def follow_friend():\n",
    "    pass\n",
    "\n",
    "def unfollow_friend():\n",
    "    pass\n",
    "\n",
    "\n",
    "friends = [\"Ali\", \"Usman\", \"Abdullah\"]\n",
    "\n",
    "while True:\n",
    "    display_options()\n",
    "    option = input()\n",
    "    \n",
    "    if option == \"1\":\n",
    "        view_friends()"
   ]
  },
  {
   "cell_type": "code",
   "execution_count": null,
   "id": "700dbe86",
   "metadata": {},
   "outputs": [],
   "source": []
  }
 ],
 "metadata": {
  "kernelspec": {
   "display_name": "Python 3 (ipykernel)",
   "language": "python",
   "name": "python3"
  },
  "language_info": {
   "codemirror_mode": {
    "name": "ipython",
    "version": 3
   },
   "file_extension": ".py",
   "mimetype": "text/x-python",
   "name": "python",
   "nbconvert_exporter": "python",
   "pygments_lexer": "ipython3",
   "version": "3.9.7"
  }
 },
 "nbformat": 4,
 "nbformat_minor": 5
}
