{
 "cells": [
  {
   "cell_type": "markdown",
   "id": "9eac1673",
   "metadata": {},
   "source": [
    "# List Methods\n",
    "* sort()\n",
    "* clear()\n",
    "* copy()\n",
    "* index()"
   ]
  },
  {
   "cell_type": "code",
   "execution_count": 6,
   "id": "fef7ed8f",
   "metadata": {},
   "outputs": [
    {
     "name": "stdout",
     "output_type": "stream",
     "text": [
      "[9, 8, 7, 6, 5, 4, 3, 2, 1, 0]\n",
      "[3, 6, 2, 1, 0, 9, 4, 7, 5, 8]\n"
     ]
    }
   ],
   "source": [
    "a = [3, 6, 2, 1, 0, 9, 4, 7, 5, 8]\n",
    "print(sorted(a, reverse = True))\n",
    "print(a)"
   ]
  },
  {
   "cell_type": "code",
   "execution_count": 8,
   "id": "7171f498",
   "metadata": {},
   "outputs": [
    {
     "name": "stdout",
     "output_type": "stream",
     "text": [
      "[9, 8, 7, 6, 5, 4, 3, 2, 1, 0]\n"
     ]
    }
   ],
   "source": [
    "# sort(key, reverse) method sorts your list in ascending or descending order\n",
    "a = [3, 6, 2, 1, 0, 9, 4, 7, 5, 8]\n",
    "a.sort(reverse = True)\n",
    "print(a)"
   ]
  },
  {
   "cell_type": "code",
   "execution_count": 9,
   "id": "dde82f33",
   "metadata": {},
   "outputs": [
    {
     "name": "stdout",
     "output_type": "stream",
     "text": [
      "[]\n"
     ]
    }
   ],
   "source": [
    "# clear() method clears your list\n",
    "a = [3, 6, 2, 1, 0, 9, 4, 7, 5, 8]\n",
    "a.clear()\n",
    "print(a)"
   ]
  },
  {
   "cell_type": "code",
   "execution_count": 12,
   "id": "6224c5d3",
   "metadata": {},
   "outputs": [
    {
     "name": "stdout",
     "output_type": "stream",
     "text": [
      "[3, 6, 2, 1, 0, 9, 4, 7, 5, 8]\n",
      "[89, 3, 6, 2, 1, 0, 9, 4, 7, 5, 8]\n",
      "[3, 6, 2, 1, 0, 9, 4, 7, 5, 8]\n"
     ]
    }
   ],
   "source": [
    "# copy() method returns a copy of a list that you can save in any other variable\n",
    "a = [3, 6, 2, 1, 0, 9, 4, 7, 5, 8]\n",
    "b = a.copy()\n",
    "print(b)\n",
    "a.insert(0, 89)\n",
    "print(a)\n",
    "print(b)"
   ]
  },
  {
   "cell_type": "code",
   "execution_count": 15,
   "id": "79e07cf6",
   "metadata": {},
   "outputs": [
    {
     "name": "stdout",
     "output_type": "stream",
     "text": [
      "[3, 6, 2, 1, 0, 9, 4, 7, 5, 8]\n",
      "[89, 3, 6, 2, 1, 0, 9, 4, 7, 5, 8]\n",
      "[89, 3, 6, 2, 1, 0, 9, 4, 7, 5, 8]\n"
     ]
    }
   ],
   "source": [
    "a = [3, 6, 2, 1, 0, 9, 4, 7, 5, 8]\n",
    "b = a\n",
    "print(b)\n",
    "a.insert(0, 89)\n",
    "print(a)\n",
    "print(b)"
   ]
  },
  {
   "cell_type": "code",
   "execution_count": 19,
   "id": "470a20b8",
   "metadata": {},
   "outputs": [
    {
     "name": "stdout",
     "output_type": "stream",
     "text": [
      "0\n"
     ]
    }
   ],
   "source": [
    "# index(item) returns index value of the first matching item\n",
    "a = [3, 6, 2, 1, 0, 9, 4, 7, 5, 8]\n",
    "print(a.index(3))"
   ]
  },
  {
   "cell_type": "code",
   "execution_count": 20,
   "id": "5e8ba9df",
   "metadata": {},
   "outputs": [
    {
     "name": "stdout",
     "output_type": "stream",
     "text": [
      "0\n"
     ]
    }
   ],
   "source": [
    "a = [\"a\", \"a\", \"b\", \"a\", \"c\"]\n",
    "print(a.index(\"a\"))"
   ]
  },
  {
   "cell_type": "markdown",
   "id": "be750473",
   "metadata": {},
   "source": [
    "# List methods\n",
    "* append()\n",
    "* extend()\n",
    "* count()\n",
    "* insert()\n",
    "* reverse()\n",
    "* pop()\n",
    "* remove()\n",
    "* sort()\n",
    "* clear()\n",
    "* copy()\n",
    "* index()"
   ]
  },
  {
   "cell_type": "code",
   "execution_count": 32,
   "id": "d3d353e6",
   "metadata": {},
   "outputs": [
    {
     "name": "stdout",
     "output_type": "stream",
     "text": [
      "1\n",
      "2\n",
      "3\n",
      "4\n",
      "5\n",
      "6\n",
      "7\n",
      "8\n",
      "9\n"
     ]
    }
   ],
   "source": [
    "a = [1, 2, [3,4,5], 6, [7, 8, 9]]\n",
    "\n",
    "for i in a:\n",
    "    if type(i) == list:\n",
    "        for j in i:\n",
    "            print(j)\n",
    "        continue\n",
    "            \n",
    "    print(i)"
   ]
  },
  {
   "cell_type": "code",
   "execution_count": 34,
   "id": "2c22636d",
   "metadata": {},
   "outputs": [],
   "source": [
    "students = [ [\"Peter\",  90] , \n",
    "            [\"John\",    56], \n",
    "            [\"Sara\",    78], \n",
    "            [\"Ali\",     99],\n",
    "            [\"Abdullah\",69]]"
   ]
  },
  {
   "cell_type": "code",
   "execution_count": null,
   "id": "ba301789",
   "metadata": {},
   "outputs": [],
   "source": [
    "# i = [\"Peter\",  90]\n",
    "# First j = \"Peter\"\n",
    "# prints peter and three spaces\n",
    "# Second j = 90\n",
    "# prints 90 and three spaces\n",
    "# j loop finishes\n",
    "# print() statement moves us to new line\n",
    "\n",
    "# Now i = [\"John\",    56]\n"
   ]
  },
  {
   "cell_type": "code",
   "execution_count": null,
   "id": "0c491fff",
   "metadata": {},
   "outputs": [],
   "source": [
    "# Peter   90   \n",
    "#"
   ]
  },
  {
   "cell_type": "code",
   "execution_count": 35,
   "id": "a13549da",
   "metadata": {},
   "outputs": [
    {
     "name": "stdout",
     "output_type": "stream",
     "text": [
      "snake\n",
      "giraffe\n",
      "cat\n",
      "dog\n",
      "ostrich\n",
      "mouse\n"
     ]
    }
   ],
   "source": [
    "a = [\"snake\", \"giraffe\", \"cat\", \"dog\", \"ostrich\", \"mouse\"]\n",
    "\n",
    "for name in a:\n",
    "    print(name)"
   ]
  },
  {
   "cell_type": "code",
   "execution_count": 38,
   "id": "c5507967",
   "metadata": {},
   "outputs": [
    {
     "name": "stdout",
     "output_type": "stream",
     "text": [
      "snake\n",
      "giraffe\n",
      "cat\n",
      "dog\n",
      "ostrich\n",
      "mouse\n"
     ]
    }
   ],
   "source": [
    "a = [\"snake\", \"giraffe\", \"cat\", \"dog\", \"ostrich\", \"mouse\"]\n",
    "\n",
    "for i in range(len(a)):\n",
    "    print(a[i])"
   ]
  },
  {
   "cell_type": "code",
   "execution_count": 39,
   "id": "b5654ca9",
   "metadata": {},
   "outputs": [
    {
     "name": "stdout",
     "output_type": "stream",
     "text": [
      "Peter\n",
      "90\n",
      "John\n",
      "56\n",
      "Sara\n",
      "78\n",
      "Ali\n",
      "99\n",
      "Abdullah\n",
      "69\n"
     ]
    }
   ],
   "source": [
    "a = [ [\"Peter\",  90] , \n",
    "            [\"John\",    56], \n",
    "            [\"Sara\",    78], \n",
    "            [\"Ali\",     99],\n",
    "            [\"Abdullah\",69]]\n",
    "for i in range(len(a)):\n",
    "    for j in range(len(a[i])):\n",
    "        print(a[i][j])\n"
   ]
  },
  {
   "cell_type": "code",
   "execution_count": null,
   "id": "72644e4c",
   "metadata": {},
   "outputs": [],
   "source": [
    "Create an app that allows a user to manage a list of friends they follow\n",
    "on a fictional social media site, FollowMe.\n",
    "\n",
    "\n",
    "\n",
    "You should have four functions:\n",
    "    - display_options()\n",
    "        - Prints the four options (view friends, follow friend, unfollow friend,\n",
    "        exit)\n",
    "        - Gets the user's choice and returns it from the function\n",
    "    - view_friends()\n",
    "        - Should print the number of friends as well as the entire list of friends\n",
    "    - follow_friend()\n",
    "        - Should only follow the friend if they are not currently in the friends list\n",
    "    - unfollow_friend()\n",
    "        - Should remove the friend by index, and should only remove the friend if \n",
    "        the friends list is not empty.\n",
    "\n",
    "\n",
    "You should have a list to represent your friends.\n",
    "    - You should start the list with at least three friends.\n",
    "\n",
    "\n",
    "You should have an infinite loop which:\n",
    "    - Displays the options\n",
    "    - Gets the user's option\n",
    "    - Process the user's option and runs the correct function or exits\n",
    "    the loop\n",
    "\n",
    "\n",
    "Example output:\n",
    "-------------------------------------------------------------------------------\n",
    "\n",
    "(1) View Friends (2) Follow (3) Unfollow (4) Exit 1\n",
    "------------------------------\n",
    "Following 3 friends\n",
    "['lolDude99', 'm1n3c4aft_g0d', 'robloxMaster']\n",
    "------------------------------\n",
    "(1) View Friends (2) Follow (3) Unfollow (4) Exit 2\n",
    "Enter name of friend to follow: steve#34\n",
    "You followed steve#34!\n",
    "(1) View Friends (2) Follow (3) Unfollow (4) Exit 1\n",
    "------------------------------\n",
    "Following 4 friends\n",
    "['lolDude99', 'm1n3c4aft_g0d', 'robloxMaster', 'steve#34']\n",
    "------------------------------\n",
    "(1) View Friends (2) Follow (3) Unfollow (4) Exit 3\n",
    "------------------------------\n",
    "Following 4 friends\n",
    "['lolDude99', 'm1n3c4aft_g0d', 'robloxMaster', 'steve#34']\n",
    "------------------------------\n",
    "Enter index of friend to unfollow: 0\n",
    "You unfollowed lolDude99.\n",
    "(1) View Friends (2) Follow (3) Unfollow (4) Exit 1\n",
    "------------------------------\n",
    "Following 3 friends\n",
    "['m1n3c4aft_g0d', 'robloxMaster', 'steve#34']\n",
    "------------------------------\n",
    "(1) View Friends (2) Follow (3) Unfollow (4) Exit 4\n",
    "Goodbye!\n",
    "\n",
    "-------------------------------------------------------------------------------\n"
   ]
  }
 ],
 "metadata": {
  "kernelspec": {
   "display_name": "Python 3 (ipykernel)",
   "language": "python",
   "name": "python3"
  },
  "language_info": {
   "codemirror_mode": {
    "name": "ipython",
    "version": 3
   },
   "file_extension": ".py",
   "mimetype": "text/x-python",
   "name": "python",
   "nbconvert_exporter": "python",
   "pygments_lexer": "ipython3",
   "version": "3.9.7"
  }
 },
 "nbformat": 4,
 "nbformat_minor": 5
}
