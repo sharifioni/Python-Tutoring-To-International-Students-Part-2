{
 "cells": [
  {
   "cell_type": "code",
   "execution_count": 2,
   "id": "2c6989a3",
   "metadata": {},
   "outputs": [
    {
     "name": "stdout",
     "output_type": "stream",
     "text": [
      "4\n",
      "6\n",
      "10\n",
      "Dice 1=  3\n",
      "Dice 2= 4\n",
      "Sum of Dice= 7\n",
      "You loose\n"
     ]
    }
   ],
   "source": [
    "import random\n",
    "\n",
    "\n",
    "dice1=random.randint(1,6)\n",
    "dice2=random.randint(1,6)\n",
    "print(dice1)\n",
    "print(dice2)\n",
    "sum_dice=dice1+dice2\n",
    "print(sum_dice)\n",
    "\n",
    "if sum_dice==7 or sum_dice==11:\n",
    "    print(\"You win\")\n",
    "    \n",
    "elif sum_dice==2 or sum_dice==3 or sum_dice==12:\n",
    "    print(\"You loose\")\n",
    "    \n",
    "else:\n",
    "    point=sum_dice\n",
    "    \n",
    "    while True:\n",
    "        dice1=random.randint(1,6)\n",
    "        dice2=random.randint(1,6)\n",
    "        \n",
    "        print(\"Dice 1= \",dice1)\n",
    "        print(\"Dice 2=\",dice2)\n",
    "        \n",
    "        sum_dice=dice1+dice2\n",
    "        print(\"Sum of Dice=\",sum_dice)\n",
    "        \n",
    "        if sum_dice==point:\n",
    "            print(\"You win\")\n",
    "            break\n",
    "            \n",
    "        elif sum_dice==7:\n",
    "            print(\"You loose\")\n",
    "            break"
   ]
  },
  {
   "cell_type": "code",
   "execution_count": null,
   "id": "a9356e79",
   "metadata": {},
   "outputs": [],
   "source": []
  },
  {
   "cell_type": "code",
   "execution_count": 9,
   "id": "6cea5bf5",
   "metadata": {},
   "outputs": [
    {
     "name": "stdout",
     "output_type": "stream",
     "text": [
      "Dice1= 6\n",
      "Dice2= 3\n",
      "Sum of dice= 9\n",
      "Dice1= 6\n",
      "Dice2= 1\n",
      "Sum of dice= 7\n",
      "You loose\n"
     ]
    }
   ],
   "source": [
    "import random\n",
    "\n",
    "def dice_rolling():\n",
    "    dice1=random.randint(1,6)\n",
    "    dice2=random.randint(1,6)\n",
    "    print(\"Dice1=\",dice1)\n",
    "    print(\"Dice2=\",dice2)\n",
    "    return dice1,dice2\n",
    "    \n",
    "def sum_of_dices(d1,d2):\n",
    "    sum_dice=d1+d2\n",
    "    print(\"Sum of dice=\",sum_dice)\n",
    "    return sum_dice\n",
    "    \n",
    "dice1,dice2=dice_rolling()\n",
    "\n",
    "sum_dice=sum_of_dices(dice1,dice2)\n",
    "\n",
    "if sum_dice==7 or sum_dice==11:\n",
    "    print(\"You win\")\n",
    "    \n",
    "elif sum_dice==2 or sum_dice==3 or sum_dice==12:\n",
    "    print(\"You loose\")\n",
    "    \n",
    "else:\n",
    "    point=sum_dice\n",
    "    \n",
    "    while True:\n",
    "        dice1,dice2=dice_rolling()\n",
    "\n",
    "        sum_dice=sum_of_dices(dice1,dice2)\n",
    "        \n",
    "        if sum_dice==point:\n",
    "            print(\"You win\")\n",
    "            break\n",
    "            \n",
    "        elif sum_dice==7:\n",
    "            print(\"You loose\")\n",
    "            break"
   ]
  }
 ],
 "metadata": {
  "kernelspec": {
   "display_name": "Python 3 (ipykernel)",
   "language": "python",
   "name": "python3"
  },
  "language_info": {
   "codemirror_mode": {
    "name": "ipython",
    "version": 3
   },
   "file_extension": ".py",
   "mimetype": "text/x-python",
   "name": "python",
   "nbconvert_exporter": "python",
   "pygments_lexer": "ipython3",
   "version": "3.9.7"
  }
 },
 "nbformat": 4,
 "nbformat_minor": 5
}
