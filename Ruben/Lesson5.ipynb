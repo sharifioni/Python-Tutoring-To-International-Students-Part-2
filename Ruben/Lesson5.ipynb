{
 "cells": [
  {
   "cell_type": "code",
   "execution_count": 1,
   "id": "ea91c4da",
   "metadata": {},
   "outputs": [
    {
     "name": "stdout",
     "output_type": "stream",
     "text": [
      "Enter first number: 12\n",
      "Enter second number: 13\n",
      "Enter third number: 14\n",
      "The total square sum of three numbers is 509\n"
     ]
    }
   ],
   "source": [
    "#You have to calculate their squares \n",
    "number1=int(input(\"Enter first number: \"))\n",
    "number2=int(input(\"Enter second number: \"))\n",
    "number3=int(input(\"Enter third number: \"))\n",
    "total_square_sum=number1**2+number2**2+number3**2\n",
    "print(\"The total square sum of three numbers is\",total_square_sum)"
   ]
  },
  {
   "cell_type": "code",
   "execution_count": 2,
   "id": "3696bfb6",
   "metadata": {},
   "outputs": [
    {
     "name": "stdout",
     "output_type": "stream",
     "text": [
      "<class 'bool'>\n",
      "<class 'bool'>\n"
     ]
    }
   ],
   "source": [
    "#Boolean Data Type\n",
    "#Boolean   True,False    bool\n",
    "print(type(True))\n",
    "print(type(False))"
   ]
  },
  {
   "cell_type": "code",
   "execution_count": 2,
   "id": "5c1948c2",
   "metadata": {},
   "outputs": [
    {
     "name": "stdout",
     "output_type": "stream",
     "text": [
      "True\n",
      "<class 'bool'>\n"
     ]
    }
   ],
   "source": [
    "x=5\n",
    "y=6\n",
    "print(x<y)\n",
    "print(type(x<y))"
   ]
  },
  {
   "cell_type": "code",
   "execution_count": 7,
   "id": "26ec32b7",
   "metadata": {},
   "outputs": [
    {
     "name": "stdout",
     "output_type": "stream",
     "text": [
      "x is less than y: True\n",
      "x is greater than y: False\n",
      "x is less than equal to y: True\n",
      "x is greater than equal to y: False\n",
      "x is equal to y: False\n",
      "x is not equal to y: True\n"
     ]
    }
   ],
   "source": [
    "#Comparison Operators   <  ,  > , <=  , >=  ,  ==  , !=\n",
    "x=5\n",
    "y=6\n",
    "\n",
    "print(\"x is less than y:\",x<y)\n",
    "print(\"x is greater than y:\",x>y)\n",
    "print(\"x is less than equal to y:\",x<=y)\n",
    "print(\"x is greater than equal to y:\",x>=y)\n",
    "print(\"x is equal to y:\",x==y)\n",
    "print(\"x is not equal to y:\",x!=y)\n"
   ]
  },
  {
   "cell_type": "markdown",
   "id": "dbb4f843",
   "metadata": {},
   "source": [
    "## if-else\n",
    "* in if part we provide a condition. \n",
    "* if block runs when the condition is True\n",
    "* in else part we don't write any condition, it runs when the condition is false\n",
    "* indentation (Spaces that tells you about a block of code)\n",
    "* if condition:\n",
    "    statements1\n",
    "    statement2\n",
    "    ..........\n",
    "  else:\n",
    "    statements1\n",
    "    statement2\n",
    "    ..........\n",
    "    "
   ]
  },
  {
   "cell_type": "code",
   "execution_count": 1,
   "id": "9ab3b9b6",
   "metadata": {},
   "outputs": [
    {
     "name": "stdout",
     "output_type": "stream",
     "text": [
      "x is less than y\n",
      "This is if part\n"
     ]
    }
   ],
   "source": [
    "x=5\n",
    "y=6\n",
    "#Way of writing\n",
    "if x<y:                 #Indentation        #When condition will be True, (if) part will run\n",
    "    print(\"x is less than y\")\n",
    "    print(\"This is if part\")\n",
    "else:\n",
    "    print(\"x is greater than y\")\n"
   ]
  },
  {
   "cell_type": "code",
   "execution_count": 7,
   "id": "5eeb1445",
   "metadata": {},
   "outputs": [
    {
     "name": "stdout",
     "output_type": "stream",
     "text": [
      "x is less than y\n"
     ]
    }
   ],
   "source": [
    "x=5\n",
    "y=7\n",
    "if x<y:\n",
    "    print(\"x is less than y\")\n",
    "\n",
    "else:\n",
    "    print(\"x is not less than y\")"
   ]
  },
  {
   "cell_type": "code",
   "execution_count": 4,
   "id": "c79bbf55",
   "metadata": {},
   "outputs": [
    {
     "data": {
      "text/plain": [
       "True"
      ]
     },
     "execution_count": 4,
     "metadata": {},
     "output_type": "execute_result"
    }
   ],
   "source": [
    "7 >= 4"
   ]
  },
  {
   "cell_type": "code",
   "execution_count": 1,
   "id": "9f8308ac",
   "metadata": {},
   "outputs": [
    {
     "name": "stdout",
     "output_type": "stream",
     "text": [
      "Enter two integers, and I will tell you the relationships they satisfy.\n",
      "Enter first integer: 10\n",
      "Enter second integer: 15\n",
      "10 is not equal to 15\n",
      "10 is less than 15\n",
      "10 is less than or equal to 15\n"
     ]
    }
   ],
   "source": [
    "# fig02_01.py\n",
    "\"\"\"Comparing integers using if statements and comparison operators.\"\"\"\n",
    "\n",
    "print('Enter two integers, and I will tell you','the relationships they satisfy.')\n",
    "\n",
    "# read first integer\n",
    "number1 = int(input('Enter first integer: '))  #10\n",
    "\n",
    "# read second integer\n",
    "number2 = int(input('Enter second integer: '))  #15\n",
    "\n",
    "#Multiple if\n",
    "if number1 == number2: #F\n",
    "    print(number1, 'is equal to', number2)\n",
    "\n",
    "if number1 != number2: #T\n",
    "    print(number1, 'is not equal to', number2)\n",
    "\n",
    "if number1 < number2:#T\n",
    "    print(number1, 'is less than', number2)\n",
    "\n",
    "if number1 > number2:#F\n",
    "    print(number1, 'is greater than', number2)\n",
    "\n",
    "if number1 <= number2:#T\n",
    "    print(number1, 'is less than or equal to', number2)\n",
    "\n",
    "if number1 >= number2:#F\n",
    "    print(number1, 'is greater than or equal to', number2)"
   ]
  }
 ],
 "metadata": {
  "kernelspec": {
   "display_name": "Python 3 (ipykernel)",
   "language": "python",
   "name": "python3"
  },
  "language_info": {
   "codemirror_mode": {
    "name": "ipython",
    "version": 3
   },
   "file_extension": ".py",
   "mimetype": "text/x-python",
   "name": "python",
   "nbconvert_exporter": "python",
   "pygments_lexer": "ipython3",
   "version": "3.9.7"
  }
 },
 "nbformat": 4,
 "nbformat_minor": 5
}
