{
 "cells": [
  {
   "cell_type": "code",
   "execution_count": null,
   "id": "f5e8c917",
   "metadata": {},
   "outputs": [],
   "source": [
    "#Create a simple calculator addition, subtraction, multiplication, division, power\n",
    "#Take two numbers from the user either integer or float and then use one of the operator.\n",
    "#Perform the calculation\n",
    "# You have to keep on running the program until user says no"
   ]
  },
  {
   "cell_type": "code",
   "execution_count": null,
   "id": "baa4590d",
   "metadata": {},
   "outputs": [],
   "source": [
    "ask=\"\"\n",
    "while ask!=\"no\":\n",
    "    num1=int(input(\"Enter first number\"))\n",
    "    num2=int(input(\"Enter second number\"))\n",
    "    operator=(input(\"Enter operator\"))\n",
    "    if operator==\"+\":\n",
    "        print(num1+num2)\n",
    "    elif operator==\"-\":\n",
    "        print(num1-num2)\n",
    "    elif operator==\"*\":\n",
    "        print(num1*num2)\n",
    "    elif operator==\"/\":\n",
    "        print(num1/num2)\n",
    "    elif operator==\"**\":\n",
    "        print(num1**num2)\n",
    "    print(\"Do you want to repeat? yes/no\")\n",
    "    ask=input(\"Enter yes for repeat or no for exit\")\n"
   ]
  },
  {
   "cell_type": "code",
   "execution_count": 1,
   "id": "12b1b01e",
   "metadata": {},
   "outputs": [
    {
     "name": "stdout",
     "output_type": "stream",
     "text": [
      "Enter any number: 6\n",
      "1 \t*\t 6 \t=\t 6\n",
      "2 \t*\t 6 \t=\t 12\n",
      "3 \t*\t 6 \t=\t 18\n",
      "4 \t*\t 6 \t=\t 24\n",
      "5 \t*\t 6 \t=\t 30\n",
      "6 \t*\t 6 \t=\t 36\n",
      "7 \t*\t 6 \t=\t 42\n",
      "8 \t*\t 6 \t=\t 48\n",
      "9 \t*\t 6 \t=\t 54\n",
      "10 \t*\t 6 \t=\t 60\n"
     ]
    }
   ],
   "source": [
    "#Table of any number\n",
    "\n",
    "number=int(input(\"Enter any number: \"))\n",
    "\n",
    "for i in range(1,11):\n",
    "    print(i,\"\\t*\\t\",number,\"\\t=\\t\",number*i)"
   ]
  }
 ],
 "metadata": {
  "kernelspec": {
   "display_name": "Python 3 (ipykernel)",
   "language": "python",
   "name": "python3"
  },
  "language_info": {
   "codemirror_mode": {
    "name": "ipython",
    "version": 3
   },
   "file_extension": ".py",
   "mimetype": "text/x-python",
   "name": "python",
   "nbconvert_exporter": "python",
   "pygments_lexer": "ipython3",
   "version": "3.9.7"
  }
 },
 "nbformat": 4,
 "nbformat_minor": 5
}
