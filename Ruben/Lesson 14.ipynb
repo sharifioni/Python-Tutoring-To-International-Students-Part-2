{
 "cells": [
  {
   "cell_type": "markdown",
   "id": "97f460f4",
   "metadata": {},
   "source": [
    "## Function Returning\n",
    "\n",
    "> We return a value to function calling point using \"return\" keyword\n",
    "def cube(num1):\n",
    "    return num1**3\n",
    "    \n",
    "a=cube(5)   \n",
    "print(a)    "
   ]
  },
  {
   "cell_type": "code",
   "execution_count": 1,
   "id": "0a4fee9d",
   "metadata": {},
   "outputs": [
    {
     "name": "stdout",
     "output_type": "stream",
     "text": [
      "The value of a is 125\n"
     ]
    }
   ],
   "source": [
    "def cube(num1):\n",
    "    return num1**3\n",
    "    \n",
    "a=cube(5)   \n",
    "print(\"The value of a is\",a) "
   ]
  },
  {
   "cell_type": "code",
   "execution_count": null,
   "id": "b0b41b50",
   "metadata": {},
   "outputs": [],
   "source": []
  },
  {
   "cell_type": "code",
   "execution_count": 2,
   "id": "9b39f14e",
   "metadata": {},
   "outputs": [
    {
     "name": "stdout",
     "output_type": "stream",
     "text": [
      "Enter length of rectangle: 3\n",
      "Enter width of rectangle: 2\n",
      "Area of rectangle is 10\n"
     ]
    }
   ],
   "source": [
    "def area_rectangle(L,W):\n",
    "    area=2*L+2*W\n",
    "    return area\n",
    "\n",
    "length=int(input(\"Enter length of rectangle: \"))\n",
    "width=int(input(\"Enter width of rectangle: \"))\n",
    "\n",
    "           \n",
    "print(\"Area of rectangle is\", area_rectangle(length,width))"
   ]
  }
 ],
 "metadata": {
  "kernelspec": {
   "display_name": "Python 3 (ipykernel)",
   "language": "python",
   "name": "python3"
  },
  "language_info": {
   "codemirror_mode": {
    "name": "ipython",
    "version": 3
   },
   "file_extension": ".py",
   "mimetype": "text/x-python",
   "name": "python",
   "nbconvert_exporter": "python",
   "pygments_lexer": "ipython3",
   "version": "3.9.7"
  }
 },
 "nbformat": 4,
 "nbformat_minor": 5
}
