{
 "cells": [
  {
   "cell_type": "markdown",
   "id": "bb5f3a7a",
   "metadata": {},
   "source": [
    "# Iterables\n",
    "It is something on which you can use for loop\n",
    "* List\n",
    "* String\n",
    "* range\n",
    "* Tuple\n",
    "* Dictionary\n",
    "* Sets"
   ]
  },
  {
   "cell_type": "markdown",
   "id": "c0678e08",
   "metadata": {},
   "source": [
    "# Sequences\n",
    "It is an ordered data type on which you can use indexing\n",
    "* List\n",
    "* String\n",
    "* Tuple\n",
    "* Range"
   ]
  },
  {
   "cell_type": "markdown",
   "id": "c618207c",
   "metadata": {},
   "source": [
    "* len() it can be used with iterables\n",
    "* min() and max() can be used with iterables\n",
    "* sum() sequences with integer or float values"
   ]
  },
  {
   "cell_type": "code",
   "execution_count": 4,
   "id": "642ff8ff",
   "metadata": {},
   "outputs": [
    {
     "name": "stdout",
     "output_type": "stream",
     "text": [
      "6\n",
      "9\n",
      "7\n"
     ]
    }
   ],
   "source": [
    "a = \"python\"\n",
    "print(len(a))\n",
    "\n",
    "b = [1,2,3,4,5,6,7,10,98]\n",
    "print(len(b))\n",
    "\n",
    "c = range(1, 8)\n",
    "print(len(c))"
   ]
  },
  {
   "cell_type": "code",
   "execution_count": 9,
   "id": "e5d02461",
   "metadata": {},
   "outputs": [
    {
     "name": "stdout",
     "output_type": "stream",
     "text": [
      "15.5\n",
      "15\n",
      "15\n"
     ]
    }
   ],
   "source": [
    "a = [1,2,3,4,5.5]\n",
    "print(sum(a))\n",
    "\n",
    "b = range( 1, 6)\n",
    "print(sum(b))\n",
    "\n",
    "c = (1,2,3,4,5)\n",
    "print(sum(c))"
   ]
  },
  {
   "cell_type": "markdown",
   "id": "d58ea5bf",
   "metadata": {},
   "source": [
    "#### sorted() function\n",
    "* sorts an iterable in ascending or descending order and returns a list\n",
    "* All the values of iterable should be of same data type\n",
    "* If the values are string, then it will sort alphabetically\n",
    "* sorted(iterable , key= func , reverse = (True, False) )  iterable is must, key and reverse is optional\n",
    "* reverse = True, then it will sort iterable in descending order\n",
    "* reverse = False, then it will sort iterable in ascending order (by default it will be False)\n"
   ]
  },
  {
   "cell_type": "code",
   "execution_count": 20,
   "id": "f1b18636",
   "metadata": {},
   "outputs": [
    {
     "name": "stdout",
     "output_type": "stream",
     "text": [
      "['alberto', 'messi', 'muhammad', 'ronaldo', 'ruben', 'shah']\n",
      "['shah', 'ruben', 'ronaldo', 'muhammad', 'messi', 'alberto']\n",
      "['shah', 'ruben', 'messi', 'ronaldo', 'alberto', 'muhammad']\n",
      "['muhammad', 'ronaldo', 'alberto', 'ruben', 'messi', 'shah']\n",
      "['a', 'a', 'a', 'h', 'h', 'h', 'j', 'n', 's']\n"
     ]
    }
   ],
   "source": [
    "a = [\"ruben\", \"muhammad\", \"shah\", \"messi\", \"ronaldo\", \"alberto\"]\n",
    "print(sorted(a))\n",
    "print(sorted(a,  reverse = True))\n",
    "print(sorted(a,  key = len))\n",
    "print(sorted(a,  key = len, reverse = True))\n",
    "\n",
    "b = \"shahjahan\"\n",
    "print(sorted(b))"
   ]
  },
  {
   "cell_type": "markdown",
   "id": "50130395",
   "metadata": {},
   "source": [
    "# Indexing in a list\n",
    "* It is used to access any value inside a sequence (list, strings, tuple, range)\n",
    "* Every value inside a list has a index value\n",
    "* Index value starts from Zero"
   ]
  },
  {
   "cell_type": "code",
   "execution_count": 23,
   "id": "556e23db",
   "metadata": {},
   "outputs": [
    {
     "name": "stdout",
     "output_type": "stream",
     "text": [
      "[11, 22, 33, 44, 55, 66, 77, 88, 99, 110]\n",
      "10\n"
     ]
    }
   ],
   "source": [
    "b = [11, 22, 33, 44, 55, 66, 77, 88, 99, 110]\n",
    "print(b)\n",
    "print(len(b))"
   ]
  },
  {
   "cell_type": "code",
   "execution_count": 33,
   "id": "0af4bb02",
   "metadata": {},
   "outputs": [
    {
     "name": "stdout",
     "output_type": "stream",
     "text": [
      "11\n",
      "44\n",
      "88\n",
      "99\n",
      "110\n",
      "66\n"
     ]
    }
   ],
   "source": [
    "# Positive indexing\n",
    "print(b[0])\n",
    "print(b[3])\n",
    "print(b[7])\n",
    "print(b[8])\n",
    "print(b[9])\n",
    "print(b[len(b)-5])\n",
    "# print(b[11]) index out of range"
   ]
  },
  {
   "cell_type": "code",
   "execution_count": 29,
   "id": "25ddc928",
   "metadata": {},
   "outputs": [
    {
     "name": "stdout",
     "output_type": "stream",
     "text": [
      "99\n",
      "110\n",
      "22\n"
     ]
    }
   ],
   "source": [
    "# Negative Indexing\n",
    "print(b[-2])\n",
    "print(b[-1])\n",
    "print(b[-9])"
   ]
  },
  {
   "cell_type": "markdown",
   "id": "313ff398",
   "metadata": {},
   "source": [
    "# Homework\n",
    "* Use positive indexing and negative indexing with lists, tuples, strings, and range\n",
    "* use len(), sum(), min(), max(), sorted() with different data types"
   ]
  },
  {
   "cell_type": "markdown",
   "id": "a5ec2212",
   "metadata": {},
   "source": [
    "* positive and negative slicing\n",
    "* nested lists\n",
    "* using for loops with lists\n",
    "* using list operators (+, *, in ) "
   ]
  },
  {
   "cell_type": "code",
   "execution_count": null,
   "id": "29d2c822",
   "metadata": {},
   "outputs": [],
   "source": []
  }
 ],
 "metadata": {
  "kernelspec": {
   "display_name": "Python 3 (ipykernel)",
   "language": "python",
   "name": "python3"
  },
  "language_info": {
   "codemirror_mode": {
    "name": "ipython",
    "version": 3
   },
   "file_extension": ".py",
   "mimetype": "text/x-python",
   "name": "python",
   "nbconvert_exporter": "python",
   "pygments_lexer": "ipython3",
   "version": "3.9.7"
  }
 },
 "nbformat": 4,
 "nbformat_minor": 5
}
