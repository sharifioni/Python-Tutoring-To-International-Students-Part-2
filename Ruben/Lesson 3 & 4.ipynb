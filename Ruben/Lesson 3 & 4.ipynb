{
 "cells": [
  {
   "cell_type": "markdown",
   "id": "4e6db486",
   "metadata": {},
   "source": [
    "#Getting input from the user\n",
    "Using Input Function"
   ]
  },
  {
   "cell_type": "code",
   "execution_count": 1,
   "id": "ff6b8b21",
   "metadata": {},
   "outputs": [
    {
     "name": "stdout",
     "output_type": "stream",
     "text": [
      "Enter a number: 5\n",
      "Enter a second number: 7\n",
      "5\n",
      "7\n",
      "<class 'str'>\n",
      "<class 'str'>\n",
      "57\n"
     ]
    }
   ],
   "source": [
    "num=input(\"Enter a number: \")         #whenever you use input function it gives you string value\n",
    "num2=input(\"Enter a second number: \")\n",
    "print(num)\n",
    "print(num2)\n",
    "print(type(num))\n",
    "print(type(num2))\n",
    "print(num+num2)\n"
   ]
  },
  {
   "cell_type": "code",
   "execution_count": 3,
   "id": "77c4f284",
   "metadata": {},
   "outputs": [
    {
     "name": "stdout",
     "output_type": "stream",
     "text": [
      "57\n",
      "12\n"
     ]
    }
   ],
   "source": [
    "print('5'+'7') #if you use + operator between two strings then they are combined\n",
    "print(5+7)"
   ]
  },
  {
   "cell_type": "code",
   "execution_count": 23,
   "id": "4d59d8e4",
   "metadata": {},
   "outputs": [
    {
     "name": "stdout",
     "output_type": "stream",
     "text": [
      "87\n",
      "<class 'str'>\n",
      "87\n",
      "<class 'int'>\n",
      "**************************************************\n",
      "<class 'str'>\n",
      "<class 'float'>\n",
      "55.0\n",
      "**************************************************\n",
      "<class 'int'>\n",
      "The num1 after str function is applied belongs to :  <class 'str'>\n",
      "55\n"
     ]
    }
   ],
   "source": [
    "#Converting from one data type to another data type\n",
    "value=\"87\"\n",
    "print(value)\n",
    "print(type(value))     #int() convert string to integer\n",
    "\n",
    "#String to integer using int() function\n",
    "value=int(value) \n",
    "print(value)\n",
    "print(type(value)) \n",
    "print(\"*\"*50)\n",
    "\n",
    "#string to float using float() function\n",
    "num=\"55\"\n",
    "print(type(num))\n",
    "\n",
    "num1=float(num)\n",
    "print(type(num1))\n",
    "print(num1)\n",
    "\n",
    "print(\"*\"*50)\n",
    "\n",
    "#integer to string using str() function\n",
    "num=55\n",
    "print(type(num))\n",
    "\n",
    "num1=str(num)\n",
    "print(\"The num1 after str function is applied belongs to : \",type(num1))\n",
    "print(num1)"
   ]
  },
  {
   "cell_type": "code",
   "execution_count": 4,
   "id": "6a807d00",
   "metadata": {},
   "outputs": [
    {
     "name": "stdout",
     "output_type": "stream",
     "text": [
      "Enter first number15\n",
      "Enter second number10\n",
      "Enter third number5\n",
      "The total sum is  30\n",
      "The total multiplication result is  750\n"
     ]
    }
   ],
   "source": [
    "#Taking three numbers from users\n",
    "#Calculating their sum and multiplication result\n",
    "num1=int(input(\"Enter first number\"))\n",
    "num2=int(input(\"Enter second number\"))\n",
    "num3=int(input(\"Enter third number\"))\n",
    "#calculating sum\n",
    "total_sum=num1+num2+num3\n",
    "\n",
    "#calculating multiplication result\n",
    "multiplication_res=num1*num2*num3\n",
    "\n",
    "print(\"The total sum is \",total_sum)\n",
    "print(\"The total multiplication result is \",multiplication_res)"
   ]
  },
  {
   "cell_type": "code",
   "execution_count": 30,
   "id": "bc3ba3dd",
   "metadata": {},
   "outputs": [
    {
     "name": "stdout",
     "output_type": "stream",
     "text": [
      "What is your name: ruben\n",
      "What is your age: 14\n",
      "What is your weight in kilo grams: 60.7\n",
      "How is the weather at your place: cold\n",
      "Hello! My name is name My age is  14 and my weight is  60.7 . The weather here is  cold\n"
     ]
    }
   ],
   "source": [
    "#name in strings\n",
    "#Age in integer\n",
    "#Weight in floats\n",
    "#Weather in strings\n",
    "name=input(\"What is your name: \")\n",
    "age=int(input(\"What is your age: \"))\n",
    "weight=float(input(\"What is your weight in kilo grams: \"))\n",
    "weather=input(\"How is the weather at your place: \")\n",
    "\n",
    "#age=int(age)\n",
    "#weight=float(weight)\n",
    "\n",
    "# Hello! My name is name. My age is age and my weight is weight. The weather here is weather.\n",
    "print(\"Hello! My name is \",name,\"My age is \",age,\"and my weight is \",weight,\". The weather here is \",weather)\n",
    "\n",
    "\n"
   ]
  },
  {
   "cell_type": "code",
   "execution_count": 5,
   "id": "e59a1517",
   "metadata": {},
   "outputs": [
    {
     "name": "stdout",
     "output_type": "stream",
     "text": [
      "Enter first number: 1\n",
      "Enter second number: 2\n",
      "Enter third number: 3\n",
      "The total square sum of three numbers is 14\n"
     ]
    }
   ],
   "source": [
    "#You have to calculate their squares \n",
    "number1=int(input(\"Enter first number: \"))\n",
    "number2=int(input(\"Enter second number: \"))\n",
    "number3=int(input(\"Enter third number: \"))\n",
    "total_square_sum=number1**2+number2**2+number3**2\n",
    "print(\"The total square sum of three numbers is\",total_square_sum)"
   ]
  }
 ],
 "metadata": {
  "kernelspec": {
   "display_name": "Python 3 (ipykernel)",
   "language": "python",
   "name": "python3"
  },
  "language_info": {
   "codemirror_mode": {
    "name": "ipython",
    "version": 3
   },
   "file_extension": ".py",
   "mimetype": "text/x-python",
   "name": "python",
   "nbconvert_exporter": "python",
   "pygments_lexer": "ipython3",
   "version": "3.9.7"
  }
 },
 "nbformat": 4,
 "nbformat_minor": 5
}
