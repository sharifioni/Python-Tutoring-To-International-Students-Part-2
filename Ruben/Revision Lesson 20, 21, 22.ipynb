{
 "cells": [
  {
   "cell_type": "code",
   "execution_count": 3,
   "id": "b91a7b9f",
   "metadata": {},
   "outputs": [
    {
     "name": "stdout",
     "output_type": "stream",
     "text": [
      "Enter the number for a month0\n",
      "invalid month\n"
     ]
    }
   ],
   "source": [
    "month=int(input(\"Enter the number for a month\"))\n",
    "if month==1:\n",
    "    print (\"January\")\n",
    "if month==2:\n",
    "    print(\"February\")\n",
    "    \n",
    "if month==3:\n",
    "    print (\"march\")\n",
    "if month==4:\n",
    "    print(\"april\")\n",
    "if month==5:\n",
    "    print (\"may\")\n",
    "if month==6:\n",
    "    print(\"june\")\n",
    "    \n",
    "if month==7:\n",
    "    print (\"juli\")\n",
    "if month==8:\n",
    "    print(\"August\")\n",
    "if month==9:\n",
    "    print (\"September\")\n",
    "if month==10:\n",
    "    print(\"Oktober\")\n",
    "    \n",
    "if month==11:\n",
    "    print (\"November\")\n",
    "if month==12:\n",
    "    print(\"December\")\n",
    "if month>12 or month<1:\n",
    "    print(\"invalid month\")\n"
   ]
  },
  {
   "cell_type": "code",
   "execution_count": null,
   "id": "24613358",
   "metadata": {},
   "outputs": [],
   "source": [
    "month=int(input(\"Enter the number for a month\"))\n",
    "if month==1:\n",
    "    print (\"January\")\n",
    "elif month==2:\n",
    "    print(\"February\")\n",
    "    \n",
    "elif month==3:\n",
    "    print (\"march\")\n",
    "elif month==4:\n",
    "    print(\"april\")\n",
    "elif month==5:\n",
    "    print (\"may\")\n",
    "elif month==6:\n",
    "    print(\"june\")\n",
    "    \n",
    "elif month==7:\n",
    "    print (\"juli\")\n",
    "elif month==8:\n",
    "    print(\"August\")\n",
    "elif month==9:\n",
    "    print (\"September\")\n",
    "elif month==10:\n",
    "    print(\"Oktober\")\n",
    "    \n",
    "elif month==11:\n",
    "    print (\"November\")\n",
    "elif month==12:\n",
    "    print(\"December\")\n",
    "else:\n",
    "    print(\"Invalid month number\")\n"
   ]
  },
  {
   "cell_type": "code",
   "execution_count": 4,
   "id": "c899934e",
   "metadata": {},
   "outputs": [
    {
     "name": "stdout",
     "output_type": "stream",
     "text": [
      "False\n"
     ]
    }
   ],
   "source": [
    "x=10\n",
    "y=15\n",
    "\n",
    "if x<y and x>5 and y>20:\n",
    "    print(\"True\")\n",
    "else:\n",
    "    print(\"False\")\n",
    "    "
   ]
  },
  {
   "cell_type": "code",
   "execution_count": 7,
   "id": "eb8819e3",
   "metadata": {},
   "outputs": [
    {
     "name": "stdout",
     "output_type": "stream",
     "text": [
      "False\n"
     ]
    }
   ],
   "source": [
    "x=10\n",
    "y=15\n",
    "\n",
    "if x>y or x<5 or y>20:\n",
    "    print(\"True\")\n",
    "else:\n",
    "    print(\"False\")"
   ]
  },
  {
   "cell_type": "code",
   "execution_count": 10,
   "id": "5e763d54",
   "metadata": {},
   "outputs": [
    {
     "name": "stdout",
     "output_type": "stream",
     "text": [
      "True\n"
     ]
    }
   ],
   "source": [
    "x=10\n",
    "y=15\n",
    "\n",
    "if x<y or x>5 and y>20:\n",
    "    print(\"True\")\n",
    "else:\n",
    "    print(\"False\")"
   ]
  },
  {
   "cell_type": "code",
   "execution_count": 12,
   "id": "5e1ab447",
   "metadata": {},
   "outputs": [
    {
     "name": "stdout",
     "output_type": "stream",
     "text": [
      "False\n"
     ]
    }
   ],
   "source": [
    "x=10\n",
    "y=15\n",
    "\n",
    "if not x<y:\n",
    "    print(\"True\")\n",
    "else:\n",
    "    print(\"False\")"
   ]
  },
  {
   "cell_type": "markdown",
   "id": "7f9359a1",
   "metadata": {},
   "source": [
    "# for loop\n",
    "* for (any variable name) in (iterables):\n",
    "    statement........\n",
    "    statement.........\n",
    "    .................\n",
    "* for loop runs from first item until last item of your iterable"
   ]
  },
  {
   "cell_type": "code",
   "execution_count": 13,
   "id": "1deef097",
   "metadata": {},
   "outputs": [
    {
     "name": "stdout",
     "output_type": "stream",
     "text": [
      "G\n",
      "e\n",
      "r\n",
      "m\n",
      "a\n",
      "n\n",
      "y\n"
     ]
    }
   ],
   "source": [
    "for letter in 'Germany':\n",
    "    print(letter)\n",
    "    \n",
    "    "
   ]
  }
 ],
 "metadata": {
  "kernelspec": {
   "display_name": "Python 3 (ipykernel)",
   "language": "python",
   "name": "python3"
  },
  "language_info": {
   "codemirror_mode": {
    "name": "ipython",
    "version": 3
   },
   "file_extension": ".py",
   "mimetype": "text/x-python",
   "name": "python",
   "nbconvert_exporter": "python",
   "pygments_lexer": "ipython3",
   "version": "3.9.7"
  }
 },
 "nbformat": 4,
 "nbformat_minor": 5
}
