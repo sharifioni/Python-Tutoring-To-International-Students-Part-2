{
 "cells": [
  {
   "cell_type": "code",
   "execution_count": 5,
   "id": "ecd1236b",
   "metadata": {},
   "outputs": [
    {
     "name": "stdout",
     "output_type": "stream",
     "text": [
      "first\n",
      "function\n",
      "I created\n",
      "-------------\n",
      "first\n",
      "function\n",
      "I created\n",
      "4\n",
      "13\n"
     ]
    }
   ],
   "source": [
    "def my_1():\n",
    "    print(\"first\")\n",
    "    print(\"function\")\n",
    "    print(\"I created\")\n",
    "    \n",
    "def second(arg1):\n",
    "    arg1=arg1+1\n",
    "    print(arg1)\n",
    "    \n",
    "my_1()\n",
    "\n",
    "print(\"-------------\")\n",
    "\n",
    "my_1()\n",
    "\n",
    "second(3)\n",
    "second(12)"
   ]
  },
  {
   "cell_type": "code",
   "execution_count": 8,
   "id": "7ed0d51e",
   "metadata": {},
   "outputs": [
    {
     "name": "stdout",
     "output_type": "stream",
     "text": [
      "3\n",
      "7\n",
      "10\n"
     ]
    },
    {
     "ename": "TypeError",
     "evalue": "ss() takes 3 positional arguments but 4 were given",
     "output_type": "error",
     "traceback": [
      "\u001b[1;31m---------------------------------------------------------------------------\u001b[0m",
      "\u001b[1;31mTypeError\u001b[0m                                 Traceback (most recent call last)",
      "\u001b[1;32m~\\AppData\\Local\\Temp/ipykernel_3836/3912249253.py\u001b[0m in \u001b[0;36m<module>\u001b[1;34m\u001b[0m\n\u001b[0;32m      5\u001b[0m \u001b[1;33m\u001b[0m\u001b[0m\n\u001b[0;32m      6\u001b[0m \u001b[0mss\u001b[0m\u001b[1;33m(\u001b[0m\u001b[1;36m3\u001b[0m\u001b[1;33m,\u001b[0m\u001b[1;36m7\u001b[0m\u001b[1;33m,\u001b[0m\u001b[1;36m10\u001b[0m\u001b[1;33m)\u001b[0m\u001b[1;33m\u001b[0m\u001b[1;33m\u001b[0m\u001b[0m\n\u001b[1;32m----> 7\u001b[1;33m \u001b[0mss\u001b[0m\u001b[1;33m(\u001b[0m\u001b[1;36m2\u001b[0m\u001b[1;33m,\u001b[0m\u001b[1;36m5\u001b[0m\u001b[1;33m,\u001b[0m\u001b[1;36m6\u001b[0m\u001b[1;33m,\u001b[0m\u001b[1;36m7\u001b[0m\u001b[1;33m)\u001b[0m\u001b[1;33m\u001b[0m\u001b[1;33m\u001b[0m\u001b[0m\n\u001b[0m",
      "\u001b[1;31mTypeError\u001b[0m: ss() takes 3 positional arguments but 4 were given"
     ]
    }
   ],
   "source": [
    "def ss(v1,v2,v3):\n",
    "    print(v1)\n",
    "    print(v2)\n",
    "    print(v3)\n",
    "    \n",
    "ss(3,7,10)\n",
    "ss(2,5,6,7)\n"
   ]
  },
  {
   "cell_type": "code",
   "execution_count": 12,
   "id": "eb11b5cb",
   "metadata": {},
   "outputs": [
    {
     "name": "stdout",
     "output_type": "stream",
     "text": [
      "Enter a name: ruben\n",
      "ruben\n"
     ]
    }
   ],
   "source": [
    "# Create a function that inputs a name and returns it\n",
    "def person():\n",
    "    name=input(\"Enter a name: \")\n",
    "    \n",
    "    return name\n",
    "\n",
    "#a=person()\n",
    "#print(a)\n",
    "\n",
    "print(person())"
   ]
  },
  {
   "cell_type": "code",
   "execution_count": 13,
   "id": "4a53146e",
   "metadata": {},
   "outputs": [
    {
     "name": "stdout",
     "output_type": "stream",
     "text": [
      "112\n",
      "None\n"
     ]
    }
   ],
   "source": [
    "def calculator(first_num , second_num , operator):\n",
    "     \n",
    "    if operator == \"+\":\n",
    "        print(first_num + second_num)\n",
    "        \n",
    "    if operator == \"-\":\n",
    "        print(first_num - second_num)\n",
    "        \n",
    "    if operator == \"*\":\n",
    "        print(first_num * second_num)\n",
    "        \n",
    "    if operator == \"/\":\n",
    "        print(first_num / second_num)\n",
    "        \n",
    "\n",
    "print(calculator(45 , 67, \"+\"))\n"
   ]
  },
  {
   "cell_type": "code",
   "execution_count": null,
   "id": "5ac18ef0",
   "metadata": {},
   "outputs": [],
   "source": []
  },
  {
   "cell_type": "code",
   "execution_count": 14,
   "id": "33d7ed3a",
   "metadata": {},
   "outputs": [
    {
     "name": "stdout",
     "output_type": "stream",
     "text": [
      "112\n"
     ]
    }
   ],
   "source": [
    "def calculator(first_num , second_num , operator):\n",
    "     \n",
    "    if operator == \"+\":\n",
    "        return first_num + second_num\n",
    "        \n",
    "    if operator == \"-\":\n",
    "        return first_num - second_num\n",
    "        \n",
    "    if operator == \"*\":\n",
    "        return first_num * second_num\n",
    "        \n",
    "    if operator == \"/\":\n",
    "        return first_num / second_num\n",
    "        \n",
    "\n",
    "#a=calculator(45 , 67, \"+\")\n",
    "#print(\"result is\",a)\n",
    "print(calculator(45 , 67, \"+\"))"
   ]
  },
  {
   "cell_type": "code",
   "execution_count": null,
   "id": "c58d544e",
   "metadata": {},
   "outputs": [],
   "source": [
    "# What are functions?\n",
    "# How to create functions?\n",
    "# What are parameters and arguments in functions?\n",
    "# how do we call our function?\n",
    "# What is the purpose of return statement and what happens when we return a value?\n"
   ]
  }
 ],
 "metadata": {
  "kernelspec": {
   "display_name": "Python 3 (ipykernel)",
   "language": "python",
   "name": "python3"
  },
  "language_info": {
   "codemirror_mode": {
    "name": "ipython",
    "version": 3
   },
   "file_extension": ".py",
   "mimetype": "text/x-python",
   "name": "python",
   "nbconvert_exporter": "python",
   "pygments_lexer": "ipython3",
   "version": "3.9.7"
  }
 },
 "nbformat": 4,
 "nbformat_minor": 5
}
