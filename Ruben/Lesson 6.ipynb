{
 "cells": [
  {
   "cell_type": "code",
   "execution_count": 1,
   "id": "11614b01",
   "metadata": {},
   "outputs": [
    {
     "name": "stdout",
     "output_type": "stream",
     "text": [
      "Enter first number: 5\n",
      "Enter second number: 8\n",
      "5 is less than 8\n"
     ]
    }
   ],
   "source": [
    "#Takes two values using input function and tells you which one is greater\n",
    "num1=int(input(\"Enter first number: \"))\n",
    "num2=int(input(\"Enter second number: \"))\n",
    "if num1 > num2: #True\n",
    "    print(num1,\"is greater than\",num2)\n",
    "else:\n",
    "    print(num1,\"is less than\",num2)\n"
   ]
  },
  {
   "cell_type": "code",
   "execution_count": null,
   "id": "dc5ef8b8",
   "metadata": {},
   "outputs": [],
   "source": [
    "#In multiple if, python checks every single if\n",
    "\n",
    "#In multiple if elif, python checks first true statement and skips other parts of if elif"
   ]
  },
  {
   "cell_type": "code",
   "execution_count": 1,
   "id": "a5cf756d",
   "metadata": {},
   "outputs": [
    {
     "name": "stdout",
     "output_type": "stream",
     "text": [
      "Enter two integers, and I will tell you the relationships they satisfy.\n",
      "Enter first integer: 10\n",
      "Enter second integer: 15\n",
      "10 is less than or equal to 15\n"
     ]
    }
   ],
   "source": [
    "# fig02_01.py\n",
    "\"\"\"Comparing integers using if statements and comparison operators.\"\"\"\n",
    "\n",
    "print('Enter two integers, and I will tell you','the relationships they satisfy.')\n",
    "\n",
    "# read first integer\n",
    "number1 = int(input('Enter first integer: '))  #10\n",
    "\n",
    "# read second integer\n",
    "number2 = int(input('Enter second integer: '))  #15\n",
    "\n",
    "#Multiple if\n",
    "if number1 == number2: #False\n",
    "    print(number1, 'is equal to', number2)\n",
    "    \n",
    "elif number1 > number2: #False\n",
    "    print(number1, 'is greater than', number2)\n",
    "\n",
    "elif number1 >= number2: #False\n",
    "    print(number1, 'is greater than or equal to', number2)\n",
    "\n",
    "\n",
    "elif number1 <= number2: #True\n",
    "    print(number1, 'is less than or equal to', number2)\n",
    "    \n",
    "elif number1 != number2:  #True\n",
    "    print(number1, 'is not equal to', number2)\n",
    "\n",
    "elif number1 < number2: #True\n",
    "    print(number1, 'is less than', number2)\n",
    "    \n",
    "else:\n",
    "    print(\"This is else part\")\n"
   ]
  },
  {
   "cell_type": "code",
   "execution_count": 1,
   "id": "d89f80c5",
   "metadata": {},
   "outputs": [
    {
     "name": "stdout",
     "output_type": "stream",
     "text": [
      "Guess any number between 1 and 10: 4\n",
      "please guess higher\n",
      "Guess any number between 1 and 10: 7\n"
     ]
    },
    {
     "ename": "TypeError",
     "evalue": "argument of type 'int' is not iterable",
     "output_type": "error",
     "traceback": [
      "\u001b[1;31m---------------------------------------------------------------------------\u001b[0m",
      "\u001b[1;31mTypeError\u001b[0m                                 Traceback (most recent call last)",
      "\u001b[1;32m<ipython-input-1-994d1359d881>\u001b[0m in \u001b[0;36m<module>\u001b[1;34m\u001b[0m\n\u001b[0;32m      9\u001b[0m     \u001b[0mguess\u001b[0m\u001b[1;33m=\u001b[0m\u001b[0mint\u001b[0m\u001b[1;33m(\u001b[0m\u001b[0minput\u001b[0m\u001b[1;33m(\u001b[0m\u001b[1;34m\"Guess any number between 1 and 10: \"\u001b[0m\u001b[1;33m)\u001b[0m\u001b[1;33m)\u001b[0m \u001b[1;31m#6\u001b[0m\u001b[1;33m\u001b[0m\u001b[1;33m\u001b[0m\u001b[0m\n\u001b[0;32m     10\u001b[0m \u001b[1;33m\u001b[0m\u001b[0m\n\u001b[1;32m---> 11\u001b[1;33m     \u001b[1;32mif\u001b[0m \u001b[0mguess\u001b[0m \u001b[1;32mnot\u001b[0m \u001b[1;32min\u001b[0m \u001b[0manswer\u001b[0m\u001b[1;33m:\u001b[0m  \u001b[1;31m#6\u001b[0m\u001b[1;33m\u001b[0m\u001b[1;33m\u001b[0m\u001b[0m\n\u001b[0m\u001b[0;32m     12\u001b[0m         \u001b[0mprint\u001b[0m\u001b[1;33m(\u001b[0m\u001b[1;34m\"Incorrect\"\u001b[0m\u001b[1;33m)\u001b[0m\u001b[1;33m\u001b[0m\u001b[1;33m\u001b[0m\u001b[0m\n\u001b[0;32m     13\u001b[0m         \u001b[0mguess\u001b[0m\u001b[1;33m=\u001b[0m\u001b[0mint\u001b[0m\u001b[1;33m(\u001b[0m\u001b[0minput\u001b[0m\u001b[1;33m(\u001b[0m\u001b[1;34m\"Please guess again between 1 and 10: \"\u001b[0m\u001b[1;33m)\u001b[0m\u001b[1;33m)\u001b[0m\u001b[1;31m#3\u001b[0m\u001b[1;33m\u001b[0m\u001b[1;33m\u001b[0m\u001b[0m\n",
      "\u001b[1;31mTypeError\u001b[0m: argument of type 'int' is not iterable"
     ]
    }
   ],
   "source": [
    "#if elif els\n",
    "#guessing a number game\n",
    "guess=int(input(\"Guess any number between 1 and 10: \")) #4\n",
    "answer=5\n",
    "\n",
    "#Nested if else\n",
    "if guess < answer:     #4 < 5\n",
    "    print(\"please guess higher\") #4   \n",
    "    guess=int(input(\"Guess any number between 1 and 10: \")) #6\n",
    "    \n",
    "    if guess != answer:  #6\n",
    "        print(\"Incorrect\")\n",
    "        guess=int(input(\"Please guess again between 1 and 10: \"))#3\n",
    "        if guess !=answer:\n",
    "            print(\"You lost\")\n",
    "        else:\n",
    "            print(\"You win\")\n",
    "    else:\n",
    "        print(\"you win\")\n",
    "        \n",
    "elif guess > answer:\n",
    "    print(\"Please guess lower\")\n",
    "    guess=int(input(\"Guess any number between 1 and 10: \"))\n",
    "    \n",
    "    if guess != answer:\n",
    "        print(\"Incorrect\")\n",
    "        guess=int(input(\"Please guess again between 1 and 10: \"))\n",
    "        if guess !=answer:\n",
    "            print(\"You lost\")\n",
    "        else:\n",
    "            print(\"You win\")\n",
    "    else:\n",
    "        print(\"you win\")\n",
    "        \n",
    "else:\n",
    "    print(\"You guessed correctly\")"
   ]
  },
  {
   "cell_type": "markdown",
   "id": "753603f2",
   "metadata": {},
   "source": [
    "# for loops\n",
    "* used to loop over an iterable\n",
    "* an iterable can be string, list, tuple, dictionary, range\n",
    "* for loop runs from the first item until last item from an iterable \n",
    "* everytime a for loop runs, we call it as an \"iteration\"\n",
    "* for (variable name) in iterable:\n",
    "      statement1.........\n",
    "      statement2.......\n",
    "      ................."
   ]
  },
  {
   "cell_type": "code",
   "execution_count": 20,
   "id": "acc52020",
   "metadata": {},
   "outputs": [
    {
     "name": "stdout",
     "output_type": "stream",
     "text": [
      "P\n",
      "r\n",
      "o\n",
      "g\n",
      "r\n",
      "a\n",
      "m\n",
      "m\n",
      "i\n",
      "n\n",
      "g\n"
     ]
    }
   ],
   "source": [
    "#for loops\n",
    "#for loops are used with iterables or sequences (strings,range,lists,tuples,dictionaries,sets)\n",
    "\n",
    "#It works as a loop\n",
    "for value in \"Programming\":    #char is a variable that stores every single character of this string during each iteration\n",
    "    print(value)"
   ]
  },
  {
   "cell_type": "code",
   "execution_count": 21,
   "id": "da315a52",
   "metadata": {},
   "outputs": [
    {
     "name": "stdout",
     "output_type": "stream",
     "text": [
      "Today is Monday\n",
      "1. Wake up at 6:30am\n",
      "2. Breakfast at 7:30am\n",
      "3. School at 8:00am\n",
      "Today is Tuesday\n",
      "1. Wake up at 6:30am\n",
      "2. Breakfast at 7:30am\n",
      "3. School at 8:00am\n",
      "Today is Wednesday\n",
      "1. Wake up at 6:30am\n",
      "2. Breakfast at 7:30am\n",
      "3. School at 8:00am\n",
      "Today is Thursday\n",
      "1. Wake up at 6:30am\n",
      "2. Breakfast at 7:30am\n",
      "3. School at 8:00am\n",
      "Today is Friday\n",
      "1. Wake up at 6:30am\n",
      "2. Breakfast at 7:30am\n",
      "3. School at 8:00am\n",
      "Today is Saturday\n",
      "1. Wake up at 10 am\n",
      "2. Play games\n",
      "Today is Sunday\n",
      "1. Wake up at 10 am\n",
      "2. Play games\n"
     ]
    }
   ],
   "source": [
    "Week_days=[\"Monday\",\"Tuesday\",\"Wednesday\",\"Thursday\",\"Friday\",\"Saturday\",\"Sunday\"]\n",
    "\n",
    "for day in Week_days:\n",
    "    if day ==\"Monday\" or day==\"Tuesday\" or day==\"Wednesday\" or day==\"Thursday\" or day==\"Friday\":\n",
    "        print(\"Today is\",day)\n",
    "        print(\"1. Wake up at 6:30am\")\n",
    "        print(\"2. Breakfast at 7:30am\")\n",
    "        print(\"3. School at 8:00am\")\n",
    "        print(\"*\"*)\n",
    "    else:\n",
    "        print(\"Today is\",day)\n",
    "        print(\"1. Wake up at 10 am\")\n",
    "        print(\"2. Play games\")\n"
   ]
  },
  {
   "cell_type": "code",
   "execution_count": 2,
   "id": "09311c70",
   "metadata": {
    "scrolled": true
   },
   "outputs": [
    {
     "name": "stdout",
     "output_type": "stream",
     "text": [
      "Enter any guess from 1 to 10: 3\n",
      "you lose\n"
     ]
    }
   ],
   "source": [
    "guess=int(input(\"Enter any guess from 1 to 10: \"))\n",
    "answer=5\n",
    "if guess!=answer:\n",
    "    print(\"you lose\")\n",
    "else:\n",
    "    print(\"You win\")"
   ]
  },
  {
   "cell_type": "code",
   "execution_count": 3,
   "id": "b5891948",
   "metadata": {},
   "outputs": [
    {
     "name": "stdout",
     "output_type": "stream",
     "text": [
      "Enter any guess from 1 to 10: 7\n",
      "guess lower\n"
     ]
    }
   ],
   "source": [
    "guess=int(input(\"Enter any guess from 1 to 10: \"))\n",
    "answer=5\n",
    "if guess<answer:\n",
    "    print(\"guess higher\")\n",
    "elif guess>answer:\n",
    "    print(\"guess lower\")\n",
    "elif guess==answer:\n",
    "    print(\"you win\")"
   ]
  },
  {
   "cell_type": "code",
   "execution_count": 6,
   "id": "d09bf29a",
   "metadata": {},
   "outputs": [
    {
     "name": "stdout",
     "output_type": "stream",
     "text": [
      "Enter any guess from 1 to 10: 5\n",
      "you win\n"
     ]
    }
   ],
   "source": [
    "guess=int(input(\"Enter any guess from 1 to 10: \")) #8\n",
    "answer=5\n",
    "if guess<answer: #False\n",
    "    print(\"guess higher\")\n",
    "    guess=int(input(\"Enter any guess from 1 to 10: \"))\n",
    "    if guess!=answer:\n",
    "        print(\"You lose\")\n",
    "    else:\n",
    "        print(\"you win\")\n",
    "        \n",
    "    \n",
    "elif guess>answer: #True\n",
    "    print(\"guess lower\")\n",
    "    guess=int(input(\"Enter any guess from 1 to 10: \")) #4\n",
    "    if guess!=answer:\n",
    "        print(\"You lose\")\n",
    "    else:\n",
    "        print(\"you win\")\n",
    "    \n",
    "elif guess==answer:\n",
    "    print(\"you win\")"
   ]
  },
  {
   "cell_type": "code",
   "execution_count": null,
   "id": "034d8e48",
   "metadata": {},
   "outputs": [],
   "source": []
  }
 ],
 "metadata": {
  "kernelspec": {
   "display_name": "Python 3 (ipykernel)",
   "language": "python",
   "name": "python3"
  },
  "language_info": {
   "codemirror_mode": {
    "name": "ipython",
    "version": 3
   },
   "file_extension": ".py",
   "mimetype": "text/x-python",
   "name": "python",
   "nbconvert_exporter": "python",
   "pygments_lexer": "ipython3",
   "version": "3.9.7"
  }
 },
 "nbformat": 4,
 "nbformat_minor": 5
}
