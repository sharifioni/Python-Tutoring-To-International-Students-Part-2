{
 "cells": [
  {
   "cell_type": "code",
   "execution_count": 1,
   "id": "c5b200f4",
   "metadata": {},
   "outputs": [],
   "source": [
    "num1=10          #          =  assignment operator\n",
    "num2=6\n",
    "#Arithmetic Operators\n",
    "#  +   Addition\n",
    "#  -   Subtraction\n",
    "#  *   Multiplication\n",
    "#  /   Division\n",
    "#  //  Integer Division\n",
    "#  **  Power\n",
    "#  %   Modulus"
   ]
  },
  {
   "cell_type": "code",
   "execution_count": 2,
   "id": "e70df9d9",
   "metadata": {},
   "outputs": [
    {
     "name": "stdout",
     "output_type": "stream",
     "text": [
      "16\n",
      "4\n",
      "60\n",
      "1.6666666666666667\n",
      "1\n",
      "64\n",
      "4\n",
      "3\n"
     ]
    }
   ],
   "source": [
    "print(num1+num2)\n",
    "print(num1-num2)\n",
    "print(num1*num2)\n",
    "print(num1/num2)\n",
    "\n",
    "print(num1 // num2)\n",
    "\n",
    "\n",
    "# 3**4      3*3*3*3\n",
    "\n",
    "print(8**2) \n",
    "\n",
    "print(num1 % num2)\n",
    "\n",
    "print(13%5)\n",
    "\n",
    "\n",
    "#  (13+10) / 5 *2 - 8**2         23/5*2-8**2    23/5*2-64  4.6*2-64    9.2-64       -54.8\n"
   ]
  },
  {
   "cell_type": "code",
   "execution_count": 3,
   "id": "2cf4ef00",
   "metadata": {},
   "outputs": [
    {
     "name": "stdout",
     "output_type": "stream",
     "text": [
      "-54.8\n"
     ]
    }
   ],
   "source": [
    "#  B E DM AS\n",
    "print((13+10) / 5 *2 - 8**2)   "
   ]
  },
  {
   "cell_type": "code",
   "execution_count": 7,
   "id": "73db6424",
   "metadata": {},
   "outputs": [
    {
     "name": "stdout",
     "output_type": "stream",
     "text": [
      "Hello my name is Ruben.\n",
      "I'm  13 \tI was born in the year 2008\n"
     ]
    }
   ],
   "source": [
    "age=13\n",
    "born=2008\n",
    "\n",
    "print(\"Hello my name is Ruben.\\nI'm \" ,age , \"\\tI was born in the year\",born)\n",
    "\n",
    "#Escape Sequences \\t  \\n \n",
    "\n"
   ]
  },
  {
   "cell_type": "code",
   "execution_count": 3,
   "id": "db903373",
   "metadata": {},
   "outputs": [
    {
     "name": "stdout",
     "output_type": "stream",
     "text": [
      "number\tsquare\tcube\n",
      "0 \t 0 \t 0\n",
      "1 \t 1 \t 1\n",
      "2 \t 4 \t 8\n",
      "3 \t 9 \t 27\n",
      "4 \t 16 \t 64\n",
      "5 \t 25 \t 125\n"
     ]
    }
   ],
   "source": [
    "print(\"number\\tsquare\\tcube\")\n",
    "print(0,\"\\t\",0**2,\"\\t\",0**3)  \n",
    "print(1,\"\\t\",1**2,\"\\t\",1**3)  \n",
    "print(2,\"\\t\",2**2,\"\\t\",2**3) \n",
    "print(3,\"\\t\",3**2,\"\\t\",3**3) \n",
    "print(4,\"\\t\",4**2,\"\\t\",4**3) \n",
    "print(5,\"\\t\",5**2,\"\\t\",5**3) \n",
    "#While loop"
   ]
  },
  {
   "cell_type": "code",
   "execution_count": null,
   "id": "5160fab9",
   "metadata": {},
   "outputs": [],
   "source": []
  }
 ],
 "metadata": {
  "kernelspec": {
   "display_name": "Python 3 (ipykernel)",
   "language": "python",
   "name": "python3"
  },
  "language_info": {
   "codemirror_mode": {
    "name": "ipython",
    "version": 3
   },
   "file_extension": ".py",
   "mimetype": "text/x-python",
   "name": "python",
   "nbconvert_exporter": "python",
   "pygments_lexer": "ipython3",
   "version": "3.9.7"
  }
 },
 "nbformat": 4,
 "nbformat_minor": 5
}
