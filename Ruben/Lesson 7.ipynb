{
 "cells": [
  {
   "cell_type": "code",
   "execution_count": 5,
   "id": "9afa2470",
   "metadata": {},
   "outputs": [
    {
     "name": "stdout",
     "output_type": "stream",
     "text": [
      "Which game is popular. FIFA or GTA ?: baseball\n",
      "You wrote a wrong choice\n"
     ]
    }
   ],
   "source": [
    "popular=input(\"Which game is popular. FIFA or GTA ?: \") #FIFA\n",
    "if popular==\"FIFA\":\n",
    "    print(\"You loose\")\n",
    "elif popular==\"GTA\":\n",
    "    print(\"You win\")\n",
    "else:\n",
    "    print(\"You wrote a wrong choice\")"
   ]
  },
  {
   "cell_type": "code",
   "execution_count": 3,
   "id": "240ac293",
   "metadata": {},
   "outputs": [
    {
     "name": "stdout",
     "output_type": "stream",
     "text": [
      "you got B in this course\n"
     ]
    }
   ],
   "source": [
    "#Logical operators\n",
    "#and   and operator gives you True as an answer if all of the conditions are True\n",
    "#or    or operator gives you True as an answer if one of the conditions is True\n",
    "#not   changes True to False and False to True\n",
    "\n",
    "grade=85\n",
    "\n",
    "if grade>=60 and grade<70:          #True  and  False   (False)\n",
    "    print(\"You got C in this course\")\n",
    "elif grade>=70 and grade<80:          #True  and   True   (True)\n",
    "    print(\"you got B in this course\")\n",
    "elif grade>=80 and grade<90:          #False  and True   (False)\n",
    "    print(\"you got A in this course\")\n",
    "elif grade>=90 and grade<=100:       #False   and   True (False)\n",
    "    print(\"you got A+ in this course\")\n",
    "\n",
    "\n",
    "    "
   ]
  },
  {
   "cell_type": "code",
   "execution_count": 2,
   "id": "ef684e72",
   "metadata": {},
   "outputs": [
    {
     "name": "stdout",
     "output_type": "stream",
     "text": [
      "You got C in this course\n",
      "you got B in this course\n",
      "you got A in this course\n",
      "you got A+ in this course\n"
     ]
    }
   ],
   "source": [
    "#Logical operators\n",
    "#and   and operator gives you True as an answer if all of the conditions are True\n",
    "#or    or operator gives you True as an answer if one of the conditions is True\n",
    "#not   changes True to False and False to True\n",
    "\n",
    "grade=78\n",
    "\n",
    "if grade>=60 or grade<70:          #True  or  False   (True)\n",
    "    print(\"You got C in this course\")\n",
    "if grade>=70 or grade<80:          #True  and   True   (True)\n",
    "    print(\"you got B in this course\")\n",
    "if grade>=80 or grade<90:          #False  and True   (True)\n",
    "    print(\"you got A in this course\")\n",
    "if grade>=90 or grade<=100:       #False   and   True (True)\n",
    "    print(\"you got A+ in this course\")"
   ]
  },
  {
   "cell_type": "code",
   "execution_count": 10,
   "id": "98a4adb8",
   "metadata": {},
   "outputs": [
    {
     "name": "stdout",
     "output_type": "stream",
     "text": [
      "You cannot play Fifa\n"
     ]
    }
   ],
   "source": [
    "#Fifa\n",
    "day=\"Saturday\"   #   =   is Assignment operator that is used to assign values to a variable\n",
    "               #   ==  it is used compare two values if they are equal or not\n",
    "\n",
    "if day==\"Sunday\" or day==\"Saturday\" or day==\"Friday\":   #False False False   (False)\n",
    "    print(\"You can play Fifa\")\n",
    "else:\n",
    "    print(\"You cannot play Fifa\")\n",
    "\n"
   ]
  },
  {
   "cell_type": "code",
   "execution_count": 4,
   "id": "51514ac1",
   "metadata": {},
   "outputs": [
    {
     "name": "stdout",
     "output_type": "stream",
     "text": [
      "You cannot play Fifa\n"
     ]
    }
   ],
   "source": [
    "#Fifa\n",
    "day=\"Monday\"   #   =   is Assignment operator that is used to assign values to a variable\n",
    "               #   ==  it is used compare two values if they are equal or not\n",
    "\n",
    "if day!=\"Monday\" and day!=\"Tuesday\" and day!=\"Wednesday\" and day!=\"Thursday\":   #False True True True   (False)\n",
    "    print(\"You can play Fifa\")\n",
    "else:\n",
    "    print(\"You cannot play Fifa\")\n"
   ]
  },
  {
   "cell_type": "code",
   "execution_count": 15,
   "id": "4be394c7",
   "metadata": {},
   "outputs": [
    {
     "name": "stdout",
     "output_type": "stream",
     "text": [
      "You can play FIFA\n"
     ]
    },
    {
     "name": "stderr",
     "output_type": "stream",
     "text": [
      "<>:2: SyntaxWarning: \"is not\" with a literal. Did you mean \"!=\"?\n",
      "<>:2: SyntaxWarning: \"is not\" with a literal. Did you mean \"!=\"?\n",
      "<ipython-input-15-66f279fcec5b>:2: SyntaxWarning: \"is not\" with a literal. Did you mean \"!=\"?\n",
      "  if day is not (\"Monday\" , \"Tuesday\" , \"Wednesday\",\"Thursday\"):\n"
     ]
    }
   ],
   "source": [
    "day=\"Friday\"\n",
    "if day is not (\"Monday\" , \"Tuesday\" , \"Wednesday\",\"Thursday\"):\n",
    "    print(\"You can play FIFA\")\n",
    "else:\n",
    "    print(\"You cannot play FIFA\")"
   ]
  },
  {
   "cell_type": "code",
   "execution_count": 18,
   "id": "88119c9c",
   "metadata": {},
   "outputs": [
    {
     "name": "stdout",
     "output_type": "stream",
     "text": [
      "You can play Fifa\n"
     ]
    }
   ],
   "source": [
    "day=False\n",
    "\n",
    "if not day:   #not False  (True)\n",
    "    print(\"You can play Fifa\")\n",
    "else:\n",
    "    print(\"You cannot play FIFA\")\n"
   ]
  },
  {
   "cell_type": "code",
   "execution_count": 5,
   "id": "279e4401",
   "metadata": {},
   "outputs": [
    {
     "name": "stdout",
     "output_type": "stream",
     "text": [
      "g\n",
      "e\n",
      "r\n",
      "m\n",
      "a\n",
      "n\n",
      "y\n",
      "1\n",
      "2\n",
      "3\n"
     ]
    }
   ],
   "source": [
    "#for loops\n",
    "#for loops are used with iterables (strings,range,lists,tuples,dictionaries,sets)\n",
    "\n",
    "#It works as a loop\n",
    "word=\"germany123\"\n",
    "for letter in word:    #char is a variable that stores every single character of this string during each iteration\n",
    "    print(letter)       #Indentation "
   ]
  },
  {
   "cell_type": "code",
   "execution_count": 10,
   "id": "a7c08b9c",
   "metadata": {},
   "outputs": [
    {
     "name": "stdout",
     "output_type": "stream",
     "text": [
      "2\n",
      "5\n",
      "8\n",
      "11\n",
      "14\n",
      "17\n",
      "20\n",
      "23\n",
      "26\n",
      "29\n",
      "32\n",
      "35\n",
      "38\n",
      "41\n",
      "44\n",
      "47\n",
      "50\n",
      "53\n",
      "56\n",
      "59\n",
      "62\n",
      "65\n",
      "68\n",
      "71\n",
      "74\n",
      "77\n",
      "80\n",
      "83\n",
      "86\n",
      "89\n",
      "92\n",
      "95\n",
      "98\n"
     ]
    }
   ],
   "source": [
    "#range (start value, stop value , step value)   #integers\n",
    "#by default start value is zero 0\n",
    "#by default step value is 1\n",
    "\n",
    "for number in range(2,100,3):  #2, 5, 8, 11 \n",
    "    print(number)                     #\n",
    "    "
   ]
  },
  {
   "cell_type": "code",
   "execution_count": 13,
   "id": "29073590",
   "metadata": {},
   "outputs": [
    {
     "name": "stdout",
     "output_type": "stream",
     "text": [
      "5 \t*\t 1 \t=\t 5\n",
      "5 \t*\t 2 \t=\t 10\n",
      "5 \t*\t 3 \t=\t 15\n",
      "5 \t*\t 4 \t=\t 20\n",
      "5 \t*\t 5 \t=\t 25\n",
      "5 \t*\t 6 \t=\t 30\n",
      "5 \t*\t 7 \t=\t 35\n",
      "5 \t*\t 8 \t=\t 40\n",
      "5 \t*\t 9 \t=\t 45\n",
      "5 \t*\t 10 \t=\t 50\n",
      "5 \t*\t 11 \t=\t 55\n",
      "5 \t*\t 12 \t=\t 60\n",
      "5 \t*\t 13 \t=\t 65\n",
      "5 \t*\t 14 \t=\t 70\n",
      "5 \t*\t 15 \t=\t 75\n",
      "5 \t*\t 16 \t=\t 80\n",
      "5 \t*\t 17 \t=\t 85\n",
      "5 \t*\t 18 \t=\t 90\n",
      "5 \t*\t 19 \t=\t 95\n",
      "5 \t*\t 20 \t=\t 100\n"
     ]
    }
   ],
   "source": [
    "                                 #5      *      1    =  5\n",
    "                                #5      *      2    = 10\n",
    "        \n",
    "for i in range(1,21):  #1 , 2, 3, 4 , 5 , 6 7 8 9 10 \n",
    "    print(5 , \"\\t*\\t\",i , \"\\t=\\t\" , 5*i)\n",
    "    \n",
    "#i=1 \n",
    "#5   *   1   =   5\n",
    "\n",
    "#i=2 \n",
    "#5   *   2   =   10\n",
    "\n",
    "\n",
    "#..........\n",
    "\n",
    "#i=10 \n",
    "#5   *   10   =   50\n",
    "    "
   ]
  },
  {
   "cell_type": "code",
   "execution_count": 4,
   "id": "b281e5fc",
   "metadata": {},
   "outputs": [
    {
     "name": "stdout",
     "output_type": "stream",
     "text": [
      "0\n",
      "1\n",
      "2\n",
      "3\n",
      "4\n",
      "5\n",
      "6\n",
      "7\n",
      "8\n",
      "9\n"
     ]
    }
   ],
   "source": [
    "#start=0\n",
    "# stop=10\n",
    "#step=1\n",
    "for number in range(10):  \n",
    "    print(number)  "
   ]
  },
  {
   "cell_type": "code",
   "execution_count": 5,
   "id": "40ecb929",
   "metadata": {},
   "outputs": [
    {
     "name": "stdout",
     "output_type": "stream",
     "text": [
      "10\n",
      "11\n",
      "12\n",
      "13\n",
      "14\n",
      "15\n",
      "16\n",
      "17\n",
      "18\n",
      "19\n",
      "20\n",
      "21\n",
      "22\n",
      "23\n",
      "24\n",
      "25\n",
      "26\n",
      "27\n",
      "28\n",
      "29\n"
     ]
    }
   ],
   "source": [
    "#start=10\n",
    "# stop=30\n",
    "#step=1\n",
    "for number in range(10,30):  \n",
    "    print(number) "
   ]
  },
  {
   "cell_type": "code",
   "execution_count": 6,
   "id": "e20a48f9",
   "metadata": {},
   "outputs": [
    {
     "name": "stdout",
     "output_type": "stream",
     "text": [
      "10\n",
      "14\n",
      "18\n",
      "22\n",
      "26\n"
     ]
    }
   ],
   "source": [
    "#start=10\n",
    "# stop=30\n",
    "#step=2\n",
    "for number in range(10,30,4):  \n",
    "    print(number) "
   ]
  }
 ],
 "metadata": {
  "kernelspec": {
   "display_name": "Python 3 (ipykernel)",
   "language": "python",
   "name": "python3"
  },
  "language_info": {
   "codemirror_mode": {
    "name": "ipython",
    "version": 3
   },
   "file_extension": ".py",
   "mimetype": "text/x-python",
   "name": "python",
   "nbconvert_exporter": "python",
   "pygments_lexer": "ipython3",
   "version": "3.9.7"
  }
 },
 "nbformat": 4,
 "nbformat_minor": 5
}
