{
 "cells": [
  {
   "cell_type": "markdown",
   "id": "4d7904a3",
   "metadata": {},
   "source": [
    "A transport company charges the fare according to following table:\n",
    "\n",
    "Distance\tCharges\n",
    "1-50\t   8 Rs./Km\n",
    "51-100\t   10 Rs./Km\n",
    ">100\t   12 Rs/Km\n",
    "\n",
    "Ask user to enter the distance and compute the fare."
   ]
  },
  {
   "cell_type": "code",
   "execution_count": 3,
   "id": "e3cae0f0",
   "metadata": {},
   "outputs": [
    {
     "name": "stdout",
     "output_type": "stream",
     "text": [
      "Enter distance120\n",
      "your fare is 1440\n"
     ]
    }
   ],
   "source": [
    "distance=int(input(\"Enter distance\")) #120\n",
    "fare=0                                 #fare=0 because we dont know what fare is\n",
    "if distance>=1 and distance <=50: # True   and  True       True\n",
    "    fare=distance*8        #12*8        fare=96\n",
    "if distance>=51 and distance <=100:\n",
    "    fare=distance*10\n",
    "if distance>100:\n",
    "    fare=distance*12\n",
    "print(\"your fare is\",fare)\n"
   ]
  },
  {
   "cell_type": "code",
   "execution_count": null,
   "id": "beb70b3f",
   "metadata": {},
   "outputs": [],
   "source": [
    "# Enter any positive number from user                         78\n",
    "# Tell if the number is one digit number\n",
    "# if it's two digit number\n",
    "# if it's three digit\n",
    "# if it's more than three digit number"
   ]
  }
 ],
 "metadata": {
  "kernelspec": {
   "display_name": "Python 3 (ipykernel)",
   "language": "python",
   "name": "python3"
  },
  "language_info": {
   "codemirror_mode": {
    "name": "ipython",
    "version": 3
   },
   "file_extension": ".py",
   "mimetype": "text/x-python",
   "name": "python",
   "nbconvert_exporter": "python",
   "pygments_lexer": "ipython3",
   "version": "3.9.7"
  }
 },
 "nbformat": 4,
 "nbformat_minor": 5
}
