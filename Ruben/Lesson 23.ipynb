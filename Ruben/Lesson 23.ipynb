{
 "cells": [
  {
   "cell_type": "code",
   "execution_count": null,
   "id": "2ca1a07f",
   "metadata": {},
   "outputs": [],
   "source": [
    "print(\"HELLO WELCOME TO RUBENS AND OR NOT GAME\")\n",
    "\n",
    "name = input(\"What is yout name?\\n\")\n",
    "\n",
    "if name == \"Naomi\" or name == \"Patricia\":\n",
    "    evil_status = input(\"Are you Evil?\\n\")\n",
    "    good_deeds = int(input(\"How many good deeds have you done today?\\n\"))\n",
    "    \n",
    "if evil_status == \"Yes\" and good_deeds<4:\n",
    "    \n",
    "    print(\"you are not welcome here \"+ name +\"!! Get out!!!\")\n",
    "    exit()\n",
    "else:\n",
    "    print(\"Hello \"+ name + \",thank you so much for coming in today.\\n\\n\\n\")\n"
   ]
  },
  {
   "cell_type": "code",
   "execution_count": 1,
   "id": "93b08c0b",
   "metadata": {},
   "outputs": [
    {
     "name": "stdout",
     "output_type": "stream",
     "text": [
      "2\n",
      "4\n",
      "6\n",
      "8\n",
      "10\n"
     ]
    }
   ],
   "source": [
    "i=0\n",
    "num=2\n",
    "while i<10:\n",
    "    i=i+num\n",
    "    print(i)\n",
    "    "
   ]
  },
  {
   "cell_type": "code",
   "execution_count": null,
   "id": "6f79f14c",
   "metadata": {},
   "outputs": [],
   "source": [
    "#Number1       6\n",
    "#Number2       8 \n",
    "#Operator  + - * / **       +            6+8=14\n",
    "\n",
    "# Do you want to calculate again? Enter yes or no.    yes (calculate again) no (stop while loop or break)\n",
    " "
   ]
  }
 ],
 "metadata": {
  "kernelspec": {
   "display_name": "Python 3 (ipykernel)",
   "language": "python",
   "name": "python3"
  },
  "language_info": {
   "codemirror_mode": {
    "name": "ipython",
    "version": 3
   },
   "file_extension": ".py",
   "mimetype": "text/x-python",
   "name": "python",
   "nbconvert_exporter": "python",
   "pygments_lexer": "ipython3",
   "version": "3.9.7"
  }
 },
 "nbformat": 4,
 "nbformat_minor": 5
}
