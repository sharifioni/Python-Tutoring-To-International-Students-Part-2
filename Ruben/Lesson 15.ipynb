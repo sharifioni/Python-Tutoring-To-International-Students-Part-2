{
 "cells": [
  {
   "cell_type": "code",
   "execution_count": 1,
   "id": "c50d9774",
   "metadata": {},
   "outputs": [
    {
     "name": "stdout",
     "output_type": "stream",
     "text": [
      "Enter a month number between 1-12 5\n",
      "your month is may\n"
     ]
    }
   ],
   "source": [
    "def month(mon):\n",
    "    if mon==1:\n",
    "        print(\"your month is January\")\n",
    "        \n",
    "    elif mon==2:\n",
    "        print(\"your month is February\")\n",
    "        \n",
    "    elif mon==3:\n",
    "        print(\"your month is martch\")\n",
    "        \n",
    "    elif mon==4:\n",
    "        print(\"your month is april\")\n",
    "        \n",
    "    elif mon==5:\n",
    "        print(\"your month is may\")\n",
    "        \n",
    "    elif mon==6:\n",
    "        print(\"your month is June\")\n",
    "        \n",
    "    elif mon==7:\n",
    "        print(\"your month is July\")\n",
    "        \n",
    "    elif mon==8:\n",
    "        print(\"your month is August\")\n",
    "        \n",
    "    elif mon==9:\n",
    "        print(\"your month is September\")\n",
    "        \n",
    "    elif mon==10:\n",
    "        print(\"your month is October\")\n",
    "        \n",
    "    elif mon==11:\n",
    "        print(\"your month is November\")\n",
    "        \n",
    "    elif mon==12:\n",
    "        print(\"your month is December\")\n",
    "        \n",
    "    else:\n",
    "        print(\"Invalid month\")\n",
    "\n",
    "\n",
    "\n",
    "\n",
    "month_num=int(input(\"Enter a month number between 1-12 \"))\n",
    "month(month_num)\n"
   ]
  }
 ],
 "metadata": {
  "kernelspec": {
   "display_name": "Python 3 (ipykernel)",
   "language": "python",
   "name": "python3"
  },
  "language_info": {
   "codemirror_mode": {
    "name": "ipython",
    "version": 3
   },
   "file_extension": ".py",
   "mimetype": "text/x-python",
   "name": "python",
   "nbconvert_exporter": "python",
   "pygments_lexer": "ipython3",
   "version": "3.9.7"
  }
 },
 "nbformat": 4,
 "nbformat_minor": 5
}
