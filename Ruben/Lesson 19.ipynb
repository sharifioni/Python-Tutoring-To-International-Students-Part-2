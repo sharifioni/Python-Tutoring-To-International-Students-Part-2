{
 "cells": [
  {
   "cell_type": "markdown",
   "id": "730e7c72",
   "metadata": {},
   "source": [
    "# Lists\n",
    "* List is used to store multiple data or collection of data\n",
    "* Ordered, Changeable and can contain duplicate values"
   ]
  },
  {
   "cell_type": "markdown",
   "id": "fe5fd1cc",
   "metadata": {},
   "source": [
    "## Ways to create a list"
   ]
  },
  {
   "cell_type": "code",
   "execution_count": 2,
   "id": "a49c9743",
   "metadata": {},
   "outputs": [
    {
     "name": "stdout",
     "output_type": "stream",
     "text": [
      "Enter a number: 5\n",
      "Enter a number two: 10\n",
      "510\n"
     ]
    }
   ],
   "source": [
    "# input function is used to take a value from the user\n",
    "# input function always gives you value in the form of a string\n",
    "value=int(input(\"Enter a number: \") ) #string\n",
    "sec_value=int(input(\"Enter a number two: \")) #string\n",
    "print(value+sec_value)"
   ]
  },
  {
   "cell_type": "code",
   "execution_count": 5,
   "id": "c41fbec4",
   "metadata": {},
   "outputs": [
    {
     "name": "stdout",
     "output_type": "stream",
     "text": [
      "15\n",
      "15\n"
     ]
    }
   ],
   "source": [
    "print('5'+'10')\n",
    "print(int('5')+int('10'))\n",
    "print(5+10)"
   ]
  },
  {
   "cell_type": "code",
   "execution_count": 8,
   "id": "89ed81a8",
   "metadata": {},
   "outputs": [
    {
     "name": "stdout",
     "output_type": "stream",
     "text": [
      "5\n"
     ]
    }
   ],
   "source": [
    "#variable a stores integer value 5\n",
    "a=5\n",
    "print(a)\n",
    "\n",
    "# variable name stores string value 'Ruben'\n",
    "name='Ruben'"
   ]
  },
  {
   "cell_type": "code",
   "execution_count": null,
   "id": "40fffeff",
   "metadata": {},
   "outputs": [],
   "source": [
    "# if you want to to store more than one data or values you can use lists, tuples, dictionaries, sets\n",
    "names=['Shahjahan','Ruben','Peter','John','Sara']"
   ]
  }
 ],
 "metadata": {
  "kernelspec": {
   "display_name": "Python 3 (ipykernel)",
   "language": "python",
   "name": "python3"
  },
  "language_info": {
   "codemirror_mode": {
    "name": "ipython",
    "version": 3
   },
   "file_extension": ".py",
   "mimetype": "text/x-python",
   "name": "python",
   "nbconvert_exporter": "python",
   "pygments_lexer": "ipython3",
   "version": "3.9.7"
  }
 },
 "nbformat": 4,
 "nbformat_minor": 5
}
