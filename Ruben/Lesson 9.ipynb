{
 "cells": [
  {
   "cell_type": "code",
   "execution_count": 1,
   "id": "274070e1",
   "metadata": {},
   "outputs": [],
   "source": [
    "#Using while loop, we will do a guessing game"
   ]
  },
  {
   "cell_type": "code",
   "execution_count": 3,
   "id": "0dbf721c",
   "metadata": {},
   "outputs": [
    {
     "name": "stdout",
     "output_type": "stream",
     "text": [
      "3\n"
     ]
    }
   ],
   "source": [
    "#random module/ library   (a lot of functions)\n",
    "import random\n",
    "number=random.randint(1,20)\n",
    "print(number)"
   ]
  },
  {
   "cell_type": "code",
   "execution_count": null,
   "id": "f78c81d7",
   "metadata": {},
   "outputs": [],
   "source": [
    "number=random.randrange(1,20)\n",
    "print(number)"
   ]
  },
  {
   "cell_type": "code",
   "execution_count": 6,
   "id": "e2eba785",
   "metadata": {},
   "outputs": [
    {
     "name": "stdout",
     "output_type": "stream",
     "text": [
      "Enter any number between 1 and 20: 7\n",
      "3\n",
      "You loose\n"
     ]
    }
   ],
   "source": [
    "#Using while loop, we will do a guessing game\n",
    "#Guess a number between 1 and 20\n",
    "#any random answer\n",
    "#if guess is equal to answer,you win\n",
    "#else you loose\n",
    "\n",
    "guess=int(input(\"Enter any number between 1 and 20: \"))\n",
    "answer=random.randint(1,20)\n",
    "print(answer)\n",
    "\n",
    "if guess==answer:\n",
    "    print(\"You win\")\n",
    "else:\n",
    "    print(\"You loose\")"
   ]
  },
  {
   "cell_type": "code",
   "execution_count": 15,
   "id": "846a40a3",
   "metadata": {},
   "outputs": [
    {
     "name": "stdout",
     "output_type": "stream",
     "text": [
      "Enter any number between 1 and 20: 3\n",
      "Please guess lower\n",
      "Enter any number between 1 and 20: 4\n",
      "Please guess lower\n",
      "Enter any number between 1 and 20: 5\n",
      "Please guess lower\n",
      "Enter any number between 1 and 20: 6\n",
      "Please guess lower\n",
      "Enter any number between 1 and 20: 7\n",
      "Please guess lower\n",
      "You loose\n"
     ]
    }
   ],
   "source": [
    "#Using while loop, we will do a guessing game\n",
    "#Guess a number between 1 and 20\n",
    "#any random answer\n",
    "#if guess is less than answer,tell the user to guess higher\n",
    "#if guess is greater than answer, tell the user to guess lower\n",
    "#if guess is equal to answer you win\n",
    "#Guess again if guess is not equal to answer\n",
    "#User can guess for 5 times only\n",
    "\n",
    "#Add you have guessed 1 time,\n",
    "#you have guessed 2 time\n",
    "#\n",
    "answer=random.randint(1,20)\n",
    "guesses=0\n",
    "while True:\n",
    "    guess=int(input(\"Enter any number between 1 and 20: \"))\n",
    "\n",
    "    if guess<answer:\n",
    "        print(\"Please guess higher\")\n",
    "    elif guess>answer:\n",
    "        print(\"Please guess lower\")\n",
    "    else:\n",
    "        print(\"You win\")\n",
    "        break\n",
    "    guesses=guesses+1\n",
    "    if guesses==5:\n",
    "        print(\"You loose\")\n",
    "        break"
   ]
  },
  {
   "cell_type": "code",
   "execution_count": 17,
   "id": "b9204d6a",
   "metadata": {},
   "outputs": [
    {
     "name": "stdout",
     "output_type": "stream",
     "text": [
      "Enter first number: 12\n",
      "Enter second number: 23\n",
      "Enter your operator\n",
      "                1. Press + for Addition\n",
      "                2. Press - for Subtraction: +\n",
      "The Addition of  12  and 23 is 35\n",
      "Do you want to calculate again? Press 'y' to continue and 'n' to exity\n",
      "Enter first number: 5\n",
      "Enter second number: 10\n",
      "Enter your operator\n",
      "                1. Press + for Addition\n",
      "                2. Press - for Subtraction: -\n",
      "The Subtraction of  5  and 10 is -5\n",
      "Do you want to calculate again? Press 'y' to continue and 'n' to exitn\n"
     ]
    }
   ],
   "source": [
    "#Simple Calculator\n",
    "#Multiplication and Division\n",
    "# Add division, multiplication , remainder, exponentiation in your program\n",
    "calc_again=''\n",
    "while calc_again!='n':  #True\n",
    "    number1=int(input(\"Enter first number: \"))\n",
    "    number2=int(input(\"Enter second number: \"))\n",
    "    operator=input(\"Enter your operator\\n\\\n",
    "                1. Press + for Addition\\n\\\n",
    "                2. Press - for Subtraction:\\n\n",
    "                3. Press * for multiplication\")\n",
    "    \n",
    "\n",
    "    if operator==\"+\":\n",
    "        print(\"The Addition of \",number1,\" and\",number2,\"is\",number1+number2)\n",
    "    elif operator==\"-\":\n",
    "        print(\"The Subtraction of \",number1,\" and\",number2,\"is\",number1-number2)\n",
    "    else:\n",
    "        print(\"You entered a wrong operator\")\n",
    "    calc_again=input(\"Do you want to calculate again? Press 'y' to continue and 'n' to exit: \")"
   ]
  }
 ],
 "metadata": {
  "kernelspec": {
   "display_name": "Python 3 (ipykernel)",
   "language": "python",
   "name": "python3"
  },
  "language_info": {
   "codemirror_mode": {
    "name": "ipython",
    "version": 3
   },
   "file_extension": ".py",
   "mimetype": "text/x-python",
   "name": "python",
   "nbconvert_exporter": "python",
   "pygments_lexer": "ipython3",
   "version": "3.9.7"
  }
 },
 "nbformat": 4,
 "nbformat_minor": 5
}
