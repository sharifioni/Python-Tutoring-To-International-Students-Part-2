{
 "cells": [
  {
   "cell_type": "code",
   "execution_count": null,
   "id": "273e5748",
   "metadata": {},
   "outputs": [],
   "source": [
    "\n",
    "value=int(input(\"Enter any positive number\"))\n",
    "if value>=0 and value <=9:\n",
    "    print(\"its a one digit number\")\n",
    "if value>=10 and value <=99:\n",
    "    print(\"its a two digit number\")\n",
    "if value>=100 and value <=999:\n",
    "    print(\"its a three digit number\")\n",
    "if  value>=1000:\n",
    "    print(\"it has more than three digits\")\n"
   ]
  },
  {
   "cell_type": "code",
   "execution_count": 2,
   "id": "bd1da464",
   "metadata": {},
   "outputs": [
    {
     "name": "stdout",
     "output_type": "stream",
     "text": [
      "Tuesday\n"
     ]
    }
   ],
   "source": [
    "day=\"Monday\"\n",
    "\n",
    "day=\"Sunday\"\n",
    "\n",
    "day=\"Tuesday\"\n",
    "print(day)"
   ]
  },
  {
   "cell_type": "markdown",
   "id": "615ec232",
   "metadata": {},
   "source": [
    "# Functions\n",
    "1. Built in functions: That are already defined by python  like print(), type() , input()\n",
    "\n",
    "2. User defined Functions:\n",
    "These are the functions that are created by ourselves\n",
    "\n",
    "\n",
    "How to create your own function?\n",
    "\n",
    "def  name_of_function():\n",
    "    statements\n",
    "    statements\n",
    "\n",
    "After you have created your function then you call it by its name\n",
    "name_of_function()  -------------------->  function calling\n",
    "\n",
    "If you don't call a function then function block of code will not run\n",
    "\n"
   ]
  },
  {
   "cell_type": "code",
   "execution_count": 2,
   "id": "78bb7ec4",
   "metadata": {},
   "outputs": [
    {
     "name": "stdout",
     "output_type": "stream",
     "text": [
      "25\n",
      "Function is finished\n"
     ]
    }
   ],
   "source": [
    "def square():\n",
    "    n=5\n",
    "    print(n**2)\n",
    "    \n",
    "square()\n",
    "print(\"Function is finished\")"
   ]
  },
  {
   "cell_type": "code",
   "execution_count": null,
   "id": "2756fefd",
   "metadata": {},
   "outputs": [],
   "source": [
    "#multiplication\n",
    "#take two numbers inside that multiplication function and print their multiplication result"
   ]
  },
  {
   "cell_type": "markdown",
   "id": "bdc08b74",
   "metadata": {},
   "source": [
    "# Passing values to a function\n",
    "\n",
    "Arguments: These are values passed to the function\n",
    "\n",
    "\n",
    "Parameters: Parameters are variables that receives those values\n",
    "\n",
    "\n",
    "def  name_of_function(num1):\n",
    "    statements\n",
    "    statements\n",
    "\n",
    "\n",
    "name_of_function(7)  -------------------->  function calling\n",
    "\n",
    "\n",
    "In this function  7 is an argument  and   num1 is a parameter"
   ]
  },
  {
   "cell_type": "code",
   "execution_count": 11,
   "id": "edd45605",
   "metadata": {},
   "outputs": [
    {
     "name": "stdout",
     "output_type": "stream",
     "text": [
      "49\n"
     ]
    }
   ],
   "source": [
    "def square(num):\n",
    "    print(num**2)\n",
    "    \n",
    "square(7)"
   ]
  },
  {
   "cell_type": "code",
   "execution_count": 16,
   "id": "d08b3af2",
   "metadata": {},
   "outputs": [
    {
     "name": "stdout",
     "output_type": "stream",
     "text": [
      "90\n"
     ]
    }
   ],
   "source": [
    "def multiplication(number):\n",
    "    print(number*6)\n",
    "    \n",
    "multiplication(15)\n"
   ]
  },
  {
   "cell_type": "code",
   "execution_count": 15,
   "id": "cbac9838",
   "metadata": {},
   "outputs": [
    {
     "name": "stdout",
     "output_type": "stream",
     "text": [
      "45\n"
     ]
    }
   ],
   "source": [
    "#Passing more than one value to a function\n",
    "\n",
    "def sum_of_three_values(num1,num2,num3):\n",
    "    print(num1+num2+num3)\n",
    "    \n",
    "sum_of_three_values(10,15,20)"
   ]
  }
 ],
 "metadata": {
  "kernelspec": {
   "display_name": "Python 3 (ipykernel)",
   "language": "python",
   "name": "python3"
  },
  "language_info": {
   "codemirror_mode": {
    "name": "ipython",
    "version": 3
   },
   "file_extension": ".py",
   "mimetype": "text/x-python",
   "name": "python",
   "nbconvert_exporter": "python",
   "pygments_lexer": "ipython3",
   "version": "3.9.7"
  }
 },
 "nbformat": 4,
 "nbformat_minor": 5
}
