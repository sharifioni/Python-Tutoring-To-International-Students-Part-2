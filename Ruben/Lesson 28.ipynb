{
 "cells": [
  {
   "cell_type": "markdown",
   "id": "43618c9f",
   "metadata": {},
   "source": [
    "# Lists\n",
    "* List is used to store multiple data or collection of data\n",
    "* Data is written inside square brackets\n",
    "* Ordered, Changeable and can contain duplicate values"
   ]
  },
  {
   "cell_type": "code",
   "execution_count": 3,
   "id": "a688a747",
   "metadata": {},
   "outputs": [
    {
     "name": "stdout",
     "output_type": "stream",
     "text": [
      "[1, 3, 5, 2, 9, 0, 8, 8.8]\n",
      "<class 'list'>\n"
     ]
    }
   ],
   "source": [
    "# list of numbers\n",
    "numbers = [1 , 3 , 5, 2, 9, 0 , 8, 8.8]\n",
    "print(numbers)\n",
    "print(type(numbers))"
   ]
  },
  {
   "cell_type": "code",
   "execution_count": 4,
   "id": "152af1a6",
   "metadata": {},
   "outputs": [
    {
     "name": "stdout",
     "output_type": "stream",
     "text": [
      "['Cherry', 'Apple', 'Banana']\n",
      "<class 'list'>\n"
     ]
    }
   ],
   "source": [
    "# list of strings\n",
    "fruits = [\"Cherry\", \"Apple\", \"Banana\"]\n",
    "print(fruits) # prints the list\n",
    "print(type(fruits)) # prints the type of variable fruits"
   ]
  },
  {
   "cell_type": "code",
   "execution_count": 6,
   "id": "02552113",
   "metadata": {},
   "outputs": [
    {
     "name": "stdout",
     "output_type": "stream",
     "text": [
      "[1, 'Monday', 5.76, True, 6, 9.9, 'Hello']\n",
      "<class 'list'>\n"
     ]
    }
   ],
   "source": [
    "# A list with a mixed data types\n",
    "mixed = [1, \"Monday\" , 5.76, True, 6, 9.9, \"Hello\"]\n",
    "print(mixed)\n",
    "print(type(mixed))"
   ]
  },
  {
   "cell_type": "markdown",
   "id": "45136626",
   "metadata": {},
   "source": [
    "# Some built in functions that we can use with a lists\n",
    "* sum()  (sum function can be used over a sequence of values (list, tuple) with integer or float data type\n",
    "* len()  it tells you about the length of your list\n",
    "* min()\n",
    "* max()"
   ]
  },
  {
   "cell_type": "code",
   "execution_count": 8,
   "id": "a3196ce2",
   "metadata": {},
   "outputs": [
    {
     "name": "stdout",
     "output_type": "stream",
     "text": [
      "36.8\n"
     ]
    }
   ],
   "source": [
    "numbers = [1 , 3 , 5, 2, 9, 0 , 8, 8.8]\n",
    "print(sum(numbers))"
   ]
  },
  {
   "cell_type": "code",
   "execution_count": 9,
   "id": "19ae7e3b",
   "metadata": {},
   "outputs": [
    {
     "name": "stdout",
     "output_type": "stream",
     "text": [
      "36.8\n"
     ]
    }
   ],
   "source": [
    "print(sum([1 , 3 , 5, 2, 9, 0 , 8, 8.8]))"
   ]
  },
  {
   "cell_type": "code",
   "execution_count": 22,
   "id": "0f9a505a",
   "metadata": {},
   "outputs": [
    {
     "name": "stdout",
     "output_type": "stream",
     "text": [
      "34.5\n",
      "34.5\n"
     ]
    }
   ],
   "source": [
    "numbers = [1 , 3 , 5, 2, 9, 0 , 8, 6.5]\n",
    "print(sum(numbers))\n",
    "a = sum(numbers)\n",
    "print(a)"
   ]
  },
  {
   "cell_type": "code",
   "execution_count": 23,
   "id": "fc04159f",
   "metadata": {},
   "outputs": [
    {
     "name": "stdout",
     "output_type": "stream",
     "text": [
      "9\n",
      "9\n"
     ]
    }
   ],
   "source": [
    "numbers = [1 , 3 , 5, 2, 9, 0 , 8, \"abc\", \"klm\"]\n",
    "print(len(numbers))\n",
    "a = len(numbers)\n",
    "print(a)"
   ]
  },
  {
   "cell_type": "code",
   "execution_count": 20,
   "id": "9884447a",
   "metadata": {},
   "outputs": [
    {
     "name": "stdout",
     "output_type": "stream",
     "text": [
      "0\n",
      "0\n"
     ]
    }
   ],
   "source": [
    "# min() function, it tells you about the minimum value inside your list. (values should be of same data type)\n",
    "numbers = [1 , 3 , 5, 2, 9, 0 , 8, 6.5]\n",
    "\n",
    "print(min(numbers))\n",
    "a = min(numbers)\n",
    "print(a)"
   ]
  },
  {
   "cell_type": "code",
   "execution_count": 19,
   "id": "5869aeaf",
   "metadata": {},
   "outputs": [
    {
     "name": "stdout",
     "output_type": "stream",
     "text": [
      "Apple\n"
     ]
    }
   ],
   "source": [
    "fruits = [\"Cherry\", \"Apple\", \"Banana\"]\n",
    "print(min(fruits))"
   ]
  },
  {
   "cell_type": "code",
   "execution_count": 21,
   "id": "a7ef5ee1",
   "metadata": {},
   "outputs": [
    {
     "name": "stdout",
     "output_type": "stream",
     "text": [
      "9\n",
      "9\n"
     ]
    }
   ],
   "source": [
    "# max() function, it tells you about the maximum value inside your list. (values should be of same data type)\n",
    "numbers = [1 , 3 , 5, 2, 9, 0 , 8, 6.5]\n",
    "print(max(numbers))\n",
    "a = max(numbers)\n",
    "print(a)"
   ]
  }
 ],
 "metadata": {
  "kernelspec": {
   "display_name": "Python 3 (ipykernel)",
   "language": "python",
   "name": "python3"
  },
  "language_info": {
   "codemirror_mode": {
    "name": "ipython",
    "version": 3
   },
   "file_extension": ".py",
   "mimetype": "text/x-python",
   "name": "python",
   "nbconvert_exporter": "python",
   "pygments_lexer": "ipython3",
   "version": "3.9.7"
  }
 },
 "nbformat": 4,
 "nbformat_minor": 5
}
