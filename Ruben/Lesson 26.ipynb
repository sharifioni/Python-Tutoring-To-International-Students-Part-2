{
 "cells": [
  {
   "cell_type": "code",
   "execution_count": null,
   "id": "de0192a7",
   "metadata": {},
   "outputs": [],
   "source": [
    "def calculator(first_num , second_num , operator):\n",
    "     \n",
    "    if operator == \"+\":\n",
    "        print(first_num + second_num)\n",
    "        \n",
    "    if operator == \"-\":\n",
    "        print(first_num - second_num)\n",
    "        \n",
    "    if operator == \"*\":\n",
    "        print(first_num * second_num)\n",
    "        \n",
    "    if operator == \"/\":\n",
    "        print(first_num / second_num)\n",
    "        \n",
    "\n",
    "calculator(45 , 67, \"+\")\n",
    "\n",
    "calculator(25.5 , 16.5, \"-\")\n",
    "\n",
    "calculator(5 , 12, \"*\")\n",
    "\n",
    "calculator(45 , 5, \"/\")\n"
   ]
  },
  {
   "cell_type": "markdown",
   "id": "75565c5e",
   "metadata": {},
   "source": [
    "# Return in functions\n",
    "* return keyword is used to return a value to function calling part\n",
    "* you can store a returned value to a variable"
   ]
  },
  {
   "cell_type": "code",
   "execution_count": 1,
   "id": "866db1fe",
   "metadata": {},
   "outputs": [
    {
     "name": "stdout",
     "output_type": "stream",
     "text": [
      "112\n",
      "None\n"
     ]
    }
   ],
   "source": [
    "def calculator(first_num , second_num , operator):\n",
    "     \n",
    "    if operator == \"+\":\n",
    "        print(first_num + second_num)\n",
    "        \n",
    "    if operator == \"-\":\n",
    "        print(first_num - second_num)\n",
    "        \n",
    "    if operator == \"*\":\n",
    "        print(first_num * second_num)\n",
    "        \n",
    "    if operator == \"/\":\n",
    "        print(first_num / second_num)\n",
    "        \n",
    "\n",
    "print(calculator(45 , 67, \"+\"))\n",
    "\n"
   ]
  },
  {
   "cell_type": "code",
   "execution_count": null,
   "id": "c03a5ed4",
   "metadata": {},
   "outputs": [],
   "source": []
  },
  {
   "cell_type": "code",
   "execution_count": 2,
   "id": "c9c2a4bf",
   "metadata": {},
   "outputs": [
    {
     "name": "stdout",
     "output_type": "stream",
     "text": [
      "result is 112\n"
     ]
    }
   ],
   "source": [
    "def calculator(first_num , second_num , operator):\n",
    "     \n",
    "    if operator == \"+\":\n",
    "        return first_num + second_num\n",
    "        \n",
    "    if operator == \"-\":\n",
    "        return first_num - second_num\n",
    "        \n",
    "    if operator == \"*\":\n",
    "        return first_num * second_num\n",
    "        \n",
    "    if operator == \"/\":\n",
    "        return first_num / second_num\n",
    "        \n",
    "\n",
    "a=calculator(45 , 67, \"+\")\n",
    "print(\"result is\",a)"
   ]
  },
  {
   "cell_type": "code",
   "execution_count": 4,
   "id": "05245c03",
   "metadata": {},
   "outputs": [
    {
     "name": "stdout",
     "output_type": "stream",
     "text": [
      "50\n",
      "None\n"
     ]
    }
   ],
   "source": [
    "# Arguments and parameters\n",
    "def multiply(x , y):\n",
    "    print(x*y)\n",
    "    \n",
    "    \n",
    "print(multiply(10 , 5))"
   ]
  },
  {
   "cell_type": "code",
   "execution_count": 6,
   "id": "180aef20",
   "metadata": {},
   "outputs": [
    {
     "name": "stdout",
     "output_type": "stream",
     "text": [
      "25\n"
     ]
    }
   ],
   "source": [
    "# Arguments and parameters\n",
    "def multiply(x , y):\n",
    "    return x*y\n",
    "    \n",
    "    \n",
    "#print(multiply(10 , 5))\n",
    "\n",
    "val=multiply(5,5)\n",
    "print(val)"
   ]
  },
  {
   "cell_type": "code",
   "execution_count": null,
   "id": "f123053e",
   "metadata": {},
   "outputs": [],
   "source": [
    "def calculator(first_num , second_num , operator):\n",
    "     \n",
    "    if operator == \"+\":\n",
    "        return first_num + second_num\n",
    "        \n",
    "    if operator == \"-\":\n",
    "        return first_num - second_num\n",
    "        \n",
    "    if operator == \"*\":\n",
    "        return first_num * second_num\n",
    "        \n",
    "    if operator == \"/\":\n",
    "        return first_num / second_num\n",
    "        \n",
    "\n",
    "a=calculator(45 , 67, \"+\")\n",
    "print(\"result is\",a)"
   ]
  }
 ],
 "metadata": {
  "kernelspec": {
   "display_name": "Python 3 (ipykernel)",
   "language": "python",
   "name": "python3"
  },
  "language_info": {
   "codemirror_mode": {
    "name": "ipython",
    "version": 3
   },
   "file_extension": ".py",
   "mimetype": "text/x-python",
   "name": "python",
   "nbconvert_exporter": "python",
   "pygments_lexer": "ipython3",
   "version": "3.9.7"
  }
 },
 "nbformat": 4,
 "nbformat_minor": 5
}
