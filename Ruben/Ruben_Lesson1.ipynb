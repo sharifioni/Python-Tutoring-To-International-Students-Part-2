{
 "cells": [
  {
   "cell_type": "code",
   "execution_count": 6,
   "id": "8e23e86c",
   "metadata": {},
   "outputs": [
    {
     "name": "stdout",
     "output_type": "stream",
     "text": [
      "Ruben\n",
      "89\n",
      "70.25\n"
     ]
    }
   ],
   "source": [
    "print(\"Ruben\")   #syntax  #Case Sensitive #Built in Functions \n",
    "#Whatever you write inside double quotes or single quotes is called STRINGS\n",
    "\n",
    "print(89)\n",
    "\n",
    "print(70.25)\n",
    "\n",
    "#type() function \"Type function tells you the type of data you are using\"\n",
    "\n",
    "\n",
    "\n",
    "#Types of Data\n",
    "#STRINGS   In double quotes or single quotes\n",
    "#INTEGERS  numbers either positive or negative      89,-20,0,1\n",
    "#FLOATS    numbers with decimal values           89.05, 0.5, -90.27\n"
   ]
  },
  {
   "cell_type": "code",
   "execution_count": 13,
   "id": "a57bc159",
   "metadata": {},
   "outputs": [
    {
     "name": "stdout",
     "output_type": "stream",
     "text": [
      "<class 'str'>\n",
      "<class 'int'>\n",
      "<class 'float'>\n"
     ]
    }
   ],
   "source": [
    "print(type(\"hello\"))\n",
    "print(type(760))\n",
    "print(type(89.5))"
   ]
  },
  {
   "cell_type": "markdown",
   "id": "ebb64a64",
   "metadata": {},
   "source": [
    "Variables:\n",
    "Used to store data of any type\n",
    "\n",
    "Rules for naming variables:  (identifiers)\n",
    "1. Each identifier may consist of letters, digits and underscores (_) but may not begin with a digit\n",
    "2. Python is case sensitive, so number and Number are different identifiers because one begins with a lowercase letter and the other begins with an uppercase letter."
   ]
  },
  {
   "cell_type": "code",
   "execution_count": 15,
   "id": "842cc44b",
   "metadata": {},
   "outputs": [
    {
     "name": "stdout",
     "output_type": "stream",
     "text": [
      "760\n",
      "John\n",
      "65.5\n"
     ]
    }
   ],
   "source": [
    "num=760           #variable name  ,  Assignment Operator,  Value\n",
    "name=\"John\"\n",
    "fl=65.5\n",
    "\n",
    "print(num)\n",
    "print(name)\n",
    "print(fl)\n"
   ]
  },
  {
   "cell_type": "code",
   "execution_count": 16,
   "id": "ade33862",
   "metadata": {},
   "outputs": [
    {
     "data": {
      "text/plain": [
       "760"
      ]
     },
     "execution_count": 16,
     "metadata": {},
     "output_type": "execute_result"
    }
   ],
   "source": [
    "num"
   ]
  }
 ],
 "metadata": {
  "kernelspec": {
   "display_name": "Python 3 (ipykernel)",
   "language": "python",
   "name": "python3"
  },
  "language_info": {
   "codemirror_mode": {
    "name": "ipython",
    "version": 3
   },
   "file_extension": ".py",
   "mimetype": "text/x-python",
   "name": "python",
   "nbconvert_exporter": "python",
   "pygments_lexer": "ipython3",
   "version": "3.9.7"
  }
 },
 "nbformat": 4,
 "nbformat_minor": 5
}
