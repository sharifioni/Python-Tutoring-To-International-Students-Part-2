{
 "cells": [
  {
   "cell_type": "code",
   "execution_count": 3,
   "id": "04b2445a",
   "metadata": {},
   "outputs": [
    {
     "name": "stdout",
     "output_type": "stream",
     "text": [
      "12\n",
      "17\n",
      "22\n",
      "27\n",
      "32\n",
      "37\n",
      "42\n",
      "47\n",
      "52\n",
      "57\n",
      "62\n",
      "67\n",
      "72\n",
      "77\n",
      "82\n",
      "87\n",
      "92\n",
      "97\n",
      "102\n"
     ]
    }
   ],
   "source": [
    "#While loops\n",
    "#While loop keeps on running until the condition is True\n",
    "\n",
    "product=7\n",
    "while True:     #False      52<50\n",
    "    product=product+5     #product=52\n",
    "    print(product)\n",
    "    \n",
    "    if product>100:\n",
    "        break\n",
    "    \n"
   ]
  },
  {
   "cell_type": "code",
   "execution_count": 10,
   "id": "64d39efb",
   "metadata": {},
   "outputs": [
    {
     "name": "stdout",
     "output_type": "stream",
     "text": [
      "Enter first number: 10\n",
      "Enter second number: 20\n",
      "Enter your operator\n",
      "                1. Press + for Addition\n",
      "                2. Press - for Subtraction*\n",
      "You entered a wrong operator\n"
     ]
    }
   ],
   "source": [
    "#Simple Calculator\n",
    "#Multiplication and Division\n",
    "number1=int(input(\"Enter first number: \"))\n",
    "number2=int(input(\"Enter second number: \"))\n",
    "operator=input(\"Enter your operator\\n\\\n",
    "                1. Press + for Addition\\n\\\n",
    "                2. Press - for Subtraction: \")\n",
    "calc_again=input(\"Do you want to calculate again? Press 'y' to continue and 'n' to exit\")\n",
    "if operator==\"+\":\n",
    "    print(\"The Addition of \",number1,\" and\",number2,\"is\",number1+number2)\n",
    "elif operator==\"-\":\n",
    "    print(\"The Subtraction of \",number1,\" and\",number2,\"is\",number1-number2)\n",
    "else:\n",
    "    print(\"You entered a wrong operator\")\n",
    "    "
   ]
  },
  {
   "cell_type": "code",
   "execution_count": null,
   "id": "b2ca3205",
   "metadata": {},
   "outputs": [],
   "source": []
  }
 ],
 "metadata": {
  "kernelspec": {
   "display_name": "Python 3 (ipykernel)",
   "language": "python",
   "name": "python3"
  },
  "language_info": {
   "codemirror_mode": {
    "name": "ipython",
    "version": 3
   },
   "file_extension": ".py",
   "mimetype": "text/x-python",
   "name": "python",
   "nbconvert_exporter": "python",
   "pygments_lexer": "ipython3",
   "version": "3.9.7"
  }
 },
 "nbformat": 4,
 "nbformat_minor": 5
}
