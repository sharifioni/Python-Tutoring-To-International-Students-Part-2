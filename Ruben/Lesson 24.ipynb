{
 "cells": [
  {
   "attachments": {
    "whileLoopFlowchart.webp": {
     "image/webp": "[encoded data removed]"
    }
   },
   "cell_type": "markdown",
   "id": "ecc73fc7",
   "metadata": {},
   "source": [
    "![whileLoopFlowchart.webp](attachment:whileLoopFlowchart.webp)"
   ]
  },
  {
   "cell_type": "code",
   "execution_count": null,
   "id": "86e73060",
   "metadata": {},
   "outputs": [],
   "source": [
    "x=10\n",
    "while x<=15:\n",
    "    print(x)\n",
    "    x=x+1"
   ]
  },
  {
   "cell_type": "code",
   "execution_count": 1,
   "id": "43c02df0",
   "metadata": {},
   "outputs": [
    {
     "name": "stdout",
     "output_type": "stream",
     "text": [
      "H\n",
      "e\n",
      "l\n",
      "l\n",
      "o\n"
     ]
    }
   ],
   "source": [
    "for i in \"Hello\":\n",
    "    print(i)"
   ]
  },
  {
   "cell_type": "code",
   "execution_count": 2,
   "id": "9378eafe",
   "metadata": {},
   "outputs": [
    {
     "name": "stdout",
     "output_type": "stream",
     "text": [
      "Enter first number15\n",
      "Enter second number20\n",
      "Enter operator+\n",
      "35\n",
      "Do you want to calculate one more time?no\n"
     ]
    }
   ],
   "source": [
    "while True:\n",
    "\n",
    "    num1=int(input(\"Enter first number\"))\n",
    "    num2=int(input(\"Enter second number\"))\n",
    "    operator=(input(\"Enter operator\"))\n",
    "    if operator == \"+\":\n",
    "        print(num1+num2)\n",
    "    if operator == \"-\":\n",
    "        print(num1-num2)\n",
    "    if operator == \"*\":\n",
    "        print(num1*num2)\n",
    "    if operator == \"/\":\n",
    "        print(num1/num2)\n",
    "  \n",
    "    Question=(input(\"Do you want to calculate one more time?\"))\n",
    "    \n",
    "    if Question==\"no\":\n",
    "        break\n"
   ]
  },
  {
   "cell_type": "code",
   "execution_count": 3,
   "id": "83683ea0",
   "metadata": {},
   "outputs": [
    {
     "name": "stdout",
     "output_type": "stream",
     "text": [
      "Enter first number5\n",
      "Enter second number8\n",
      "Enter operator*\n",
      "40\n",
      "Do you want to calculate one more time?no\n"
     ]
    }
   ],
   "source": [
    "Question='yes'\n",
    "\n",
    "while Question=='yes':\n",
    "\n",
    "    num1=int(input(\"Enter first number\"))\n",
    "    num2=int(input(\"Enter second number\"))\n",
    "    operator=(input(\"Enter operator\"))\n",
    "    if operator == \"+\":\n",
    "        print(num1+num2)\n",
    "    if operator == \"-\":\n",
    "        print(num1-num2)\n",
    "    if operator == \"*\":\n",
    "        print(num1*num2)\n",
    "    if operator == \"/\":\n",
    "        print(num1/num2)\n",
    "  \n",
    "    Question=(input(\"Do you want to calculate one more time?\"))\n"
   ]
  },
  {
   "cell_type": "code",
   "execution_count": null,
   "id": "55b990fe",
   "metadata": {},
   "outputs": [],
   "source": []
  },
  {
   "cell_type": "code",
   "execution_count": 1,
   "id": "35409de7",
   "metadata": {},
   "outputs": [
    {
     "name": "stdout",
     "output_type": "stream",
     "text": [
      "1\n",
      "2\n",
      "3\n",
      "4\n",
      "5\n",
      "6\n",
      "8\n",
      "9\n",
      "10\n"
     ]
    }
   ],
   "source": [
    "for i in range(1,11):\n",
    "    if i==7:\n",
    "        continue\n",
    "    print(i)"
   ]
  },
  {
   "cell_type": "code",
   "execution_count": null,
   "id": "b0d204cc",
   "metadata": {},
   "outputs": [],
   "source": []
  }
 ],
 "metadata": {
  "kernelspec": {
   "display_name": "Python 3 (ipykernel)",
   "language": "python",
   "name": "python3"
  },
  "language_info": {
   "codemirror_mode": {
    "name": "ipython",
    "version": 3
   },
   "file_extension": ".py",
   "mimetype": "text/x-python",
   "name": "python",
   "nbconvert_exporter": "python",
   "pygments_lexer": "ipython3",
   "version": "3.9.7"
  }
 },
 "nbformat": 4,
 "nbformat_minor": 5
}
