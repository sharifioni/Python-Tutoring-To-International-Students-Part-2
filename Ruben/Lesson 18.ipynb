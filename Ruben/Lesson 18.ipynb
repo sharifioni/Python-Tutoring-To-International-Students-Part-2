{
 "cells": [
  {
   "cell_type": "code",
   "execution_count": 6,
   "id": "df615366",
   "metadata": {},
   "outputs": [
    {
     "name": "stdout",
     "output_type": "stream",
     "text": [
      "input first value10\n",
      "input secund value10\n",
      "input third value10\n",
      "Sum is None\n"
     ]
    }
   ],
   "source": [
    "value1=int(input(\"input first value\"))\n",
    "value2=int(input(\"input secund value\"))\n",
    "value3=int(input(\"input third value\"))\n",
    "\n",
    "# Variables that you create inside a function, you cannot use them outside the function\n",
    "def calculate(A,B,C):\n",
    "    sum_values=A+B+C\n",
    "    return sum_values\n",
    "    \n",
    "\n",
    "   \n",
    "\n",
    "print(\"Sum is\",calculate(value1,value2,value3))\n"
   ]
  },
  {
   "cell_type": "code",
   "execution_count": null,
   "id": "4ef949d3",
   "metadata": {},
   "outputs": [],
   "source": [
    "# Any Product   (Apple)\n",
    "# Their standard prices  ( euro kg)\n",
    "# Buyer purchase (5 kg)\n",
    "# Price : Purchase_in_weight * standard   (5*5 = 25)"
   ]
  }
 ],
 "metadata": {
  "kernelspec": {
   "display_name": "Python 3 (ipykernel)",
   "language": "python",
   "name": "python3"
  },
  "language_info": {
   "codemirror_mode": {
    "name": "ipython",
    "version": 3
   },
   "file_extension": ".py",
   "mimetype": "text/x-python",
   "name": "python",
   "nbconvert_exporter": "python",
   "pygments_lexer": "ipython3",
   "version": "3.9.7"
  }
 },
 "nbformat": 4,
 "nbformat_minor": 5
}
