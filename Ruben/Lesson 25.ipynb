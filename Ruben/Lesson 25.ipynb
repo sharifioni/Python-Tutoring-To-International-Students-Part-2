{
 "cells": [
  {
   "cell_type": "code",
   "execution_count": 3,
   "id": "7f0cb909",
   "metadata": {},
   "outputs": [
    {
     "name": "stdout",
     "output_type": "stream",
     "text": [
      "g\n",
      "e\n",
      "r\n",
      "m\n",
      "a\n",
      "n\n",
      "y\n"
     ]
    }
   ],
   "source": [
    "for val in \"germany\":\n",
    "    print(val)"
   ]
  },
  {
   "cell_type": "markdown",
   "id": "77442fd7",
   "metadata": {},
   "source": [
    "# break and continue"
   ]
  },
  {
   "cell_type": "code",
   "execution_count": 4,
   "id": "807967f5",
   "metadata": {},
   "outputs": [
    {
     "name": "stdout",
     "output_type": "stream",
     "text": [
      "g\n",
      "e\n",
      "r\n",
      "m\n"
     ]
    }
   ],
   "source": [
    "# break\n",
    "# break statement stops your current loop\n",
    "for val in \"germany\":\n",
    "    \n",
    "    if val=='a':\n",
    "        break\n",
    "    print(val)"
   ]
  },
  {
   "cell_type": "code",
   "execution_count": 8,
   "id": "c2c37dec",
   "metadata": {},
   "outputs": [
    {
     "name": "stdout",
     "output_type": "stream",
     "text": [
      "1\n",
      "2\n",
      "3\n",
      "4\n",
      "5\n",
      "6\n",
      "8\n",
      "9\n",
      "10\n"
     ]
    }
   ],
   "source": [
    "# continue\n",
    "# continue statement skips statements written after it at that iteration\n",
    "for val in \"germany\":\n",
    "    \n",
    "    if val=='a':\n",
    "        continue\n",
    "        \n",
    "    print(val)"
   ]
  },
  {
   "cell_type": "code",
   "execution_count": null,
   "id": "1396301c",
   "metadata": {},
   "outputs": [],
   "source": [
    "# continue\n",
    "# continue statement skips statements written after it at that iteration\n",
    "for val in range(1,11):\n",
    "    \n",
    "    if val==7:\n",
    "        continue\n",
    "        \n",
    "    print(val)"
   ]
  },
  {
   "cell_type": "markdown",
   "id": "4bcf533d",
   "metadata": {},
   "source": [
    "# Functions\n",
    "\n",
    "* How to create your own function\n",
    "* Name of a function\n",
    "* Function arguments and parameters\n",
    "* Function calling\n",
    "* Function that returns a value\n",
    "\n",
    "## Why do we create functions?\n",
    "* To avoid repetition in your code"
   ]
  },
  {
   "cell_type": "markdown",
   "id": "09f51a3b",
   "metadata": {},
   "source": [
    "# Functions\n",
    "1. Built in functions: That are already defined by python  like print(), type() , input()\n",
    "\n",
    "2. User defined Functions:\n",
    "These are the functions that are created by ourselves\n",
    "\n",
    "\n",
    "How to create your own function?\n",
    "\n",
    "def  name_of_function():\n",
    "    statements\n",
    "    statements\n",
    "\n",
    "After you have created your function then you call it by its name\n",
    "name_of_function()  -------------------->  function calling\n",
    "\n",
    "If you don't call a function then function block of code will not run"
   ]
  },
  {
   "cell_type": "code",
   "execution_count": 12,
   "id": "536fd3bf",
   "metadata": {},
   "outputs": [
    {
     "name": "stdout",
     "output_type": "stream",
     "text": [
      "25\n"
     ]
    }
   ],
   "source": [
    "def square():\n",
    "    n=5\n",
    "    print(n**2)\n",
    "\n",
    "\n",
    "\n",
    "square() # Function Calling part   \n",
    "\n"
   ]
  },
  {
   "cell_type": "code",
   "execution_count": 17,
   "id": "8ab7e36c",
   "metadata": {},
   "outputs": [
    {
     "name": "stdout",
     "output_type": "stream",
     "text": [
      "50\n",
      "Thank you!\n"
     ]
    }
   ],
   "source": [
    "# Arguments and parameters\n",
    "def multiply(x , y):\n",
    "    print(x*y)\n",
    "    \n",
    "multiply(10 , 5)\n",
    "print(\"Thank you!\")"
   ]
  },
  {
   "cell_type": "markdown",
   "id": "f7f960b6",
   "metadata": {},
   "source": [
    "# Function of simple calculator"
   ]
  },
  {
   "cell_type": "code",
   "execution_count": 19,
   "id": "b3cd914d",
   "metadata": {},
   "outputs": [
    {
     "name": "stdout",
     "output_type": "stream",
     "text": [
      "112\n",
      "9.0\n",
      "60\n",
      "9.0\n"
     ]
    }
   ],
   "source": [
    "def calculator(first_num , second_num , operator):\n",
    "     \n",
    "    if operator == \"+\":\n",
    "        print(first_num + second_num)\n",
    "        \n",
    "    if operator == \"-\":\n",
    "        print(first_num - second_num)\n",
    "        \n",
    "    if operator == \"*\":\n",
    "        print(first_num * second_num)\n",
    "        \n",
    "    if operator == \"/\":\n",
    "        print(first_num / second_num)\n",
    "        \n",
    "\n",
    "calculator(45 , 67, \"+\")\n",
    "\n",
    "calculator(25.5 , 16.5, \"-\")\n",
    "\n",
    "calculator(5 , 12, \"*\")\n",
    "\n",
    "calculator(45 , 5, \"/\")\n",
    "\n"
   ]
  },
  {
   "cell_type": "code",
   "execution_count": null,
   "id": "37baffdd",
   "metadata": {},
   "outputs": [],
   "source": [
    "# Function that return values"
   ]
  }
 ],
 "metadata": {
  "kernelspec": {
   "display_name": "Python 3 (ipykernel)",
   "language": "python",
   "name": "python3"
  },
  "language_info": {
   "codemirror_mode": {
    "name": "ipython",
    "version": 3
   },
   "file_extension": ".py",
   "mimetype": "text/x-python",
   "name": "python",
   "nbconvert_exporter": "python",
   "pygments_lexer": "ipython3",
   "version": "3.9.7"
  }
 },
 "nbformat": 4,
 "nbformat_minor": 5
}
