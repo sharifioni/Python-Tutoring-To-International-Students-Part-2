{
 "cells": [
  {
   "cell_type": "code",
   "execution_count": 1,
   "id": "5050e7bf",
   "metadata": {},
   "outputs": [
    {
     "name": "stdout",
     "output_type": "stream",
     "text": [
      "Sum is 10\n"
     ]
    }
   ],
   "source": [
    "print('Sum is', 7 + 3)"
   ]
  },
  {
   "cell_type": "code",
   "execution_count": 8,
   "id": "2348961f",
   "metadata": {},
   "outputs": [
    {
     "name": "stdout",
     "output_type": "stream",
     "text": [
      "Sum is 10 15\n",
      "Sum is 10 15\n"
     ]
    }
   ],
   "source": [
    "print(f'Sum is {7+3} {15}')\n",
    "print('Sum is {} {}'.format(7+3,15))"
   ]
  },
  {
   "cell_type": "code",
   "execution_count": null,
   "id": "f03305be",
   "metadata": {},
   "outputs": [],
   "source": [
    "abc=\"Hello World\"\n",
    "Abc=\"Jupyter\" \n",
    "#Python Language is case sensitive"
   ]
  },
  {
   "cell_type": "code",
   "execution_count": 20,
   "id": "17022509",
   "metadata": {},
   "outputs": [
    {
     "name": "stdout",
     "output_type": "stream",
     "text": [
      "d\n",
      "d\n",
      "Hello\n",
      "Hello\n",
      "rld\n",
      "Hello World\n",
      "\n"
     ]
    }
   ],
   "source": [
    "abc=\"Hello World\"\n",
    "#Positive Indexing\n",
    "print(abc[10])\n",
    "\n",
    "#Negative Indexing\n",
    "print(abc[-1])\n",
    "\n",
    "#Slicing\n",
    "print(abc[0:5])  #Start Index  : Stop Index\n",
    "print(abc[:5])\n",
    "print(abc[8:])\n",
    "print(abc[:])\n",
    "print(abc[11])\n",
    "\n",
    " "
   ]
  },
  {
   "cell_type": "code",
   "execution_count": 34,
   "id": "4af2855c",
   "metadata": {},
   "outputs": [
    {
     "name": "stdout",
     "output_type": "stream",
     "text": [
      " Worl\n",
      " World\n",
      " Worl\n"
     ]
    }
   ],
   "source": [
    "#Negative Slicing\n",
    "print(abc[-6:-1])\n",
    "print(abc[-6:])\n",
    "print(abc[-6:10])"
   ]
  },
  {
   "cell_type": "code",
   "execution_count": 37,
   "id": "b103974b",
   "metadata": {},
   "outputs": [
    {
     "data": {
      "text/plain": [
       "'HloWrd'"
      ]
     },
     "execution_count": 37,
     "metadata": {},
     "output_type": "execute_result"
    }
   ],
   "source": [
    "#Stepping\n",
    "abc[0:11:2]   #Start index : Stop value  : Step Value\n"
   ]
  },
  {
   "cell_type": "code",
   "execution_count": 43,
   "id": "8986e5dc",
   "metadata": {},
   "outputs": [
    {
     "data": {
      "text/plain": [
       "''"
      ]
     },
     "execution_count": 43,
     "metadata": {},
     "output_type": "execute_result"
    }
   ],
   "source": [
    "abc[-1:0 ]"
   ]
  },
  {
   "cell_type": "code",
   "execution_count": 44,
   "id": "b24f4aa8",
   "metadata": {},
   "outputs": [
    {
     "data": {
      "text/plain": [
       "'Football'"
      ]
     },
     "execution_count": 44,
     "metadata": {},
     "output_type": "execute_result"
    }
   ],
   "source": [
    "#capitalize\n",
    "#Upper\n",
    "#lower\n",
    "#strip\n",
    "#split\n",
    "#isalpha\n",
    "#isalnum\n",
    "#isnumeric\n",
    "#isdigit\n",
    "#replace\n",
    "#index\n",
    "#count\n",
    "#endswith\n",
    "#find\n",
    "#index\n",
    "\n",
    "sports=\"football\"\n",
    "sports.capitalize()\n",
    "\n"
   ]
  },
  {
   "cell_type": "code",
   "execution_count": 45,
   "id": "a07b7658",
   "metadata": {},
   "outputs": [
    {
     "data": {
      "text/plain": [
       "'FOOTBALL'"
      ]
     },
     "execution_count": 45,
     "metadata": {},
     "output_type": "execute_result"
    }
   ],
   "source": [
    "sports.upper()"
   ]
  },
  {
   "cell_type": "code",
   "execution_count": 46,
   "id": "997bedd3",
   "metadata": {},
   "outputs": [
    {
     "data": {
      "text/plain": [
       "'football'"
      ]
     },
     "execution_count": 46,
     "metadata": {},
     "output_type": "execute_result"
    }
   ],
   "source": [
    "sports.lower()"
   ]
  },
  {
   "cell_type": "code",
   "execution_count": 47,
   "id": "3e42b0c3",
   "metadata": {},
   "outputs": [
    {
     "data": {
      "text/plain": [
       "'pizza'"
      ]
     },
     "execution_count": 47,
     "metadata": {},
     "output_type": "execute_result"
    }
   ],
   "source": [
    "food='  pizza  '\n",
    "food.strip()"
   ]
  },
  {
   "cell_type": "code",
   "execution_count": 50,
   "id": "180e5803",
   "metadata": {},
   "outputs": [
    {
     "data": {
      "text/plain": [
       "['Hello', ' World', ' Python']"
      ]
     },
     "execution_count": 50,
     "metadata": {},
     "output_type": "execute_result"
    }
   ],
   "source": [
    "d=\"Hello, World, Python\"\n",
    "d.split(\",\")"
   ]
  },
  {
   "cell_type": "code",
   "execution_count": null,
   "id": "8c5cc301",
   "metadata": {},
   "outputs": [],
   "source": [
    "'abcdefghijklmnopqrstuvwxyz'\n",
    "\n",
    "#mno\n",
    "#string backwards\n",
    "#from t to z\n",
    "\n",
    "#from k to a\n",
    "\n",
    "#move from a to r using step of 3"
   ]
  },
  {
   "cell_type": "code",
   "execution_count": 2,
   "id": "bc788b09",
   "metadata": {},
   "outputs": [
    {
     "name": "stdout",
     "output_type": "stream",
     "text": [
      "The diameter is 4\n",
      "The circumference is 12.56636\n",
      "The area is 12.56636\n"
     ]
    }
   ],
   "source": [
    "pi = 3.14159\n",
    "r= 2\n",
    "\n",
    "print(f\"The diameter is {2*r}\")\n",
    "print(f\"The circumference is {2*pi*r}\")\n",
    "print(f\"The area is {pi*r**2}\")\n"
   ]
  },
  {
   "cell_type": "code",
   "execution_count": 5,
   "id": "adb9b5b3",
   "metadata": {},
   "outputs": [
    {
     "name": "stdout",
     "output_type": "stream",
     "text": [
      "1 \t*\t 6 \t=\t 6\n",
      "2 \t*\t 6 \t=\t 12\n",
      "3 \t*\t 6 \t=\t 18\n",
      "4 \t*\t 6 \t=\t 24\n",
      "5 \t*\t 6 \t=\t 30\n",
      "6 \t*\t 6 \t=\t 36\n",
      "7 \t*\t 6 \t=\t 42\n",
      "8 \t*\t 6 \t=\t 48\n",
      "9 \t*\t 6 \t=\t 54\n",
      "10 \t*\t 6 \t=\t 60\n",
      "11 \t*\t 6 \t=\t 66\n",
      "12 \t*\t 6 \t=\t 72\n",
      "13 \t*\t 6 \t=\t 78\n",
      "14 \t*\t 6 \t=\t 84\n",
      "15 \t*\t 6 \t=\t 90\n",
      "16 \t*\t 6 \t=\t 96\n",
      "17 \t*\t 6 \t=\t 102\n",
      "18 \t*\t 6 \t=\t 108\n",
      "19 \t*\t 6 \t=\t 114\n",
      "20 \t*\t 6 \t=\t 120\n",
      "21 \t*\t 6 \t=\t 126\n",
      "22 \t*\t 6 \t=\t 132\n",
      "23 \t*\t 6 \t=\t 138\n",
      "24 \t*\t 6 \t=\t 144\n",
      "25 \t*\t 6 \t=\t 150\n",
      "26 \t*\t 6 \t=\t 156\n",
      "27 \t*\t 6 \t=\t 162\n",
      "28 \t*\t 6 \t=\t 168\n",
      "29 \t*\t 6 \t=\t 174\n",
      "30 \t*\t 6 \t=\t 180\n",
      "31 \t*\t 6 \t=\t 186\n",
      "32 \t*\t 6 \t=\t 192\n",
      "33 \t*\t 6 \t=\t 198\n",
      "34 \t*\t 6 \t=\t 204\n",
      "35 \t*\t 6 \t=\t 210\n",
      "36 \t*\t 6 \t=\t 216\n",
      "37 \t*\t 6 \t=\t 222\n",
      "38 \t*\t 6 \t=\t 228\n",
      "39 \t*\t 6 \t=\t 234\n",
      "40 \t*\t 6 \t=\t 240\n",
      "41 \t*\t 6 \t=\t 246\n",
      "42 \t*\t 6 \t=\t 252\n",
      "43 \t*\t 6 \t=\t 258\n",
      "44 \t*\t 6 \t=\t 264\n",
      "45 \t*\t 6 \t=\t 270\n",
      "46 \t*\t 6 \t=\t 276\n",
      "47 \t*\t 6 \t=\t 282\n",
      "48 \t*\t 6 \t=\t 288\n",
      "49 \t*\t 6 \t=\t 294\n",
      "50 \t*\t 6 \t=\t 300\n",
      "51 \t*\t 6 \t=\t 306\n",
      "52 \t*\t 6 \t=\t 312\n",
      "53 \t*\t 6 \t=\t 318\n",
      "54 \t*\t 6 \t=\t 324\n",
      "55 \t*\t 6 \t=\t 330\n",
      "56 \t*\t 6 \t=\t 336\n",
      "57 \t*\t 6 \t=\t 342\n",
      "58 \t*\t 6 \t=\t 348\n",
      "59 \t*\t 6 \t=\t 354\n",
      "60 \t*\t 6 \t=\t 360\n",
      "61 \t*\t 6 \t=\t 366\n",
      "62 \t*\t 6 \t=\t 372\n",
      "63 \t*\t 6 \t=\t 378\n",
      "64 \t*\t 6 \t=\t 384\n",
      "65 \t*\t 6 \t=\t 390\n",
      "66 \t*\t 6 \t=\t 396\n",
      "67 \t*\t 6 \t=\t 402\n",
      "68 \t*\t 6 \t=\t 408\n",
      "69 \t*\t 6 \t=\t 414\n",
      "70 \t*\t 6 \t=\t 420\n",
      "71 \t*\t 6 \t=\t 426\n",
      "72 \t*\t 6 \t=\t 432\n",
      "73 \t*\t 6 \t=\t 438\n",
      "74 \t*\t 6 \t=\t 444\n",
      "75 \t*\t 6 \t=\t 450\n",
      "76 \t*\t 6 \t=\t 456\n",
      "77 \t*\t 6 \t=\t 462\n",
      "78 \t*\t 6 \t=\t 468\n",
      "79 \t*\t 6 \t=\t 474\n",
      "80 \t*\t 6 \t=\t 480\n",
      "81 \t*\t 6 \t=\t 486\n",
      "82 \t*\t 6 \t=\t 492\n",
      "83 \t*\t 6 \t=\t 498\n",
      "84 \t*\t 6 \t=\t 504\n",
      "85 \t*\t 6 \t=\t 510\n",
      "86 \t*\t 6 \t=\t 516\n",
      "87 \t*\t 6 \t=\t 522\n",
      "88 \t*\t 6 \t=\t 528\n",
      "89 \t*\t 6 \t=\t 534\n",
      "90 \t*\t 6 \t=\t 540\n",
      "91 \t*\t 6 \t=\t 546\n",
      "92 \t*\t 6 \t=\t 552\n",
      "93 \t*\t 6 \t=\t 558\n",
      "94 \t*\t 6 \t=\t 564\n",
      "95 \t*\t 6 \t=\t 570\n",
      "96 \t*\t 6 \t=\t 576\n",
      "97 \t*\t 6 \t=\t 582\n",
      "98 \t*\t 6 \t=\t 588\n",
      "99 \t*\t 6 \t=\t 594\n",
      "100 \t*\t 6 \t=\t 600\n"
     ]
    }
   ],
   "source": [
    "for i in range(1,101):              \n",
    "    print(i,\"\\t*\\t\",6,\"\\t=\\t\",i*6)"
   ]
  }
 ],
 "metadata": {
  "kernelspec": {
   "display_name": "Python 3",
   "language": "python",
   "name": "python3"
  },
  "language_info": {
   "codemirror_mode": {
    "name": "ipython",
    "version": 3
   },
   "file_extension": ".py",
   "mimetype": "text/x-python",
   "name": "python",
   "nbconvert_exporter": "python",
   "pygments_lexer": "ipython3",
   "version": "3.8.8"
  }
 },
 "nbformat": 4,
 "nbformat_minor": 5
}
