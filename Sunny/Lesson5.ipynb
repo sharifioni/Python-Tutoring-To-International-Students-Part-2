{
 "cells": [
  {
   "cell_type": "code",
   "execution_count": 11,
   "id": "1818e40f",
   "metadata": {},
   "outputs": [
    {
     "name": "stdout",
     "output_type": "stream",
     "text": [
      "Enter any year to check if it's Lunar or not: 2007\n",
      "The year is not Lunar\n"
     ]
    }
   ],
   "source": [
    "#Multiple of 4\n",
    "year=int(input(\"Enter any year to check if it's Lunar or not: \"))\n",
    "if year%4==0: \n",
    "    print(\"The year is Lunar\")\n",
    "else:\n",
    "    print(\"The year is not Lunar\")"
   ]
  },
  {
   "cell_type": "code",
   "execution_count": 10,
   "id": "d71ec150",
   "metadata": {},
   "outputs": [
    {
     "name": "stdout",
     "output_type": "stream",
     "text": [
      "The amount after 10 years is 3.255243551009881e+21\n",
      "The amount after 20 years is 1.0596610576391422e+40\n",
      "The amount after 30 years is 3.449454824136127e+58\n"
     ]
    }
   ],
   "source": [
    "#2.12\n",
    "p=1000 \n",
    "r=1000*(7/100)\n",
    "n=10\n",
    "a=p*(1+r)**n\n",
    "\n",
    "print(f\"The amount after {n} years is {a}\")\n",
    "n=20\n",
    "a=p*(1+r)**n\n",
    "print(f\"The amount after {n} years is {a}\")\n",
    "n=30\n",
    "a=p*(1+r)**n\n",
    "print(f\"The amount after {n} years is {a}\")"
   ]
  },
  {
   "cell_type": "code",
   "execution_count": 17,
   "id": "806e1b5e",
   "metadata": {},
   "outputs": [
    {
     "name": "stdout",
     "output_type": "stream",
     "text": [
      "This is if part\n"
     ]
    }
   ],
   "source": [
    "if True:               #Runs for true condition  #b    #Indentation\n",
    "    print(\"This is if part\")\n"
   ]
  },
  {
   "cell_type": "code",
   "execution_count": 20,
   "id": "74be6854",
   "metadata": {},
   "outputs": [
    {
     "name": "stdout",
     "output_type": "stream",
     "text": [
      "False\n",
      "y is greater than x\n"
     ]
    }
   ],
   "source": [
    "x=5\n",
    "y=6\n",
    "print(y<x)\n",
    "if y<x:\n",
    "    print(\"y is less than x\")\n",
    "else:\n",
    "    print(\"y is greater than x\")"
   ]
  },
  {
   "cell_type": "code",
   "execution_count": 22,
   "id": "89da79a7",
   "metadata": {},
   "outputs": [
    {
     "name": "stdout",
     "output_type": "stream",
     "text": [
      "Enter two integers, and I will tell you the relationships they satisfy.\n",
      "Enter first integer: 5\n",
      "Enter second integer: 5\n",
      "5 is equal to 5\n",
      "5 is less than or equal to 5\n",
      "5 is greater than or equal to 5\n"
     ]
    }
   ],
   "source": [
    "# fig02_01.py\n",
    "\"\"\"Comparing integers using if statements and comparison operators.\"\"\"\n",
    "\n",
    "print('Enter two integers, and I will tell you',\n",
    "'the relationships they satisfy.')\n",
    "\n",
    "# read first integer\n",
    "number1 = int(input('Enter first integer: '))\n",
    "\n",
    "# read second integer\n",
    "number2 = int(input('Enter second integer: '))\n",
    "\n",
    "if number1 == number2:\n",
    "    print(number1, 'is equal to', number2)\n",
    "\n",
    "if number1 != number2:\n",
    "    print(number1, 'is not equal to', number2)\n",
    "\n",
    "if number1 < number2:\n",
    "    print(number1, 'is less than', number2)\n",
    "\n",
    "if number1 > number2:\n",
    "    print(number1, 'is greater than', number2)\n",
    "\n",
    "if number1 <= number2:\n",
    "    print(number1, 'is less than or equal to', number2)\n",
    "\n",
    "if number1 >= number2:\n",
    "    print(number1, 'is greater than or equal to', number2)"
   ]
  },
  {
   "cell_type": "code",
   "execution_count": 27,
   "id": "3185f955",
   "metadata": {},
   "outputs": [
    {
     "name": "stdout",
     "output_type": "stream",
     "text": [
      "Enter two integers, and I will tell you the relationships they satisfy.\n",
      "Enter first integer: 40\n",
      "Enter second integer: 40\n",
      "40 is equal to 40\n"
     ]
    }
   ],
   "source": [
    "##### fig02_01.py\n",
    "\"\"\"Comparing integers using if statements and comparison operators.\"\"\"\n",
    "\n",
    "print('Enter two integers, and I will tell you',\n",
    "'the relationships they satisfy.')\n",
    "\n",
    "# if elif else\n",
    "\n",
    "# read first integer\n",
    "number1 = int(input('Enter first integer: '))\n",
    "\n",
    "# read second integer\n",
    "number2 = int(input('Enter second integer: '))\n",
    "\n",
    "if number1 == number2:\n",
    "    print(number1, 'is equal to', number2)\n",
    "\n",
    "elif number1 != number2:\n",
    "    print(number1, 'is not equal to', number2)\n",
    "\n",
    "\n",
    "elif number1 < number2:\n",
    "    print(number1, 'is less than', number2)\n",
    "\n",
    "elif number1 > number2:\n",
    "    print(number1, 'is greater than', number2)\n",
    "\n",
    "elif number1 <= number2:\n",
    "    print(number1, 'is less than or equal to', number2)\n",
    "\n",
    "elif number1 >= number2:\n",
    "    print(number1, 'is greater than or equal to', number2)\n",
    "else:\n",
    "    print(\"Else part\")"
   ]
  },
  {
   "cell_type": "code",
   "execution_count": 28,
   "id": "af7c5b52",
   "metadata": {},
   "outputs": [
    {
     "name": "stdout",
     "output_type": "stream",
     "text": [
      "You scored C Grade 67\n",
      "You scored C Grade 75\n",
      "You scored B Grade 75\n",
      "You scored C Grade 87\n",
      "You scored B Grade 87\n",
      "You scored A Grade 87\n",
      "You scored C Grade 95\n",
      "You scored B Grade 95\n",
      "You scored A Grade 95\n",
      "You scored A+ Grade 95\n"
     ]
    }
   ],
   "source": [
    "grades=[67,75,87,95]\n",
    "for score in grades:\n",
    "    if score >=60:             #Logical Error\n",
    "        print(\"You scored C Grade\",score)\n",
    "    if score >=70:\n",
    "        print(\"You scored B Grade\",score)\n",
    "    if score >=80:\n",
    "        print(\"You scored A Grade\",score)\n",
    "    if score >=90:\n",
    "        print(\"You scored A+ Grade\",score)"
   ]
  }
 ],
 "metadata": {
  "kernelspec": {
   "display_name": "Python 3",
   "language": "python",
   "name": "python3"
  },
  "language_info": {
   "codemirror_mode": {
    "name": "ipython",
    "version": 3
   },
   "file_extension": ".py",
   "mimetype": "text/x-python",
   "name": "python",
   "nbconvert_exporter": "python",
   "pygments_lexer": "ipython3",
   "version": "3.8.8"
  }
 },
 "nbformat": 4,
 "nbformat_minor": 5
}
