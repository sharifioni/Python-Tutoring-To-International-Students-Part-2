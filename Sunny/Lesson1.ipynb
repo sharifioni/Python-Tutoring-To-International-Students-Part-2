{
 "cells": [
  {
   "cell_type": "code",
   "execution_count": 4,
   "id": "4eca65ad",
   "metadata": {},
   "outputs": [
    {
     "name": "stdout",
     "output_type": "stream",
     "text": [
      "<class 'int'>\n",
      "<class 'float'>\n",
      "<class 'str'>\n"
     ]
    }
   ],
   "source": [
    "abc=52\n",
    "d=98.5\n",
    "e=\"Sunny\"\n",
    "print(type(abc))\n",
    "print(type(d))\n",
    "print(type(e))"
   ]
  },
  {
   "cell_type": "code",
   "execution_count": 5,
   "id": "4360bbac",
   "metadata": {},
   "outputs": [
    {
     "ename": "ZeroDivisionError",
     "evalue": "division by zero",
     "output_type": "error",
     "traceback": [
      "\u001b[1;31m---------------------------------------------------------------------------\u001b[0m",
      "\u001b[1;31mZeroDivisionError\u001b[0m                         Traceback (most recent call last)",
      "\u001b[1;32m<ipython-input-5-ffbe8aeac307>\u001b[0m in \u001b[0;36m<module>\u001b[1;34m\u001b[0m\n\u001b[0;32m      1\u001b[0m \u001b[1;31m#Dividing a number by zero\u001b[0m\u001b[1;33m\u001b[0m\u001b[1;33m\u001b[0m\u001b[1;33m\u001b[0m\u001b[0m\n\u001b[1;32m----> 2\u001b[1;33m \u001b[0mprint\u001b[0m\u001b[1;33m(\u001b[0m\u001b[1;36m5\u001b[0m\u001b[1;33m/\u001b[0m\u001b[1;36m0\u001b[0m\u001b[1;33m)\u001b[0m\u001b[1;33m\u001b[0m\u001b[1;33m\u001b[0m\u001b[0m\n\u001b[0m",
      "\u001b[1;31mZeroDivisionError\u001b[0m: division by zero"
     ]
    }
   ],
   "source": [
    "#Dividing a number by zero\n",
    "print(5/0)"
   ]
  },
  {
   "cell_type": "code",
   "execution_count": 6,
   "id": "d27b7ef7",
   "metadata": {},
   "outputs": [
    {
     "name": "stdout",
     "output_type": "stream",
     "text": [
      "-109.6\n"
     ]
    }
   ],
   "source": [
    "#Operator Precedence\n",
    "a=8\n",
    "b=10\n",
    "#Parenthesis Exp M/D  A/S \n",
    "expr=a/b**2*5-10*(6+5)     \n",
    "print(expr)        "
   ]
  },
  {
   "cell_type": "code",
   "execution_count": 13,
   "id": "5922bac9",
   "metadata": {},
   "outputs": [
    {
     "name": "stdout",
     "output_type": "stream",
     "text": [
      "This\tstrig\thas\ttab\tspaces\n",
      "This\n",
      "strig\n",
      "has\n",
      "multiple\n",
      "lines\n",
      "This\\nstrig\\nhas\\nmultiple\n",
      "lines\n",
      "E:\\new.txt\n"
     ]
    }
   ],
   "source": [
    "#Escape Sequence or Characters  \\t  \\n   \\\\  \\'  \\\"\n",
    "print(\"This\\tstrig\\thas\\ttab\\tspaces\")\n",
    "print(\"This\\nstrig\\nhas\\nmultiple\\nlines\")\n",
    "print(\"This\\\\nstrig\\\\nhas\\\\nmultiple\\nlines\")\n",
    "\n",
    "print(r\"E:\\new.txt\")"
   ]
  },
  {
   "cell_type": "code",
   "execution_count": 14,
   "id": "3e3ba8ee",
   "metadata": {},
   "outputs": [
    {
     "name": "stdout",
     "output_type": "stream",
     "text": [
      "number\tsquares\tcubes\n",
      "0 \t 0 \t 0\n",
      "1 \t 1 \t 1\n",
      "2 \t 4 \t 8\n",
      "3 \t 9 \t 27\n",
      "4 \t 16 \t 64\n",
      "5 \t 25 \t 125\n"
     ]
    }
   ],
   "source": [
    "print(\"number\\tsquares\\tcubes\")\n",
    "print(0,\"\\t\",0**2,\"\\t\",0**3)\n",
    "print(1,\"\\t\",1**2,\"\\t\",1**3)\n",
    "print(2,\"\\t\",2**2,\"\\t\",2**3)\n",
    "print(3,\"\\t\",3**2,\"\\t\",3**3)\n",
    "print(4,\"\\t\",4**2,\"\\t\",4**3)\n",
    "print(5,\"\\t\",5**2,\"\\t\",5**3)"
   ]
  },
  {
   "cell_type": "code",
   "execution_count": 29,
   "id": "6ccddc52",
   "metadata": {},
   "outputs": [
    {
     "name": "stdout",
     "output_type": "stream",
     "text": [
      "number\tsquares\tcubes\n",
      "0\t0\t0\n",
      "1\t1\t1\n",
      "2\t4\t8\n",
      "3\t9\t27\n",
      "4\t16\t64\n",
      "5\t25\t125\n",
      "6\t36\t216\n",
      "7\t49\t343\n",
      "8\t64\t512\n",
      "9\t81\t729\n",
      "10\t100\t1000\n"
     ]
    }
   ],
   "source": [
    "print(\"number\\tsquares\\tcubes\")\n",
    "for i in range(0,11):\n",
    "    print(f\"{i}\\t{i**2}\\t{i**3}\")\n",
    "    "
   ]
  },
  {
   "cell_type": "code",
   "execution_count": 28,
   "id": "53d69636",
   "metadata": {},
   "outputs": [
    {
     "name": "stdout",
     "output_type": "stream",
     "text": [
      "The number is integer and its value is 75\n",
      "The number is integer and its value is  65\n",
      "The number is integer and its value is 75 65\n",
      "The number is integer and its value is 75 and 65\n"
     ]
    }
   ],
   "source": [
    "a=75\n",
    "print(\"The number is\" + \" integer and its value is \"+ str(a) )\n",
    "print(\"The number is\" + \" integer and its value is \",65 )\n",
    "#f strings\n",
    "print(f\"The number is integer and its value is {a} {65}\" )\n",
    "#formatted strings\n",
    "print(\"The number is integer and its value is {} and {}\".format(a,65) )"
   ]
  },
  {
   "cell_type": "code",
   "execution_count": 32,
   "id": "2357b19b",
   "metadata": {},
   "outputs": [
    {
     "name": "stdout",
     "output_type": "stream",
     "text": [
      "120.5\n",
      "141\n"
     ]
    }
   ],
   "source": [
    "a=65\n",
    "b=55.5\n",
    "c=\"76\"\n",
    "print(a+b)\n",
    "print(a+  int(c))\n",
    "\n",
    "(#string to float\n",
    "#integer to float\n",
    "#float to integer)\n"
   ]
  },
  {
   "cell_type": "code",
   "execution_count": 1,
   "id": "d764d6c0",
   "metadata": {},
   "outputs": [
    {
     "name": "stdout",
     "output_type": "stream",
     "text": [
      "1\tX\t5\t=\t5\n"
     ]
    }
   ],
   "source": [
    "#1\tx\t5\t=\t5\n",
    "print(f\"{1}\\tX\\t{5}\\t=\\t{1*5}\")\n"
   ]
  }
 ],
 "metadata": {
  "kernelspec": {
   "display_name": "Python 3",
   "language": "python",
   "name": "python3"
  },
  "language_info": {
   "codemirror_mode": {
    "name": "ipython",
    "version": 3
   },
   "file_extension": ".py",
   "mimetype": "text/x-python",
   "name": "python",
   "nbconvert_exporter": "python",
   "pygments_lexer": "ipython3",
   "version": "3.8.8"
  }
 },
 "nbformat": 4,
 "nbformat_minor": 5
}
