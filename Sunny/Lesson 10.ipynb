{
 "cells": [
  {
   "cell_type": "markdown",
   "id": "fcbd194e",
   "metadata": {},
   "source": [
    "# Functions\n",
    "Built in Functions print()  , type() , input(), min() , max()\n",
    "User Defined Functions\n",
    "def is a keyword to write functions\n",
    "Parameters:  Variables that receive values\n",
    "Arguments:   Values passed to a function\n",
    "\n",
    "Function Calling   \n",
    "Function returning  : return value  (it will return the value to the point where function was called)\n",
    "\n",
    "\n",
    "Syntax\n",
    "\n",
    "def  name_of_function(Parameters):\n",
    "    STATEMENTS\n",
    "    return value"
   ]
  },
  {
   "cell_type": "code",
   "execution_count": 11,
   "id": "996e1137",
   "metadata": {},
   "outputs": [
    {
     "name": "stdout",
     "output_type": "stream",
     "text": [
      "4\n",
      "9\n",
      "16\n"
     ]
    }
   ],
   "source": [
    "#Function for calculating square of a number\n",
    "\"\"\"Calculate the square of number.\n",
    "hhhhhhhhhhhh\"\"\"\n",
    "\n",
    "def square(num1,num2,num3):\n",
    "    print(num1**2)\n",
    "    print(num2**2)\n",
    "    print(num3**2)\n",
    "    \n",
    "square(2,3,4)"
   ]
  },
  {
   "cell_type": "code",
   "execution_count": 10,
   "id": "ca1fd9eb",
   "metadata": {},
   "outputs": [
    {
     "name": "stdout",
     "output_type": "stream",
     "text": [
      "The result is 25\n"
     ]
    }
   ],
   "source": [
    "#Function for square of a number\n",
    "\n",
    "def square(num1):  #num1=5\n",
    "    return num1**2  #return  25\n",
    "    \n",
    "\n",
    "result=square(5)\n",
    "print(\"The result is\",result)"
   ]
  },
  {
   "cell_type": "code",
   "execution_count": 2,
   "id": "71cf8d24",
   "metadata": {},
   "outputs": [
    {
     "name": "stdout",
     "output_type": "stream",
     "text": [
      "square of 8 is 64\n"
     ]
    }
   ],
   "source": [
    "square(8)"
   ]
  },
  {
   "cell_type": "code",
   "execution_count": null,
   "id": "2ca12262",
   "metadata": {},
   "outputs": [],
   "source": [
    "# Program to print find next palindrome\n",
    "# number greater than given number.\n",
    "\n",
    "# function to check a number is\n",
    "# palindrome or not\n",
    "def isPalindrome(num):\n",
    "\n",
    "# Declaring variables\n",
    "\n",
    "# storing num in n so that we can compare it later\n",
    "    n = num\n",
    "    rev = 0\n",
    "\n",
    "    # while num is not 0 we find its reverse and store\n",
    "    # in rev\n",
    "    while (num > 0):\n",
    "        k = num % 10\n",
    "        rev = (rev * 10) + k\n",
    "        num = num / 10\n",
    "\n",
    "    # check if num and its reverse are same\n",
    "    if (n == rev):\n",
    "        return True\n",
    "    else:\n",
    "        return False\n",
    "\n",
    "\n",
    "# input number\n",
    "num = 81\n",
    "\n",
    "# start check from next num;\n",
    "num = num + 1\n",
    "\n",
    "# Loop checks all numbers from given no.\n",
    "# (num + 1) to next palindrome no.\n",
    "while (True):\n",
    "    if (isPalindrome(num)):\n",
    "        break\n",
    "    num = num + 1\n",
    "\n",
    "# printing the next palindrome\n",
    "print(\"Next Palindrome :\")\n",
    "print(num)\n",
    "\n",
    "\n",
    "\n"
   ]
  },
  {
   "cell_type": "code",
   "execution_count": 43,
   "id": "6e143b9f",
   "metadata": {},
   "outputs": [
    {
     "ename": "KeyboardInterrupt",
     "evalue": "",
     "output_type": "error",
     "traceback": [
      "\u001b[1;31m---------------------------------------------------------------------------\u001b[0m",
      "\u001b[1;31mKeyboardInterrupt\u001b[0m                         Traceback (most recent call last)",
      "\u001b[1;32m<ipython-input-43-35bc7bc5fea0>\u001b[0m in \u001b[0;36m<module>\u001b[1;34m\u001b[0m\n\u001b[0;32m     35\u001b[0m \u001b[1;31m# (num + 1) to next palindrome no.\u001b[0m\u001b[1;33m\u001b[0m\u001b[1;33m\u001b[0m\u001b[1;33m\u001b[0m\u001b[0m\n\u001b[0;32m     36\u001b[0m \u001b[1;32mwhile\u001b[0m \u001b[1;33m(\u001b[0m\u001b[1;32mTrue\u001b[0m\u001b[1;33m)\u001b[0m\u001b[1;33m:\u001b[0m\u001b[1;33m\u001b[0m\u001b[1;33m\u001b[0m\u001b[0m\n\u001b[1;32m---> 37\u001b[1;33m     \u001b[1;32mif\u001b[0m \u001b[1;33m(\u001b[0m\u001b[0misPalindrome\u001b[0m\u001b[1;33m(\u001b[0m\u001b[0mnum\u001b[0m\u001b[1;33m)\u001b[0m\u001b[1;33m)\u001b[0m\u001b[1;33m:\u001b[0m\u001b[1;33m\u001b[0m\u001b[1;33m\u001b[0m\u001b[0m\n\u001b[0m\u001b[0;32m     38\u001b[0m         \u001b[1;32mbreak\u001b[0m\u001b[1;33m\u001b[0m\u001b[1;33m\u001b[0m\u001b[0m\n\u001b[0;32m     39\u001b[0m     \u001b[0mnum\u001b[0m \u001b[1;33m=\u001b[0m \u001b[0mnum\u001b[0m \u001b[1;33m+\u001b[0m \u001b[1;36m1\u001b[0m\u001b[1;33m\u001b[0m\u001b[1;33m\u001b[0m\u001b[0m\n",
      "\u001b[1;32m<ipython-input-43-35bc7bc5fea0>\u001b[0m in \u001b[0;36misPalindrome\u001b[1;34m(num)\u001b[0m\n\u001b[0;32m     16\u001b[0m     \u001b[1;32mwhile\u001b[0m \u001b[1;33m(\u001b[0m\u001b[0mnum\u001b[0m \u001b[1;33m>\u001b[0m \u001b[1;36m0\u001b[0m\u001b[1;33m)\u001b[0m\u001b[1;33m:\u001b[0m\u001b[1;33m\u001b[0m\u001b[1;33m\u001b[0m\u001b[0m\n\u001b[0;32m     17\u001b[0m         \u001b[0mk\u001b[0m \u001b[1;33m=\u001b[0m \u001b[0mnum\u001b[0m \u001b[1;33m%\u001b[0m \u001b[1;36m10\u001b[0m\u001b[1;33m\u001b[0m\u001b[1;33m\u001b[0m\u001b[0m\n\u001b[1;32m---> 18\u001b[1;33m         \u001b[0mrev\u001b[0m \u001b[1;33m=\u001b[0m \u001b[1;33m(\u001b[0m\u001b[0mrev\u001b[0m \u001b[1;33m*\u001b[0m \u001b[1;36m10\u001b[0m\u001b[1;33m)\u001b[0m \u001b[1;33m+\u001b[0m \u001b[0mk\u001b[0m\u001b[1;33m\u001b[0m\u001b[1;33m\u001b[0m\u001b[0m\n\u001b[0m\u001b[0;32m     19\u001b[0m         \u001b[0mnum\u001b[0m \u001b[1;33m=\u001b[0m \u001b[0mnum\u001b[0m \u001b[1;33m/\u001b[0m \u001b[1;36m10\u001b[0m\u001b[1;33m\u001b[0m\u001b[1;33m\u001b[0m\u001b[0m\n\u001b[0;32m     20\u001b[0m \u001b[1;33m\u001b[0m\u001b[0m\n",
      "\u001b[1;31mKeyboardInterrupt\u001b[0m: "
     ]
    }
   ],
   "source": [
    "# Program to print find next palindrome\n",
    "# number greater than given number.\n",
    "\n",
    "# function to check a number is\n",
    "# palindrome or not\n",
    "def isPalindrome(num):\n",
    "\n",
    "# Declaring variables\n",
    "\n",
    "# storing num in n so that we can compare it later\n",
    "    n = num\n",
    "    rev = 0\n",
    "\n",
    "    # while num is not 0 we find its reverse and store\n",
    "    # in rev\n",
    "    while (num > 0):\n",
    "        k = num % 10\n",
    "        rev = (rev * 10) + k\n",
    "        num = num / 10\n",
    "\n",
    "    # check if num and its reverse are same\n",
    "    if (n == rev):\n",
    "        return True\n",
    "    else:\n",
    "        return False\n",
    "\n",
    "\n",
    "# input number\n",
    "num = 96\n",
    "\n",
    "# start check from next num;\n",
    "num = num + 1\n",
    "\n",
    "# Loop checks all numbers from given no.\n",
    "# (num + 1) to next palindrome no.\n",
    "while (True):\n",
    "    if (isPalindrome(num)):\n",
    "        break\n",
    "    num = num + 1\n",
    "\n",
    "# printing the next palindrome\n",
    "print(\"Next Palindrome :\")\n",
    "print(num)\n",
    "\n",
    "\n"
   ]
  }
 ],
 "metadata": {
  "kernelspec": {
   "display_name": "Python 3",
   "language": "python",
   "name": "python3"
  },
  "language_info": {
   "codemirror_mode": {
    "name": "ipython",
    "version": 3
   },
   "file_extension": ".py",
   "mimetype": "text/x-python",
   "name": "python",
   "nbconvert_exporter": "python",
   "pygments_lexer": "ipython3",
   "version": "3.8.8"
  }
 },
 "nbformat": 4,
 "nbformat_minor": 5
}
