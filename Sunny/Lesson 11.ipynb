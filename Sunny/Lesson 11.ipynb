{
 "cells": [
  {
   "cell_type": "code",
   "execution_count": 2,
   "id": "322e4243",
   "metadata": {},
   "outputs": [],
   "source": [
    "def convert(C):\n",
    "    print(\"We are inside this function\")\n",
    "    F= ((9 / 5) *C) + 32\n",
    "    \n",
    "    return F\n",
    "\n"
   ]
  },
  {
   "cell_type": "code",
   "execution_count": 6,
   "id": "d9aba8cb",
   "metadata": {},
   "outputs": [
    {
     "name": "stdout",
     "output_type": "stream",
     "text": [
      "This is a function that returns nothing\n",
      "This is a function that returns nothing\n"
     ]
    }
   ],
   "source": [
    "def a():\n",
    "    print(\"This is a function that returns nothing\")\n",
    "\n",
    "\n",
    "    \n",
    "a()\n",
    "a()\n"
   ]
  },
  {
   "cell_type": "code",
   "execution_count": 13,
   "id": "7149b82d",
   "metadata": {},
   "outputs": [
    {
     "name": "stdout",
     "output_type": "stream",
     "text": [
      "We are inside this function\n",
      "None\n"
     ]
    }
   ],
   "source": [
    "#Create a function that coverts Celsius into Farenheit\n",
    "def Convert_Farenheit(Celsius):\n",
    "    print(\"We are inside this function\")\n",
    "    Faren= ((9 / 5) *Celsius) + 32\n",
    "    \n",
    "\n",
    "\n",
    "cel=50\n",
    "a=Convert_Farenheit(cel)   \n",
    "print(a)"
   ]
  },
  {
   "cell_type": "code",
   "execution_count": null,
   "id": "6bf6cb58",
   "metadata": {},
   "outputs": [],
   "source": [
    "def a():\n",
    "    print('a() starts')\n",
    "    b()\n",
    "    d()\n",
    "    print('a() returns')\n",
    "    \n",
    "    \n",
    "def b():\n",
    "    print('b() starts')\n",
    "    c()\n",
    "    print('b() returns')\n",
    "    \n",
    "    \n",
    "def c():\n",
    "    print('c() starts')\n",
    "    print('c() returns')\n",
    "    \n",
    "    \n",
    "def d():\n",
    "    print('d() starts')\n",
    "    print('d() returns')\n",
    "    \n",
    "\n",
    "a()"
   ]
  },
  {
   "cell_type": "code",
   "execution_count": null,
   "id": "69243287",
   "metadata": {},
   "outputs": [],
   "source": [
    "# Roll two dices, dice 1 and dice 2\n",
    "# Calculate the sum of dice 1 and dice 2 values after rolling\n",
    "# if sum 7 or 11  you win\n",
    "# if sum is 2, 3 or 12  you lose\n",
    "# if sum is 4,5,6,8,9,10 or 12   (make that sum as point) and keep rolling again until it equals to that sum (you win) and\n",
    "#                                                                                     if it becomes 7 you lose\n",
    "\n",
    "# functions\n",
    "# while loop\n",
    "# if elif else"
   ]
  },
  {
   "cell_type": "code",
   "execution_count": 15,
   "id": "ac398660",
   "metadata": {},
   "outputs": [
    {
     "name": "stdout",
     "output_type": "stream",
     "text": [
      "3 1\n"
     ]
    }
   ],
   "source": [
    "import random\n",
    "#random.randrange(1,7)    # random numbers between 1 and 6\n",
    "#random.randint(1,6)      # random numbers between 1 and 6\n",
    "\n",
    "dice1= random.randrange(1,7)\n",
    "dice2= random.randrange(1,7)\n",
    "\n",
    "print(dice1 , dice2)"
   ]
  }
 ],
 "metadata": {
  "kernelspec": {
   "display_name": "Python 3",
   "language": "python",
   "name": "python3"
  },
  "language_info": {
   "codemirror_mode": {
    "name": "ipython",
    "version": 3
   },
   "file_extension": ".py",
   "mimetype": "text/x-python",
   "name": "python",
   "nbconvert_exporter": "python",
   "pygments_lexer": "ipython3",
   "version": "3.8.8"
  }
 },
 "nbformat": 4,
 "nbformat_minor": 5
}
