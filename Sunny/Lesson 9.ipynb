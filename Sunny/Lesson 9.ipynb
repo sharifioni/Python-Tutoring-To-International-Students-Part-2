{
 "cells": [
  {
   "cell_type": "code",
   "execution_count": 4,
   "id": "dcb6195c",
   "metadata": {},
   "outputs": [
    {
     "name": "stdout",
     "output_type": "stream",
     "text": [
      "Enter any number:22\n",
      "22 number is even number\n"
     ]
    }
   ],
   "source": [
    "df=int(input(\"Enter any number:\"))   #22\n",
    "if df%2==1:\n",
    "    print(f\"{df} number is odd number\")\n",
    "else:\n",
    "    print(f\"{df} number is even number\")\n"
   ]
  },
  {
   "cell_type": "code",
   "execution_count": 4,
   "id": "da3a7a81",
   "metadata": {},
   "outputs": [
    {
     "name": "stdout",
     "output_type": "stream",
     "text": [
      "The number is:  2\n",
      "The number is:  4\n",
      "The number is:  6\n",
      "The number is:  10\n"
     ]
    }
   ],
   "source": [
    "#break     breaks or stops the current loop\n",
    "#continue  it'll skip the code written below for that iteration\n",
    "even_numbers=[2,4,6,8,10]\n",
    "\n",
    "for num in even_numbers:   #num=2,4,6,8,10\n",
    "    \n",
    "    if num==8:\n",
    "        break\n",
    "        \n",
    "    print(\"The number is: \",num)\n",
    "        \n",
    "    \n"
   ]
  },
  {
   "cell_type": "code",
   "execution_count": 13,
   "id": "ed763dfe",
   "metadata": {},
   "outputs": [
    {
     "name": "stdout",
     "output_type": "stream",
     "text": [
      "2\n",
      "4\n",
      "8\n"
     ]
    }
   ],
   "source": [
    "#break     breaks or stops the current loop\n",
    "#continue  it'll skip the code written below for that iteration\n",
    "even_numbers=[2,4,6,8,10]\n",
    "\n",
    "for num in even_numbers:   #num=2,4,6,8,10\n",
    "    \n",
    "    if num==6 or num==10:  #True\n",
    "        continue\n",
    "    print(num)"
   ]
  },
  {
   "cell_type": "code",
   "execution_count": 5,
   "id": "045aea13",
   "metadata": {},
   "outputs": [
    {
     "name": "stdout",
     "output_type": "stream",
     "text": [
      "16\n",
      "Enter any number between 1 and 20: 6\n",
      "You have guessed for 1 time\n",
      "Please guess higher\n",
      "Enter any number between 1 and 20: 10\n",
      "You have guessed for 2 time\n",
      "Please guess higher\n",
      "Enter any number between 1 and 20: 15\n",
      "You have guessed for 3 time\n",
      "Please guess higher\n",
      "Enter any number between 1 and 20: 17\n",
      "You have guessed for 4 time\n",
      "Please guess lower\n",
      "Enter any number between 1 and 20: 16\n",
      "You have guessed for 5 time\n",
      "you guessed correctly\n",
      "You have lost the game\n"
     ]
    }
   ],
   "source": [
    "#total 5 guesses\n",
    "#guessed value is less than the actual value, ask the user to guess higher\n",
    "#guessed value is greater than the actual value, ask the user to guess lower\n",
    "#guessed value is equal to actual value and total is less than 5, you win\n",
    "\n",
    "import random as rd\n",
    "\n",
    "answer=rd.randint(1,20)\n",
    "print(answer)\n",
    "\n",
    "guesses=0\n",
    "\n",
    "while guesses<5:\n",
    "    guess=int(input(\"Enter any number between 1 and 20: \"))\n",
    "    guesses+=1\n",
    "    print(f\"You have guessed for {guesses} time\")\n",
    "    \n",
    "    if guess<answer:\n",
    "        print(\"Please guess higher\")\n",
    "        \n",
    "    elif guess>answer:\n",
    "        print(\"Please guess lower\")\n",
    "        \n",
    "    else:\n",
    "        print(\"you guessed correctly\")\n",
    "    \n",
    "    if guesses==5:\n",
    "        print(\"You have lost the game\")\n",
    "        \n",
    "    if guess==answer:\n",
    "        break\n",
    "        \n",
    "        \n",
    "    \n",
    "    "
   ]
  },
  {
   "cell_type": "code",
   "execution_count": 40,
   "id": "f9448724",
   "metadata": {},
   "outputs": [
    {
     "name": "stdout",
     "output_type": "stream",
     "text": [
      "Enter any number13\n",
      "13  is a prime number\n"
     ]
    }
   ],
   "source": [
    "number=int(input(\"Enter any number\"))    #12\n",
    "flag=1\n",
    "\n",
    "for i in range(2,number):   #2,11  stop=12\n",
    "    if number%i==0:\n",
    "        flag=0\n",
    "        break\n",
    "if flag==1:\n",
    "    print(number, \" is a prime number\")\n",
    "else:\n",
    "    print(number, \"is not a prime number\")"
   ]
  },
  {
   "cell_type": "code",
   "execution_count": null,
   "id": "f370aca9",
   "metadata": {},
   "outputs": [],
   "source": []
  }
 ],
 "metadata": {
  "kernelspec": {
   "display_name": "Python 3",
   "language": "python",
   "name": "python3"
  },
  "language_info": {
   "codemirror_mode": {
    "name": "ipython",
    "version": 3
   },
   "file_extension": ".py",
   "mimetype": "text/x-python",
   "name": "python",
   "nbconvert_exporter": "python",
   "pygments_lexer": "ipython3",
   "version": "3.8.8"
  }
 },
 "nbformat": 4,
 "nbformat_minor": 5
}
