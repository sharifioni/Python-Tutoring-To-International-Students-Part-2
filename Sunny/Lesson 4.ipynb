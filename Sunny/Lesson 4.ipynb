{
 "cells": [
  {
   "cell_type": "code",
   "execution_count": 3,
   "id": "c532fb21",
   "metadata": {},
   "outputs": [
    {
     "name": "stdout",
     "output_type": "stream",
     "text": [
      "1\n"
     ]
    }
   ],
   "source": [
    "#find-determines if the string str occurs in string\n",
    "#returns the index of first occurrence of the substring\n",
    "number=\"1 2,3,3,3,3,3,4,5,6\"\n",
    "x= number.find(\" \")\n",
    "print(x)\n"
   ]
  },
  {
   "cell_type": "code",
   "execution_count": 7,
   "id": "52f181b0",
   "metadata": {},
   "outputs": [
    {
     "name": "stdout",
     "output_type": "stream",
     "text": [
      "<class 'list'>\n"
     ]
    }
   ],
   "source": [
    "a=[24,50,11,9,15]\n",
    "print(type(a))"
   ]
  },
  {
   "cell_type": "code",
   "execution_count": 11,
   "id": "56b3f48a",
   "metadata": {},
   "outputs": [
    {
     "name": "stdout",
     "output_type": "stream",
     "text": [
      "20\n",
      "8\n"
     ]
    }
   ],
   "source": [
    "print(max(15,10,8,20))\n",
    "print(min(15,10,8,20))\n"
   ]
  },
  {
   "cell_type": "code",
   "execution_count": 19,
   "id": "06f67cd4",
   "metadata": {},
   "outputs": [
    {
     "name": "stdout",
     "output_type": "stream",
     "text": [
      "True\n"
     ]
    }
   ],
   "source": [
    "#Chaining Comparisons\n",
    "x=3\n",
    "print(1<x<5)\n"
   ]
  },
  {
   "cell_type": "code",
   "execution_count": 29,
   "id": "ace0ebc3",
   "metadata": {},
   "outputs": [
    {
     "name": "stdout",
     "output_type": "stream",
     "text": [
      "2.5\n",
      "2\n",
      "0\n"
     ]
    }
   ],
   "source": [
    "x=15\n",
    "y=4\n",
    "print(10/4)     #complete answer in float\n",
    "print(10//4)   #it only gives you integer part\n",
    "print(12%4)    #Remainder"
   ]
  },
  {
   "cell_type": "code",
   "execution_count": 34,
   "id": "11314307",
   "metadata": {},
   "outputs": [
    {
     "name": "stdout",
     "output_type": "stream",
     "text": [
      "Enter any number: 5\n",
      "5 is odd\n"
     ]
    }
   ],
   "source": [
    "#Program for even numbers\n",
    "num1=int(input(\"Enter any number: \"))\n",
    "if num1%2==0:                         #Indentation\n",
    "    print(f\"{num1} is even\")\n",
    "    print(\"if BLOCK\")\n",
    "    \n",
    "else:\n",
    "    print(f\"{num1} is odd\")\n"
   ]
  },
  {
   "cell_type": "code",
   "execution_count": 41,
   "id": "7f109f9c",
   "metadata": {},
   "outputs": [
    {
     "name": "stdout",
     "output_type": "stream",
     "text": [
      "42\n"
     ]
    }
   ],
   "source": [
    "print(ord('*'))"
   ]
  },
  {
   "cell_type": "code",
   "execution_count": 60,
   "id": "17ee0c87",
   "metadata": {},
   "outputs": [
    {
     "name": "stdout",
     "output_type": "stream",
     "text": [
      "4\t2\t3\t3\t9\n"
     ]
    }
   ],
   "source": [
    "#2.11\n",
    "num=42339\n",
    "\n",
    "a1=num // 10000\n",
    "#print(a1)\n",
    "b1=num%10000\n",
    "#print(b1)\n",
    "\n",
    "a2=b1 // 1000\n",
    "#print(a2)\n",
    "b2=b1%1000\n",
    "#print(b2)\n",
    "\n",
    "a3=b2 // 100\n",
    "#print(a3)\n",
    "b3=b2%100\n",
    "#print(b3)\n",
    "\n",
    "a4=b3//10\n",
    "#print(a4)\n",
    "b4=b3%10\n",
    "#print(b4)\n",
    "a5=b4\n",
    "\n",
    "print(f\"{a1}\\t{a2}\\t{a3}\\t{a4}\\t{a5}\")"
   ]
  }
 ],
 "metadata": {
  "kernelspec": {
   "display_name": "Python 3",
   "language": "python",
   "name": "python3"
  },
  "language_info": {
   "codemirror_mode": {
    "name": "ipython",
    "version": 3
   },
   "file_extension": ".py",
   "mimetype": "text/x-python",
   "name": "python",
   "nbconvert_exporter": "python",
   "pygments_lexer": "ipython3",
   "version": "3.8.8"
  }
 },
 "nbformat": 4,
 "nbformat_minor": 5
}
