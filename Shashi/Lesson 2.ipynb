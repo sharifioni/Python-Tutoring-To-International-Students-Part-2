{
 "cells": [
  {
   "cell_type": "markdown",
   "id": "1e971a10",
   "metadata": {},
   "source": [
    "# Escape Sequences\n",
    "\n",
    "* Escape sequences are used inside a string to display your output in a meaningful way\n",
    "* \\ is called escape character (Continuation operator\n",
    "* \\n it is used for creating a new line in a string\n",
    "* \\t it is used for creating tab spaces in a string (4 spaces)\n",
    "* \\\\ it is used to remove the special purpose of other escape sequences"
   ]
  },
  {
   "cell_type": "code",
   "execution_count": 2,
   "id": "4671e3fe",
   "metadata": {},
   "outputs": [
    {
     "name": "stdout",
     "output_type": "stream",
     "text": [
      "Hello \n",
      "World\n"
     ]
    }
   ],
   "source": [
    "print(\"Hello \\nWorld\")"
   ]
  },
  {
   "cell_type": "code",
   "execution_count": 2,
   "id": "6cff5b16",
   "metadata": {},
   "outputs": [
    {
     "name": "stdout",
     "output_type": "stream",
     "text": [
      "Hell World\n",
      "My name is Shah\n",
      "We are learning python\n"
     ]
    }
   ],
   "source": [
    "print('Hell World',\"My name is Shah\",\"We are learning python\",sep='\\n')"
   ]
  },
  {
   "cell_type": "code",
   "execution_count": 3,
   "id": "f6c19943",
   "metadata": {},
   "outputs": [
    {
     "name": "stdout",
     "output_type": "stream",
     "text": [
      "Hello\tWorld\n"
     ]
    }
   ],
   "source": [
    "print(\"Hello\\tWorld\")"
   ]
  },
  {
   "cell_type": "code",
   "execution_count": 4,
   "id": "84952c81",
   "metadata": {},
   "outputs": [
    {
     "name": "stdout",
     "output_type": "stream",
     "text": [
      "Hell World\tMy name is Shah\tWe are learning python\n"
     ]
    }
   ],
   "source": [
    "print('Hell World',\"My name is Shah\",\"We are learning python\",sep='\\t')"
   ]
  },
  {
   "cell_type": "code",
   "execution_count": 5,
   "id": "8fe3504b",
   "metadata": {},
   "outputs": [
    {
     "name": "stdout",
     "output_type": "stream",
     "text": [
      "1\t3\t5\n"
     ]
    }
   ],
   "source": [
    "print(1,3,5,sep='\\t')"
   ]
  },
  {
   "cell_type": "code",
   "execution_count": 4,
   "id": "e7ee5b45",
   "metadata": {},
   "outputs": [
    {
     "name": "stdout",
     "output_type": "stream",
     "text": [
      "Hi ggggggggggggggggggg hhhhhhhhhhhhhhhhhhhhhhhhhhhhhhhhhjjjjjjjjjjjjjjjjjjjjjjjjjjjjjjjj jjjjjjjjjjjjjjjjjjjjjjjjjjjjjjjjj jjjjjjjjjjjjjjjjjjjjjjjjjjjjjjjjj\n"
     ]
    }
   ],
   "source": [
    "print(\"Hi ggggggggggggggggggg hhhhhhhhhhhhhhhhhhhhhhhhhhhhhhhhh\\\n",
    "jjjjjjjjjjjjjjjjjjjjjjjjjjjjjjjj jjjjjjjjjjjjjjjjjjjjjjjjjjjjjjjjj jjjjjjjjjjjjjjjjjjjjjj\\\n",
    "jjjjjjjjjjj\")"
   ]
  },
  {
   "cell_type": "code",
   "execution_count": 6,
   "id": "93217823",
   "metadata": {},
   "outputs": [
    {
     "name": "stdout",
     "output_type": "stream",
     "text": [
      "hhhhhhhhhhhhhhhhhhhhhhhhhh\n",
      "hhhhhhh\n",
      "jjjj\n"
     ]
    }
   ],
   "source": [
    "print(\"\"\"hhhhhhhhhhhhhhhhhhhhhhhhhh\n",
    "hhhhhhh\n",
    "jjjj\"\"\")"
   ]
  },
  {
   "cell_type": "code",
   "execution_count": 8,
   "id": "459dce25",
   "metadata": {},
   "outputs": [
    {
     "name": "stdout",
     "output_type": "stream",
     "text": [
      "E:\\new.txt\n"
     ]
    }
   ],
   "source": [
    "print(\"E:\\\\new.txt\")"
   ]
  },
  {
   "cell_type": "code",
   "execution_count": 8,
   "id": "8ebf1a9e",
   "metadata": {},
   "outputs": [
    {
     "name": "stdout",
     "output_type": "stream",
     "text": [
      "number\tsquare\tcube\n",
      "0\t0\t0\n"
     ]
    }
   ],
   "source": [
    "# Exercise 2.8\n",
    "print(\"number\",\"square\",\"cube\",sep=\"\\t\")\n",
    "print(0,0**2,0**3,sep='\\t')"
   ]
  },
  {
   "cell_type": "markdown",
   "id": "b56e60b8",
   "metadata": {},
   "source": [
    "# Variables\n",
    "* Variable: name that represents a value stored in the computer memory \n",
    "* General format is variable = expression \n",
    "\n"
   ]
  },
  {
   "cell_type": "code",
   "execution_count": 9,
   "id": "926abfcb",
   "metadata": {},
   "outputs": [
    {
     "name": "stdout",
     "output_type": "stream",
     "text": [
      "Shahjahan\t23\t1.75\t68\tPython\n"
     ]
    }
   ],
   "source": [
    "# In variable naming, you can only use letters digits or underscore\n",
    "# The first letter should be character or an underscore\n",
    "age = 23\n",
    "ageM25=24\n",
    "\n",
    "name=\"Shahjahan\"\n",
    "skill=\"Python\"\n",
    "height=1.75\n",
    "weight=68\n",
    "\n",
    "print(name,age,height,weight,skill,sep=\"\\t\")\n",
    "\n",
    "# Name=Shahjahan  age=23  height=1.75  weight=68   skill=Python"
   ]
  },
  {
   "cell_type": "code",
   "execution_count": 10,
   "id": "8195709e",
   "metadata": {},
   "outputs": [],
   "source": [
    "number1 = 32\n",
    "number2 = 45"
   ]
  },
  {
   "cell_type": "code",
   "execution_count": 12,
   "id": "05979867",
   "metadata": {},
   "outputs": [
    {
     "name": "stdout",
     "output_type": "stream",
     "text": [
      "23\n",
      "2885970914288\n",
      "75\n",
      "2885971104432\n"
     ]
    }
   ],
   "source": [
    "# Variable reassigning\n",
    "\n",
    "age=23\n",
    "\n",
    "print(age)\n",
    "print(id(age))\n",
    "\n",
    "age=75\n",
    "print(age)\n",
    "print(id(age))\n"
   ]
  },
  {
   "cell_type": "markdown",
   "id": "6dea649d",
   "metadata": {},
   "source": [
    "# fstrings and formatted strings"
   ]
  },
  {
   "cell_type": "code",
   "execution_count": 14,
   "id": "071dbce4",
   "metadata": {},
   "outputs": [
    {
     "name": "stdout",
     "output_type": "stream",
     "text": [
      "Name=\tShahjahan\tAge=\t23\tHeight=\t1.75\tWeight=\t68\tSkill=\tPython\n",
      "name\n"
     ]
    }
   ],
   "source": [
    "age=23\n",
    "name=\"Shahjahan\"\n",
    "skill=\"Python\"\n",
    "height=1.75\n",
    "weight=68\n",
    "\n",
    "print(\"Name=\",name,\"Age=\",age,\"Height=\",height,\"Weight=\",weight,\"Skill=\",skill,sep=\"\\t\")\n",
    "print(\"name\")"
   ]
  },
  {
   "cell_type": "code",
   "execution_count": 17,
   "id": "03ced871",
   "metadata": {},
   "outputs": [
    {
     "name": "stdout",
     "output_type": "stream",
     "text": [
      "Name=Shahjahan\tAge=23\tHeight=1.75\tWeight=68\tskill=Python\n"
     ]
    }
   ],
   "source": [
    "#fstring\n",
    "print(f\"Name={name}\\tAge={age}\\tHeight={height}\\tWeight={weight}\\tskill={skill}\")"
   ]
  },
  {
   "cell_type": "code",
   "execution_count": 18,
   "id": "477e3e01",
   "metadata": {},
   "outputs": [
    {
     "name": "stdout",
     "output_type": "stream",
     "text": [
      "Name=Shahjahan\tAge=23\tHeight=1.75\tWeight=68\tskill=Python\n"
     ]
    }
   ],
   "source": [
    "#formatted strings\n",
    "print(\"Name={}\\tAge={}\\tHeight={}\\tWeight={}\\tskill={}\".format(name,age,height,weight,skill))"
   ]
  },
  {
   "cell_type": "code",
   "execution_count": null,
   "id": "cffa788d",
   "metadata": {},
   "outputs": [],
   "source": [
    "#Operator Precedence\n",
    "#Type Conversion\n",
    "#Input Function\n",
    "#Comparison Operators\n",
    "#if else\n",
    "#Logical operators\n",
    "#multiple if "
   ]
  },
  {
   "cell_type": "code",
   "execution_count": null,
   "id": "3701ed79",
   "metadata": {},
   "outputs": [],
   "source": []
  },
  {
   "cell_type": "code",
   "execution_count": null,
   "id": "e5fc05a7",
   "metadata": {},
   "outputs": [],
   "source": [
    "abc={\"color\":\"Red\"}"
   ]
  },
  {
   "cell_type": "markdown",
   "id": "066ee719",
   "metadata": {},
   "source": [
    "# Homework\n",
    "\n",
    "* Review \\\\' and \\\\\" Escape Seuquences\n",
    "* Exercise 2.4, 2.5\n",
    "* Do remaining part of Exercise 2.8\n",
    "* Do homework with and without f-strings/formatted strings"
   ]
  }
 ],
 "metadata": {
  "kernelspec": {
   "display_name": "Python 3 (ipykernel)",
   "language": "python",
   "name": "python3"
  },
  "language_info": {
   "codemirror_mode": {
    "name": "ipython",
    "version": 3
   },
   "file_extension": ".py",
   "mimetype": "text/x-python",
   "name": "python",
   "nbconvert_exporter": "python",
   "pygments_lexer": "ipython3",
   "version": "3.9.7"
  }
 },
 "nbformat": 4,
 "nbformat_minor": 5
}
