{
 "cells": [
  {
   "cell_type": "markdown",
   "id": "3fe2b3d8",
   "metadata": {},
   "source": [
    "# Data Analysis\n",
    "* A process of inspecting, cleansing, transforming and modelling data with the goal of discovering useful information and that supports some decision making based on the analysis\n",
    "\n",
    "# Tools\n",
    "### Auto managed tools\n",
    "* Excel\n",
    "* Tableau\n",
    "* Qlik\n",
    "* looker\n",
    "* Power BI\n",
    "\n",
    "### Programming Languages\n",
    "* Python\n",
    "* R\n",
    "* Julia"
   ]
  },
  {
   "cell_type": "markdown",
   "id": "129810c4",
   "metadata": {},
   "source": [
    "# Why to use Python for data analysis?\n",
    "* Simple to learn\n",
    "* Powerful packages / libraries that you can use for not just data analysis but other tasks as well"
   ]
  },
  {
   "cell_type": "markdown",
   "id": "956f3da2",
   "metadata": {},
   "source": [
    "# Data Analysis Process\n",
    "#### Data Extraction\n",
    "* Excel , CSV\n",
    "* SQL (Database)\n",
    "* Web scraping\n",
    "* JSON , XML\n",
    "* Buy Data\n",
    "* Distributed Databases\n",
    "\n",
    "### Data Cleaning\n",
    "* Missing Values\n",
    "* Incorrect types\n",
    "* Incorrect or invalid values\n",
    "* Outliers\n",
    "\n",
    "### Data wrangling\n",
    "* Hierarchical Data\n",
    "* Handling categorical data\n",
    "* Reshaping and transforming structures\n",
    "* Indexing data for quick access\n",
    "\n",
    "### Analysis\n",
    "* Exploration\n",
    "* Build statistical models\n",
    "* Correlation\n",
    "* Hypothesis testing\n",
    "* Statistical analysis\n",
    "* Reporting\n",
    "\n",
    "### Action\n",
    "* Decision \n",
    "* Build Machine Learning models\n",
    "* Live dashboards and reporting"
   ]
  },
  {
   "cell_type": "markdown",
   "id": "042eb8e8",
   "metadata": {},
   "source": [
    "# Packages / Libraries to use for data analysis in Python\n",
    "* pandas (Data Analysis )\n",
    "* matplotlib (Foundational library for visualization)\n",
    "* numpy   (numerical calculations)\n",
    "* seaborn (a statistical visualization package)\n",
    "* statsmodels (Advanced statistical functions)\n",
    "* scipy   (Advanced scientific computing, linear algebra, image processing)\n",
    "* scikit learn  (Core library for machine learning)"
   ]
  },
  {
   "cell_type": "markdown",
   "id": "44ad805f",
   "metadata": {},
   "source": [
    "# Numpy\n",
    "* It is a core package for numerical computing\n",
    "* it processes very fast"
   ]
  },
  {
   "cell_type": "code",
   "execution_count": 2,
   "id": "bc6cc256",
   "metadata": {},
   "outputs": [],
   "source": [
    "import numpy"
   ]
  },
  {
   "cell_type": "code",
   "execution_count": 30,
   "id": "cf82b7dd",
   "metadata": {},
   "outputs": [
    {
     "name": "stdout",
     "output_type": "stream",
     "text": [
      "[1 3 5 7 9]\n"
     ]
    }
   ],
   "source": [
    "# Matrices\n",
    "a = numpy.array([1,3,5,7,9])\n",
    "print(a)"
   ]
  },
  {
   "cell_type": "code",
   "execution_count": 38,
   "id": "19ae9741",
   "metadata": {},
   "outputs": [
    {
     "name": "stdout",
     "output_type": "stream",
     "text": [
      "3\n",
      "7\n",
      "9\n"
     ]
    }
   ],
   "source": [
    "# indexing\n",
    "# Accessing individual values from an array\n",
    "# Can be used with any sequence\n",
    "# positive and negative indexing\n",
    "print(a[1])\n",
    "print(a[3])\n",
    "print(a[4])"
   ]
  },
  {
   "cell_type": "code",
   "execution_count": 32,
   "id": "47f4bb45",
   "metadata": {},
   "outputs": [
    {
     "name": "stdout",
     "output_type": "stream",
     "text": [
      "3\n",
      "7\n"
     ]
    }
   ],
   "source": [
    "print(a[-4])\n",
    "print(a[-2])"
   ]
  },
  {
   "cell_type": "code",
   "execution_count": 39,
   "id": "5fde671b",
   "metadata": {},
   "outputs": [
    {
     "name": "stdout",
     "output_type": "stream",
     "text": [
      "[3 5 7]\n",
      "[1 5 9]\n"
     ]
    }
   ],
   "source": [
    "# slicing\n",
    "# Accessing group of elements from a sequence (strings, lists, tuple, range, numpy arrays)\n",
    "# start, stop, step\n",
    "print(a[1 : 4])\n",
    "print(a[0 : 5: 2])"
   ]
  },
  {
   "cell_type": "code",
   "execution_count": 28,
   "id": "de69295e",
   "metadata": {},
   "outputs": [
    {
     "name": "stdout",
     "output_type": "stream",
     "text": [
      "J\n"
     ]
    }
   ],
   "source": [
    "name = \"John\"\n",
    "print(name[0])"
   ]
  },
  {
   "cell_type": "code",
   "execution_count": 23,
   "id": "a865326c",
   "metadata": {},
   "outputs": [
    {
     "data": {
      "text/plain": [
       "5"
      ]
     },
     "execution_count": 23,
     "metadata": {},
     "output_type": "execute_result"
    }
   ],
   "source": [
    "a.size"
   ]
  },
  {
   "cell_type": "code",
   "execution_count": 4,
   "id": "0343cebc",
   "metadata": {},
   "outputs": [
    {
     "data": {
      "text/plain": [
       "dtype('int32')"
      ]
     },
     "execution_count": 4,
     "metadata": {},
     "output_type": "execute_result"
    }
   ],
   "source": [
    "a.dtype"
   ]
  },
  {
   "cell_type": "code",
   "execution_count": 17,
   "id": "dc88526e",
   "metadata": {},
   "outputs": [],
   "source": [
    "b = numpy.array([ [2,4,8,10] , [1,3,5,7], [10,12,14,16] ])"
   ]
  },
  {
   "cell_type": "code",
   "execution_count": null,
   "id": "1b659832",
   "metadata": {},
   "outputs": [],
   "source": []
  },
  {
   "cell_type": "code",
   "execution_count": 13,
   "id": "4e0b9d3b",
   "metadata": {},
   "outputs": [
    {
     "data": {
      "text/plain": [
       "(4,)"
      ]
     },
     "execution_count": 13,
     "metadata": {},
     "output_type": "execute_result"
    }
   ],
   "source": [
    "a.shape"
   ]
  },
  {
   "cell_type": "code",
   "execution_count": 18,
   "id": "9ec009b6",
   "metadata": {},
   "outputs": [
    {
     "data": {
      "text/plain": [
       "(3, 4)"
      ]
     },
     "execution_count": 18,
     "metadata": {},
     "output_type": "execute_result"
    }
   ],
   "source": [
    "b.shape"
   ]
  },
  {
   "cell_type": "code",
   "execution_count": 19,
   "id": "70f70c15",
   "metadata": {},
   "outputs": [
    {
     "data": {
      "text/plain": [
       "2"
      ]
     },
     "execution_count": 19,
     "metadata": {},
     "output_type": "execute_result"
    }
   ],
   "source": [
    "b.ndim"
   ]
  },
  {
   "cell_type": "code",
   "execution_count": 21,
   "id": "afb17678",
   "metadata": {},
   "outputs": [
    {
     "name": "stdout",
     "output_type": "stream",
     "text": [
      "[13, 14, 15, 16]\n",
      "<class 'list'>\n"
     ]
    }
   ],
   "source": [
    " a = [13, 14, 15, 16]\n",
    "print(a)\n",
    "print(type(a))"
   ]
  },
  {
   "cell_type": "code",
   "execution_count": null,
   "id": "6bb13688",
   "metadata": {},
   "outputs": [],
   "source": [
    "# numpy operations\n",
    "# nump booleans\n",
    "# pandas data frames"
   ]
  }
 ],
 "metadata": {
  "kernelspec": {
   "display_name": "Python 3 (ipykernel)",
   "language": "python",
   "name": "python3"
  },
  "language_info": {
   "codemirror_mode": {
    "name": "ipython",
    "version": 3
   },
   "file_extension": ".py",
   "mimetype": "text/x-python",
   "name": "python",
   "nbconvert_exporter": "python",
   "pygments_lexer": "ipython3",
   "version": "3.9.7"
  }
 },
 "nbformat": 4,
 "nbformat_minor": 5
}
