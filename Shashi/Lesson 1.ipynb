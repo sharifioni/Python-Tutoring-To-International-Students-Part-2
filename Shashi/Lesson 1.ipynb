{
 "cells": [
  {
   "cell_type": "markdown",
   "id": "f0745b2a",
   "metadata": {},
   "source": [
    "# Python Introduction\n",
    "* Interpreter\n",
    "* High level languages\n",
    "* Machine Language / low level language\n",
    "* Use of binary numbers in Computer\n",
    "* Syntax (Rules that you follow to run your code)"
   ]
  },
  {
   "cell_type": "markdown",
   "id": "98cc776b",
   "metadata": {},
   "source": [
    "## Print Function"
   ]
  },
  {
   "cell_type": "code",
   "execution_count": 2,
   "id": "bfa6b73e",
   "metadata": {},
   "outputs": [
    {
     "name": "stdout",
     "output_type": "stream",
     "text": [
      "Hello World 2\n",
      "My name is Shah\n",
      "We are learning python\n"
     ]
    }
   ],
   "source": [
    "#Paranthesis ()\n",
    "#Arguments: Values that you pass to function\n",
    "print('Hello World',2)\n",
    "print(\"My name is Shah\")\n",
    "print(\"We are learning python\")"
   ]
  },
  {
   "cell_type": "code",
   "execution_count": 10,
   "id": "d76890f1",
   "metadata": {},
   "outputs": [
    {
     "name": "stdout",
     "output_type": "stream",
     "text": [
      "Hell World My name is Shah We are learning python\n"
     ]
    }
   ],
   "source": [
    "print('Hell World',\"My name is Shah\",\"We are learning python\")"
   ]
  },
  {
   "cell_type": "code",
   "execution_count": 7,
   "id": "a93fc021",
   "metadata": {},
   "outputs": [
    {
     "name": "stdout",
     "output_type": "stream",
     "text": [
      "Hell World---My name is Shah---We are learning python\n"
     ]
    }
   ],
   "source": [
    "print('Hell World',\"My name is Shah\",\"We are learning python\",sep='---')"
   ]
  },
  {
   "cell_type": "code",
   "execution_count": 11,
   "id": "c1dfa33d",
   "metadata": {},
   "outputs": [
    {
     "name": "stdout",
     "output_type": "stream",
     "text": [
      "Hell World My name is Shah We are learning python\n"
     ]
    }
   ],
   "source": [
    "print('Hell World',end=' ')\n",
    "print(\"My name is Shah\",end=' ')\n",
    "print(\"We are learning python\")"
   ]
  },
  {
   "cell_type": "code",
   "execution_count": 12,
   "id": "b5cc55a8",
   "metadata": {},
   "outputs": [
    {
     "name": "stdout",
     "output_type": "stream",
     "text": [
      "Help on built-in function print in module builtins:\n",
      "\n",
      "print(...)\n",
      "    print(value, ..., sep=' ', end='\\n', file=sys.stdout, flush=False)\n",
      "    \n",
      "    Prints the values to a stream, or to sys.stdout by default.\n",
      "    Optional keyword arguments:\n",
      "    file:  a file-like object (stream); defaults to the current sys.stdout.\n",
      "    sep:   string inserted between values, default a space.\n",
      "    end:   string appended after the last value, default a newline.\n",
      "    flush: whether to forcibly flush the stream.\n",
      "\n"
     ]
    }
   ],
   "source": [
    "help(print)"
   ]
  },
  {
   "cell_type": "markdown",
   "id": "fe65fb26",
   "metadata": {},
   "source": [
    "# Basic Data types in Python\n",
    "1. String \n",
    "1. Integer\n",
    "1. Float\n",
    "1. Boolean"
   ]
  },
  {
   "cell_type": "code",
   "execution_count": 19,
   "id": "cff810f4",
   "metadata": {},
   "outputs": [
    {
     "name": "stdout",
     "output_type": "stream",
     "text": [
      "Python\n",
      "2\n",
      "3.5\n",
      "True False\n"
     ]
    }
   ],
   "source": [
    "# Basic data type in python\n",
    "print(\"Python\",\"123456\")\n",
    "print(2)\n",
    "print(3.5)\n",
    "print(True,False)"
   ]
  },
  {
   "cell_type": "code",
   "execution_count": 14,
   "id": "26406967",
   "metadata": {},
   "outputs": [
    {
     "name": "stdout",
     "output_type": "stream",
     "text": [
      "Help on class type in module builtins:\n",
      "\n",
      "class type(object)\n",
      " |  type(object_or_name, bases, dict)\n",
      " |  type(object) -> the object's type\n",
      " |  type(name, bases, dict) -> a new type\n",
      " |  \n",
      " |  Methods defined here:\n",
      " |  \n",
      " |  __call__(self, /, *args, **kwargs)\n",
      " |      Call self as a function.\n",
      " |  \n",
      " |  __delattr__(self, name, /)\n",
      " |      Implement delattr(self, name).\n",
      " |  \n",
      " |  __dir__(self, /)\n",
      " |      Specialized __dir__ implementation for types.\n",
      " |  \n",
      " |  __getattribute__(self, name, /)\n",
      " |      Return getattr(self, name).\n",
      " |  \n",
      " |  __init__(self, /, *args, **kwargs)\n",
      " |      Initialize self.  See help(type(self)) for accurate signature.\n",
      " |  \n",
      " |  __instancecheck__(self, instance, /)\n",
      " |      Check if an object is an instance.\n",
      " |  \n",
      " |  __repr__(self, /)\n",
      " |      Return repr(self).\n",
      " |  \n",
      " |  __setattr__(self, name, value, /)\n",
      " |      Implement setattr(self, name, value).\n",
      " |  \n",
      " |  __sizeof__(self, /)\n",
      " |      Return memory consumption of the type object.\n",
      " |  \n",
      " |  __subclasscheck__(self, subclass, /)\n",
      " |      Check if a class is a subclass.\n",
      " |  \n",
      " |  __subclasses__(self, /)\n",
      " |      Return a list of immediate subclasses.\n",
      " |  \n",
      " |  mro(self, /)\n",
      " |      Return a type's method resolution order.\n",
      " |  \n",
      " |  ----------------------------------------------------------------------\n",
      " |  Class methods defined here:\n",
      " |  \n",
      " |  __prepare__(...)\n",
      " |      __prepare__() -> dict\n",
      " |      used to create the namespace for the class statement\n",
      " |  \n",
      " |  ----------------------------------------------------------------------\n",
      " |  Static methods defined here:\n",
      " |  \n",
      " |  __new__(*args, **kwargs)\n",
      " |      Create and return a new object.  See help(type) for accurate signature.\n",
      " |  \n",
      " |  ----------------------------------------------------------------------\n",
      " |  Data descriptors defined here:\n",
      " |  \n",
      " |  __abstractmethods__\n",
      " |  \n",
      " |  __dict__\n",
      " |  \n",
      " |  __text_signature__\n",
      " |  \n",
      " |  ----------------------------------------------------------------------\n",
      " |  Data and other attributes defined here:\n",
      " |  \n",
      " |  __base__ = <class 'object'>\n",
      " |      The base class of the class hierarchy.\n",
      " |      \n",
      " |      When called, it accepts no arguments and returns a new featureless\n",
      " |      instance that has no instance attributes and cannot be given any.\n",
      " |  \n",
      " |  \n",
      " |  __bases__ = (<class 'object'>,)\n",
      " |  \n",
      " |  __basicsize__ = 880\n",
      " |  \n",
      " |  __dictoffset__ = 264\n",
      " |  \n",
      " |  __flags__ = 2148293632\n",
      " |  \n",
      " |  __itemsize__ = 40\n",
      " |  \n",
      " |  __mro__ = (<class 'type'>, <class 'object'>)\n",
      " |  \n",
      " |  __weakrefoffset__ = 368\n",
      "\n"
     ]
    }
   ],
   "source": [
    "help(type)"
   ]
  },
  {
   "cell_type": "markdown",
   "id": "b0ea555d",
   "metadata": {},
   "source": [
    "# Type Function"
   ]
  },
  {
   "cell_type": "code",
   "execution_count": 15,
   "id": "260bbae2",
   "metadata": {},
   "outputs": [
    {
     "name": "stdout",
     "output_type": "stream",
     "text": [
      "<class 'str'>\n",
      "<class 'int'>\n",
      "<class 'float'>\n",
      "<class 'bool'>\n"
     ]
    }
   ],
   "source": [
    "print(type(\"Python\"))\n",
    "print(type(2))\n",
    "print(type(2.5))\n",
    "print(type(True))"
   ]
  },
  {
   "cell_type": "markdown",
   "id": "d1502a4f",
   "metadata": {},
   "source": [
    "# Arithmetic Operators\n",
    "1. These operators are used between integers or float values\n",
    "\n",
    "* \\+ Addition\n",
    "* \\- Subtraction\n",
    "* \\* Multiplication\n",
    "* / Division\n",
    "* \\**  Power Exponentiation\n",
    "* //  Floor Division / Integer Division\n",
    "* %  Remainder Operator/ Modulos Operator"
   ]
  },
  {
   "cell_type": "code",
   "execution_count": 34,
   "id": "1215b3b5",
   "metadata": {},
   "outputs": [
    {
     "name": "stdout",
     "output_type": "stream",
     "text": [
      "10 + 5 = 15\n",
      "10 - 5 = 5\n",
      "10 * 5 = 50\n",
      "10 / 3 = 3.3333333333333335\n",
      "10 ** 2 = 100\n",
      "10 // 3 = 3\n",
      "10 % 3 = 1\n"
     ]
    }
   ],
   "source": [
    "# 10 + 5 = 15\n",
    "print(\"10 + 5 =\",10+5)\n",
    "print(\"10 - 5 =\",10-5)\n",
    "print(\"10 * 5 =\",10*5)\n",
    "print(\"10 / 3 =\",10/3)\n",
    "print(\"10 ** 2 =\",10**2)\n",
    "print(\"10 // 3 =\",10//3)\n",
    "print(\"10 % 3 =\",10 % 3)\n"
   ]
  },
  {
   "cell_type": "code",
   "execution_count": 1,
   "id": "db022296",
   "metadata": {},
   "outputs": [
    {
     "name": "stdout",
     "output_type": "stream",
     "text": [
      "15\n",
      "5\n",
      "50\n",
      "3.3333333333333335\n",
      "100\n",
      "3\n",
      "2\n"
     ]
    }
   ],
   "source": [
    "# 10 + 5 = 15\n",
    "print(10+5)\n",
    "print(10-5)\n",
    "print(10*5)\n",
    "print(10/3)\n",
    "print(10**2)\n",
    "print(10//3)\n",
    "print(10 % 4)"
   ]
  }
 ],
 "metadata": {
  "kernelspec": {
   "display_name": "Python 3 (ipykernel)",
   "language": "python",
   "name": "python3"
  },
  "language_info": {
   "codemirror_mode": {
    "name": "ipython",
    "version": 3
   },
   "file_extension": ".py",
   "mimetype": "text/x-python",
   "name": "python",
   "nbconvert_exporter": "python",
   "pygments_lexer": "ipython3",
   "version": "3.9.7"
  }
 },
 "nbformat": 4,
 "nbformat_minor": 5
}
