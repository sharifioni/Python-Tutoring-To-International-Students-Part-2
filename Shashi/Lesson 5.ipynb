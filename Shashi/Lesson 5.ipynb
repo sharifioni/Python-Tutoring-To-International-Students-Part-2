{
 "cells": [
  {
   "cell_type": "markdown",
   "id": "4d58a3f9",
   "metadata": {},
   "source": [
    "## Nested if-else\n",
    "* Using if statemtent or if/else statement inside another if statement "
   ]
  },
  {
   "cell_type": "code",
   "execution_count": 2,
   "id": "41c77e2d",
   "metadata": {},
   "outputs": [
    {
     "name": "stdout",
     "output_type": "stream",
     "text": [
      "Enter a number between 1 to 10: 5\n",
      "You win\n"
     ]
    }
   ],
   "source": [
    "guess=int(input(\"Enter a number between 1 to 10: \"))\n",
    "answer=5\n",
    "\n",
    "if guess==answer:\n",
    "    print(\"You win\")\n",
    "    \n",
    "else:\n",
    "    print(\"You lose\")"
   ]
  },
  {
   "cell_type": "code",
   "execution_count": 4,
   "id": "3e5dd41a",
   "metadata": {},
   "outputs": [
    {
     "name": "stdout",
     "output_type": "stream",
     "text": [
      "Enter a number between 1 to 10: 8\n",
      "Please guess lower\n"
     ]
    }
   ],
   "source": [
    "guess=int(input(\"Enter a number between 1 to 10: \"))\n",
    "answer=5\n",
    "\n",
    "if guess<answer:\n",
    "    print(\"Please guess higher\")\n",
    "    \n",
    "if guess>answer:\n",
    "    print(\"Please guess lower\")\n",
    "    \n",
    "if guess==answer:\n",
    "    print(\"You win\")"
   ]
  },
  {
   "cell_type": "code",
   "execution_count": 17,
   "id": "88ed3fb0",
   "metadata": {},
   "outputs": [
    {
     "name": "stdout",
     "output_type": "stream",
     "text": [
      "Enter a number between 1 to 10: 4\n",
      "Please guess higher\n",
      "Enter a number between 1 to 10: 5\n",
      "You win\n",
      "You win\n"
     ]
    }
   ],
   "source": [
    "guess=int(input(\"Enter a number between 1 to 10: \")) # 4\n",
    "answer=5\n",
    "\n",
    "if guess<answer: #True\n",
    "    print(\"Please guess higher\")\n",
    "    guess=int(input(\"Enter a number between 1 to 10: \"))#5\n",
    "    if guess==answer:\n",
    "        print(\"You win\")\n",
    "        \n",
    "    else:\n",
    "        print(\"You lose\")\n",
    "    \n",
    "if guess>answer:\n",
    "    print(\"Please guess lower\")\n",
    "    guess=int(input(\"Enter a number between 1 to 10: \"))\n",
    "    if guess==answer:\n",
    "        print(\"You win\")\n",
    "        \n",
    "    else:\n",
    "        print(\"You lose\")\n",
    "    \n",
    "if guess==answer:\n",
    "    print(\"You win\")"
   ]
  },
  {
   "cell_type": "markdown",
   "id": "82f61c24",
   "metadata": {},
   "source": [
    "* You use multiple if statements when you have to check more than one True condition"
   ]
  },
  {
   "cell_type": "markdown",
   "id": "cbe9fdd6",
   "metadata": {},
   "source": [
    "# if elif else\n",
    "\n",
    "> if condition:\n",
    "> elif condition:\n",
    "> elif condition:\n",
    "> .............\n",
    "> else:\n",
    "\n",
    "* You use if elif else structure when you have to check the one true statement"
   ]
  },
  {
   "cell_type": "code",
   "execution_count": 1,
   "id": "9759140d",
   "metadata": {},
   "outputs": [
    {
     "name": "stdout",
     "output_type": "stream",
     "text": [
      "Enter two integers, and I will tell you the relationships they satisfy.\n",
      "Enter first integer: 5\n",
      "Enter second integer: 10\n",
      "5 is not equal to 10\n",
      "5 is less than 10\n",
      "5 is less than or equal to 10\n"
     ]
    }
   ],
   "source": [
    " # fig02_01.py\n",
    "\"\"\"Comparing integers using if statements and comparison operators.\"\"\"\n",
    "print('Enter two integers, and I will tell you',\n",
    "'the relationships they satisfy.')\n",
    "\n",
    "# read first integer\n",
    "number1 = int(input('Enter first integer: ')) #7\n",
    "\n",
    "# read second integer\n",
    "number2 = int(input('Enter second integer: ')) #5\n",
    "\n",
    "if number1 == number2:\n",
    "    print(number1, 'is equal to', number2)\n",
    "\n",
    "if number1 != number2:\n",
    "    print(number1, 'is not equal to', number2)\n",
    "\n",
    "if number1 < number2:\n",
    "    print(number1, 'is less than', number2)\n",
    "\n",
    "if number1 > number2:\n",
    "    print(number1, 'is greater than', number2)\n",
    "\n",
    "if number1 <= number2:\n",
    "    print(number1, 'is less than or equal to', number2)\n",
    "\n",
    "if number1 >= number2:\n",
    "    print(number1, 'is greater than or equal to', number2)"
   ]
  },
  {
   "cell_type": "code",
   "execution_count": 11,
   "id": "cc730245",
   "metadata": {},
   "outputs": [
    {
     "name": "stdout",
     "output_type": "stream",
     "text": [
      "Enter two integers, and I will tell you the relationships they satisfy.\n",
      "Enter first integer: 7\n",
      "Enter second integer: 5\n",
      "7 is not equal to 5\n"
     ]
    }
   ],
   "source": [
    " # fig02_01.py\n",
    "\"\"\"Comparing integers using if statements and comparison operators.\"\"\"\n",
    "print('Enter two integers, and I will tell you',\n",
    "'the relationships they satisfy.')\n",
    "\n",
    "# read first integer\n",
    "number1 = int(input('Enter first integer: ')) #7\n",
    "\n",
    "# read second integer\n",
    "number2 = int(input('Enter second integer: ')) #5\n",
    "\n",
    "if number1 == number2:\n",
    "    print(number1, 'is equal to', number2)\n",
    "\n",
    "elif number1 != number2:\n",
    "    print(number1, 'is not equal to', number2)\n",
    "\n",
    "elif number1 < number2:\n",
    "    print(number1, 'is less than', number2)\n",
    "\n",
    "elif number1 > number2:\n",
    "    print(number1, 'is greater than', number2)\n",
    "\n",
    "elif number1 <= number2:\n",
    "    print(number1, 'is less than or equal to', number2)\n",
    "\n",
    "elif number1 >= number2:\n",
    "    print(number1, 'is greater than or equal to', number2)"
   ]
  },
  {
   "cell_type": "code",
   "execution_count": 15,
   "id": "0fd6ed24",
   "metadata": {},
   "outputs": [
    {
     "name": "stdout",
     "output_type": "stream",
     "text": [
      "Enter a number between 1 to 12: 13\n",
      "Invalid input\n"
     ]
    }
   ],
   "source": [
    "month=int(input(\"Enter a number between 1 to 12: \"))\n",
    "\n",
    "if month==1:\n",
    "    print(\"Jan\")\n",
    "    \n",
    "elif month==2:\n",
    "    print(\"Feb\")\n",
    "elif month==3:\n",
    "    print(\"March\")\n",
    "elif month==4:\n",
    "    print(\"April\")\n",
    "elif month==5:\n",
    "    print(\"May\")\n",
    "    \n",
    "elif month==6:\n",
    "    print(\"June\")\n",
    "elif month==7:\n",
    "    print(\"July\")\n",
    "elif month==8:\n",
    "    print(\"Aug\")\n",
    "elif month==9:\n",
    "    print(\"Sep\")\n",
    "elif month==10:\n",
    "    print(\"Oct\")\n",
    "elif month==11:\n",
    "    print(\"Nov\")\n",
    "elif month==12:\n",
    "    print(\"Dec\")\n",
    "else:\n",
    "    print(\"Invalid input\")"
   ]
  },
  {
   "cell_type": "code",
   "execution_count": 16,
   "id": "65ea331b",
   "metadata": {},
   "outputs": [
    {
     "name": "stdout",
     "output_type": "stream",
     "text": [
      "Enter a number between 1 to 12: 5\n",
      "May\n",
      "Invalid input\n"
     ]
    }
   ],
   "source": [
    "month=int(input(\"Enter a number between 1 to 12: \"))\n",
    "\n",
    "if month==1:\n",
    "    print(\"Jan\")\n",
    "    \n",
    "if month==2:\n",
    "    print(\"Feb\")\n",
    "if month==3:\n",
    "    print(\"March\")\n",
    "if month==4:\n",
    "    print(\"April\")\n",
    "if month==5:\n",
    "    print(\"May\")\n",
    "    \n",
    "if month==6:\n",
    "    print(\"June\")\n",
    "if month==7:\n",
    "    print(\"July\")\n",
    "if month==8:\n",
    "    print(\"Aug\")\n",
    "if month==9:\n",
    "    print(\"Sep\")\n",
    "if month==10:\n",
    "    print(\"Oct\")\n",
    "if month==11:\n",
    "    print(\"Nov\")\n",
    "if month==12:\n",
    "    print(\"Dec\")\n",
    "else:\n",
    "    print(\"Invalid input\")"
   ]
  },
  {
   "cell_type": "code",
   "execution_count": 18,
   "id": "ec9e9bad",
   "metadata": {},
   "outputs": [
    {
     "name": "stdout",
     "output_type": "stream",
     "text": [
      "Enter a number between 1 to 10: 4\n",
      "Please guess higher\n",
      "Enter a number between 1 to 10: 5\n",
      "You win\n"
     ]
    }
   ],
   "source": [
    "guess=int(input(\"Enter a number between 1 to 10: \")) # 4\n",
    "answer=5\n",
    "\n",
    "if guess<answer: #True\n",
    "    print(\"Please guess higher\")\n",
    "    guess=int(input(\"Enter a number between 1 to 10: \"))#5\n",
    "    if guess==answer:\n",
    "        print(\"You win\")\n",
    "        \n",
    "    else:\n",
    "        print(\"You lose\")\n",
    "    \n",
    "elif guess>answer:\n",
    "    print(\"Please guess lower\")\n",
    "    guess=int(input(\"Enter a number between 1 to 10: \"))\n",
    "    if guess==answer:\n",
    "        print(\"You win\")\n",
    "        \n",
    "    else:\n",
    "        print(\"You lose\")\n",
    "    \n",
    "elif guess==answer:\n",
    "    print(\"You win\")"
   ]
  },
  {
   "cell_type": "markdown",
   "id": "f1ea8564",
   "metadata": {},
   "source": [
    "# Logical Operaotrs\n",
    "* and\n",
    "* or\n",
    "* not\n",
    "* Logical operators are used between two or more than two conditions"
   ]
  },
  {
   "cell_type": "markdown",
   "id": "7ebd4d87",
   "metadata": {},
   "source": [
    "# and Operator\n",
    "* it will give you True as output if all of the Conditions are True, otherwise it will produce False\n",
    "* True  and True    --------  True\n",
    "* True and False  ----------  False\n",
    "* False and True  ----------  False\n",
    "* False and False  ---------  False"
   ]
  },
  {
   "cell_type": "code",
   "execution_count": 19,
   "id": "f2dde45d",
   "metadata": {},
   "outputs": [
    {
     "name": "stdout",
     "output_type": "stream",
     "text": [
      "True\n"
     ]
    }
   ],
   "source": [
    "x=7\n",
    "y=10\n",
    "z=13\n",
    "\n",
    "# x < y   and y < z                 # True   and   True     =  True\n",
    "print(x < y   and y < z)"
   ]
  },
  {
   "cell_type": "code",
   "execution_count": 20,
   "id": "5809c80d",
   "metadata": {},
   "outputs": [
    {
     "name": "stdout",
     "output_type": "stream",
     "text": [
      "False\n"
     ]
    }
   ],
   "source": [
    "# x < y   and y > z                 # True   and   False     =  False\n",
    "print(x < y   and y > z)"
   ]
  },
  {
   "cell_type": "code",
   "execution_count": 21,
   "id": "e79a875c",
   "metadata": {},
   "outputs": [
    {
     "name": "stdout",
     "output_type": "stream",
     "text": [
      "False\n"
     ]
    }
   ],
   "source": [
    "# x > y   and y > x                 # False   and   True     =  False\n",
    "print(x > y   and y > x)"
   ]
  },
  {
   "cell_type": "code",
   "execution_count": 22,
   "id": "2c8e5d88",
   "metadata": {},
   "outputs": [
    {
     "name": "stdout",
     "output_type": "stream",
     "text": [
      "False\n"
     ]
    }
   ],
   "source": [
    "# x > y   and y > z                 # False   and   False     =  False\n",
    "print(x > y   and y > z)"
   ]
  },
  {
   "cell_type": "code",
   "execution_count": 24,
   "id": "94625b0e",
   "metadata": {},
   "outputs": [
    {
     "name": "stdout",
     "output_type": "stream",
     "text": [
      "False\n"
     ]
    }
   ],
   "source": [
    "# x < y   and y < z  and y < x                 # True   and   True and False     =  False\n",
    "\n",
    "print(x < y   and y < z  and y < x )"
   ]
  },
  {
   "cell_type": "code",
   "execution_count": 26,
   "id": "4937301d",
   "metadata": {},
   "outputs": [
    {
     "name": "stdout",
     "output_type": "stream",
     "text": [
      "Enter wehather. Sunny, Rainy, Windy, Snowy: Rainy\n",
      "Enter any day between Monay to Sunday: Monday\n"
     ]
    }
   ],
   "source": [
    "weather=input(\"Enter wehather. Sunny, Rainy, Windy, Snowy: \")\n",
    "day=input(\"Enter any day between Monay to Sunday: \")\n",
    "\n",
    "if weather == \"Rainy\" and day== \"Saturday\":\n",
    "    print(\"You are good to go for swimming\")\n",
    "\n",
    "if weather== 'Sunny' and day == 'Monday':\n",
    "    print(\"you can go to school\")\n",
    "    "
   ]
  },
  {
   "cell_type": "markdown",
   "id": "645e1dab",
   "metadata": {},
   "source": [
    "## or Operator\n",
    "* if one of the conditions is True then the result will be True otherwise it will be False\n",
    "> True or True   =    True\n",
    ">\n",
    "> True or False   =   True\n",
    "> \n",
    "> False or True   =   True\n",
    "> \n",
    "> False or False  =   False"
   ]
  },
  {
   "cell_type": "code",
   "execution_count": 28,
   "id": "a431bb00",
   "metadata": {},
   "outputs": [
    {
     "name": "stdout",
     "output_type": "stream",
     "text": [
      "True\n"
     ]
    }
   ],
   "source": [
    "x=7\n",
    "y=10\n",
    "z=13\n",
    "\n",
    "# x < y   or y < z                 # True   or   True     =  True\n",
    "print(x < y   or y < z)"
   ]
  },
  {
   "cell_type": "code",
   "execution_count": 29,
   "id": "a42f240e",
   "metadata": {},
   "outputs": [
    {
     "name": "stdout",
     "output_type": "stream",
     "text": [
      "True\n"
     ]
    }
   ],
   "source": [
    "# x < y   or y > z                 # True   or   False     =  True\n",
    "print(x < y   or y > z)"
   ]
  },
  {
   "cell_type": "code",
   "execution_count": 30,
   "id": "4fe6762d",
   "metadata": {},
   "outputs": [
    {
     "name": "stdout",
     "output_type": "stream",
     "text": [
      "True\n"
     ]
    }
   ],
   "source": [
    "# x > y   or y > x                 # False   or   True     =  True\n",
    "print(x > y   or y > x)"
   ]
  },
  {
   "cell_type": "code",
   "execution_count": 31,
   "id": "de96c7fe",
   "metadata": {},
   "outputs": [
    {
     "name": "stdout",
     "output_type": "stream",
     "text": [
      "False\n"
     ]
    }
   ],
   "source": [
    "# x > y   or y > z                 # False   or   False     =  False\n",
    "print(x > y   or y > z)"
   ]
  },
  {
   "cell_type": "code",
   "execution_count": 32,
   "id": "b43f29b6",
   "metadata": {},
   "outputs": [
    {
     "name": "stdout",
     "output_type": "stream",
     "text": [
      "True\n"
     ]
    }
   ],
   "source": [
    "# x < y   or y > z  or y > 15                 # True   or   False or False     =  True\n",
    "\n",
    "print(x < y   or y > z  or y > 15 )"
   ]
  },
  {
   "cell_type": "code",
   "execution_count": 33,
   "id": "7222f086",
   "metadata": {},
   "outputs": [
    {
     "name": "stdout",
     "output_type": "stream",
     "text": [
      "Enter wehather. Sunny, Rainy, Windy, Snowy: Rainy\n",
      "Enter any day between Monay to Sunday: Monday\n",
      "You are good to go for swimming\n",
      "you can go to school\n"
     ]
    }
   ],
   "source": [
    "weather=input(\"Enter wehather. Sunny, Rainy, Windy, Snowy: \")\n",
    "day=input(\"Enter any day between Monay to Sunday: \")\n",
    "\n",
    "if weather == \"Rainy\" or day== \"Saturday\":\n",
    "    print(\"You are good to go for swimming\")\n",
    "\n",
    "if weather== 'Sunny' or day == 'Monday':\n",
    "    print(\"you can go to school\")"
   ]
  }
 ],
 "metadata": {
  "kernelspec": {
   "display_name": "Python 3 (ipykernel)",
   "language": "python",
   "name": "python3"
  },
  "language_info": {
   "codemirror_mode": {
    "name": "ipython",
    "version": 3
   },
   "file_extension": ".py",
   "mimetype": "text/x-python",
   "name": "python",
   "nbconvert_exporter": "python",
   "pygments_lexer": "ipython3",
   "version": "3.9.7"
  }
 },
 "nbformat": 4,
 "nbformat_minor": 5
}
