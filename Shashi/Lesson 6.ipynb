{
 "cells": [
  {
   "cell_type": "markdown",
   "id": "9e17937a",
   "metadata": {},
   "source": [
    "# not operator\n",
    "* not operator: it converts True to False, and False to True\n",
    "* if not condition:"
   ]
  },
  {
   "cell_type": "code",
   "execution_count": 3,
   "id": "b57d6061",
   "metadata": {},
   "outputs": [],
   "source": [
    "weather=\"Sunny\"\n",
    "if not weather==\"Sunny\":\n",
    "    print(\"You can go outside\")"
   ]
  },
  {
   "cell_type": "code",
   "execution_count": 4,
   "id": "364e87da",
   "metadata": {},
   "outputs": [
    {
     "name": "stdout",
     "output_type": "stream",
     "text": [
      "Bye\n"
     ]
    }
   ],
   "source": [
    "if not True:\n",
    "    print(\"Hello\")\n",
    "else:\n",
    "    print(\"Bye\")"
   ]
  },
  {
   "cell_type": "code",
   "execution_count": 5,
   "id": "d722484d",
   "metadata": {},
   "outputs": [
    {
     "name": "stdout",
     "output_type": "stream",
     "text": [
      "Hello\n"
     ]
    }
   ],
   "source": [
    "if not False:\n",
    "    print(\"Hello\")\n",
    "else:\n",
    "    print(\"Bye\")"
   ]
  },
  {
   "cell_type": "code",
   "execution_count": 4,
   "id": "d71c8473",
   "metadata": {},
   "outputs": [
    {
     "name": "stdout",
     "output_type": "stream",
     "text": [
      "Enter month in integer value from 1 to 12: 3\n",
      "Enter day value in integer format: 20\n",
      "Your birthday is on 3/20\n",
      "your astrologu sign is Taurus\n",
      "your are Relaible, deligent, comservative\n"
     ]
    }
   ],
   "source": [
    "#Exercise 2\n",
    "month=int(input(\"Enter month in integer value from 1 to 12: \"))\n",
    "day=int(input(\"Enter day value in integer format: \"))\n",
    "print(f\"Your birthday is on {month}/{day}\")\n",
    "# chain comparison\n",
    "#if (month==3 and 21<=day<=31) or (month==4 and 1<=day<=19):\n",
    "#    print(\"Your Astrology sign is Aries\")\n",
    "#    print(\"Energetic, candid and willful\")\n",
    "#Homework\n",
    "#finish remaining logics for astrology signs\n",
    "if (month==3 and 21<= day <=31) or (month==4 and 1<=day<=19):\n",
    "    print(' your astrology sign is Aries.')\n",
    "    print('energetic, candid, and wilfil.')\n",
    "elif (month==4 and 20<= day <=31) or (month==5 and 1<=day <=20):\n",
    "    print('your astrologu sign is Taurus')\n",
    "    print('your are Relaible, deligent, comservative')\n",
    "elif (month==5 and 21<=day <=30) or (month==6 and 1<=day<=21):\n",
    "    print('your astrology sign is Gemini')\n",
    "    print('quickwitted, capricious and cheerful')\n",
    "elif (month==6 and 22<=day <=31) or (month==7 and 1<=day<=22):\n",
    "    print('your astrology sign is cancer')\n",
    "    print('considerate, imaginative and sensitive ')\n",
    "elif (month==7 and 23<=day <=31) or (month==8 and 1<=day<=22):\n",
    "    print('your astrology sign is Leo')\n",
    "    print('Enthusisactic proud and arrogant')\n",
    "elif (month==8 and 23<=day <=30) or (month==9 and 1<=day<=22):\n",
    "    print('your astrology sign is virgo')\n",
    "    print('elegant, perfectionist and picky')\n",
    "elif (month==9 and 23<=day <=30) or (month==10 and 1<=day<=23):\n",
    "    print('your astrology sign is libra')\n",
    "    print('Equitable, charming, and hesistant')\n",
    "elif (month==10 and 24<= day<=30) or (month==11 and 1<=day<=22):\n",
    "    print('your astrology is Scorpio ')\n",
    "    print('Insightful, mysterious and supicious')"
   ]
  },
  {
   "cell_type": "code",
   "execution_count": 13,
   "id": "3b216aca",
   "metadata": {},
   "outputs": [
    {
     "name": "stdout",
     "output_type": "stream",
     "text": [
      "Enter the birthday in 8-digit format for person1: 19610804\n",
      "Enter the birthday in 8-digit format for person2: 19810904\n",
      "Enter name for person1: Obama\n",
      "Enter name for person2: Beyonce\n",
      "Obama's date of birth is: 8/4/1961\n",
      "Beyonce's date of birth is: 9/4/1981\n"
     ]
    }
   ],
   "source": [
    "#Exercise 3\n",
    "birthday1=int(input(\"Enter the birthday in 8-digit format for person1: \"))\n",
    "birthday2=int(input(\"Enter the birthday in 8-digit format for person2: \"))\n",
    "name1=input(\"Enter name for person1: \")\n",
    "name2=input(\"Enter name for person2: \")\n",
    "\n",
    "#Day value for person1\n",
    "day1=birthday1%100\n",
    "#month value for person1\n",
    "month1=(birthday1//100)%100\n",
    "#year value for person1\n",
    "year1=birthday1//10000\n",
    "\n",
    "\n",
    "#Day value for person2\n",
    "day2=birthday2%100\n",
    "#month value for person2\n",
    "month2=(birthday2//100)%100\n",
    "#year value for person2\n",
    "year2=birthday2//10000\n",
    "\n",
    "\n",
    "\n",
    "print(f\"{name1}'s date of birth is: {month1}/{day1}/{year1}\")\n",
    "print(f\"{name2}'s date of birth is: {month2}/{day2}/{year2}\")\n",
    "# Homework\n",
    "# Complete exercise 3 and tell which person is older"
   ]
  },
  {
   "cell_type": "code",
   "execution_count": 17,
   "id": "5dcf3758",
   "metadata": {},
   "outputs": [
    {
     "name": "stdout",
     "output_type": "stream",
     "text": [
      "4\n",
      "8\n"
     ]
    }
   ],
   "source": [
    "birthday1=19610804\n",
    "day1=birthday1%100\n",
    "print(day1)\n",
    "\n",
    "month1=(birthday1//100)%100\n",
    "print(month1)"
   ]
  },
  {
   "cell_type": "markdown",
   "id": "9c2df58f",
   "metadata": {},
   "source": [
    "# for loops\n",
    "* used to loop over an iterable\n",
    "* an iterable can be string, list, tuple, dictionary, range\n"
   ]
  }
 ],
 "metadata": {
  "kernelspec": {
   "display_name": "Python 3 (ipykernel)",
   "language": "python",
   "name": "python3"
  },
  "language_info": {
   "codemirror_mode": {
    "name": "ipython",
    "version": 3
   },
   "file_extension": ".py",
   "mimetype": "text/x-python",
   "name": "python",
   "nbconvert_exporter": "python",
   "pygments_lexer": "ipython3",
   "version": "3.9.7"
  }
 },
 "nbformat": 4,
 "nbformat_minor": 5
}
