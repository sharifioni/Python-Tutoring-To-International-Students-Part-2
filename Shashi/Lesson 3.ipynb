{
 "cells": [
  {
   "cell_type": "markdown",
   "id": "8008cf8a",
   "metadata": {},
   "source": [
    "# Operator Precedence\n"
   ]
  },
  {
   "cell_type": "code",
   "execution_count": 1,
   "id": "b4dcb42e",
   "metadata": {},
   "outputs": [
    {
     "name": "stdout",
     "output_type": "stream",
     "text": [
      "18.0\n"
     ]
    }
   ],
   "source": [
    "# Brackets Exponentiation   Division / Multiplication  Addition / Subtraction\n",
    "# 2+4 *( 4 -2) **3 / 2              2+4 *2 **3 / 2    2+4 *8 / 2         2+32 / 2   2+16.0   18.0 \n",
    "\n",
    "print(2+4 *( 4 -2) **3 / 2)"
   ]
  },
  {
   "cell_type": "markdown",
   "id": "a6c54a6e",
   "metadata": {},
   "source": [
    "# String Concatenation\n",
    "* joining two strings with + operator between them\n"
   ]
  },
  {
   "cell_type": "code",
   "execution_count": 2,
   "id": "935b954e",
   "metadata": {},
   "outputs": [
    {
     "name": "stdout",
     "output_type": "stream",
     "text": [
      "HelloWorld\n",
      "7715\n"
     ]
    },
    {
     "ename": "TypeError",
     "evalue": "can only concatenate str (not \"int\") to str",
     "output_type": "error",
     "traceback": [
      "\u001b[1;31m---------------------------------------------------------------------------\u001b[0m",
      "\u001b[1;31mTypeError\u001b[0m                                 Traceback (most recent call last)",
      "\u001b[1;32m~\\AppData\\Local\\Temp/ipykernel_5376/2675734204.py\u001b[0m in \u001b[0;36m<module>\u001b[1;34m\u001b[0m\n\u001b[0;32m      1\u001b[0m \u001b[0mprint\u001b[0m\u001b[1;33m(\u001b[0m\u001b[1;34m\"Hello\"\u001b[0m \u001b[1;33m+\u001b[0m \u001b[1;34m\"World\"\u001b[0m\u001b[1;33m)\u001b[0m\u001b[1;33m\u001b[0m\u001b[1;33m\u001b[0m\u001b[0m\n\u001b[0;32m      2\u001b[0m \u001b[0mprint\u001b[0m\u001b[1;33m(\u001b[0m\u001b[1;34m\"77\"\u001b[0m\u001b[1;33m+\u001b[0m\u001b[1;34m\"15\"\u001b[0m\u001b[1;33m)\u001b[0m\u001b[1;33m\u001b[0m\u001b[1;33m\u001b[0m\u001b[0m\n\u001b[1;32m----> 3\u001b[1;33m \u001b[0mprint\u001b[0m\u001b[1;33m(\u001b[0m\u001b[1;34m\"125\"\u001b[0m\u001b[1;33m+\u001b[0m\u001b[1;36m87\u001b[0m\u001b[1;33m)\u001b[0m  \u001b[1;31m# Produce value Error\u001b[0m\u001b[1;33m\u001b[0m\u001b[1;33m\u001b[0m\u001b[0m\n\u001b[0m\u001b[0;32m      4\u001b[0m \u001b[0mprint\u001b[0m\u001b[1;33m(\u001b[0m\u001b[1;34m\"125\"\u001b[0m\u001b[1;33m+\u001b[0m\u001b[0mstr\u001b[0m\u001b[1;33m(\u001b[0m\u001b[1;36m87\u001b[0m\u001b[1;33m)\u001b[0m\u001b[1;33m)\u001b[0m\u001b[1;33m\u001b[0m\u001b[1;33m\u001b[0m\u001b[0m\n",
      "\u001b[1;31mTypeError\u001b[0m: can only concatenate str (not \"int\") to str"
     ]
    }
   ],
   "source": [
    "print(\"Hello\" + \"World\")\n",
    "print(\"77\"+\"15\")\n",
    "print(\"125\"+87)  # Produce value Error\n",
    "print(\"125\"+str(87))"
   ]
  },
  {
   "cell_type": "code",
   "execution_count": null,
   "id": "c1246820",
   "metadata": {},
   "outputs": [],
   "source": []
  },
  {
   "cell_type": "markdown",
   "id": "dce87887",
   "metadata": {},
   "source": [
    "# Type Conversion      \n",
    "* converting one data type to another data type\n",
    "* string to integer by using int() function"
   ]
  },
  {
   "cell_type": "code",
   "execution_count": 14,
   "id": "10a93610",
   "metadata": {},
   "outputs": [
    {
     "name": "stdout",
     "output_type": "stream",
     "text": [
      "Value of x is 77 and its data type is <class 'int'>\n",
      "Value of x is 77.0 and its data type is <class 'float'>\n",
      "Value of x is 125 and its data type is <class 'str'>\n",
      "Value of x is 125.0 and its data type is <class 'float'>\n"
     ]
    }
   ],
   "source": [
    "\n",
    "\n",
    "# string into integer  using int() function\n",
    "x=int('77')\n",
    "print(f\"Value of x is {x} and its data type is {type(x)}\")\n",
    "\n",
    "# string into float  using float() function\n",
    "x=float('77')\n",
    "print(f\"Value of x is {x} and its data type is {type(x)}\")\n",
    "\n",
    "\n",
    "# integer into string  using str() function\n",
    "x=str(125)\n",
    "print(f\"Value of x is {x} and its data type is {type(x)}\")\n",
    "\n",
    "# integer into float  using float() function\n",
    "x=float(125)\n",
    "print(f\"Value of x is {x} and its data type is {type(x)}\")\n",
    "\n",
    "\n",
    "# Homework\n",
    "# float to string\n",
    "# float to integer"
   ]
  },
  {
   "cell_type": "markdown",
   "id": "98e04f4e",
   "metadata": {},
   "source": [
    "# input function\n",
    "* input function prompts the user to enter any value (it is used to take a value from the user)\n",
    "* input function always returns value in string data type\n",
    "* input(\"Enter your name: \")"
   ]
  },
  {
   "cell_type": "code",
   "execution_count": 3,
   "id": "fca847cb",
   "metadata": {},
   "outputs": [
    {
     "name": "stdout",
     "output_type": "stream",
     "text": [
      "Enter your name: fgjfjfjg\n"
     ]
    },
    {
     "data": {
      "text/plain": [
       "'fgjfjfjg'"
      ]
     },
     "execution_count": 3,
     "metadata": {},
     "output_type": "execute_result"
    }
   ],
   "source": [
    "input(\"Enter your name: \")"
   ]
  },
  {
   "cell_type": "code",
   "execution_count": 5,
   "id": "a96e86e5",
   "metadata": {},
   "outputs": [
    {
     "name": "stdout",
     "output_type": "stream",
     "text": [
      "Enter your name: 87\n",
      "Your name is 87\n"
     ]
    }
   ],
   "source": [
    "name=input(\"Enter your name: \")\n",
    "print(\"Your name is\",name)"
   ]
  },
  {
   "cell_type": "code",
   "execution_count": 6,
   "id": "47e7e332",
   "metadata": {},
   "outputs": [
    {
     "name": "stdout",
     "output_type": "stream",
     "text": [
      "Enter any number: 55\n",
      "Enter any number again: 5\n",
      "555\n"
     ]
    }
   ],
   "source": [
    "num1=input(\"Enter any number: \")\n",
    "num2=input(\"Enter any number again: \")\n",
    "print(num1+num2)"
   ]
  },
  {
   "cell_type": "code",
   "execution_count": 7,
   "id": "07bba9ec",
   "metadata": {},
   "outputs": [
    {
     "name": "stdout",
     "output_type": "stream",
     "text": [
      "Enter any number: 55\n",
      "Enter any number again: 5\n",
      "60\n"
     ]
    }
   ],
   "source": [
    "num1=int(input(\"Enter any number: \"))\n",
    "num2=int(input(\"Enter any number again: \"))\n",
    "print(num1+num2)"
   ]
  },
  {
   "cell_type": "markdown",
   "id": "494e79b7",
   "metadata": {},
   "source": [
    "# Comparison Operators\n",
    "* These are the operators that compare the two values and returns a boolean value\n",
    "* \\>   greater than\n",
    "* <   less than\n",
    "* \\>=  greater than or equal to\n",
    "* <=  less than or equal to\n",
    "* ==  equal\n",
    "* !=  not equal"
   ]
  },
  {
   "cell_type": "code",
   "execution_count": 8,
   "id": "f54c9324",
   "metadata": {},
   "outputs": [
    {
     "name": "stdout",
     "output_type": "stream",
     "text": [
      "True\n",
      "False\n"
     ]
    }
   ],
   "source": [
    "print(2<5)\n",
    "print(2>5)\n",
    "\n"
   ]
  },
  {
   "cell_type": "code",
   "execution_count": 30,
   "id": "f826ab8e",
   "metadata": {},
   "outputs": [
    {
     "name": "stdout",
     "output_type": "stream",
     "text": [
      "False\n"
     ]
    }
   ],
   "source": [
    "# single = is assignment operator. It assigns value to a variable\n",
    "# double == is a comparsion operator. It compares two values and check if they are equal or not\n",
    "a=78\n",
    "b=98\n",
    "\n",
    "print(a==b)"
   ]
  },
  {
   "cell_type": "code",
   "execution_count": 31,
   "id": "f9382915",
   "metadata": {},
   "outputs": [
    {
     "name": "stdout",
     "output_type": "stream",
     "text": [
      "x is less than y:  True\n",
      "x is greater than y:  False\n",
      "x is less than or equal to y:  True\n",
      "x is greater than or equal to y:  False\n",
      "x is equal to y:  False\n",
      "x is not equal to y:  True\n"
     ]
    }
   ],
   "source": [
    "x=5\n",
    "y=10\n",
    "print(\"x is less than y: \",x < y) # True\n",
    "print(\"x is greater than y: \",x > y) # False\n",
    "print(\"x is less than or equal to y: \",x <= y) # True\n",
    "print(\"x is greater than or equal to y: \",x >= y) # False\n",
    "print(\"x is equal to y: \",x == y)  # False\n",
    "print(\"x is not equal to y: \",x != y) # True"
   ]
  }
 ],
 "metadata": {
  "kernelspec": {
   "display_name": "Python 3 (ipykernel)",
   "language": "python",
   "name": "python3"
  },
  "language_info": {
   "codemirror_mode": {
    "name": "ipython",
    "version": 3
   },
   "file_extension": ".py",
   "mimetype": "text/x-python",
   "name": "python",
   "nbconvert_exporter": "python",
   "pygments_lexer": "ipython3",
   "version": "3.9.7"
  }
 },
 "nbformat": 4,
 "nbformat_minor": 5
}
