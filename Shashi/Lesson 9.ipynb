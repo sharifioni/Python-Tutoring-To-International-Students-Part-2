{
 "cells": [
  {
   "cell_type": "code",
   "execution_count": 12,
   "id": "dd22468d",
   "metadata": {},
   "outputs": [
    {
     "name": "stdout",
     "output_type": "stream",
     "text": [
      "Enter any number: 5\n",
      "    5 *     1 =     5\n",
      "    5 *     2 =    10\n",
      "    5 *     3 =    15\n",
      "    5 *     4 =    20\n",
      "    5 *     5 =    25\n",
      "    5 *     6 =    30\n",
      "    5 *     7 =    35\n",
      "    5 *     8 =    40\n",
      "    5 *     9 =    45\n",
      "    5 *    10 =    50\n"
     ]
    }
   ],
   "source": [
    "number=int(input(\"Enter any number: \"))\n",
    "for i in range(1,11):\n",
    "    print(f\"{number : >5} * {i : >5} = {number*i : >5}\")"
   ]
  },
  {
   "cell_type": "code",
   "execution_count": 16,
   "id": "1a33198b",
   "metadata": {},
   "outputs": [
    {
     "name": "stdout",
     "output_type": "stream",
     "text": [
      "Enter any number: 5\n",
      "Enter any number: 45\n",
      "Enter any number: 76\n",
      "Enter any number: 15\n",
      "Enter any number: 20\n",
      "161\n"
     ]
    }
   ],
   "source": [
    "# take 5 integer inputs from the user, calculate their sum, average and find minimum and maximum value of those 5\n",
    "sum_values = 0\n",
    "for i in range(5):\n",
    "    number = int(input(\"Enter any number: \"))\n",
    "    sum_values = sum_values + number\n",
    "    # For Testing the current value of sum_values\n",
    "    #print(\"Current sum is\",sum_values)\n",
    "\n",
    "print(sum_values)"
   ]
  },
  {
   "cell_type": "code",
   "execution_count": 20,
   "id": "373f5b07",
   "metadata": {},
   "outputs": [
    {
     "name": "stdout",
     "output_type": "stream",
     "text": [
      "Enter any number: 15\n",
      "current value of i is 0\n",
      "The current maximum is 15\n",
      "Enter any number: 5\n",
      "current value of i is 1\n",
      "The current maximum is 15\n",
      "Enter any number: 20\n",
      "current value of i is 2\n",
      "The current maximum is 20\n",
      "Enter any number: 25\n",
      "current value of i is 3\n",
      "The current maximum is 25\n",
      "Enter any number: 35\n",
      "current value of i is 4\n",
      "The current maximum is 35\n",
      "The maximum value is 35\n"
     ]
    }
   ],
   "source": [
    "maximum = 0\n",
    "# \n",
    "for i in range(5):\n",
    "    number = int(input(\"Enter any number: \"))\n",
    "    print(\"current value of i is\", i)\n",
    "    if maximum < number:\n",
    "        maximum = number\n",
    "        \n",
    "    print(\"The current maximum is\", maximum)\n",
    "        \n",
    "print(\"The maximum value is\", maximum)"
   ]
  },
  {
   "cell_type": "code",
   "execution_count": 21,
   "id": "21a688a9",
   "metadata": {},
   "outputs": [
    {
     "name": "stdout",
     "output_type": "stream",
     "text": [
      "Enter any number: 15\n",
      "Enter any number: 65\n",
      "Enter any number: 25\n",
      "Enter any number: 98\n",
      "Enter any number: 7\n",
      "210\n",
      "98\n"
     ]
    }
   ],
   "source": [
    "# take 5 integer inputs from the user, calculate their sum, average and find minimum and maximum value of those 5\n",
    "sum_values = 0\n",
    "maximum = 0\n",
    "for i in range(5):\n",
    "    number = int(input(\"Enter any number: \"))\n",
    "    sum_values = sum_values + number\n",
    "    # For Testing the current value of sum_values\n",
    "    #print(\"Current sum is\",sum_values)\n",
    "    if maximum < number:\n",
    "        maximum = number\n",
    "    \n",
    "    # For Testing the current value of sum_values\n",
    "    #print(\"Current maximum is\",maximum)\n",
    "\n",
    "print(sum_values)\n",
    "print(maximum)"
   ]
  },
  {
   "cell_type": "markdown",
   "id": "b7f34b86",
   "metadata": {},
   "source": [
    "# Nested for loops\n",
    "* for loop inside another for loop"
   ]
  },
  {
   "cell_type": "code",
   "execution_count": 30,
   "id": "02723c1e",
   "metadata": {},
   "outputs": [
    {
     "name": "stdout",
     "output_type": "stream",
     "text": [
      "0 1, 0 2, 0 3, 0 4, 0 5, \n",
      "1 1, 1 2, 1 3, 1 4, 1 5, \n",
      "2 1, 2 2, 2 3, 2 4, 2 5, \n",
      "3 1, 3 2, 3 3, 3 4, 3 5, \n",
      "4 1, 4 2, 4 3, 4 4, 4 5, \n",
      "5 1, 5 2, 5 3, 5 4, 5 5, \n",
      "6 1, 6 2, 6 3, 6 4, 6 5, \n",
      "7 1, 7 2, 7 3, 7 4, 7 5, \n",
      "8 1, 8 2, 8 3, 8 4, 8 5, \n",
      "9 1, 9 2, 9 3, 9 4, 9 5, \n",
      "10 1, 10 2, 10 3, 10 4, 10 5, \n"
     ]
    }
   ],
   "source": [
    "for i in range(11): #start = 0     runs from 0 to 10\n",
    "    for j in range(1, 6):  # start = 0  runs from 1 to 5\n",
    "        print(i, j, end =\", \")\n",
    "    print()"
   ]
  },
  {
   "cell_type": "code",
   "execution_count": 26,
   "id": "4bd9d3ff",
   "metadata": {},
   "outputs": [
    {
     "name": "stdout",
     "output_type": "stream",
     "text": [
      "Help on built-in function print in module builtins:\n",
      "\n",
      "print(...)\n",
      "    print(value, ..., sep=' ', end='\\n', file=sys.stdout, flush=False)\n",
      "    \n",
      "    Prints the values to a stream, or to sys.stdout by default.\n",
      "    Optional keyword arguments:\n",
      "    file:  a file-like object (stream); defaults to the current sys.stdout.\n",
      "    sep:   string inserted between values, default a space.\n",
      "    end:   string appended after the last value, default a newline.\n",
      "    flush: whether to forcibly flush the stream.\n",
      "\n"
     ]
    }
   ],
   "source": [
    "help(print)"
   ]
  },
  {
   "cell_type": "markdown",
   "id": "e1cc20c6",
   "metadata": {},
   "source": [
    "* 1 \n",
    "* 1 2\n",
    "* 1 2 3\n",
    "* 1 2 3 4\n",
    "* 1 2 3 4 5"
   ]
  },
  {
   "cell_type": "code",
   "execution_count": null,
   "id": "3f89bd14",
   "metadata": {},
   "outputs": [],
   "source": [
    "# Book exercise 3.17, 3.16, 3.19, 3.13\n",
    "# while loops"
   ]
  }
 ],
 "metadata": {
  "kernelspec": {
   "display_name": "Python 3 (ipykernel)",
   "language": "python",
   "name": "python3"
  },
  "language_info": {
   "codemirror_mode": {
    "name": "ipython",
    "version": 3
   },
   "file_extension": ".py",
   "mimetype": "text/x-python",
   "name": "python",
   "nbconvert_exporter": "python",
   "pygments_lexer": "ipython3",
   "version": "3.9.7"
  }
 },
 "nbformat": 4,
 "nbformat_minor": 5
}
