{
 "cells": [
  {
   "cell_type": "markdown",
   "id": "668d637d",
   "metadata": {},
   "source": [
    "# Comparison Operators\n",
    "* These are the operators that compare the two values and returns a boolean value\n",
    "* \\>   greater than\n",
    "* <   less than\n",
    "* \\>=  greater than or equal to\n",
    "* <=  less than or equal to\n",
    "* ==  equal\n",
    "* !=  not equal"
   ]
  },
  {
   "cell_type": "code",
   "execution_count": 10,
   "id": "d3a1f85a",
   "metadata": {},
   "outputs": [
    {
     "name": "stdout",
     "output_type": "stream",
     "text": [
      "x is less than y:  True\n",
      "x is greater than y:  False\n",
      "x is less than or equal to y:  True\n",
      "x is greater than or equal to y:  False\n",
      "x is equal to y:  False\n",
      "x is not equal to y:  True\n"
     ]
    }
   ],
   "source": [
    "x=5\n",
    "y=10\n",
    "print(\"x is less than y: \",x < y) # True\n",
    "print(\"x is greater than y: \",x > y) # False\n",
    "print(\"x is less than or equal to y: \",x <= y) # True\n",
    "print(\"x is greater than or equal to y: \",x >= y) # False\n",
    "print(\"x is equal to y: \",x == y)  # False\n",
    "print(\"x is not equal to y: \",x != y) # True"
   ]
  },
  {
   "cell_type": "markdown",
   "id": "5028520a",
   "metadata": {},
   "source": [
    "# Control Structures\n",
    "* Decisions\n",
    "* if / else\n",
    "* nested if else\n",
    "* if elif else"
   ]
  },
  {
   "cell_type": "markdown",
   "id": "f9fda6f8",
   "metadata": {},
   "source": [
    "## if-else\n",
    "* in if part we provide a condition. \n",
    "* if block runs when the condition is True\n",
    "* in else part we don't write any condition, it runs when the condition is false\n",
    "* indentation (Spaces that tells you about a block of code)\n",
    "* if condition:\n",
    "    statements1\n",
    "    statement2\n",
    "    ..........\n",
    "  else:\n",
    "    statements1\n",
    "    statement2\n",
    "    ..........\n",
    "    "
   ]
  },
  {
   "cell_type": "code",
   "execution_count": 36,
   "id": "29313919",
   "metadata": {},
   "outputs": [
    {
     "name": "stdout",
     "output_type": "stream",
     "text": [
      "x is less than y\n"
     ]
    }
   ],
   "source": [
    "x=5\n",
    "y=10\n",
    "\n",
    "\n",
    "if x<y:  #Condition is True\n",
    "    print(\"x is less than y\")    \n",
    "    \n",
    "else:\n",
    "    print(\"x is greater than y\")"
   ]
  },
  {
   "cell_type": "code",
   "execution_count": 39,
   "id": "ba7bfab2",
   "metadata": {},
   "outputs": [
    {
     "name": "stdout",
     "output_type": "stream",
     "text": [
      "Enter your monthly income in digits: 500\n",
      "Enter your monthly cost in digits: 400\n",
      "Profit is 100\n"
     ]
    }
   ],
   "source": [
    "# Program to calculate profit or loss by reading income and cost\n",
    "income=int(input(\"Enter your monthly income in digits: \"))\n",
    "cost=int(input(\"Enter your monthly cost in digits: \"))\n",
    "if income>=cost:\n",
    "    profit=income-cost\n",
    "    print(\"Profit is\",profit)\n",
    "\n"
   ]
  },
  {
   "cell_type": "code",
   "execution_count": 9,
   "id": "2e270509",
   "metadata": {},
   "outputs": [
    {
     "name": "stdout",
     "output_type": "stream",
     "text": [
      "Enter any number: 56\n",
      "56 is even\n"
     ]
    }
   ],
   "source": [
    "# Program for telling wether a number is even or odd\n",
    "number=int(input(\"Enter any number: \"))\n",
    "if number%2==0:\n",
    "    print(f\"{number} is even\")\n",
    "\n",
    "else:\n",
    "    print(f\"{number} is odd\")\n"
   ]
  },
  {
   "cell_type": "code",
   "execution_count": null,
   "id": "639af4d1",
   "metadata": {},
   "outputs": [],
   "source": [
    "# single = is called Assignment operator. It assigns value to a variable\n",
    "# double == is used to compare two values"
   ]
  },
  {
   "cell_type": "code",
   "execution_count": 12,
   "id": "f385e7a4",
   "metadata": {},
   "outputs": [
    {
     "name": "stdout",
     "output_type": "stream",
     "text": [
      "We are in else part\n"
     ]
    }
   ],
   "source": [
    "# \n",
    "if True:\n",
    "    print(\"We are in if part\")\n",
    "else:\n",
    "    print(\"We are in else part\")"
   ]
  },
  {
   "cell_type": "code",
   "execution_count": 13,
   "id": "dbb130e1",
   "metadata": {},
   "outputs": [
    {
     "name": "stdout",
     "output_type": "stream",
     "text": [
      "We are in else part\n"
     ]
    }
   ],
   "source": [
    "if False:\n",
    "    print(\"We are in if part\")\n",
    "else:\n",
    "    print(\"We are in else part\")"
   ]
  },
  {
   "cell_type": "code",
   "execution_count": 14,
   "id": "861518cf",
   "metadata": {},
   "outputs": [
    {
     "name": "stdout",
     "output_type": "stream",
     "text": [
      "False\n"
     ]
    }
   ],
   "source": [
    "# 0 integer value is considered false when you write it with if part\n",
    "if 0:\n",
    "    print(\"True\")\n",
    "else:\n",
    "    print(\"False\")"
   ]
  },
  {
   "cell_type": "code",
   "execution_count": 20,
   "id": "04cb0ac4",
   "metadata": {},
   "outputs": [
    {
     "name": "stdout",
     "output_type": "stream",
     "text": [
      "True\n"
     ]
    }
   ],
   "source": [
    "# Any integer value is considered True apart from 0 when you write it with if part\n",
    "if 4:\n",
    "    print(\"True\")\n",
    "else:\n",
    "    print(\"False\")"
   ]
  },
  {
   "cell_type": "code",
   "execution_count": 21,
   "id": "a0481c63",
   "metadata": {},
   "outputs": [
    {
     "name": "stdout",
     "output_type": "stream",
     "text": [
      "False\n"
     ]
    }
   ],
   "source": [
    "# Empty string is considered false\n",
    "if \"\":\n",
    "    print(\"True\")\n",
    "else:\n",
    "    print(\"False\")"
   ]
  },
  {
   "cell_type": "code",
   "execution_count": 25,
   "id": "de615d65",
   "metadata": {},
   "outputs": [
    {
     "name": "stdout",
     "output_type": "stream",
     "text": [
      "True\n"
     ]
    }
   ],
   "source": [
    "#  string with any value is considered True\n",
    "if \"shahjahan\":\n",
    "    print(\"True\")\n",
    "else:\n",
    "    print(\"False\")"
   ]
  },
  {
   "cell_type": "code",
   "execution_count": 28,
   "id": "3e593d37",
   "metadata": {},
   "outputs": [
    {
     "name": "stdout",
     "output_type": "stream",
     "text": [
      "True\n"
     ]
    }
   ],
   "source": [
    "name=\"67\"\n",
    "if name:\n",
    "    print(\"True\")\n",
    "    \n",
    "else:\n",
    "    print(\"False\")"
   ]
  },
  {
   "cell_type": "code",
   "execution_count": 31,
   "id": "ca9c4126",
   "metadata": {},
   "outputs": [
    {
     "name": "stdout",
     "output_type": "stream",
     "text": [
      "Enter any number: 35\n"
     ]
    }
   ],
   "source": [
    "# if you don't want to use else part or code for the false condition, you can skip it\n",
    "# Program for telling wether a number is even or odd\n",
    "number=int(input(\"Enter any number: \"))\n",
    "if number%2==0:\n",
    "    print(f\"{number} is even\")\n",
    "\n"
   ]
  },
  {
   "cell_type": "code",
   "execution_count": 32,
   "id": "8f0228e8",
   "metadata": {},
   "outputs": [
    {
     "name": "stdout",
     "output_type": "stream",
     "text": [
      "Enter your name: \n",
      "Name is empty\n"
     ]
    }
   ],
   "source": [
    "#Enter a name provided by the user\n",
    "# Check wether the name is empty or not\n",
    "name=input(\"Enter your name: \")\n",
    "if name:\n",
    "    print(\"Name is not empty\")\n",
    "else:\n",
    "    print(\"Name is empty\")"
   ]
  },
  {
   "cell_type": "markdown",
   "id": "219bc473",
   "metadata": {},
   "source": [
    "# Multiple if statements"
   ]
  },
  {
   "cell_type": "code",
   "execution_count": 40,
   "id": "c358c9b2",
   "metadata": {},
   "outputs": [
    {
     "name": "stdout",
     "output_type": "stream",
     "text": [
      "Enter two integers, and I will tell you the relationships they satisfy.\n",
      "Enter first integer: 7\n",
      "Enter second integer: 5\n",
      "7 is not equal to 5\n",
      "7 is greater than 5\n",
      "7 is greater than or equal to 5\n"
     ]
    }
   ],
   "source": [
    " # fig02_01.py\n",
    "\"\"\"Comparing integers using if statements and comparison operators.\"\"\"\n",
    "print('Enter two integers, and I will tell you',\n",
    "'the relationships they satisfy.')\n",
    "\n",
    "# read first integer\n",
    "number1 = int(input('Enter first integer: ')) #7\n",
    "\n",
    "# read second integer\n",
    "number2 = int(input('Enter second integer: ')) #5\n",
    "\n",
    "if number1 == number2:\n",
    "    print(number1, 'is equal to', number2)\n",
    "\n",
    "if number1 != number2:\n",
    "    print(number1, 'is not equal to', number2)\n",
    "\n",
    "if number1 < number2:\n",
    "    print(number1, 'is less than', number2)\n",
    "\n",
    "if number1 > number2:\n",
    "    print(number1, 'is greater than', number2)\n",
    "\n",
    "if number1 <= number2:\n",
    "    print(number1, 'is less than or equal to', number2)\n",
    "\n",
    "if number1 >= number2:\n",
    "    print(number1, 'is greater than or equal to', number2)"
   ]
  },
  {
   "cell_type": "markdown",
   "id": "47890ec1",
   "metadata": {},
   "source": [
    "# Homework\n",
    "* Take any year value (four digit) from the user\n",
    "* check wether that year is leap year or not"
   ]
  }
 ],
 "metadata": {
  "kernelspec": {
   "display_name": "Python 3 (ipykernel)",
   "language": "python",
   "name": "python3"
  },
  "language_info": {
   "codemirror_mode": {
    "name": "ipython",
    "version": 3
   },
   "file_extension": ".py",
   "mimetype": "text/x-python",
   "name": "python",
   "nbconvert_exporter": "python",
   "pygments_lexer": "ipython3",
   "version": "3.9.7"
  }
 },
 "nbformat": 4,
 "nbformat_minor": 5
}
