{
 "cells": [
  {
   "cell_type": "markdown",
   "id": "8fc865b3",
   "metadata": {},
   "source": [
    "age = 25\n",
    "name = \"John\"\n",
    "print(\"My name is\", name, \"My age is\", age)\n",
    "print(f\"My name is {name} My age is {age}\")"
   ]
  },
  {
   "cell_type": "code",
   "execution_count": null,
   "id": "00cbdd70",
   "metadata": {},
   "outputs": [],
   "source": [
    "# age 0 to 20 (0 percent) (21 to 40) 5%,  (41 to 60) 10%  (61 to above) 15%\n",
    "# shop through a store \n",
    "# Calculate discount\n",
    "# Calculate the price you get after discount"
   ]
  },
  {
   "cell_type": "markdown",
   "id": "243e31c1",
   "metadata": {},
   "source": [
    "# Nested if else"
   ]
  },
  {
   "cell_type": "code",
   "execution_count": 4,
   "id": "c1f5c77c",
   "metadata": {},
   "outputs": [
    {
     "name": "stdout",
     "output_type": "stream",
     "text": [
      "Enter any guess value between 1 to 20: 7\n",
      "You guessed correctly\n"
     ]
    }
   ],
   "source": [
    "# number lies between 1 to 20\n",
    "# answer 7\n",
    "# guess 9\n",
    "guess = int(input(\"Enter any guess value between 1 to 20: \"))\n",
    "answer = 7\n",
    "\n",
    "if guess == answer:\n",
    "    print(\"You guessed correctly\")\n",
    "    \n",
    "else:\n",
    "    print(\"You lose\")"
   ]
  },
  {
   "cell_type": "code",
   "execution_count": 7,
   "id": "e8b35101",
   "metadata": {},
   "outputs": [
    {
     "name": "stdout",
     "output_type": "stream",
     "text": [
      "Enter any guess value between 1 to 20: 7\n",
      "You guessed correctly\n"
     ]
    }
   ],
   "source": [
    "# number lies between 1 to 20\n",
    "# answer 7\n",
    "# guess 9\n",
    "guess = int(input(\"Enter any guess value between 1 to 20: \"))\n",
    "answer = 7\n",
    "\n",
    "if guess == answer:\n",
    "    print(\"You guessed correctly\")\n",
    "    \n",
    "elif guess < answer:\n",
    "    print(\"Please guess higher\")\n",
    "    \n",
    "elif guess > answer:\n",
    "    print(\"Please guess lower\")"
   ]
  },
  {
   "cell_type": "code",
   "execution_count": 8,
   "id": "1b4a53df",
   "metadata": {},
   "outputs": [
    {
     "name": "stdout",
     "output_type": "stream",
     "text": [
      "Enter any guess value between 1 to 20: 8\n",
      "Please guess lower\n",
      "Enter any guess value between 1 to 20: 9\n",
      "You lose\n"
     ]
    }
   ],
   "source": [
    "# Nested if statements\n",
    "# number lies between 1 to 20\n",
    "# answer 7\n",
    "# guess 9\n",
    "guess = int(input(\"Enter any guess value between 1 to 20: \"))\n",
    "answer = 7\n",
    "\n",
    "if guess == answer:\n",
    "    print(\"You guessed correctly\")\n",
    "    \n",
    "elif guess < answer:\n",
    "    print(\"Please guess higher\")\n",
    "    guess = int(input(\"Enter any guess value between 1 to 20: \"))\n",
    "    if guess == answer:\n",
    "        print(\"You guessed correctly\")\n",
    "    \n",
    "    else:\n",
    "        print(\"You lose\")\n",
    "    \n",
    "    \n",
    "elif guess > answer:\n",
    "    print(\"Please guess lower\")\n",
    "    guess = int(input(\"Enter any guess value between 1 to 20: \"))\n",
    "    if guess == answer:\n",
    "        print(\"You guessed correctly\")\n",
    "    \n",
    "    else:\n",
    "        print(\"You lose\")"
   ]
  }
 ],
 "metadata": {
  "kernelspec": {
   "display_name": "Python 3 (ipykernel)",
   "language": "python",
   "name": "python3"
  },
  "language_info": {
   "codemirror_mode": {
    "name": "ipython",
    "version": 3
   },
   "file_extension": ".py",
   "mimetype": "text/x-python",
   "name": "python",
   "nbconvert_exporter": "python",
   "pygments_lexer": "ipython3",
   "version": "3.9.7"
  }
 },
 "nbformat": 4,
 "nbformat_minor": 5
}
